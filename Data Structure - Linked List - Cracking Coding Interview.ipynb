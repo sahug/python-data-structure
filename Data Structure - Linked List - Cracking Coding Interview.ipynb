{
  "nbformat": 4,
  "nbformat_minor": 0,
  "metadata": {
    "colab": {
      "name": "Data Structure - Linked List - Cracking Coding Interview.ipynb",
      "provenance": [],
      "authorship_tag": "ABX9TyMQATZwf0qoW22cPtN2j/K+",
      "include_colab_link": true
    },
    "kernelspec": {
      "name": "python3",
      "display_name": "Python 3"
    },
    "language_info": {
      "name": "python"
    }
  },
  "cells": [
    {
      "cell_type": "markdown",
      "metadata": {
        "id": "view-in-github",
        "colab_type": "text"
      },
      "source": [
        "<a href=\"https://colab.research.google.com/github/sahug/python-data-structure/blob/main/Data%20Structure%20-%20Linked%20List%20-%20Cracking%20Coding%20Interview.ipynb\" target=\"_parent\"><img src=\"https://colab.research.google.com/assets/colab-badge.svg\" alt=\"Open In Colab\"/></a>"
      ]
    },
    {
      "cell_type": "markdown",
      "source": [
        "**Data Structure - Linked List - Cracking Coding Interview**"
      ],
      "metadata": {
        "id": "QYcHEipR-JBQ"
      }
    },
    {
      "cell_type": "markdown",
      "source": [
        "**Linked List**"
      ],
      "metadata": {
        "id": "GIuIHGS_n5Du"
      }
    },
    {
      "cell_type": "markdown",
      "source": [
        "**Build Methods For Linked Lists**"
      ],
      "metadata": {
        "id": "LgfOnV67Fxmr"
      }
    },
    {
      "cell_type": "code",
      "source": [
        "class Node:\n",
        "\n",
        "  def __init__(self, data, next):\n",
        "    self.data = data\n",
        "    self.next = next"
      ],
      "metadata": {
        "id": "FPdPCckHFw5O"
      },
      "execution_count": 1,
      "outputs": []
    },
    {
      "cell_type": "code",
      "source": [
        "class LinkedList:\n",
        "\n",
        "  def __init__(self):\n",
        "    self.head = None\n",
        "\n",
        "  def insertAtBegening(self, data):\n",
        "    node = Node(data=data, next=self.head)\n",
        "    self.head = node\n",
        "\n",
        "  def insertAtend(self, data):\n",
        "\n",
        "    if self.head is None:\n",
        "      self.head = Node(data, None)\n",
        "      return\n",
        "\n",
        "    itr = self.head\n",
        "\n",
        "    while itr.next:\n",
        "      itr = itr.next\n",
        "\n",
        "    itr.next = Node(data, None)\n",
        "\n",
        "  def insertValues(self, data_list):\n",
        "      self.head = None\n",
        "\n",
        "      for i in data_list:\n",
        "        self.insertAtend(i)\n",
        "\n",
        "  def print(self):    \n",
        "    \n",
        "    # If LL is empty \n",
        "    if self.head is None:\n",
        "      print(\"Linked List is empty\")\n",
        "      return\n",
        "\n",
        "    itr = self.head\n",
        "\n",
        "    l_l_str = \"\"\n",
        "\n",
        "    while itr:\n",
        "      l_l_str += str(itr.data) + \"--->\"\n",
        "      itr = itr.next\n",
        "\n",
        "    print(l_l_str)\n",
        "\n",
        "  def deleteElementByIndex(self, index):\n",
        "    count = 0\n",
        "    itr = self.head\n",
        "    \n",
        "    while itr:\n",
        "      if count == index - 1:\n",
        "        itr.next = itr.next.next\n",
        "        break       \n",
        "      \n",
        "      itr = itr.next\n",
        "      count += 1\n",
        "\n",
        "  def deleteElementByValue(self, data):\n",
        "\n",
        "    itr = self.head\n",
        "    index = 0\n",
        "\n",
        "    while itr:\n",
        "      index += 1    \n",
        "      if itr.data == data:\n",
        "         self.deleteElementByIndex(index - 1)\n",
        "         break\n",
        "      itr = itr.next\n",
        "\n",
        "  def getSizeOfLinkedList(self):\n",
        "\n",
        "    count = 0\n",
        "\n",
        "    itr = self.head\n",
        "\n",
        "    while itr:\n",
        "      count += 1\n",
        "      itr = itr.next\n",
        "\n",
        "    return count\n",
        "\n",
        "  def getElementAt(self, index):\n",
        "\n",
        "    itr = self.head\n",
        "    counter = 0\n",
        "\n",
        "    while itr:\n",
        "      counter += 1\n",
        "      if counter == index:\n",
        "        return itr.data\n",
        "      itr = itr.next\n",
        "\n",
        "  def getElementInclusiveInRange(self, start, end):\n",
        "    \n",
        "    il = LinkedList()\n",
        "\n",
        "    itr = self.head\n",
        "    counter = 0\n",
        "\n",
        "    while itr:\n",
        "      counter += 1      \n",
        "      if counter >= start and counter < end: \n",
        "        # Add data, Adds Head as well so repeats 1 element twice.\n",
        "        il.insertAtend(itr.data) \n",
        "      itr = itr.next\n",
        "\n",
        "    # Delete the first element to remove duplicate\n",
        "    il.deleteElementByIndex(1)\n",
        "    return il\n",
        "\n",
        "  def removeDuplicate(self):\n",
        "\n",
        "    size = self.getSizeOfLinkedList()\n",
        "\n",
        "    index = 1\n",
        "\n",
        "    while index <= size:                                    \n",
        "      match_count = 0\n",
        "      match = self.getElementAt(index)\n",
        "      itr = self.head\n",
        "      while itr:            \n",
        "        if match == itr.data:\n",
        "          match_count += 1\n",
        "          if match_count >= 2:\n",
        "            self.deleteElementByIndex(index - 1)\n",
        "        itr = itr.next       \n",
        "      index += 1\n",
        "\n",
        "  def deleteMiddleElement(self):\n",
        "\n",
        "    size = self.getSizeOfLinkedList()\n",
        "\n",
        "    middle = size //2\n",
        "\n",
        "    if (middle % 2 != 0):\n",
        "      self.deleteElementByIndex(middle)\n",
        "\n",
        "  def listPartitionBy(self, data):\n",
        "    \n",
        "    lp = LinkedList()\n",
        "\n",
        "    # Insert the data for reference. We will remove it later.\n",
        "    lp.insertAtBegening(data)\n",
        "\n",
        "    itr =  self.head\n",
        "\n",
        "    while itr:\n",
        "      if itr.data <= data:        \n",
        "        lp.insertAtBegening(itr.data)\n",
        "      else:\n",
        "        lp.insertAtend(itr.data)\n",
        "      itr = itr.next\n",
        "    return lp\n",
        "\n",
        "  def splitList(self):\n",
        "    \n",
        "    l1 = LinkedList()\n",
        "    l2 = LinkedList()\n",
        "\n",
        "    size = self.getSizeOfLinkedList()\n",
        "\n",
        "    middle = size // 2\n",
        "\n",
        "    itr =  self.head\n",
        "    count = 0\n",
        "\n",
        "    while itr:\n",
        "      count += 1\n",
        "      if count <= middle:        \n",
        "        l1.insertAtend(itr.data)\n",
        "      else:\n",
        "        l2.insertAtend(itr.data)\n",
        "      itr = itr.next\n",
        "    return l1, l2\n",
        "\n",
        "\n",
        "  def sumList(self):\n",
        "    \n",
        "    l1, l2 = self.splitList()\n",
        "    i1, i2 = \"\", \"\"\n",
        "\n",
        "    l3 = LinkedList()    \n",
        "\n",
        "    for i in range(l1.getSizeOfLinkedList(), 0, -1):\n",
        "      i1 = i1 + str(l1.getElementAt(i))\n",
        "\n",
        "    for i in range(l2.getSizeOfLinkedList(), 0, -1):\n",
        "      i2 = i2 + str(l2.getElementAt(i))\n",
        "\n",
        "    sum = int(i1) + int(i2)\n",
        "\n",
        "    while sum>=1:\n",
        "      l3.insertAtend(sum % 10)\n",
        "      sum = sum // 10\n",
        "\n",
        "    return l3\n",
        "\n",
        "  \n",
        "  def isPalindrome(self):\n",
        "\n",
        "    l1 = LinkedList()\n",
        "\n",
        "    itr = self.head\n",
        "    size = self.getSizeOfLinkedList()\n",
        "\n",
        "    for i in range(self.getSizeOfLinkedList(), 0, -1):\n",
        "      l1.insertAtend(self.getElementAt(i))\n",
        "\n",
        "    if self.getSizeOfLinkedList() == l1.getSizeOfLinkedList():\n",
        "      for i in range(1, self.getSizeOfLinkedList()):\n",
        "        if self.getElementAt(i) != l1.getElementAt(i):\n",
        "          return False\n",
        "      \n",
        "    return True\n",
        "\n",
        "\n",
        "  def isIntersection(self, l1):\n",
        "  \n",
        "    boolean = False\n",
        "\n",
        "    big_list = l1.getSizeOfLinkedList() if l1.getSizeOfLinkedList() >= self.getSizeOfLinkedList() else self.getSizeOfLinkedList()\n",
        "    \n",
        "    for i in range(1, big_list):\n",
        "      if l1.getElementAt(i) == self.getElementAt(i):\n",
        "        boolean = True    \n",
        "\n",
        "    return boolean"
      ],
      "metadata": {
        "id": "VpilG8-ZDb_l"
      },
      "execution_count": 2,
      "outputs": []
    },
    {
      "cell_type": "markdown",
      "source": [
        "**Remove Dups**: Write code to remove duplicates from an unsorted linked list."
      ],
      "metadata": {
        "id": "M3RpNglb9ZiD"
      }
    },
    {
      "cell_type": "code",
      "source": [
        "if __name__ == \"__main__\":\n",
        "  ll = LinkedList()\n",
        "  ll.insertAtBegening(1)\n",
        "  ll.insertAtBegening(2)\n",
        "  ll.insertAtBegening(4)\n",
        "  ll.insertAtBegening(2)\n",
        "  ll.insertAtBegening(4)\n",
        "  ll.insertAtBegening(3)\n",
        "  ll.insertAtBegening(10)\n",
        "  ll.insertAtBegening(12)\n",
        "  ll.print()"
      ],
      "metadata": {
        "colab": {
          "base_uri": "https://localhost:8080/"
        },
        "id": "V3YEKL87HreK",
        "outputId": "1ec01a03-bfe0-4033-d71d-87ba6f02ec8c"
      },
      "execution_count": 3,
      "outputs": [
        {
          "output_type": "stream",
          "name": "stdout",
          "text": [
            "12--->10--->3--->4--->2--->4--->2--->1--->\n"
          ]
        }
      ]
    },
    {
      "cell_type": "code",
      "source": [
        "  ll.removeDuplicate()\n",
        "  ll.print()"
      ],
      "metadata": {
        "colab": {
          "base_uri": "https://localhost:8080/"
        },
        "id": "_1Pf45XN-bkd",
        "outputId": "0fac82dc-5f57-4892-b7e3-47d98605f0f0"
      },
      "execution_count": 4,
      "outputs": [
        {
          "output_type": "stream",
          "name": "stdout",
          "text": [
            "12--->10--->3--->2--->4--->1--->\n"
          ]
        }
      ]
    },
    {
      "cell_type": "markdown",
      "source": [
        "**Return Kth to Last**: Implement an algorithm to find the kth to last element of a singly linked list."
      ],
      "metadata": {
        "id": "Mz6S-HOn-UVS"
      }
    },
    {
      "cell_type": "code",
      "source": [
        "if __name__ == \"__main__\":\n",
        "  ll = LinkedList()\n",
        "  ll.insertAtBegening(1)\n",
        "  ll.insertAtBegening(2)\n",
        "  ll.insertAtBegening(4)\n",
        "  ll.insertAtBegening(2)\n",
        "  ll.insertAtBegening(4)\n",
        "  ll.insertAtBegening(3)\n",
        "  ll.insertAtBegening(12)\n",
        "  ll.print()"
      ],
      "metadata": {
        "colab": {
          "base_uri": "https://localhost:8080/"
        },
        "id": "75ZKRLggNKaB",
        "outputId": "619ddeea-f729-4c9e-ec3d-79229407ac18"
      },
      "execution_count": 5,
      "outputs": [
        {
          "output_type": "stream",
          "name": "stdout",
          "text": [
            "12--->3--->4--->2--->4--->2--->1--->\n"
          ]
        }
      ]
    },
    {
      "cell_type": "code",
      "source": [
        "size = ll.getSizeOfLinkedList()\n",
        "ll.getElementInclusiveInRange(2, size).print()"
      ],
      "metadata": {
        "colab": {
          "base_uri": "https://localhost:8080/"
        },
        "id": "upQgbcZ6-TfE",
        "outputId": "31c2fbc8-bcbe-4523-992c-32b7eb75165e"
      },
      "execution_count": 6,
      "outputs": [
        {
          "output_type": "stream",
          "name": "stdout",
          "text": [
            "3--->2--->4--->2--->\n"
          ]
        }
      ]
    },
    {
      "cell_type": "markdown",
      "source": [
        "**Delete Middle Node**: Implement an algorithm to delete a node in the middle (i.e., any node but the first and last node, not necessarily the exact middle) of a singly linked list, given only access to that node. \n",
        "\n",
        "**Example Input**: the node c from the linked list `a - >b- >c - >d - >e- >f `"
      ],
      "metadata": {
        "id": "y_RsMHtF-4CE"
      }
    },
    {
      "cell_type": "code",
      "source": [
        "if __name__ == \"__main__\":\n",
        "  ll = LinkedList()\n",
        "  ll.insertAtBegening(1)\n",
        "  ll.insertAtBegening(2)\n",
        "  ll.insertAtBegening(4)\n",
        "  ll.insertAtBegening(2)\n",
        "  ll.insertAtBegening(4)\n",
        "  ll.insertAtBegening(3)\n",
        "  ll.insertAtBegening(12)\n",
        "  ll.print()"
      ],
      "metadata": {
        "colab": {
          "base_uri": "https://localhost:8080/"
        },
        "id": "tADaGPPSS2t-",
        "outputId": "14ba516e-97bb-4aa4-f649-93bbf51e7df7"
      },
      "execution_count": 7,
      "outputs": [
        {
          "output_type": "stream",
          "name": "stdout",
          "text": [
            "12--->3--->4--->2--->4--->2--->1--->\n"
          ]
        }
      ]
    },
    {
      "cell_type": "code",
      "source": [
        "ll.deleteMiddleElement()\n",
        "ll.print()"
      ],
      "metadata": {
        "colab": {
          "base_uri": "https://localhost:8080/"
        },
        "id": "ZjYLLIfUAyKD",
        "outputId": "55fde429-457c-47c2-9ca6-55e3bf384c97"
      },
      "execution_count": 8,
      "outputs": [
        {
          "output_type": "stream",
          "name": "stdout",
          "text": [
            "12--->3--->4--->4--->2--->1--->\n"
          ]
        }
      ]
    },
    {
      "cell_type": "markdown",
      "source": [
        "**Partition**: Write code to partition a linked list around a value x, such that all nodes less than x come before all nodes greater than or equal to x\n",
        "**EXAMPLE** \n",
        "\n",
        "`Input: 3 -> 5 -> 8 -> 5 -> 10 -> 2 -> 1 [partition = 5] `\n",
        "\n",
        "`Output: 3 -> 1 -> 2 -> 5 -> 5 -> 10 -> 8 `"
      ],
      "metadata": {
        "id": "Q1imn9PKBVW0"
      }
    },
    {
      "cell_type": "code",
      "source": [
        "if __name__ == \"__main__\":\n",
        "  ll = LinkedList()\n",
        "  ll.insertAtBegening(1)\n",
        "  ll.insertAtBegening(2)\n",
        "  ll.insertAtBegening(2)\n",
        "  ll.insertAtBegening(3)\n",
        "  ll.insertAtBegening(12)\n",
        "  ll.print()"
      ],
      "metadata": {
        "colab": {
          "base_uri": "https://localhost:8080/"
        },
        "id": "f-zKhK1OS628",
        "outputId": "a459d789-9b9e-4354-bcaf-3f2003da48c8"
      },
      "execution_count": 9,
      "outputs": [
        {
          "output_type": "stream",
          "name": "stdout",
          "text": [
            "12--->3--->2--->2--->1--->\n"
          ]
        }
      ]
    },
    {
      "cell_type": "code",
      "source": [
        "ll.listPartitionBy(4).print()"
      ],
      "metadata": {
        "colab": {
          "base_uri": "https://localhost:8080/"
        },
        "id": "eAavbFQ5Jq_h",
        "outputId": "06f08649-fa14-4da6-e4d7-a48240732150"
      },
      "execution_count": 10,
      "outputs": [
        {
          "output_type": "stream",
          "name": "stdout",
          "text": [
            "1--->2--->2--->3--->4--->12--->\n"
          ]
        }
      ]
    },
    {
      "cell_type": "markdown",
      "source": [
        "**Split Linked List**"
      ],
      "metadata": {
        "id": "2xj_Yv3pl53L"
      }
    },
    {
      "cell_type": "code",
      "source": [
        "if __name__ == \"__main__\":\n",
        "  ll = LinkedList()\n",
        "  ll.insertValues([7, 1, 6, 5, 9, 2])\n",
        "  (ll.splitList())[0].print()\n",
        "  (ll.splitList())[1].print()"
      ],
      "metadata": {
        "colab": {
          "base_uri": "https://localhost:8080/"
        },
        "outputId": "706b512d-59c0-4aea-dda5-6d602cd23da4",
        "id": "sdFDFaXeljzo"
      },
      "execution_count": 11,
      "outputs": [
        {
          "output_type": "stream",
          "name": "stdout",
          "text": [
            "7--->1--->6--->\n",
            "5--->9--->2--->\n"
          ]
        }
      ]
    },
    {
      "cell_type": "markdown",
      "source": [
        "**Sum Lists:** You have two numbers represented by a linked list, where each node contains a single digit. The digits are stored in reverse order, such that the Vs digit is at the head of the list. Write a function that adds the two numbers and returns the sum as a linked list. \n",
        "\n",
        "**EXAMPLE**\n",
        "\n",
        "`Input: (7- > 1 -> 6) + (5 -> 9 -> 2).That is, 617 + 295. `\n",
        "\n",
        "`Output: 2 -> 1 -> 9. That is, 912. `"
      ],
      "metadata": {
        "id": "QlEKPDB4fGPZ"
      }
    },
    {
      "cell_type": "code",
      "source": [
        "if __name__ == \"__main__\":\n",
        "  ll = LinkedList()\n",
        "  ll.insertValues([7, 1, 6, 5, 9, 2])\n",
        "  # 617 + 295 = 912, Reverse is 219\n",
        "  ll.sumList().print()\n",
        "\n",
        "  ll = LinkedList()\n",
        "  # 4321 + 8765 = 13086, Reverse is 68031\n",
        "  ll.insertValues([1, 2, 3, 4, 5, 6, 7, 8])\n",
        "  ll.sumList().print()\n"
      ],
      "metadata": {
        "colab": {
          "base_uri": "https://localhost:8080/"
        },
        "id": "Isnt-9txgIGw",
        "outputId": "1eccc39d-fee6-4df2-864b-fd7828ff045e"
      },
      "execution_count": 12,
      "outputs": [
        {
          "output_type": "stream",
          "name": "stdout",
          "text": [
            "2--->1--->9--->\n",
            "6--->8--->0--->3--->1--->\n"
          ]
        }
      ]
    },
    {
      "cell_type": "markdown",
      "source": [
        "**Palindrome**: Implement a function to check if a linked list is a palindrome. "
      ],
      "metadata": {
        "id": "_knwOcxlslKz"
      }
    },
    {
      "cell_type": "code",
      "source": [
        "if __name__ == \"__main__\":\n",
        "  ll = LinkedList()\n",
        "\n",
        "  ll.insertValues([1, 2, 3, 2, 1])  \n",
        "  print(ll.isPalindrome())\n",
        "\n",
        "  ll.insertValues([1, 2, 3, 2, 1, 4])  \n",
        "  print(ll.isPalindrome())"
      ],
      "metadata": {
        "colab": {
          "base_uri": "https://localhost:8080/"
        },
        "id": "R7x9oN2hsnyq",
        "outputId": "54b4f053-f43d-4a71-87bd-0d5d7ee9de9f"
      },
      "execution_count": 13,
      "outputs": [
        {
          "output_type": "stream",
          "name": "stdout",
          "text": [
            "True\n",
            "False\n"
          ]
        }
      ]
    },
    {
      "cell_type": "markdown",
      "source": [
        "**Intersection**; Given two (singly) linked lists, determine if the two lists intersect. Return the inter\u0002secting node. \n",
        "\n",
        "**Note**: The intersection is defined based on reference, not value. That is, if the kth node of the first linked list is the exact same node (by reference or index) as the jth node of the second linked list, then they are intersecting. \n",
        "\n",
        "**Example:**\n",
        "Both List 1 and List 2 have same value, 9, at same reference, 4th position.\n",
        "\n",
        "`List 1: 1 -> 2 -> 3 -> 9 -> 8 -> 7`\n",
        "\n",
        "`List 1: 11 -> 22 -> 13 -> 9 -> 18 -> 17`\n"
      ],
      "metadata": {
        "id": "4pu-vVf9uzxC"
      }
    },
    {
      "cell_type": "code",
      "source": [
        "if __name__ == \"__main__\":  \n",
        "  l1 = LinkedList()\n",
        "  l2 = LinkedList()\n",
        "\n",
        "  #4th Position has same index and same value\n",
        "  l1.insertValues([1, 2, 3, 9, 8, 7])  \n",
        "  l2.insertValues([11, 22, 13, 9, 18, 17])  \n",
        "  print(l2.isIntersection(l1))\n",
        "\n",
        "  #4th Position has same index and but different value\n",
        "  l1.insertValues([1, 2, 3, 9, 8, 7])  \n",
        "  l2.insertValues([11, 22, 13, 19, 18, 17])  \n",
        "  print(l2.isIntersection(l1))"
      ],
      "metadata": {
        "colab": {
          "base_uri": "https://localhost:8080/"
        },
        "id": "ip8We6vhv22b",
        "outputId": "094ca8b8-b800-4afc-bb4f-92c10b6f405c"
      },
      "execution_count": 14,
      "outputs": [
        {
          "output_type": "stream",
          "name": "stdout",
          "text": [
            "True\n",
            "False\n"
          ]
        }
      ]
    },
    {
      "cell_type": "markdown",
      "source": [
        "**Loop Detection:** Given a circular linked list, implement an algorithm that returns the node at the beginning of the loop. \n",
        "\n",
        "**DEFINITION** \n",
        "Circular linked list: A (corrupt) linked list in which a node's next pointer points to an earlier node, so as to make a loop in the linked list. \n",
        "\n",
        "![image.png](data:image/png;base64,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)\n",
        "\n",
        "**EXAMPLE** \n",
        "```\n",
        "Input: A -> B -> C -> D -> E -> C [points to the same C as earlier]\n",
        "\n",
        "Input: A -> B -> C -> D \n",
        "                 |   -> \n",
        "                 <----E \n",
        "```\n",
        "\n",
        "`Output: C `\n",
        "\n",
        "**Looped Linked List**\n",
        "\n",
        "`llist.head.next.next.next.next = llist.head`"
      ],
      "metadata": {
        "id": "vo4C0vvA26nh"
      }
    },
    {
      "cell_type": "code",
      "source": [
        "class Node:\n",
        " \n",
        "    # Constructor to initialize\n",
        "    # the node object\n",
        "    def __init__(self, data):\n",
        "        self.data = data\n",
        "        self.next = None\n",
        " \n",
        " \n",
        "class LinkedList:\n",
        " \n",
        "    # Function to initialize head\n",
        "    def __init__(self):\n",
        "        self.head = None\n",
        " \n",
        "    # Function to insert a new\n",
        "    # node at the beginning\n",
        "    def push(self, new_data):\n",
        "        new_node = Node(new_data)\n",
        "        new_node.next = self.head\n",
        "        self.head = new_node\n",
        " \n",
        "    # Utility function to print it\n",
        "    # the linked LinkedList\n",
        "    def printList(self):\n",
        "        temp = self.head\n",
        "        while(temp):\n",
        "            print(temp.data, end=\" \")\n",
        "            temp = temp.next\n",
        " \n",
        "    def detectLoop(self):\n",
        "        s = set()\n",
        "        temp = self.head\n",
        "        while (temp):\n",
        " \n",
        "            # If we have already has\n",
        "            # this node in hashmap it\n",
        "            # means their is a cycle\n",
        "            # (Because you we encountering\n",
        "            # the node second time).\n",
        "            if (temp in s):\n",
        "                return True\n",
        " \n",
        "            # If we are seeing the node for\n",
        "            # the first time, insert it in hash\n",
        "            s.add(temp)\n",
        " \n",
        "            temp = temp.next\n",
        " \n",
        "        return False\n",
        " \n",
        " \n",
        "# Driver program for testing\n",
        "llist = LinkedList()\n",
        "llist.push(20)\n",
        "llist.push(4)\n",
        "llist.push(15)\n",
        "llist.push(10)\n",
        " \n",
        "# Create a loop for testing\n",
        "llist.head.next.next.next.next = llist.head\n",
        "\n",
        "if(llist.detectLoop()):\n",
        "    print(\"Loop found\")\n",
        "else:\n",
        "    print(\"No Loop \")"
      ],
      "metadata": {
        "colab": {
          "base_uri": "https://localhost:8080/"
        },
        "id": "ky-WpSDL5eQX",
        "outputId": "bdc62f1f-618d-4b93-956d-170977b1c533"
      },
      "execution_count": 15,
      "outputs": [
        {
          "output_type": "stream",
          "name": "stdout",
          "text": [
            "Loop found\n"
          ]
        }
      ]
    },
    {
      "cell_type": "code",
      "source": [
        ""
      ],
      "metadata": {
        "id": "VAZT9m816kGx"
      },
      "execution_count": 15,
      "outputs": []
    },
    {
      "cell_type": "code",
      "source": [
        ""
      ],
      "metadata": {
        "id": "3kmMlhlX5eWm"
      },
      "execution_count": 15,
      "outputs": []
    }
  ]
}