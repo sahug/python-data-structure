{
  "nbformat": 4,
  "nbformat_minor": 0,
  "metadata": {
    "colab": {
      "name": "Data Structure - Python Recursion.ipynb",
      "provenance": [],
      "collapsed_sections": [],
      "authorship_tag": "ABX9TyOKk0MKOlZ2smgMxV3WPoJ2",
      "include_colab_link": true
    },
    "kernelspec": {
      "name": "python3",
      "display_name": "Python 3"
    },
    "language_info": {
      "name": "python"
    }
  },
  "cells": [
    {
      "cell_type": "markdown",
      "metadata": {
        "id": "view-in-github",
        "colab_type": "text"
      },
      "source": [
        "<a href=\"https://colab.research.google.com/github/sahug/python-data-structure/blob/main/Data%20Structure%20-%20Python%20Recursion.ipynb\" target=\"_parent\"><img src=\"https://colab.research.google.com/assets/colab-badge.svg\" alt=\"Open In Colab\"/></a>"
      ]
    },
    {
      "cell_type": "markdown",
      "source": [
        "**Data Structure - Python Recursion Sort**"
      ],
      "metadata": {
        "id": "YNd6qH8iwJz2"
      }
    },
    {
      "cell_type": "markdown",
      "source": [
        "Iterative Method"
      ],
      "metadata": {
        "id": "gC5tU6AEPKUp"
      }
    },
    {
      "cell_type": "code",
      "source": [
        "def find_sum_i(n):\n",
        "  sum = 0\n",
        "  for i in range(1, n+1):\n",
        "    sum += i\n",
        "  return sum"
      ],
      "metadata": {
        "id": "rncK-5CnO1KJ"
      },
      "execution_count": 49,
      "outputs": []
    },
    {
      "cell_type": "markdown",
      "source": [
        "Recursive Method"
      ],
      "metadata": {
        "id": "x2lzJCCjPM86"
      }
    },
    {
      "cell_type": "code",
      "source": [
        "def find_sum_r(n):\n",
        "  if n==1:\n",
        "    return 1  \n",
        "  return n + find_sum_r(n - 1)"
      ],
      "metadata": {
        "id": "6OUaG_g_PQbu"
      },
      "execution_count": 51,
      "outputs": []
    },
    {
      "cell_type": "code",
      "source": [
        "if __name__ == \"__main__\":\n",
        "  print(find_sum_i(5))\n",
        "  print(find_sum_r(5))"
      ],
      "metadata": {
        "colab": {
          "base_uri": "https://localhost:8080/"
        },
        "id": "GUSDG0y8y4Wg",
        "outputId": "52dce702-32e2-4e11-e7fb-2e2166ec5a7f"
      },
      "execution_count": 52,
      "outputs": [
        {
          "output_type": "stream",
          "name": "stdout",
          "text": [
            "15\n",
            "15\n"
          ]
        }
      ]
    },
    {
      "cell_type": "markdown",
      "source": [
        "Fibonacci Series"
      ],
      "metadata": {
        "id": "p2CL6YJtQjMf"
      }
    },
    {
      "cell_type": "code",
      "source": [
        "def fib(n):\n",
        "    # 0,1,1,2,3,5,8 <-- fibonacci numbers\n",
        "    # --------------\n",
        "    # 0,1,2,3,4,5,6 <-- index\n",
        "    if n==0 or n==1:\n",
        "        return n\n",
        "    return fib(n-1) + fib(n-2)"
      ],
      "metadata": {
        "id": "7nLQAYkJQqEy"
      },
      "execution_count": 53,
      "outputs": []
    },
    {
      "cell_type": "code",
      "source": [
        "if __name__=='__main__':\n",
        "    print(fib(10))"
      ],
      "metadata": {
        "colab": {
          "base_uri": "https://localhost:8080/"
        },
        "id": "bv5ws4EsQr6l",
        "outputId": "26e31bf9-ccc1-4c18-a3b8-79b1c1650885"
      },
      "execution_count": 54,
      "outputs": [
        {
          "output_type": "stream",
          "name": "stdout",
          "text": [
            "55\n"
          ]
        }
      ]
    }
  ]
}