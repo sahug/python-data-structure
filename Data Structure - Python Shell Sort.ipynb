{
  "nbformat": 4,
  "nbformat_minor": 0,
  "metadata": {
    "colab": {
      "name": "Data Structure - Python Shell Sort.ipynb",
      "provenance": [],
      "authorship_tag": "ABX9TyPOu7fm+EQFhcX2AwCyFOls",
      "include_colab_link": true
    },
    "kernelspec": {
      "name": "python3",
      "display_name": "Python 3"
    },
    "language_info": {
      "name": "python"
    }
  },
  "cells": [
    {
      "cell_type": "markdown",
      "metadata": {
        "id": "view-in-github",
        "colab_type": "text"
      },
      "source": [
        "<a href=\"https://colab.research.google.com/github/sahug/python-data-structure/blob/main/Data%20Structure%20-%20Python%20Shell%20Sort.ipynb\" target=\"_parent\"><img src=\"https://colab.research.google.com/assets/colab-badge.svg\" alt=\"Open In Colab\"/></a>"
      ]
    },
    {
      "cell_type": "markdown",
      "source": [
        "**Data Structure - Python Shell Sort**"
      ],
      "metadata": {
        "id": "YNd6qH8iwJz2"
      }
    },
    {
      "cell_type": "code",
      "source": [
        "def shell_sort(arr):\n",
        "  size = len(arr)\n",
        "  gap = size // 2\n",
        "\n",
        "  while gap > 0:\n",
        "    for i in range(gap, size):\n",
        "      anchor = arr[i]\n",
        "      j = i\n",
        "      while j >= gap and arr[j - gap] > anchor:\n",
        "        arr[j] = arr[j - gap]\n",
        "        j -= gap\n",
        "      arr[j] = anchor\n",
        "    gap = gap // 2"
      ],
      "metadata": {
        "id": "yXZP9yScBoiH"
      },
      "execution_count": 38,
      "outputs": []
    },
    {
      "cell_type": "code",
      "source": [
        "if __name__ == \"__main__\":\n",
        "  arr = [10, 3, 15, 7, 8, 23, 98, 29]\n",
        "  shell_sort(arr)  \n",
        "  print(arr)"
      ],
      "metadata": {
        "colab": {
          "base_uri": "https://localhost:8080/"
        },
        "id": "GUSDG0y8y4Wg",
        "outputId": "37cfc62f-57ee-40bc-f8e3-b9abb5ee5eac"
      },
      "execution_count": 39,
      "outputs": [
        {
          "output_type": "stream",
          "name": "stdout",
          "text": [
            "[3, 7, 8, 10, 15, 23, 29, 98]\n"
          ]
        }
      ]
    },
    {
      "cell_type": "code",
      "source": [
        "if __name__ == \"__main__\":\n",
        "  tests = [\n",
        "          [11,9,29,7,2,15,28],\n",
        "          [3, 7, 9, 11],\n",
        "          [25, 22, 21, 10],\n",
        "          [29, 15, 28],\n",
        "          [],\n",
        "          [6]\n",
        "      ]\n",
        "\n",
        "  for elements in tests:\n",
        "    shell_sort(elements)\n",
        "    print(elements)"
      ],
      "metadata": {
        "colab": {
          "base_uri": "https://localhost:8080/"
        },
        "id": "Uq2WOfDC2LBI",
        "outputId": "c2b9c3fa-e7f4-4eac-a047-02e3d53455e4"
      },
      "execution_count": 40,
      "outputs": [
        {
          "output_type": "stream",
          "name": "stdout",
          "text": [
            "[2, 7, 9, 11, 15, 28, 29]\n",
            "[3, 7, 9, 11]\n",
            "[10, 21, 22, 25]\n",
            "[15, 28, 29]\n",
            "[]\n",
            "[6]\n"
          ]
        }
      ]
    }
  ]
}