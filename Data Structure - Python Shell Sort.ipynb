{
  "nbformat": 4,
  "nbformat_minor": 0,
  "metadata": {
    "colab": {
      "name": "Data Structure - Python Shell Sort.ipynb",
      "provenance": [],
      "authorship_tag": "ABX9TyPFtSKhn8COabBfPRn+p19u",
      "include_colab_link": true
    },
    "kernelspec": {
      "name": "python3",
      "display_name": "Python 3"
    },
    "language_info": {
      "name": "python"
    }
  },
  "cells": [
    {
      "cell_type": "markdown",
      "metadata": {
        "id": "view-in-github",
        "colab_type": "text"
      },
      "source": [
        "<a href=\"https://colab.research.google.com/github/sahug/python-data-structure/blob/main/Data%20Structure%20-%20Python%20Shell%20Sort.ipynb\" target=\"_parent\"><img src=\"https://colab.research.google.com/assets/colab-badge.svg\" alt=\"Open In Colab\"/></a>"
      ]
    },
    {
      "cell_type": "markdown",
      "source": [
        "**Data Structure - Python Shell Sort**"
      ],
      "metadata": {
        "id": "YNd6qH8iwJz2"
      }
    },
    {
      "cell_type": "code",
      "source": [
        "def shell_sort(arr):\n",
        "  size = len(arr)\n",
        "  gap = size // 2\n",
        "\n",
        "  while gap > 0:\n",
        "    for i in range(gap, size):\n",
        "      anchor = arr[i]\n",
        "      j = i\n",
        "      while j >= gap and arr[j - gap] > anchor:\n",
        "        arr[j] = arr[j - gap]\n",
        "        j -= gap\n",
        "      arr[j] = anchor\n",
        "    gap = gap // 2"
      ],
      "metadata": {
        "id": "yXZP9yScBoiH"
      },
      "execution_count": 1,
      "outputs": []
    },
    {
      "cell_type": "code",
      "source": [
        "if __name__ == \"__main__\":\n",
        "  arr = [10, 3, 15, 7, 8, 23, 98, 29]\n",
        "  shell_sort(arr)  \n",
        "  print(arr)"
      ],
      "metadata": {
        "colab": {
          "base_uri": "https://localhost:8080/"
        },
        "id": "GUSDG0y8y4Wg",
        "outputId": "1f8b94bc-307b-4636-829c-e2f3d7f1ead1"
      },
      "execution_count": 2,
      "outputs": [
        {
          "output_type": "stream",
          "name": "stdout",
          "text": [
            "[3, 7, 8, 10, 15, 23, 29, 98]\n"
          ]
        }
      ]
    },
    {
      "cell_type": "code",
      "source": [
        "if __name__ == \"__main__\":\n",
        "  tests = [\n",
        "          [11,9,29,7,2,15,28],\n",
        "          [3, 7, 9, 11],\n",
        "          [25, 22, 21, 10],\n",
        "          [29, 15, 28],\n",
        "          [],\n",
        "          [6]\n",
        "      ]\n",
        "\n",
        "  for elements in tests:\n",
        "    shell_sort(elements)\n",
        "    print(elements)"
      ],
      "metadata": {
        "colab": {
          "base_uri": "https://localhost:8080/"
        },
        "id": "Uq2WOfDC2LBI",
        "outputId": "9e1d70c2-012b-40f3-8dc4-15a2659cec6a"
      },
      "execution_count": 3,
      "outputs": [
        {
          "output_type": "stream",
          "name": "stdout",
          "text": [
            "[2, 7, 9, 11, 15, 28, 29]\n",
            "[3, 7, 9, 11]\n",
            "[10, 21, 22, 25]\n",
            "[15, 28, 29]\n",
            "[]\n",
            "[6]\n"
          ]
        }
      ]
    },
    {
      "cell_type": "markdown",
      "source": [
        "Sort the elements of a given list using shell sort, but with a slight modification. Remove all the repeating occurances of elements while sorting.\n",
        "\n",
        "Traditionally, when comparing two elements in shell sort, we swap if first element is bigger than second, and do nothing otherwise.\n",
        "\n",
        "In this modified shell sort with duplicate removal, we will swap if first element is bigger than second, and do nothing if element is smaller, but if values are same, we will delete one of the two elements we are comparing before starting the next pass for the reduced gap.\n",
        "\n",
        "**For example**, given the unsorted list `[2, 1, 5, 7, 2, 0, 5, 1, 2, 9, 5, 8, 3]`, after sorting using shell sort without duplicates, the sorted list would be:\n",
        "\n",
        "`[0, 1, 2, 3, 5, 7, 8, 9]`"
      ],
      "metadata": {
        "id": "34TCcvxB-OQE"
      }
    },
    {
      "cell_type": "code",
      "source": [
        "def shell_sort(arr):\n",
        "  n = len(arr)\n",
        "  div = 2\n",
        "  gap = n//div\n",
        "  while gap > 0:\n",
        "      index_to_delete = []\n",
        "      for i in range(gap, n):\n",
        "          temp = arr[i]\n",
        "          j = i\n",
        "          while j >= gap and arr[j-gap] >= temp:\n",
        "              if arr[j-gap] == temp:\n",
        "                  index_to_delete.append(j)\n",
        "              arr[j] = arr[j-gap]\n",
        "              j -= gap\n",
        "          arr[j] = temp\n",
        "      index_to_delete=list(set(index_to_delete))\n",
        "      index_to_delete.sort()\n",
        "      if index_to_delete:\n",
        "          for i in index_to_delete[-1::-1]:\n",
        "              del arr[i]\n",
        "      div *= 2\n",
        "      n = len(arr)\n",
        "      gap = n//div"
      ],
      "metadata": {
        "id": "7_M9ISPh_R3a"
      },
      "execution_count": 5,
      "outputs": []
    },
    {
      "cell_type": "code",
      "source": [
        "if __name__ == \"__main__\":\n",
        "  arr = [2, 1, 5, 7, 2, 0, 5, 1, 2, 9, 5, 8, 3]\n",
        "  shell_sort(arr)  \n",
        "  print(arr)"
      ],
      "metadata": {
        "colab": {
          "base_uri": "https://localhost:8080/"
        },
        "outputId": "3a281ced-0d36-4484-eced-c0202a55cee1",
        "id": "4OxvYS8Y-lGW"
      },
      "execution_count": 6,
      "outputs": [
        {
          "output_type": "stream",
          "name": "stdout",
          "text": [
            "[0, 1, 2, 3, 5, 7, 8, 9]\n"
          ]
        }
      ]
    }
  ]
}