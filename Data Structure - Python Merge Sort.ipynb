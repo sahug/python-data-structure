{
  "nbformat": 4,
  "nbformat_minor": 0,
  "metadata": {
    "colab": {
      "name": "Data Structure - Python Merge Sort.ipynb",
      "provenance": [],
      "authorship_tag": "ABX9TyNmVoYk5Z/SOtUiohsyUa4J",
      "include_colab_link": true
    },
    "kernelspec": {
      "name": "python3",
      "display_name": "Python 3"
    },
    "language_info": {
      "name": "python"
    }
  },
  "cells": [
    {
      "cell_type": "markdown",
      "metadata": {
        "id": "view-in-github",
        "colab_type": "text"
      },
      "source": [
        "<a href=\"https://colab.research.google.com/github/sahug/python-data-structure/blob/main/Data%20Structure%20-%20Python%20Merge%20Sort.ipynb\" target=\"_parent\"><img src=\"https://colab.research.google.com/assets/colab-badge.svg\" alt=\"Open In Colab\"/></a>"
      ]
    },
    {
      "cell_type": "markdown",
      "source": [
        "**Data Structure - Python Merge Sort**"
      ],
      "metadata": {
        "id": "YNd6qH8iwJz2"
      }
    },
    {
      "cell_type": "code",
      "source": [
        "def merge_two_sorted_lists(a, b, arr):\n",
        "  sorted_list = []\n",
        "  len_a = len(a)\n",
        "  len_b = len(b)\n",
        "  i = j = k = 0\n",
        "\n",
        "  while i < len_a and j < len_b:\n",
        "    \n",
        "    if a[i] <= b[j]:\n",
        "      arr[k] = a[i]    \n",
        "      i += 1\n",
        "    else:\n",
        "      arr[k] = b[j]\n",
        "      j += 1\n",
        "    k += 1\n",
        "\n",
        "  while i < len_a:\n",
        "    arr[k] = a[i]    \n",
        "    i += 1\n",
        "    k += 1\n",
        "\n",
        "  while j < len_b:\n",
        "    arr[k] = b[j]\n",
        "    j += 1\n",
        "    k += 1"
      ],
      "metadata": {
        "id": "mJ_GbxGCwLJp"
      },
      "execution_count": 19,
      "outputs": []
    },
    {
      "cell_type": "code",
      "source": [
        "def merge_sort(arr):\n",
        "  \n",
        "  if len(arr) <= 1:\n",
        "    return\n",
        "\n",
        "  mid = len(arr) //2\n",
        "  left = arr[:mid]\n",
        "  right = arr[mid:]\n",
        "\n",
        "  left = merge_sort(left)\n",
        "  right = merge_sort(right)\n",
        "\n",
        "  merge_two_sorted_lists(left, right, arr)"
      ],
      "metadata": {
        "id": "2lw1uUmSyJ7g"
      },
      "execution_count": 22,
      "outputs": []
    },
    {
      "cell_type": "code",
      "source": [
        "if __name__ == \"__main__\":\n",
        "  arr = [10, 3, 15, 7, 8, 23, 98, 29]\n",
        "\n",
        "  print(merge_sort(arr))"
      ],
      "metadata": {
        "colab": {
          "base_uri": "https://localhost:8080/"
        },
        "id": "GUSDG0y8y4Wg",
        "outputId": "20532afd-1bdc-4831-91d3-ffe180d443b4"
      },
      "execution_count": 24,
      "outputs": [
        {
          "output_type": "stream",
          "name": "stdout",
          "text": [
            "[3, 7, 8, 10, 15, 23, 29, 98]\n"
          ]
        }
      ]
    },
    {
      "cell_type": "code",
      "source": [
        "if __name__ == \"__main__\":\n",
        "  tests = [\n",
        "          [11,9,29,7,2,15,28],\n",
        "          [3, 7, 9, 11],\n",
        "          [25, 22, 21, 10],\n",
        "          [29, 15, 28],\n",
        "          [],\n",
        "          [6]\n",
        "      ]\n",
        "\n",
        "  for elements in tests:\n",
        "    print(merge_sort(elements))"
      ],
      "metadata": {
        "colab": {
          "base_uri": "https://localhost:8080/"
        },
        "id": "Uq2WOfDC2LBI",
        "outputId": "5ada997b-0b67-4d89-f38a-05e761023dc5"
      },
      "execution_count": 25,
      "outputs": [
        {
          "output_type": "stream",
          "name": "stdout",
          "text": [
            "[2, 7, 9, 11, 15, 28, 29]\n",
            "[3, 7, 9, 11]\n",
            "[10, 21, 22, 25]\n",
            "[15, 28, 29]\n",
            "[]\n",
            "[6]\n"
          ]
        }
      ]
    }
  ]
}