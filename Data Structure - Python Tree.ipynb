{
  "nbformat": 4,
  "nbformat_minor": 0,
  "metadata": {
    "colab": {
      "name": "Data Science Basics - Python Tree.ipynb",
      "provenance": [],
      "authorship_tag": "ABX9TyMAxtByNJiGV5gHp83IVUPD",
      "include_colab_link": true
    },
    "kernelspec": {
      "name": "python3",
      "display_name": "Python 3"
    },
    "language_info": {
      "name": "python"
    }
  },
  "cells": [
    {
      "cell_type": "markdown",
      "metadata": {
        "id": "view-in-github",
        "colab_type": "text"
      },
      "source": [
        "<a href=\"https://colab.research.google.com/github/sahug/python-data-structure/blob/main/Data%20Structure%20-%20Python%20Tree.ipynb\" target=\"_parent\"><img src=\"https://colab.research.google.com/assets/colab-badge.svg\" alt=\"Open In Colab\"/></a>"
      ]
    },
    {
      "cell_type": "markdown",
      "source": [
        "**Data Science Basics - Python Tree**"
      ],
      "metadata": {
        "id": "YNd6qH8iwJz2"
      }
    },
    {
      "cell_type": "code",
      "source": [
        "class TreeNode:\n",
        "  def __init__(self, data):\n",
        "      self.data = data\n",
        "      self.children = []\n",
        "      self.parent = None\n",
        "\n",
        "  def get_level(self):\n",
        "      level = 0\n",
        "      p = self.parent\n",
        "      while p:\n",
        "          level += 1\n",
        "          p = p.parent\n",
        "      return level\n",
        "\n",
        "  def print_tree(self):\n",
        "      spaces = ' ' * self.get_level() * 3\n",
        "      prefix = spaces + \"|__\" if self.parent else \"\"\n",
        "      print(prefix + self.data)\n",
        "      if self.children:\n",
        "          for child in self.children:\n",
        "              child.print_tree()\n",
        "\n",
        "  def add_child(self, child):\n",
        "      child.parent = self\n",
        "      self.children.append(child)"
      ],
      "metadata": {
        "id": "w6j25-_1XfSw"
      },
      "execution_count": null,
      "outputs": []
    },
    {
      "cell_type": "code",
      "source": [
        "def build_product_tree():\n",
        "  root = TreeNode(\"Electronics\")\n",
        "\n",
        "  laptop = TreeNode(\"Laptop\")\n",
        "  laptop.add_child(TreeNode(\"Mac\"))\n",
        "  laptop.add_child(TreeNode(\"Surface\"))\n",
        "  laptop.add_child(TreeNode(\"Thinkpad\"))\n",
        "\n",
        "  cellphone = TreeNode(\"Cell Phone\")\n",
        "  cellphone.add_child(TreeNode(\"iPhone\"))\n",
        "  cellphone.add_child(TreeNode(\"Google Pixel\"))\n",
        "  cellphone.add_child(TreeNode(\"Vivo\"))\n",
        "\n",
        "  tv = TreeNode(\"TV\")\n",
        "  tv.add_child(TreeNode(\"Samsung\"))\n",
        "  tv.add_child(TreeNode(\"LG\"))\n",
        "\n",
        "  root.add_child(laptop)\n",
        "  root.add_child(cellphone)\n",
        "  root.add_child(tv)\n",
        "\n",
        "  root.print_tree()"
      ],
      "metadata": {
        "id": "dnGqeaUqlysR"
      },
      "execution_count": null,
      "outputs": []
    },
    {
      "cell_type": "code",
      "source": [
        "if __name__ == '__main__':\n",
        "  build_product_tree()"
      ],
      "metadata": {
        "colab": {
          "base_uri": "https://localhost:8080/"
        },
        "id": "4XSC0vr3mFMZ",
        "outputId": "d70d7534-aef8-49a5-bf7e-58be7705a5bf"
      },
      "execution_count": null,
      "outputs": [
        {
          "output_type": "stream",
          "name": "stdout",
          "text": [
            "Electronics\n",
            "   |__Laptop\n",
            "      |__Mac\n",
            "      |__Surface\n",
            "      |__Thinkpad\n",
            "   |__Cell Phone\n",
            "      |__iPhone\n",
            "      |__Google Pixel\n",
            "      |__Vivo\n",
            "   |__TV\n",
            "      |__Samsung\n",
            "      |__LG\n"
          ]
        }
      ]
    }
  ]
}