{
  "nbformat": 4,
  "nbformat_minor": 0,
  "metadata": {
    "colab": {
      "name": "Data Science Basics - Python Tree.ipynb",
      "provenance": [],
      "authorship_tag": "ABX9TyPSV7e5xS4WbMhcSvZP95VO",
      "include_colab_link": true
    },
    "kernelspec": {
      "name": "python3",
      "display_name": "Python 3"
    },
    "language_info": {
      "name": "python"
    }
  },
  "cells": [
    {
      "cell_type": "markdown",
      "metadata": {
        "id": "view-in-github",
        "colab_type": "text"
      },
      "source": [
        "<a href=\"https://colab.research.google.com/github/sahug/python-data-structure/blob/main/Data%20Structure%20-%20Python%20Tree.ipynb\" target=\"_parent\"><img src=\"https://colab.research.google.com/assets/colab-badge.svg\" alt=\"Open In Colab\"/></a>"
      ]
    },
    {
      "cell_type": "markdown",
      "source": [
        "**Data Science Basics - Python Tree**"
      ],
      "metadata": {
        "id": "YNd6qH8iwJz2"
      }
    },
    {
      "cell_type": "code",
      "source": [
        "class TreeNode:\n",
        "  def __init__(self, data):\n",
        "      self.data = data\n",
        "      self.children = []\n",
        "      self.parent = None\n",
        "\n",
        "  def get_level(self):\n",
        "      level = 0\n",
        "      p = self.parent\n",
        "      while p:\n",
        "          level += 1\n",
        "          p = p.parent\n",
        "      return level\n",
        "\n",
        "  def print_tree(self):\n",
        "      spaces = ' ' * self.get_level() * 3\n",
        "      prefix = spaces + \"|__\" if self.parent else \"\"\n",
        "      print(prefix + self.data)\n",
        "      if self.children:\n",
        "          for child in self.children:\n",
        "              child.print_tree()\n",
        "\n",
        "  def add_child(self, child):\n",
        "      child.parent = self\n",
        "      self.children.append(child)"
      ],
      "metadata": {
        "id": "w6j25-_1XfSw"
      },
      "execution_count": 1,
      "outputs": []
    },
    {
      "cell_type": "code",
      "source": [
        "root = TreeNode(\"Parent\")\n",
        "print(root.data)\n",
        "print(root.children)\n",
        "print(root.parent)"
      ],
      "metadata": {
        "id": "fYBc0jacnnrx",
        "outputId": "aebd41d2-1ec2-4686-903d-4a61b0555b17",
        "colab": {
          "base_uri": "https://localhost:8080/"
        }
      },
      "execution_count": 19,
      "outputs": [
        {
          "output_type": "stream",
          "name": "stdout",
          "text": [
            "Parent\n",
            "[]\n",
            "None\n"
          ]
        }
      ]
    },
    {
      "cell_type": "code",
      "source": [
        "root.add_child(TreeNode(\"Child 1\"))\n",
        "root.add_child(TreeNode(\"Child 2\"))\n",
        "root.add_child(TreeNode(\"Child 3\"))\n",
        "\n",
        "root.print_tree()"
      ],
      "metadata": {
        "id": "HKDCT7mZnxOu",
        "outputId": "cba8a20e-fb3f-4cfe-8e45-730de3891714",
        "colab": {
          "base_uri": "https://localhost:8080/"
        }
      },
      "execution_count": 21,
      "outputs": [
        {
          "output_type": "stream",
          "name": "stdout",
          "text": [
            "Parent\n",
            "   |__Child 1\n",
            "   |__Child 2\n",
            "   |__Child 3\n"
          ]
        }
      ]
    },
    {
      "cell_type": "code",
      "source": [
        "root.get_level()"
      ],
      "metadata": {
        "id": "Ih6B0QCKpEnU",
        "outputId": "8927b177-9dcd-440a-f350-162df859445e",
        "colab": {
          "base_uri": "https://localhost:8080/"
        }
      },
      "execution_count": 22,
      "outputs": [
        {
          "output_type": "execute_result",
          "data": {
            "text/plain": [
              "0"
            ]
          },
          "metadata": {},
          "execution_count": 22
        }
      ]
    },
    {
      "cell_type": "code",
      "source": [
        "def build_product_tree():\n",
        "  root = TreeNode(\"Electronics\")\n",
        "\n",
        "  laptop = TreeNode(\"Laptop\")\n",
        "  laptop.add_child(TreeNode(\"Mac\"))\n",
        "  laptop.add_child(TreeNode(\"Surface\"))\n",
        "  laptop.add_child(TreeNode(\"Thinkpad\"))\n",
        "\n",
        "  cellphone = TreeNode(\"Cell Phone\")\n",
        "  cellphone.add_child(TreeNode(\"iPhone\"))\n",
        "  cellphone.add_child(TreeNode(\"Google Pixel\"))\n",
        "  cellphone.add_child(TreeNode(\"Vivo\"))\n",
        "\n",
        "  tv = TreeNode(\"TV\")\n",
        "  tv.add_child(TreeNode(\"Samsung\"))\n",
        "  tv.add_child(TreeNode(\"LG\"))\n",
        "\n",
        "  root.add_child(laptop)\n",
        "  root.add_child(cellphone)\n",
        "  root.add_child(tv)\n",
        "\n",
        "  root.print_tree()"
      ],
      "metadata": {
        "id": "dnGqeaUqlysR"
      },
      "execution_count": 6,
      "outputs": []
    },
    {
      "cell_type": "code",
      "source": [
        "if __name__ == '__main__':\n",
        "  build_product_tree()"
      ],
      "metadata": {
        "colab": {
          "base_uri": "https://localhost:8080/"
        },
        "id": "4XSC0vr3mFMZ",
        "outputId": "f59ab067-53be-4ed0-d722-2eac43ac0efc"
      },
      "execution_count": 5,
      "outputs": [
        {
          "output_type": "stream",
          "name": "stdout",
          "text": [
            "Electronics\n"
          ]
        }
      ]
    },
    {
      "cell_type": "code",
      "source": [
        "  "
      ],
      "metadata": {
        "id": "KV3hfDA4nX71"
      },
      "execution_count": 7,
      "outputs": []
    },
    {
      "cell_type": "code",
      "source": [
        ""
      ],
      "metadata": {
        "id": "5fk821RGnfra",
        "outputId": "e4aa9298-43de-4336-ff1a-f7e80e04d2b1",
        "colab": {
          "base_uri": "https://localhost:8080/"
        }
      },
      "execution_count": 9,
      "outputs": [
        {
          "output_type": "stream",
          "name": "stdout",
          "text": [
            "Electronics\n"
          ]
        }
      ]
    }
  ]
}