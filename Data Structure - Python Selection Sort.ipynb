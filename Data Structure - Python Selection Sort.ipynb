{
  "nbformat": 4,
  "nbformat_minor": 0,
  "metadata": {
    "colab": {
      "name": "Data Structure - Python Selection Sort.ipynb",
      "provenance": [],
      "authorship_tag": "ABX9TyN4hRD5wl2ErCy0SKczWmiJ",
      "include_colab_link": true
    },
    "kernelspec": {
      "name": "python3",
      "display_name": "Python 3"
    },
    "language_info": {
      "name": "python"
    }
  },
  "cells": [
    {
      "cell_type": "markdown",
      "metadata": {
        "id": "view-in-github",
        "colab_type": "text"
      },
      "source": [
        "<a href=\"https://colab.research.google.com/github/sahug/python-data-structure/blob/main/Data%20Structure%20-%20Python%20Selection%20Sort.ipynb\" target=\"_parent\"><img src=\"https://colab.research.google.com/assets/colab-badge.svg\" alt=\"Open In Colab\"/></a>"
      ]
    },
    {
      "cell_type": "markdown",
      "source": [
        "**Data Structure - Python Selection Sort**"
      ],
      "metadata": {
        "id": "YNd6qH8iwJz2"
      }
    },
    {
      "cell_type": "code",
      "source": [
        "def find_min_element(arr):\n",
        "  min = 10000000\n",
        "  for i in range(len(arr)):\n",
        "    if arr[i] < min:\n",
        "      min = arr[i]\n",
        "  return min"
      ],
      "metadata": {
        "id": "sX5P-hnVKrdn"
      },
      "execution_count": 41,
      "outputs": []
    },
    {
      "cell_type": "code",
      "source": [
        "def selection_sort(arr):\n",
        "  size = len(arr)\n",
        "\n",
        "  for i in range(size):\n",
        "    min_index = i\n",
        "  \n",
        "    for j in range(min_index + 1, size):\n",
        "      if arr[j] < arr[min_index]:\n",
        "        min_index = j\n",
        "\n",
        "    if i != min_index:\n",
        "      arr[i], arr[min_index] = arr[min_index], arr[i]"
      ],
      "metadata": {
        "id": "4O8iSwR1LBpT"
      },
      "execution_count": 42,
      "outputs": []
    },
    {
      "cell_type": "code",
      "source": [
        "if __name__ == \"__main__\":\n",
        "  arr = [10, 3, 15, 7, 8, 23, 98, 29]\n",
        "  selection_sort(arr)  \n",
        "  print(arr)"
      ],
      "metadata": {
        "colab": {
          "base_uri": "https://localhost:8080/"
        },
        "id": "GUSDG0y8y4Wg",
        "outputId": "cac64939-c723-47fe-d9fa-4d48349ff9c1"
      },
      "execution_count": 44,
      "outputs": [
        {
          "output_type": "stream",
          "name": "stdout",
          "text": [
            "[3, 7, 8, 10, 15, 23, 29, 98]\n"
          ]
        }
      ]
    },
    {
      "cell_type": "code",
      "source": [
        "if __name__ == \"__main__\":\n",
        "  tests = [\n",
        "          [11,9,29,7,2,15,28],\n",
        "          [3, 7, 9, 11],\n",
        "          [25, 22, 21, 10],\n",
        "          [29, 15, 28],\n",
        "          [],\n",
        "          [6]\n",
        "      ]\n",
        "\n",
        "  for elements in tests:\n",
        "    selection_sort(elements)\n",
        "    print(elements)"
      ],
      "metadata": {
        "colab": {
          "base_uri": "https://localhost:8080/"
        },
        "id": "Uq2WOfDC2LBI",
        "outputId": "6eb38e75-b477-4244-dc37-d1736e64c1fa"
      },
      "execution_count": 45,
      "outputs": [
        {
          "output_type": "stream",
          "name": "stdout",
          "text": [
            "[2, 7, 9, 11, 15, 28, 29]\n",
            "[3, 7, 9, 11]\n",
            "[10, 21, 22, 25]\n",
            "[15, 28, 29]\n",
            "[]\n",
            "[6]\n"
          ]
        }
      ]
    }
  ]
}