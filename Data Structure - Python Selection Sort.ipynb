{
  "nbformat": 4,
  "nbformat_minor": 0,
  "metadata": {
    "colab": {
      "name": "Data Structure - Python Selection Sort.ipynb",
      "provenance": [],
      "authorship_tag": "ABX9TyPsu/wHxgWE9odxuvsmAiRF",
      "include_colab_link": true
    },
    "kernelspec": {
      "name": "python3",
      "display_name": "Python 3"
    },
    "language_info": {
      "name": "python"
    }
  },
  "cells": [
    {
      "cell_type": "markdown",
      "metadata": {
        "id": "view-in-github",
        "colab_type": "text"
      },
      "source": [
        "<a href=\"https://colab.research.google.com/github/sahug/python-data-structure/blob/main/Data%20Structure%20-%20Python%20Selection%20Sort.ipynb\" target=\"_parent\"><img src=\"https://colab.research.google.com/assets/colab-badge.svg\" alt=\"Open In Colab\"/></a>"
      ]
    },
    {
      "cell_type": "markdown",
      "source": [
        "**Data Structure - Python Selection Sort**"
      ],
      "metadata": {
        "id": "YNd6qH8iwJz2"
      }
    },
    {
      "cell_type": "code",
      "source": [
        "def find_min_element(arr):\n",
        "  min = 10000000\n",
        "  for i in range(len(arr)):\n",
        "    if arr[i] < min:\n",
        "      min = arr[i]\n",
        "  return min"
      ],
      "metadata": {
        "id": "sX5P-hnVKrdn"
      },
      "execution_count": 1,
      "outputs": []
    },
    {
      "cell_type": "code",
      "source": [
        "def selection_sort(arr):\n",
        "  size = len(arr)\n",
        "\n",
        "  for i in range(size):\n",
        "    min_index = i\n",
        "  \n",
        "    for j in range(min_index + 1, size):\n",
        "      if arr[j] < arr[min_index]:\n",
        "        min_index = j\n",
        "\n",
        "    if i != min_index:\n",
        "      arr[i], arr[min_index] = arr[min_index], arr[i]"
      ],
      "metadata": {
        "id": "4O8iSwR1LBpT"
      },
      "execution_count": 2,
      "outputs": []
    },
    {
      "cell_type": "code",
      "source": [
        "if __name__ == \"__main__\":\n",
        "  arr = [10, 3, 15, 7, 8, 23, 98, 29]\n",
        "  selection_sort(arr)  \n",
        "  print(arr)"
      ],
      "metadata": {
        "colab": {
          "base_uri": "https://localhost:8080/"
        },
        "id": "GUSDG0y8y4Wg",
        "outputId": "111a518b-e01d-4689-86ca-a46bfe32eca4"
      },
      "execution_count": 3,
      "outputs": [
        {
          "output_type": "stream",
          "name": "stdout",
          "text": [
            "[3, 7, 8, 10, 15, 23, 29, 98]\n"
          ]
        }
      ]
    },
    {
      "cell_type": "code",
      "source": [
        "if __name__ == \"__main__\":\n",
        "  tests = [\n",
        "          [11,9,29,7,2,15,28],\n",
        "          [3, 7, 9, 11],\n",
        "          [25, 22, 21, 10],\n",
        "          [29, 15, 28],\n",
        "          [],\n",
        "          [6]\n",
        "      ]\n",
        "\n",
        "  for elements in tests:\n",
        "    selection_sort(elements)\n",
        "    print(elements)"
      ],
      "metadata": {
        "colab": {
          "base_uri": "https://localhost:8080/"
        },
        "id": "Uq2WOfDC2LBI",
        "outputId": "539d8b1b-d0e9-4953-e526-c02c6403b650"
      },
      "execution_count": 4,
      "outputs": [
        {
          "output_type": "stream",
          "name": "stdout",
          "text": [
            "[2, 7, 9, 11, 15, 28, 29]\n",
            "[3, 7, 9, 11]\n",
            "[10, 21, 22, 25]\n",
            "[15, 28, 29]\n",
            "[]\n",
            "[6]\n"
          ]
        }
      ]
    },
    {
      "cell_type": "markdown",
      "source": [
        "**Multi-Level Selection Sort**"
      ],
      "metadata": {
        "id": "_zJsJlINAt6I"
      }
    },
    {
      "cell_type": "markdown",
      "source": [
        "Implement a Multi-Level Sort of a given list of dictionaries based on a given sorting order. If user wants to sort dictionary based on First Key 'A', Then Key 'B', they shall pass list of keys in the order of preference as a list ['A','B']. Your code should be able to sort list of dictionaries for any number of keys in sorting order list.\n",
        "\n",
        "Using this multi-level sort, you should be able to sort any list of dictionaries based on sorting order preference\n",
        "\n",
        "Example: A single dictionary entry contains two keys **'First Name'** and **'Last Name'**. the list should be sorted first based on **'First Name'**, then based on **'Last Name'**, w.r.t. common/same **'First Name'** entries.\n",
        "\n",
        "for this, one shall past sorting order of preference list **[ 'First Name' , 'Last Name' ]**\n",
        "\n",
        "For this, Given the following sequence List:\n",
        "```\n",
        "[\n",
        "    {'First Name': 'Raj', 'Last Name': 'Nayyar'},\n",
        "    {'First Name': 'Suraj', 'Last Name': 'Sharma'},\n",
        "    {'First Name': 'Karan', 'Last Name': 'Kumar'},\n",
        "    {'First Name': 'Jade', 'Last Name': 'Canary'},\n",
        "    {'First Name': 'Raj', 'Last Name': 'Thakur'},\n",
        "    {'First Name': 'Raj', 'Last Name': 'Sharma'},\n",
        "    {'First Name': 'Kiran', 'Last Name': 'Kamla'},\n",
        "    {'First Name': 'Armaan', 'Last Name': 'Kumar'},\n",
        "    {'First Name': 'Jaya', 'Last Name': 'Sharma'},\n",
        "    {'First Name': 'Ingrid', 'Last Name': 'Galore'},\n",
        "    {'First Name': 'Jaya', 'Last Name': 'Seth'},\n",
        "    {'First Name': 'Armaan', 'Last Name': 'Dadra'},\n",
        "    {'First Name': 'Ingrid', 'Last Name': 'Maverick'},\n",
        "    {'First Name': 'Aahana', 'Last Name': 'Arora'}\n",
        "]\n",
        "```"
      ],
      "metadata": {
        "id": "2KCKj0tDAbPV"
      }
    },
    {
      "cell_type": "code",
      "source": [
        "def multilevel_selection_sort(elements, sort_by_list):\n",
        "    for sort_by in sort_by_list[-1::-1]:\n",
        "        for x in range(len(elements)):\n",
        "            min_index = x\n",
        "            for y in range(x, len(elements)):\n",
        "                if elements[y][sort_by] < elements[min_index][sort_by]:\n",
        "                    min_index = y\n",
        "            if x != min_index:\n",
        "                elements[x], elements[min_index] = elements[min_index], elements[x]"
      ],
      "metadata": {
        "id": "3egTG1kkAaGM"
      },
      "execution_count": 5,
      "outputs": []
    },
    {
      "cell_type": "code",
      "source": [
        "if __name__ == '__main__':\n",
        "    elements = [\n",
        "        {'First Name': 'Raj', 'Last Name': 'Nayyar'},\n",
        "        {'First Name': 'Suraj', 'Last Name': 'Sharma'},\n",
        "        {'First Name': 'Karan', 'Last Name': 'Kumar'},\n",
        "        {'First Name': 'Jade', 'Last Name': 'Canary'},\n",
        "        {'First Name': 'Raj', 'Last Name': 'Thakur'},\n",
        "        {'First Name': 'Raj', 'Last Name': 'Sharma'},\n",
        "        {'First Name': 'Kiran', 'Last Name': 'Kamla'},\n",
        "        {'First Name': 'Armaan', 'Last Name': 'Kumar'},\n",
        "        {'First Name': 'Jaya', 'Last Name': 'Sharma'},\n",
        "        {'First Name': 'Ingrid', 'Last Name': 'Galore'},\n",
        "        {'First Name': 'Jaya', 'Last Name': 'Seth'},\n",
        "        {'First Name': 'Armaan', 'Last Name': 'Dadra'},\n",
        "        {'First Name': 'Ingrid', 'Last Name': 'Maverick'},\n",
        "        {'First Name': 'Aahana', 'Last Name': 'Arora'}\n",
        "    ]\n",
        "\n",
        "    print(f'Given unsorted array:', *elements, sep='\\n')\n",
        "    multilevel_selection_sort(elements, ['First Name', 'Last Name'])\n",
        "    print(\"\\n\")\n",
        "    print(f'Array after Multi-Level Sorting:', *elements, sep='\\n')"
      ],
      "metadata": {
        "id": "6YC28h8aA2n8",
        "outputId": "445d705b-ae74-48da-dcf9-12f802430bf1",
        "colab": {
          "base_uri": "https://localhost:8080/"
        }
      },
      "execution_count": 7,
      "outputs": [
        {
          "output_type": "stream",
          "name": "stdout",
          "text": [
            "Given unsorted array:\n",
            "{'First Name': 'Raj', 'Last Name': 'Nayyar'}\n",
            "{'First Name': 'Suraj', 'Last Name': 'Sharma'}\n",
            "{'First Name': 'Karan', 'Last Name': 'Kumar'}\n",
            "{'First Name': 'Jade', 'Last Name': 'Canary'}\n",
            "{'First Name': 'Raj', 'Last Name': 'Thakur'}\n",
            "{'First Name': 'Raj', 'Last Name': 'Sharma'}\n",
            "{'First Name': 'Kiran', 'Last Name': 'Kamla'}\n",
            "{'First Name': 'Armaan', 'Last Name': 'Kumar'}\n",
            "{'First Name': 'Jaya', 'Last Name': 'Sharma'}\n",
            "{'First Name': 'Ingrid', 'Last Name': 'Galore'}\n",
            "{'First Name': 'Jaya', 'Last Name': 'Seth'}\n",
            "{'First Name': 'Armaan', 'Last Name': 'Dadra'}\n",
            "{'First Name': 'Ingrid', 'Last Name': 'Maverick'}\n",
            "{'First Name': 'Aahana', 'Last Name': 'Arora'}\n",
            "\n",
            "\n",
            "Array after Multi-Level Sorting:\n",
            "{'First Name': 'Aahana', 'Last Name': 'Arora'}\n",
            "{'First Name': 'Armaan', 'Last Name': 'Dadra'}\n",
            "{'First Name': 'Armaan', 'Last Name': 'Kumar'}\n",
            "{'First Name': 'Ingrid', 'Last Name': 'Galore'}\n",
            "{'First Name': 'Ingrid', 'Last Name': 'Maverick'}\n",
            "{'First Name': 'Jade', 'Last Name': 'Canary'}\n",
            "{'First Name': 'Jaya', 'Last Name': 'Seth'}\n",
            "{'First Name': 'Jaya', 'Last Name': 'Sharma'}\n",
            "{'First Name': 'Karan', 'Last Name': 'Kumar'}\n",
            "{'First Name': 'Kiran', 'Last Name': 'Kamla'}\n",
            "{'First Name': 'Raj', 'Last Name': 'Sharma'}\n",
            "{'First Name': 'Raj', 'Last Name': 'Nayyar'}\n",
            "{'First Name': 'Raj', 'Last Name': 'Thakur'}\n",
            "{'First Name': 'Suraj', 'Last Name': 'Sharma'}\n"
          ]
        }
      ]
    }
  ]
}