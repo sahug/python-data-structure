{
  "nbformat": 4,
  "nbformat_minor": 0,
  "metadata": {
    "colab": {
      "name": "Data Structure - Python Bredth First Sort.ipynb",
      "provenance": [],
      "authorship_tag": "ABX9TyMJQkzexxJ/a8GRD1ctr+Lt",
      "include_colab_link": true
    },
    "kernelspec": {
      "name": "python3",
      "display_name": "Python 3"
    },
    "language_info": {
      "name": "python"
    }
  },
  "cells": [
    {
      "cell_type": "markdown",
      "metadata": {
        "id": "view-in-github",
        "colab_type": "text"
      },
      "source": [
        "<a href=\"https://colab.research.google.com/github/sahug/python-data-structure/blob/main/Data%20Structure%20-%20Python%20Bredth%20First%20Sort.ipynb\" target=\"_parent\"><img src=\"https://colab.research.google.com/assets/colab-badge.svg\" alt=\"Open In Colab\"/></a>"
      ]
    },
    {
      "cell_type": "markdown",
      "source": [
        "**Data Structure - Python Bredth First Sort**"
      ],
      "metadata": {
        "id": "QahP8tUZBmES"
      }
    },
    {
      "cell_type": "code",
      "execution_count": 10,
      "metadata": {
        "id": "-dojR3cUBgBc"
      },
      "outputs": [],
      "source": [
        "# function for depth first search\n",
        "def bredth_first(data, start, visited=set()):\n",
        "    queue = [start]\n",
        "\n",
        "    while queue:\n",
        "        current_node = queue.pop(0)\n",
        "        if current_node not in visited:\n",
        "            print(current_node, end=\" \")\n",
        "        visited.add(current_node)\n",
        "\n",
        "        for i in data[current_node] - visited:\n",
        "            queue.append(i)\n",
        "    return\n"
      ]
    },
    {
      "cell_type": "code",
      "source": [
        "# sample data in dictionary form\n",
        "if __name__ == '__main__':\n",
        "\n",
        "    data = {\n",
        "        'A': {'B'}, 'B': {'A', 'C', 'D'}, 'C': {'B', 'E'}, 'D': {'B', 'E'},\n",
        "        'E': {'C', 'D', 'F'}, 'F': {'E'}\n",
        "    }\n",
        "\n",
        "    bredth_first(data, 'A')"
      ],
      "metadata": {
        "colab": {
          "base_uri": "https://localhost:8080/"
        },
        "id": "lfa-xXOcBykV",
        "outputId": "7546ede5-c6e4-4047-d803-41a33cde3fc2"
      },
      "execution_count": 11,
      "outputs": [
        {
          "output_type": "stream",
          "name": "stdout",
          "text": [
            "A B D C E F "
          ]
        }
      ]
    },
    {
      "cell_type": "markdown",
      "source": [
        "BFS Traversal of a graph in python using graph given in dictionary\n",
        "\n",
        "Implement a function to find whether a path exists for a given set of airline routes. The routes are depicted using graphs as a dictionary of sets, where keys represent as source and elements of sets represent destinations. Print the path if it exists.\n",
        "\n",
        "**Example**:` A, B, C, D, E, F `are the nodes of the graph.\n",
        "\n",
        "For example, if you are given following data:\n",
        "\n",
        "```\n",
        "data = {\n",
        "        'A': {'B'},\n",
        "        'B': {'A', 'C', 'D'},\n",
        "        'C': {'B', 'E'},\n",
        "        'D': {'B', 'E'},\n",
        "        'E': {'C', 'D', 'F'},\n",
        "        'F': {'E'}\n",
        "}\n",
        "```"
      ],
      "metadata": {
        "id": "lWbDTUABCAHk"
      }
    },
    {
      "cell_type": "code",
      "source": [
        "def bredth_first(data, start, end, visited=[]):\n",
        "    queue = [start]\n",
        "\n",
        "    while queue:\n",
        "        current_node = queue.pop(0)\n",
        "        if current_node==end:\n",
        "            print(\"Path: \" + \"->\".join(visited) + \"->\" + end)\n",
        "            return\n",
        "        visited.append(current_node)\n",
        "\n",
        "        for i in data[current_node] - set(visited):\n",
        "            queue.append(i)\n",
        "    print(\"Path does not exist!\")    \n",
        "    return"
      ],
      "metadata": {
        "id": "TLmyD1xJCJ7B"
      },
      "execution_count": 12,
      "outputs": []
    },
    {
      "cell_type": "code",
      "source": [
        "if __name__ == '__main__':\n",
        "  data = {\n",
        "    'A': {'B'},\n",
        "    'B': {'C', 'D'},\n",
        "    'C': {'E'},\n",
        "    'D': {'E'},\n",
        "    'E': {'F'},\n",
        "    'F': set()\n",
        "  }\n",
        "  bredth_first(data, 'A', 'D')"
      ],
      "metadata": {
        "colab": {
          "base_uri": "https://localhost:8080/"
        },
        "id": "lMXskp-dCN2f",
        "outputId": "5ab9e306-17c9-44e3-9219-16b7fbf367c9"
      },
      "execution_count": 13,
      "outputs": [
        {
          "output_type": "stream",
          "name": "stdout",
          "text": [
            "Path: A->B->D\n"
          ]
        }
      ]
    }
  ]
}