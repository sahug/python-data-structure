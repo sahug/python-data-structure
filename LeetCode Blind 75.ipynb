{
  "nbformat": 4,
  "nbformat_minor": 0,
  "metadata": {
    "colab": {
      "name": "LeetCode Blind 75.ipynb",
      "provenance": [],
      "collapsed_sections": [],
      "authorship_tag": "ABX9TyMzthbNEz3AnVn27vVUlogQ",
      "include_colab_link": true
    },
    "kernelspec": {
      "name": "python3",
      "display_name": "Python 3"
    },
    "language_info": {
      "name": "python"
    }
  },
  "cells": [
    {
      "cell_type": "markdown",
      "metadata": {
        "id": "view-in-github",
        "colab_type": "text"
      },
      "source": [
        "<a href=\"https://colab.research.google.com/github/sahug/python-data-structure/blob/main/LeetCode%20Blind%2075.ipynb\" target=\"_parent\"><img src=\"https://colab.research.google.com/assets/colab-badge.svg\" alt=\"Open In Colab\"/></a>"
      ]
    },
    {
      "cell_type": "markdown",
      "source": [
        "#**LeetCode Blind 75**"
      ],
      "metadata": {
        "id": "kmdOdVMa4wy2"
      }
    },
    {
      "cell_type": "code",
      "execution_count": null,
      "metadata": {
        "colab": {
          "base_uri": "https://localhost:8080/"
        },
        "id": "rUj6GpkoXrJp",
        "outputId": "41f49c1f-dd62-4e98-9ca5-1ef051cd0c74"
      },
      "outputs": [
        {
          "output_type": "stream",
          "name": "stdout",
          "text": [
            "[1, 0, 0, 0, 1, 0, 0, 0, 0, 0, 0, 0, 0, 0, 0, 0, 0, 0, 0, 1, 0, 0, 0, 0, 0, 0]\n",
            "[1, 0, 0, 0, 1, 0, 0, 0, 0, 0, 0, 0, 0, 0, 0, 0, 0, 0, 0, 1, 0, 0, 0, 0, 0, 0]\n",
            "[1, 0, 0, 0, 0, 0, 0, 0, 0, 0, 0, 0, 0, 1, 0, 0, 0, 0, 0, 1, 0, 0, 0, 0, 0, 0]\n",
            "[1, 0, 0, 0, 1, 0, 0, 0, 0, 0, 0, 0, 0, 0, 0, 0, 0, 0, 0, 1, 0, 0, 0, 0, 0, 0]\n",
            "[1, 0, 0, 0, 0, 0, 0, 0, 0, 0, 0, 0, 0, 1, 0, 0, 0, 0, 0, 1, 0, 0, 0, 0, 0, 0]\n",
            "[1, 1, 0, 0, 0, 0, 0, 0, 0, 0, 0, 0, 0, 0, 0, 0, 0, 0, 0, 1, 0, 0, 0, 0, 0, 0]\n"
          ]
        },
        {
          "output_type": "execute_result",
          "data": {
            "text/plain": [
              "dict_values([['eat', 'tea', 'ate'], ['tan', 'nat'], ['bat']])"
            ]
          },
          "metadata": {},
          "execution_count": 2
        }
      ],
      "source": [
        "from typing import List\n",
        "import collections\n",
        "def groupAnagrams(strs: List[str]) -> List[List[str]]:\n",
        "  ans = collections.defaultdict(list)\n",
        "\n",
        "  for i in strs:\n",
        "    count = [0]*26\n",
        "\n",
        "    for c in i:\n",
        "      count[ord(c) - ord(\"a\")] +=1\n",
        "    print(count)\n",
        "    \n",
        "    ans[tuple(count)].append(i)\n",
        "  return ans.values()\n",
        "\n",
        "strs = [\"eat\",\"tea\",\"tan\",\"ate\",\"nat\",\"bat\"]\n",
        "groupAnagrams(strs)\n"
      ]
    },
    {
      "cell_type": "code",
      "source": [
        "def topKFrequent(nums: List[int], k: int):\n",
        "\n",
        "  freq = [[] for i in range(len(nums) + 1)]  \n",
        "  counter = dict(collections.Counter(nums))  \n",
        "  print(counter)\n",
        "\n",
        "  for i, j in counter.items():\n",
        "     print(i, j)\n",
        "     freq[j].append(i)\n",
        "  print(freq)\n",
        "\n",
        "  res = []\n",
        "  for i in range(len(freq) - 1, 0, -1):\n",
        "    for n in freq[i]:\n",
        "      res.append(n)\n",
        "      if len(res) == k:\n",
        "        return res\n",
        "\n",
        "nums = [20,20,10,10,10,30]\n",
        "k = 2\n",
        "topKFrequent(nums, 2)"
      ],
      "metadata": {
        "colab": {
          "base_uri": "https://localhost:8080/"
        },
        "id": "fdlnhctHb41F",
        "outputId": "dae1c55f-17f2-4c63-9ff5-5e4e46285496"
      },
      "execution_count": null,
      "outputs": [
        {
          "output_type": "stream",
          "name": "stdout",
          "text": [
            "{20: 2, 10: 3, 30: 1}\n",
            "20 2\n",
            "10 3\n",
            "30 1\n",
            "[[], [30], [20], [10], [], [], []]\n"
          ]
        },
        {
          "output_type": "execute_result",
          "data": {
            "text/plain": [
              "[10, 20]"
            ]
          },
          "metadata": {},
          "execution_count": 32
        }
      ]
    },
    {
      "cell_type": "markdown",
      "source": [
        "**Product of Array Except Self**\n",
        "\n",
        "Make two passes, first in-order, second in-reverse, to compute products"
      ],
      "metadata": {
        "id": "mimv6SKQkMVd"
      }
    },
    {
      "cell_type": "code",
      "source": [
        "def productExceptSelf(nums: List[int]) -> List[int]:\n",
        "  res = [1] * (len(nums))\n",
        "\n",
        "  prefix = 1\n",
        "  for i in range(len(nums)):\n",
        "    res[i] = prefix\n",
        "    prefix *= nums[i]\n",
        "  \n",
        "  print(res)\n",
        "  postfix = 1\n",
        "  for i in range(len(nums) -1, -1, -1):\n",
        "    res[i] *= postfix\n",
        "    postfix *= nums[i]\n",
        "  print(res)    \n",
        "  return res\n",
        "  \n",
        "nums = [1,2,3,4]\n",
        "productExceptSelf(nums)"
      ],
      "metadata": {
        "colab": {
          "base_uri": "https://localhost:8080/"
        },
        "id": "ON7tHcvAj9sb",
        "outputId": "eb5b4e62-6007-4192-cf27-ea51af44106b"
      },
      "execution_count": null,
      "outputs": [
        {
          "output_type": "stream",
          "name": "stdout",
          "text": [
            "[1, 1, 2, 6]\n",
            "[24, 12, 8, 6]\n"
          ]
        },
        {
          "output_type": "execute_result",
          "data": {
            "text/plain": [
              "[24, 12, 8, 6]"
            ]
          },
          "metadata": {},
          "execution_count": 40
        }
      ]
    },
    {
      "cell_type": "markdown",
      "source": [
        "**Valid Sudoku**\n"
      ],
      "metadata": {
        "id": "RWNgVMRkvIB5"
      }
    },
    {
      "cell_type": "code",
      "source": [
        "def isvalidSudoku(board: List[List[str]]) -> bool:\n",
        "  cols = collections.defaultdict(set)\n",
        "  rows = collections.defaultdict(set)\n",
        "  squares = collections.defaultdict(set) #key = (r//3, c//3)\n",
        "\n",
        "  for r in range(9):\n",
        "    for c in range(9):\n",
        "      if board[r][c] == \".\":\n",
        "        continue\n",
        "      if(\n",
        "          board[r][c] in rows[r]\n",
        "         or board[r][c] in cols[r]\n",
        "         or board[r][c] in squares[(r//3, c//3)]          \n",
        "      ):\n",
        "        return False\n",
        "\n",
        "      cols[c].add(board[r][c])\n",
        "      rows[c].add(board[r][c])\n",
        "      squares[(r//3, c//3)].add(board[r][c])\n",
        "\n",
        "  return True\n"
      ],
      "metadata": {
        "id": "eVi6R8nbvvUa"
      },
      "execution_count": null,
      "outputs": []
    },
    {
      "cell_type": "code",
      "source": [
        "board=[[\"5\",\"3\",\".\",\".\",\"7\",\".\",\".\",\".\",\".\"]\n",
        ",[\"6\",\".\",\".\",\"1\",\"9\",\"5\",\".\",\".\",\".\"]\n",
        ",[\".\",\"9\",\"8\",\".\",\".\",\".\",\".\",\"6\",\".\"]\n",
        ",[\"8\",\".\",\".\",\".\",\"6\",\".\",\".\",\".\",\"3\"]\n",
        ",[\"4\",\".\",\".\",\"8\",\".\",\"3\",\".\",\".\",\"1\"]\n",
        ",[\"7\",\".\",\".\",\".\",\"2\",\".\",\".\",\".\",\"6\"]\n",
        ",[\".\",\"6\",\".\",\".\",\".\",\".\",\"2\",\"8\",\".\"]\n",
        ",[\".\",\".\",\".\",\"4\",\"1\",\"9\",\".\",\".\",\"5\"]\n",
        ",[\".\",\".\",\".\",\".\",\"8\",\".\",\".\",\"7\",\"9\"]]\n",
        "\n",
        "isvalidSudoku(board)"
      ],
      "metadata": {
        "colab": {
          "base_uri": "https://localhost:8080/"
        },
        "id": "kXyO5qH7vumH",
        "outputId": "36da1da2-3299-4c14-cca1-817caed71847"
      },
      "execution_count": null,
      "outputs": [
        {
          "output_type": "execute_result",
          "data": {
            "text/plain": [
              "True"
            ]
          },
          "metadata": {},
          "execution_count": 45
        }
      ]
    },
    {
      "cell_type": "code",
      "source": [
        "board = [[\"8\",\"3\",\".\",\".\",\"7\",\".\",\".\",\".\",\".\"]\n",
        ",[\"6\",\".\",\".\",\"1\",\"9\",\"5\",\".\",\".\",\".\"]\n",
        ",[\".\",\"9\",\"8\",\".\",\".\",\".\",\".\",\"6\",\".\"]\n",
        ",[\"8\",\".\",\".\",\".\",\"6\",\".\",\".\",\".\",\"3\"]\n",
        ",[\"4\",\".\",\".\",\"8\",\".\",\"3\",\".\",\".\",\"1\"]\n",
        ",[\"7\",\".\",\".\",\".\",\"2\",\".\",\".\",\".\",\"6\"]\n",
        ",[\".\",\"6\",\".\",\".\",\".\",\".\",\"2\",\"8\",\".\"]\n",
        ",[\".\",\".\",\".\",\"4\",\"1\",\"9\",\".\",\".\",\"5\"]\n",
        ",[\".\",\".\",\".\",\".\",\"8\",\".\",\".\",\"7\",\"9\"]]\n",
        "\n",
        "isvalidSudoku(board)"
      ],
      "metadata": {
        "colab": {
          "base_uri": "https://localhost:8080/"
        },
        "id": "haZxwv_K0Y06",
        "outputId": "81a29711-aec5-4da5-a7c1-a98c4c6f0cc5"
      },
      "execution_count": null,
      "outputs": [
        {
          "output_type": "execute_result",
          "data": {
            "text/plain": [
              "False"
            ]
          },
          "metadata": {},
          "execution_count": 46
        }
      ]
    },
    {
      "cell_type": "markdown",
      "source": [
        "**Encode and Decode Strings**\n",
        "\n",
        "Store length of str before each string and delimiter like '#';"
      ],
      "metadata": {
        "id": "E_QAy2zuv_id"
      }
    },
    {
      "cell_type": "code",
      "source": [
        "def encode(strs):\n",
        "    res = \"\"\n",
        "    for s in strs:\n",
        "        res += str(len(s)) + \"#\" + s\n",
        "    print(res)\n",
        "    return res\n",
        "\n",
        "def decode(strs):\n",
        "  res, i = [], 0\n",
        "\n",
        "  while i < len(strs):\n",
        "    j = i\n",
        "    if strs[i] != \"#\":\n",
        "      j += 1\n",
        "    length = int(strs[i:j])\n",
        "    res.append(strs[j + 1: j + 1 + length])\n",
        "    i = j + 1 + length\n",
        "  print(res)    \n",
        "  return res\n",
        "\n",
        "input = [\"lint\", \"code\", \"love\", \"you\"]\n",
        "encode(input)\n",
        "decode(encode(input))\n"
      ],
      "metadata": {
        "colab": {
          "base_uri": "https://localhost:8080/"
        },
        "id": "B0gccOWb004g",
        "outputId": "51689cfe-ddbf-4040-89fd-24fb87f74757"
      },
      "execution_count": null,
      "outputs": [
        {
          "output_type": "stream",
          "name": "stdout",
          "text": [
            "4#lint4#code4#love3#you\n",
            "4#lint4#code4#love3#you\n",
            "['lint', 'code', 'love', 'you']\n"
          ]
        },
        {
          "output_type": "execute_result",
          "data": {
            "text/plain": [
              "['lint', 'code', 'love', 'you']"
            ]
          },
          "metadata": {},
          "execution_count": 53
        }
      ]
    },
    {
      "cell_type": "markdown",
      "source": [
        "**Longest Consecutive Sequence**\n",
        "\n",
        "For any sequence we have numbers either +1 or -1. So we will check this condition if for a number in a list we have any numbers +1 or -1 in the list."
      ],
      "metadata": {
        "id": "HZKBU4LI4Kk7"
      }
    },
    {
      "cell_type": "code",
      "source": [
        "def longestConsecutive(nums: List[int]) -> int:\n",
        "  res = set()\n",
        "  for i in range(len(nums)):\n",
        "    if nums[i]-1 in nums or nums[i]+1 in nums:\n",
        "      res.add(nums[i])\n",
        "  print(len(res))\n",
        "\n",
        "nums = [100,4,200,1,3,2]\n",
        "longestConsecutive(nums)\n",
        "\n",
        "nums = [0,3,7,2,5,8,4,6,0,1]\n",
        "longestConsecutive(nums)"
      ],
      "metadata": {
        "colab": {
          "base_uri": "https://localhost:8080/"
        },
        "id": "ArKXfFjW7vgf",
        "outputId": "c0f8d0dc-4288-4e30-bd3f-e7075595ed20"
      },
      "execution_count": null,
      "outputs": [
        {
          "output_type": "stream",
          "name": "stdout",
          "text": [
            "4\n",
            "9\n"
          ]
        }
      ]
    },
    {
      "cell_type": "markdown",
      "source": [
        "**Valid Palindrome**\n",
        "\n",
        "Reverse the string and check if it is same as the original string. \n",
        "\n",
        "- Using 2 pointers iterate thru the list, left and right. \n",
        "- Check if element at left is equal to the element at right.  \n",
        "- Only consider the alphanumeric elements.\n",
        "- Stop iterating when l > r because we aould have covered the list by now."
      ],
      "metadata": {
        "id": "q2SsAqQt96eA"
      }
    },
    {
      "cell_type": "code",
      "source": [
        "def isPalindrome(s: str) -> bool:\n",
        "  # s = s.replace(\" \", \"\")\n",
        "  # p = \"\".join(s[::-1])\n",
        "  \n",
        "  l, r = 0, len(s) - 1\n",
        "\n",
        "  while l < r:\n",
        "    \n",
        "    while l < r and not s[l].isalnum():\n",
        "      l += 1\n",
        "    \n",
        "    while l < r and not s[r].isalnum():\n",
        "      r -= 1\n",
        "    \n",
        "    if s[l].lower() != s[r].lower():\n",
        "      return False\n",
        "    \n",
        "    l += 1\n",
        "    r -= 1\n",
        "\n",
        "  return True\n",
        "\n",
        "s = \"A man, a plan, a canal: Panama\"\n",
        "isPalindrome(s)\n",
        "\n",
        "s = \"race a car\"\n",
        "isPalindrome(s)\n",
        "\n",
        "s = \" \"\n",
        "isPalindrome(s)"
      ],
      "metadata": {
        "colab": {
          "base_uri": "https://localhost:8080/"
        },
        "id": "GlOTFElX-CIl",
        "outputId": "be479383-b523-41a6-e8ba-bf157de206a9"
      },
      "execution_count": null,
      "outputs": [
        {
          "output_type": "execute_result",
          "data": {
            "text/plain": [
              "True"
            ]
          },
          "metadata": {},
          "execution_count": 64
        }
      ]
    },
    {
      "cell_type": "markdown",
      "source": [
        "**Two Sum II - Input Array Is Sorted**\n",
        "- Subtract the element with the target and check if the residual is there.\n",
        "- Subtract the above element with the target and check if residual is there.\n",
        "\n",
        "Or\n",
        "\n",
        "- Use 2 pointers to iterate. If the sum > target move right pointer, decrease value, if sum < target move left pointer, increase value. Until we find the correct value.\n",
        " "
      ],
      "metadata": {
        "id": "nDM53nM3FAbj"
      }
    },
    {
      "cell_type": "code",
      "source": [
        "def twoSum(numbers: List[int], target: int) -> List[int]:\n",
        "  # res = []\n",
        "  # n1 = 0\n",
        "  # for i in range(len(numbers)):    \n",
        "  #   if n1 == 0 and abs(target - numbers[i]) in numbers:      \n",
        "  #     n1 = numbers[i]\n",
        "  #     res.append(i+1)\n",
        "      \n",
        "  #   if n1 != 0 and abs(target - n1) == numbers[i]:\n",
        "  #     res.append(i+1)\n",
        "    \n",
        "  # print(res)\n",
        "\n",
        "  l, r = 0, len(numbers) - 1\n",
        "  while l < r:\n",
        "    cursum = numbers[l] + numbers[r]\n",
        "    if cursum > target:\n",
        "      r -= 1\n",
        "    if cursum < target:\n",
        "      l += 1\n",
        "    else:\n",
        "      return [l + 1, r + 1]\n",
        "\n",
        "numbers = [2,7,11,15]\n",
        "target = 9\n",
        "twoSum(numbers, target)\n",
        "\n",
        "numbers = [2,3,4]\n",
        "target = 6\n",
        "twoSum(numbers, target)\n",
        "\n",
        "numbers = [-1,0]\n",
        "target = -1\n",
        "twoSum(numbers, target)"
      ],
      "metadata": {
        "colab": {
          "base_uri": "https://localhost:8080/"
        },
        "id": "EAoxYDYzFLFx",
        "outputId": "cb7c0fde-ca90-4f7c-8a9e-38e5f618fcca"
      },
      "execution_count": null,
      "outputs": [
        {
          "output_type": "execute_result",
          "data": {
            "text/plain": [
              "[1, 2]"
            ]
          },
          "metadata": {},
          "execution_count": 73
        }
      ]
    },
    {
      "cell_type": "markdown",
      "source": [
        "**3Sum**\n",
        "\n",
        "The problem is similar to Two Sum problem. Here we can first sort the list and the use one, **for**, loop to sequenctially iterate thru the list and one, **while**, loop to implement 2 pointer method."
      ],
      "metadata": {
        "id": "p880c-_-PpB4"
      }
    },
    {
      "cell_type": "code",
      "source": [
        "def threesum(nums: List[int]) -> List[List[int]]:\n",
        "  res = []\n",
        "  nums.sort()\n",
        "\n",
        "  for i, a in enumerate(nums):\n",
        "    if i > 0 and a == nums[i-1]:\n",
        "      continue\n",
        "        \n",
        "    l, r = i+1, len(nums)-1\n",
        "    \n",
        "    while l < r:\n",
        "      sum = a + nums[l] + nums[r]\n",
        "      if sum > 0:\n",
        "        r -= 1\n",
        "      elif sum < 0:    \n",
        "        l += 1\n",
        "      else:\n",
        "        res.append([a, nums[l], nums[r]])\n",
        "        l += 1\n",
        "        while nums[l] == nums[l - 1] and l<r:\n",
        "          l += 1\n",
        "  print(res)\n",
        "  return res\n",
        "\n",
        "nums = [-1,0,1,2,-1,-4]\n",
        "threesum(nums)\n",
        "\n",
        "nums = [0,1,1]\n",
        "threesum(nums)\n",
        "\n",
        "nums = [0,0,0]\n",
        "threesum(nums)"
      ],
      "metadata": {
        "colab": {
          "base_uri": "https://localhost:8080/"
        },
        "id": "tWISrIuOPrkH",
        "outputId": "aa999abb-03d8-4742-f49c-11a998a1a704"
      },
      "execution_count": null,
      "outputs": [
        {
          "output_type": "stream",
          "name": "stdout",
          "text": [
            "[[-1, -1, 2], [-1, 0, 1]]\n",
            "[]\n",
            "[[0, 0, 0]]\n"
          ]
        },
        {
          "output_type": "execute_result",
          "data": {
            "text/plain": [
              "[[0, 0, 0]]"
            ]
          },
          "metadata": {},
          "execution_count": 3
        }
      ]
    },
    {
      "cell_type": "markdown",
      "source": [
        "**Container With Most Water**\n",
        "\n",
        "Since we are dealing with 2 elements of the same list we can use the 2 pointers here."
      ],
      "metadata": {
        "id": "tYJZCm3NwkdN"
      }
    },
    {
      "cell_type": "code",
      "source": [
        "def maxArea(height: List[int]) -> int:\n",
        "  area = []\n",
        "  l, r = 0, len(height) - 1\n",
        "\n",
        "  while l < r:\n",
        "    area.append(min(height[l], height[r]) * (r - l))\n",
        "    if height[l] < height[r]:\n",
        "      l += 1\n",
        "    else:\n",
        "      r -= 1\n",
        "  print(max(area))    \n",
        "\n",
        "\n",
        "height = [1,8,6,2,5,4,8,3,7]\n",
        "maxArea(height)\n",
        "\n",
        "height = [1,1]\n",
        "maxArea(height)\n"
      ],
      "metadata": {
        "colab": {
          "base_uri": "https://localhost:8080/"
        },
        "id": "2-s1_C8qzd-w",
        "outputId": "52f8cbae-3a6c-43e4-dc59-c2e2d941a0dc"
      },
      "execution_count": null,
      "outputs": [
        {
          "output_type": "stream",
          "name": "stdout",
          "text": [
            "49\n",
            "1\n"
          ]
        }
      ]
    },
    {
      "cell_type": "markdown",
      "source": [
        "**Trapping Rain Water**\n",
        "\n",
        "Using 2 pointers again and incrementing each pointer on certain condition."
      ],
      "metadata": {
        "id": "eICLW2vQ37bf"
      }
    },
    {
      "cell_type": "code",
      "source": [
        "def trap(self, height: List[int]) -> int:\n",
        "  l, r = 0, len(height) - 1\n",
        "  leftMax, rightMax = height[l], height[r]\n",
        "  res = 0\n",
        "  while l < r:\n",
        "      if leftMax < rightMax:\n",
        "          l += 1\n",
        "          leftMax = max(leftMax, height[l])\n",
        "          res += leftMax - height[l]\n",
        "      else:\n",
        "          r -= 1\n",
        "          rightMax = max(rightMax, height[r])\n",
        "          res += rightMax - height[r]\n",
        "  return res"
      ],
      "metadata": {
        "id": "74kBYRT73_qf"
      },
      "execution_count": null,
      "outputs": []
    },
    {
      "cell_type": "markdown",
      "source": [
        "**Best Time to Buy and Sell Stock**\n",
        "\n",
        "Using 2 pointers again and incrementing each pointer on certain condition."
      ],
      "metadata": {
        "id": "tjhwhkNjLzaw"
      }
    },
    {
      "cell_type": "code",
      "source": [
        "def maxProfit(prices: List[int]) -> int:\n",
        "  res = 0\n",
        "\n",
        "  l = 0\n",
        "  for r in range(1, len(prices)):\n",
        "      if prices[r] < prices[l]:\n",
        "          l = r\n",
        "      res = max(res, prices[r] - prices[l])\n",
        "\n",
        "  print(res)\n",
        "  return res\n",
        "\n",
        "prices = [7,1,5,3,6,4]  \n",
        "maxProfit(prices)\n",
        "\n",
        "prices = [7,6,4,3,1]\n",
        "maxProfit(prices)\n",
        "\n",
        "prices = [7,1,5,3,6,4,10,20]  \n",
        "maxProfit(prices)\n"
      ],
      "metadata": {
        "colab": {
          "base_uri": "https://localhost:8080/"
        },
        "id": "nfcYwC1bL1Xv",
        "outputId": "66151947-4b19-42b8-c3cd-00ea8d7136e4"
      },
      "execution_count": null,
      "outputs": [
        {
          "output_type": "stream",
          "name": "stdout",
          "text": [
            "5\n",
            "0\n",
            "19\n"
          ]
        },
        {
          "output_type": "execute_result",
          "data": {
            "text/plain": [
              "19"
            ]
          },
          "metadata": {},
          "execution_count": 8
        }
      ]
    },
    {
      "cell_type": "markdown",
      "source": [
        "**Longest Substring Without Repeating Characters**\n",
        "\n",
        "Since we are dealing with a substring, subarray or a portion of the array at a time. We can use sliding window technique here. In sliding window while the one pointer is iterating the other pointer only moves under certail condition."
      ],
      "metadata": {
        "id": "GnlB-ETMffTV"
      }
    },
    {
      "cell_type": "code",
      "source": [
        "def lengthOfLongestSubstring(s: str) -> int:\n",
        "  \n",
        "  charset = set()\n",
        "  l = 0\n",
        "  res = 0\n",
        "  for r in range(len(s)):\n",
        "    while s[r] in charset:\n",
        "      charset.remove(s[l])\n",
        "      l += 1\n",
        "    charset.add(s[r])\n",
        "    res = max(res, r-l+1)\n",
        "  return res\n"
      ],
      "metadata": {
        "id": "1o4blwrifg_8"
      },
      "execution_count": null,
      "outputs": []
    },
    {
      "cell_type": "markdown",
      "source": [
        "**Longest Repeating Character Replacement**\n",
        "\n",
        "Since we are dealing with the subset of the list we can use the sliding window here."
      ],
      "metadata": {
        "id": "MzThnKJoRvOW"
      }
    },
    {
      "cell_type": "code",
      "source": [
        "def characterReplacement(s: str, k: int) -> int:  \n",
        "  count = {}\n",
        "  res = 0\n",
        "  l = 0\n",
        "  for r in range(len(s)):\n",
        "    count[s[r]] = 1 + count.get(s[r], 0)\n",
        "\n",
        "    while(r - l + 1) - max(count.values()) > k:\n",
        "      count[s[l]] -= 1\n",
        "      l += 1\n",
        "    res = max(res, r-l+1)    \n",
        "  print(res)\n",
        "\n",
        "s = \"ABAB\"\n",
        "k = 2\n",
        "characterReplacement(s, k)\n",
        "\n",
        "s = \"AABABBA\"\n",
        "k = 1\n",
        "characterReplacement(s, k)"
      ],
      "metadata": {
        "colab": {
          "base_uri": "https://localhost:8080/"
        },
        "id": "QKQK9t2if7EG",
        "outputId": "15d998d2-0a70-444b-bf3c-1a08bbf0a4dd"
      },
      "execution_count": null,
      "outputs": [
        {
          "output_type": "stream",
          "name": "stdout",
          "text": [
            "4\n",
            "4\n"
          ]
        }
      ]
    },
    {
      "cell_type": "markdown",
      "source": [
        "**Permutation in String**\n",
        "\n",
        "Two things, 1: We are dealing with a subset of the list, using sliding for that. 2: We are dealing with characters so we are using a list of [0]*26."
      ],
      "metadata": {
        "id": "T215ufGWtll-"
      }
    },
    {
      "cell_type": "code",
      "source": [
        "def checkInclusion(s1: str, s2: str) -> bool:\n",
        "  if len(s1) > len(s2): return False\n",
        "\n",
        "  s1Count = [0]*26\n",
        "\n",
        "  for i in range(len(s1)):\n",
        "    s1Count[ord(s1[i]) - ord(\"a\")] += 1\n",
        "\n",
        "  print(s1Count)\n",
        "  \n",
        "  l, count = 0, 0\n",
        "  r = len(s1)\n",
        "\n",
        "  while r <= len(s2):\n",
        "    s2Count = [0]*26\n",
        "    while count < r:\n",
        "      s2Count[ord(s2[count]) - ord(\"a\")] += 1\n",
        "      count += 1\n",
        "    \n",
        "    print(s2Count)\n",
        "    if s1Count == s2Count: return True\n",
        "    \n",
        "    r += 1\n",
        "    l +=1\n",
        "    count = l\n",
        "  return False\n",
        "\n",
        "s1 = \"ab\"\n",
        "s2 = \"eidbaooo\"\n",
        "print(checkInclusion(s1, s2))\n",
        "\n",
        "s1 = \"ab\"\n",
        "s2 = \"eidboaoo\"\n",
        "print(checkInclusion(s1, s2))\n",
        "\n",
        "s1 = \"abc\"\n",
        "s2 = \"bbbca\"\n",
        "print(checkInclusion(s1, s2))"
      ],
      "metadata": {
        "colab": {
          "base_uri": "https://localhost:8080/"
        },
        "id": "ISr6sFZDncUU",
        "outputId": "ad50b6c0-5537-4b98-f822-472ec9a9ee4d"
      },
      "execution_count": null,
      "outputs": [
        {
          "output_type": "stream",
          "name": "stdout",
          "text": [
            "[1, 1, 0, 0, 0, 0, 0, 0, 0, 0, 0, 0, 0, 0, 0, 0, 0, 0, 0, 0, 0, 0, 0, 0, 0, 0]\n",
            "[0, 0, 0, 0, 1, 0, 0, 0, 1, 0, 0, 0, 0, 0, 0, 0, 0, 0, 0, 0, 0, 0, 0, 0, 0, 0]\n",
            "[0, 0, 0, 1, 0, 0, 0, 0, 1, 0, 0, 0, 0, 0, 0, 0, 0, 0, 0, 0, 0, 0, 0, 0, 0, 0]\n",
            "[0, 1, 0, 1, 0, 0, 0, 0, 0, 0, 0, 0, 0, 0, 0, 0, 0, 0, 0, 0, 0, 0, 0, 0, 0, 0]\n",
            "[1, 1, 0, 0, 0, 0, 0, 0, 0, 0, 0, 0, 0, 0, 0, 0, 0, 0, 0, 0, 0, 0, 0, 0, 0, 0]\n",
            "True\n",
            "[1, 1, 0, 0, 0, 0, 0, 0, 0, 0, 0, 0, 0, 0, 0, 0, 0, 0, 0, 0, 0, 0, 0, 0, 0, 0]\n",
            "[0, 0, 0, 0, 1, 0, 0, 0, 1, 0, 0, 0, 0, 0, 0, 0, 0, 0, 0, 0, 0, 0, 0, 0, 0, 0]\n",
            "[0, 0, 0, 1, 0, 0, 0, 0, 1, 0, 0, 0, 0, 0, 0, 0, 0, 0, 0, 0, 0, 0, 0, 0, 0, 0]\n",
            "[0, 1, 0, 1, 0, 0, 0, 0, 0, 0, 0, 0, 0, 0, 0, 0, 0, 0, 0, 0, 0, 0, 0, 0, 0, 0]\n",
            "[0, 1, 0, 0, 0, 0, 0, 0, 0, 0, 0, 0, 0, 0, 1, 0, 0, 0, 0, 0, 0, 0, 0, 0, 0, 0]\n",
            "[1, 0, 0, 0, 0, 0, 0, 0, 0, 0, 0, 0, 0, 0, 1, 0, 0, 0, 0, 0, 0, 0, 0, 0, 0, 0]\n",
            "[1, 0, 0, 0, 0, 0, 0, 0, 0, 0, 0, 0, 0, 0, 1, 0, 0, 0, 0, 0, 0, 0, 0, 0, 0, 0]\n",
            "[0, 0, 0, 0, 0, 0, 0, 0, 0, 0, 0, 0, 0, 0, 2, 0, 0, 0, 0, 0, 0, 0, 0, 0, 0, 0]\n",
            "False\n",
            "[1, 1, 1, 0, 0, 0, 0, 0, 0, 0, 0, 0, 0, 0, 0, 0, 0, 0, 0, 0, 0, 0, 0, 0, 0, 0]\n",
            "[0, 3, 0, 0, 0, 0, 0, 0, 0, 0, 0, 0, 0, 0, 0, 0, 0, 0, 0, 0, 0, 0, 0, 0, 0, 0]\n",
            "[0, 2, 1, 0, 0, 0, 0, 0, 0, 0, 0, 0, 0, 0, 0, 0, 0, 0, 0, 0, 0, 0, 0, 0, 0, 0]\n",
            "[1, 1, 1, 0, 0, 0, 0, 0, 0, 0, 0, 0, 0, 0, 0, 0, 0, 0, 0, 0, 0, 0, 0, 0, 0, 0]\n",
            "True\n"
          ]
        }
      ]
    },
    {
      "cell_type": "markdown",
      "source": [
        "**Minimum Window Substring**\n",
        "\n",
        "Using sliding window."
      ],
      "metadata": {
        "id": "4XaWQPuRWCsP"
      }
    },
    {
      "cell_type": "code",
      "source": [
        "def minWindow(s: str, t: str) -> str:\n",
        "  \n",
        "  if len(s) < len(t): return \"\"\n",
        "\n",
        "  l, r = 0, 0\n",
        "\n",
        "  while r < len(s):\n",
        "    for l in range(len(s)):    \n",
        "      if \"\".join(sorted(t)) in \"\".join(sorted(s[l:len(t) + r + l])):\n",
        "        return s[l:len(t) + r + l]\n",
        "    r += 1\n",
        "  return \"\"  \n",
        "\n",
        "s = \"ADOBECODEBANC\"\n",
        "t = \"ABC\"\n",
        "print(minWindow(s, t))\n",
        "\n",
        "s = \"a\"\n",
        "t = \"a\"\n",
        "print(minWindow(s, t))\n",
        "\n",
        "s = \"a\"\n",
        "t = \"aa\"\n",
        "print(minWindow(s, t))"
      ],
      "metadata": {
        "colab": {
          "base_uri": "https://localhost:8080/"
        },
        "id": "ttQp4e1f5u1N",
        "outputId": "cc774931-e6e9-4c71-db8d-15e2635655dc"
      },
      "execution_count": null,
      "outputs": [
        {
          "output_type": "stream",
          "name": "stdout",
          "text": [
            "BANC\n",
            "a\n",
            "\n"
          ]
        }
      ]
    },
    {
      "cell_type": "markdown",
      "source": [
        "**Valid Parentheses**\n",
        "\n",
        "Using Stack to pop the item in the top. "
      ],
      "metadata": {
        "id": "QQZUHkijyH1O"
      }
    },
    {
      "cell_type": "code",
      "source": [
        "def isValid(s: str) -> bool:\n",
        "  d = {\")\":\"(\", \"}\":\"{\", \"]\":\"[\"}\n",
        "  stack = []\n",
        "  for i in s:\n",
        "    if i in d:\n",
        "      if stack and stack[-1] == d[i]:\n",
        "        stack.pop()\n",
        "      else:\n",
        "        return False\n",
        "    else:\n",
        "      stack.append(i)\n",
        "  \n",
        "  return True if not stack else False\n",
        "\n",
        "s = \"()\"\n",
        "print(isValid(s))\n",
        "\n",
        "s = \"()[]{}\"\n",
        "print(isValid(s))\n",
        "\n",
        "s = \"(]\"\n",
        "print(isValid(s))"
      ],
      "metadata": {
        "colab": {
          "base_uri": "https://localhost:8080/"
        },
        "id": "WERpalbryK3N",
        "outputId": "8a29b98e-ecbe-4c11-e87f-7792fe48be14"
      },
      "execution_count": null,
      "outputs": [
        {
          "output_type": "stream",
          "name": "stdout",
          "text": [
            "True\n",
            "True\n",
            "False\n"
          ]
        }
      ]
    },
    {
      "cell_type": "markdown",
      "source": [
        "**Search in Rotated Sorted Array**"
      ],
      "metadata": {
        "id": "l255pwcr55o-"
      }
    },
    {
      "cell_type": "code",
      "source": [
        "from typing import List\n",
        "def search(nums: List[int], target: int) -> int:\n",
        "  l = 0\n",
        "  r = len(nums) - 1\n",
        "  m = len(nums)//2\n",
        "\n",
        "  if target < nums[l]:\n",
        "    l = m\n",
        "    m = (l+r)//2\n",
        "  else:\n",
        "    r = m    \n",
        "    m = (l+r)//2\n",
        "  \n",
        "  while l < r:\n",
        "    if target > nums[m]:\n",
        "      r = m - 1\n",
        "    elif target < nums[m]:\n",
        "      l = m + 1  \n",
        "    else: return m\n",
        "  return -1\n",
        "\n",
        "nums = [4,5,6,7,0,1,2]\n",
        "target = 0  \n",
        "print(search(nums, target))\n",
        "\n",
        "nums = [4,5,6,7,0,1,2]\n",
        "target = 3\n",
        "print(search(nums, target))\n",
        "\n",
        "nums = [1]\n",
        "target = 0\n",
        "print(search(nums, target))"
      ],
      "metadata": {
        "colab": {
          "base_uri": "https://localhost:8080/"
        },
        "id": "RWJdc6EZ8gn9",
        "outputId": "94adc56b-9678-4e07-8b16-7bbfdcfc1737"
      },
      "execution_count": null,
      "outputs": [
        {
          "output_type": "stream",
          "name": "stdout",
          "text": [
            "4\n",
            "-1\n",
            "-1\n"
          ]
        }
      ]
    },
    {
      "cell_type": "markdown",
      "source": [
        "**Find Minimum in Rotated Sorted Array**"
      ],
      "metadata": {
        "id": "t5lFnOW3Oy0J"
      }
    },
    {
      "cell_type": "code",
      "source": [
        "from typing import List\n",
        "def findMin(nums: List[int]) -> int:\n",
        "  l, r = 0, len(nums) - 1\n",
        "  minimum = 100000\n",
        "  while l < r:\n",
        "    m = (l+r)//2\n",
        "    minimum = min(minimum, nums[m])\n",
        "    if nums[l] < nums[r]:\n",
        "      r = m\n",
        "    elif nums[l] > nums[r]:\n",
        "      l = m\n",
        "  return minimum\n",
        "\n",
        "nums = [3,4,5,1,2]\n",
        "print(findMin(nums))\n",
        "\n",
        "nums = [4,5,6,7,0,1,2]\n",
        "print(findMin(nums))\n",
        "\n",
        "nums = [11,13,15,17]\n",
        "print(findMin(nums))"
      ],
      "metadata": {
        "colab": {
          "base_uri": "https://localhost:8080/"
        },
        "id": "mWD_i3eQPue0",
        "outputId": "25590173-29a6-4c05-f68e-cae4920ea53a"
      },
      "execution_count": null,
      "outputs": [
        {
          "output_type": "stream",
          "name": "stdout",
          "text": [
            "1\n",
            "0\n",
            "11\n"
          ]
        }
      ]
    },
    {
      "cell_type": "markdown",
      "source": [
        "**Reverse Linked List**\n",
        "\n",
        "To reverse a linked list we can simple reverse the link between the elements."
      ],
      "metadata": {
        "id": "5tloyg-YULch"
      }
    },
    {
      "cell_type": "code",
      "source": [
        "from typing import Optional\n",
        "class ListNode:\n",
        "    def __init__(self, val=0, next=None):\n",
        "        self.val = val\n",
        "        self.next = next\n",
        "\n",
        "class Solution:\n",
        "    def reverseList(self, head: Optional[ListNode]) -> Optional[ListNode]:\n",
        "      prev, curr = None, head\n",
        "      while curr:\n",
        "        nxt = curr.next\n",
        "        curr.next = prev\n",
        "        prev = curr\n",
        "        curr = nxt\n",
        "      return prev"
      ],
      "metadata": {
        "id": "HIN-vajaXarH"
      },
      "execution_count": null,
      "outputs": []
    }
  ]
}