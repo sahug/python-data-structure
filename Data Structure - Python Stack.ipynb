{
  "nbformat": 4,
  "nbformat_minor": 0,
  "metadata": {
    "colab": {
      "name": "Data Science Basics - Python Stack.ipynb",
      "provenance": [],
      "authorship_tag": "ABX9TyPR6JgpjcEjWWeDa1+oDk+n",
      "include_colab_link": true
    },
    "kernelspec": {
      "name": "python3",
      "display_name": "Python 3"
    },
    "language_info": {
      "name": "python"
    }
  },
  "cells": [
    {
      "cell_type": "markdown",
      "metadata": {
        "id": "view-in-github",
        "colab_type": "text"
      },
      "source": [
        "<a href=\"https://colab.research.google.com/github/sahug/python-data-structure/blob/main/Data%20Structure%20-%20Python%20Stack.ipynb\" target=\"_parent\"><img src=\"https://colab.research.google.com/assets/colab-badge.svg\" alt=\"Open In Colab\"/></a>"
      ]
    },
    {
      "cell_type": "markdown",
      "source": [
        "**Data Science Basics - Python Stack**"
      ],
      "metadata": {
        "id": "YNd6qH8iwJz2"
      }
    },
    {
      "cell_type": "markdown",
      "source": [
        "**Using a List**"
      ],
      "metadata": {
        "id": "y-zS6_M8wPpF"
      }
    },
    {
      "cell_type": "code",
      "execution_count": 1,
      "metadata": {
        "id": "lNXlE4VuwAEN"
      },
      "outputs": [],
      "source": [
        "s = []\n",
        "s.append('https://www.cnn.com/')\n",
        "s.append('https://www.cnn.com/world')\n",
        "s.append('https://www.cnn.com/india')\n",
        "s.append('https://www.cnn.com/china')"
      ]
    },
    {
      "cell_type": "code",
      "source": [
        "s.pop()"
      ],
      "metadata": {
        "colab": {
          "base_uri": "https://localhost:8080/",
          "height": 36
        },
        "id": "JoAQdO8lwT0J",
        "outputId": "102f22e8-d5a2-446f-c8b2-20f6fb9291c0"
      },
      "execution_count": 2,
      "outputs": [
        {
          "output_type": "execute_result",
          "data": {
            "text/plain": [
              "'https://www.cnn.com/china'"
            ],
            "application/vnd.google.colaboratory.intrinsic+json": {
              "type": "string"
            }
          },
          "metadata": {},
          "execution_count": 2
        }
      ]
    },
    {
      "cell_type": "code",
      "source": [
        "s.pop()"
      ],
      "metadata": {
        "colab": {
          "base_uri": "https://localhost:8080/",
          "height": 36
        },
        "id": "vfARms9DwV3d",
        "outputId": "434c8194-99b6-46b4-e186-a0e9794c196b"
      },
      "execution_count": 3,
      "outputs": [
        {
          "output_type": "execute_result",
          "data": {
            "text/plain": [
              "'https://www.cnn.com/india'"
            ],
            "application/vnd.google.colaboratory.intrinsic+json": {
              "type": "string"
            }
          },
          "metadata": {},
          "execution_count": 3
        }
      ]
    },
    {
      "cell_type": "code",
      "source": [
        "s.pop()"
      ],
      "metadata": {
        "colab": {
          "base_uri": "https://localhost:8080/",
          "height": 36
        },
        "id": "rabWJS2qwWnB",
        "outputId": "c35735c0-5a9b-4e2c-96cf-03618e63a433"
      },
      "execution_count": 4,
      "outputs": [
        {
          "output_type": "execute_result",
          "data": {
            "text/plain": [
              "'https://www.cnn.com/world'"
            ],
            "application/vnd.google.colaboratory.intrinsic+json": {
              "type": "string"
            }
          },
          "metadata": {},
          "execution_count": 4
        }
      ]
    },
    {
      "cell_type": "code",
      "source": [
        "s.pop()"
      ],
      "metadata": {
        "colab": {
          "base_uri": "https://localhost:8080/",
          "height": 36
        },
        "id": "rdpZSw98wXYW",
        "outputId": "fae300ad-1a36-4cb0-eaf6-b58c4c28705b"
      },
      "execution_count": 5,
      "outputs": [
        {
          "output_type": "execute_result",
          "data": {
            "text/plain": [
              "'https://www.cnn.com/'"
            ],
            "application/vnd.google.colaboratory.intrinsic+json": {
              "type": "string"
            }
          },
          "metadata": {},
          "execution_count": 5
        }
      ]
    },
    {
      "cell_type": "code",
      "source": [
        "s"
      ],
      "metadata": {
        "colab": {
          "base_uri": "https://localhost:8080/"
        },
        "id": "WgrytXE4xEiA",
        "outputId": "76f1a4bd-8a3f-4090-d387-77bfdcb06015"
      },
      "execution_count": 6,
      "outputs": [
        {
          "output_type": "execute_result",
          "data": {
            "text/plain": [
              "[]"
            ]
          },
          "metadata": {},
          "execution_count": 6
        }
      ]
    },
    {
      "cell_type": "markdown",
      "source": [
        "**Using collections.deque as a stack**"
      ],
      "metadata": {
        "id": "-htq_PpjwsMQ"
      }
    },
    {
      "cell_type": "code",
      "source": [
        "from collections import deque\n",
        "stack = deque()"
      ],
      "metadata": {
        "id": "XCT_7FwIwwKV"
      },
      "execution_count": 7,
      "outputs": []
    },
    {
      "cell_type": "code",
      "source": [
        "dir(stack)"
      ],
      "metadata": {
        "colab": {
          "base_uri": "https://localhost:8080/"
        },
        "id": "GailLqdXw4N4",
        "outputId": "8cb3bd91-804e-4e21-f6ed-327805eddcc3"
      },
      "execution_count": 8,
      "outputs": [
        {
          "output_type": "execute_result",
          "data": {
            "text/plain": [
              "['__add__',\n",
              " '__bool__',\n",
              " '__class__',\n",
              " '__contains__',\n",
              " '__copy__',\n",
              " '__delattr__',\n",
              " '__delitem__',\n",
              " '__dir__',\n",
              " '__doc__',\n",
              " '__eq__',\n",
              " '__format__',\n",
              " '__ge__',\n",
              " '__getattribute__',\n",
              " '__getitem__',\n",
              " '__gt__',\n",
              " '__hash__',\n",
              " '__iadd__',\n",
              " '__imul__',\n",
              " '__init__',\n",
              " '__init_subclass__',\n",
              " '__iter__',\n",
              " '__le__',\n",
              " '__len__',\n",
              " '__lt__',\n",
              " '__mul__',\n",
              " '__ne__',\n",
              " '__new__',\n",
              " '__reduce__',\n",
              " '__reduce_ex__',\n",
              " '__repr__',\n",
              " '__reversed__',\n",
              " '__rmul__',\n",
              " '__setattr__',\n",
              " '__setitem__',\n",
              " '__sizeof__',\n",
              " '__str__',\n",
              " '__subclasshook__',\n",
              " 'append',\n",
              " 'appendleft',\n",
              " 'clear',\n",
              " 'copy',\n",
              " 'count',\n",
              " 'extend',\n",
              " 'extendleft',\n",
              " 'index',\n",
              " 'insert',\n",
              " 'maxlen',\n",
              " 'pop',\n",
              " 'popleft',\n",
              " 'remove',\n",
              " 'reverse',\n",
              " 'rotate']"
            ]
          },
          "metadata": {},
          "execution_count": 8
        }
      ]
    },
    {
      "cell_type": "code",
      "source": [
        "stack.append(\"https://www.cnn.com/\")\n",
        "stack"
      ],
      "metadata": {
        "colab": {
          "base_uri": "https://localhost:8080/"
        },
        "id": "buQ3JYolw5Rh",
        "outputId": "a3ec47aa-22e1-4879-cdb2-fce89181b6e8"
      },
      "execution_count": 9,
      "outputs": [
        {
          "output_type": "execute_result",
          "data": {
            "text/plain": [
              "deque(['https://www.cnn.com/'])"
            ]
          },
          "metadata": {},
          "execution_count": 9
        }
      ]
    },
    {
      "cell_type": "code",
      "source": [
        "stack.append(\"https://www.cnn.com/world\")\n",
        "stack"
      ],
      "metadata": {
        "colab": {
          "base_uri": "https://localhost:8080/"
        },
        "id": "hU12i8Zyw8Sg",
        "outputId": "88bbd5d3-f5ff-4a84-9e4d-85a18bf27689"
      },
      "execution_count": 10,
      "outputs": [
        {
          "output_type": "execute_result",
          "data": {
            "text/plain": [
              "deque(['https://www.cnn.com/', 'https://www.cnn.com/world'])"
            ]
          },
          "metadata": {},
          "execution_count": 10
        }
      ]
    },
    {
      "cell_type": "code",
      "source": [
        "stack.append(\"https://www.cnn.com/india\")\n",
        "stack.append(\"https://www.cnn.com/china\")\n",
        "stack"
      ],
      "metadata": {
        "colab": {
          "base_uri": "https://localhost:8080/"
        },
        "id": "s5BQzgQHw-OK",
        "outputId": "f28a0130-aafc-4b0b-8d7b-d7c21f19322e"
      },
      "execution_count": 11,
      "outputs": [
        {
          "output_type": "execute_result",
          "data": {
            "text/plain": [
              "deque(['https://www.cnn.com/',\n",
              "       'https://www.cnn.com/world',\n",
              "       'https://www.cnn.com/india',\n",
              "       'https://www.cnn.com/china'])"
            ]
          },
          "metadata": {},
          "execution_count": 11
        }
      ]
    },
    {
      "cell_type": "code",
      "source": [
        "stack.pop()"
      ],
      "metadata": {
        "colab": {
          "base_uri": "https://localhost:8080/",
          "height": 36
        },
        "id": "68fqXq6iw_61",
        "outputId": "1275f652-0590-41e1-cee6-06f8523241da"
      },
      "execution_count": 12,
      "outputs": [
        {
          "output_type": "execute_result",
          "data": {
            "text/plain": [
              "'https://www.cnn.com/china'"
            ],
            "application/vnd.google.colaboratory.intrinsic+json": {
              "type": "string"
            }
          },
          "metadata": {},
          "execution_count": 12
        }
      ]
    },
    {
      "cell_type": "code",
      "source": [
        "stack.pop()"
      ],
      "metadata": {
        "colab": {
          "base_uri": "https://localhost:8080/",
          "height": 36
        },
        "id": "4MB3Vs8sxBAV",
        "outputId": "506b9565-e6ff-4b1d-fd84-49bd29fc5a18"
      },
      "execution_count": 13,
      "outputs": [
        {
          "output_type": "execute_result",
          "data": {
            "text/plain": [
              "'https://www.cnn.com/india'"
            ],
            "application/vnd.google.colaboratory.intrinsic+json": {
              "type": "string"
            }
          },
          "metadata": {},
          "execution_count": 13
        }
      ]
    },
    {
      "cell_type": "code",
      "source": [
        "stack"
      ],
      "metadata": {
        "colab": {
          "base_uri": "https://localhost:8080/"
        },
        "id": "_7p1SwL6xCKI",
        "outputId": "c64f8214-2183-433b-e353-b1061f72671f"
      },
      "execution_count": 14,
      "outputs": [
        {
          "output_type": "execute_result",
          "data": {
            "text/plain": [
              "deque(['https://www.cnn.com/', 'https://www.cnn.com/world'])"
            ]
          },
          "metadata": {},
          "execution_count": 14
        }
      ]
    },
    {
      "cell_type": "code",
      "source": [
        "stack.pop()"
      ],
      "metadata": {
        "colab": {
          "base_uri": "https://localhost:8080/",
          "height": 36
        },
        "id": "YuYAs5udxIrd",
        "outputId": "881d6018-e06b-4d28-dc00-4ad80a280240"
      },
      "execution_count": 15,
      "outputs": [
        {
          "output_type": "execute_result",
          "data": {
            "text/plain": [
              "'https://www.cnn.com/world'"
            ],
            "application/vnd.google.colaboratory.intrinsic+json": {
              "type": "string"
            }
          },
          "metadata": {},
          "execution_count": 15
        }
      ]
    },
    {
      "cell_type": "code",
      "source": [
        "stack.pop()"
      ],
      "metadata": {
        "colab": {
          "base_uri": "https://localhost:8080/",
          "height": 36
        },
        "id": "89taV9d-xJZJ",
        "outputId": "b5b4c0d6-b1c9-40d7-ac0f-b66db29e3417"
      },
      "execution_count": 16,
      "outputs": [
        {
          "output_type": "execute_result",
          "data": {
            "text/plain": [
              "'https://www.cnn.com/'"
            ],
            "application/vnd.google.colaboratory.intrinsic+json": {
              "type": "string"
            }
          },
          "metadata": {},
          "execution_count": 16
        }
      ]
    },
    {
      "cell_type": "markdown",
      "source": [
        "**Implement Stack class using a deque**"
      ],
      "metadata": {
        "id": "qRyzurFexSjV"
      }
    },
    {
      "cell_type": "code",
      "source": [
        "class Stack:\n",
        "    def __init__(self):\n",
        "        self.container = deque()\n",
        "    \n",
        "    def push(self,val):\n",
        "        self.container.append(val)\n",
        "        \n",
        "    def pop(self):\n",
        "        return self.container.pop()\n",
        "    \n",
        "    def peek(self):\n",
        "        return  self.container[-1]\n",
        "    \n",
        "    def is_empty(self):\n",
        "        return len(self.container)==0\n",
        "    \n",
        "    def size(self):\n",
        "        return len(self.container)\n",
        "\n",
        "\n",
        "def reverse_string(s):\n",
        "    stack = Stack()\n",
        "\n",
        "    for ch in s:\n",
        "        stack.push(ch)\n",
        "\n",
        "    rev_str = ''\n",
        "    while stack.size()!=0:\n",
        "        rev_str += stack.pop()\n",
        "\n",
        "    return rev_str\n",
        "\n",
        "\n",
        "def is_match(ch1, ch2):\n",
        "    match_dict = {\n",
        "        ')': '(',\n",
        "        ']': '[',\n",
        "        '}': '{'\n",
        "    }\n",
        "    return match_dict[ch1] == ch2\n",
        "\n",
        "\n",
        "def is_balanced(s):\n",
        "    stack = Stack()\n",
        "    for ch in s:\n",
        "        if ch=='(' or ch=='{' or ch == '[':\n",
        "            stack.push(ch)\n",
        "        if ch==')' or ch=='}' or ch == ']':\n",
        "            if stack.size()==0:\n",
        "                return False\n",
        "            if not is_match(ch,stack.pop()):\n",
        "                return False\n",
        "\n",
        "    return stack.size()==0"
      ],
      "metadata": {
        "id": "__D96coYxUNB"
      },
      "execution_count": 28,
      "outputs": []
    },
    {
      "cell_type": "code",
      "source": [
        "s = Stack()\n",
        "s.push(5)"
      ],
      "metadata": {
        "id": "Jn6Zpt6jxV0n"
      },
      "execution_count": 18,
      "outputs": []
    },
    {
      "cell_type": "code",
      "source": [
        "s.is_empty()"
      ],
      "metadata": {
        "colab": {
          "base_uri": "https://localhost:8080/"
        },
        "id": "MZbR57ZPxXrg",
        "outputId": "7312e1c9-3ff0-498d-a0c4-071ccf3d78f1"
      },
      "execution_count": 19,
      "outputs": [
        {
          "output_type": "execute_result",
          "data": {
            "text/plain": [
              "False"
            ]
          },
          "metadata": {},
          "execution_count": 19
        }
      ]
    },
    {
      "cell_type": "code",
      "source": [
        "s.pop()"
      ],
      "metadata": {
        "colab": {
          "base_uri": "https://localhost:8080/"
        },
        "id": "QoCwKwyYxY3W",
        "outputId": "bb36c5ce-8e4c-47fb-b3a9-1b241cee77a5"
      },
      "execution_count": 20,
      "outputs": [
        {
          "output_type": "execute_result",
          "data": {
            "text/plain": [
              "5"
            ]
          },
          "metadata": {},
          "execution_count": 20
        }
      ]
    },
    {
      "cell_type": "code",
      "source": [
        "s.is_empty()"
      ],
      "metadata": {
        "colab": {
          "base_uri": "https://localhost:8080/"
        },
        "id": "7OvAHItpxaLm",
        "outputId": "d4adb176-bcd5-48ec-e660-e3a3d16f6025"
      },
      "execution_count": 21,
      "outputs": [
        {
          "output_type": "execute_result",
          "data": {
            "text/plain": [
              "True"
            ]
          },
          "metadata": {},
          "execution_count": 21
        }
      ]
    },
    {
      "cell_type": "code",
      "source": [
        "s.push(9)\n",
        "s.push(34)\n",
        "s.push(78)\n",
        "s.push(12)"
      ],
      "metadata": {
        "id": "4d1nrUp1xbjV"
      },
      "execution_count": 22,
      "outputs": []
    },
    {
      "cell_type": "code",
      "source": [
        "s.peek()"
      ],
      "metadata": {
        "colab": {
          "base_uri": "https://localhost:8080/"
        },
        "id": "nZt4EZpFxbqS",
        "outputId": "2b4f1c76-fd83-403c-d58f-b72b7bb1b513"
      },
      "execution_count": 23,
      "outputs": [
        {
          "output_type": "execute_result",
          "data": {
            "text/plain": [
              "12"
            ]
          },
          "metadata": {},
          "execution_count": 23
        }
      ]
    },
    {
      "cell_type": "code",
      "source": [
        "s.pop()"
      ],
      "metadata": {
        "colab": {
          "base_uri": "https://localhost:8080/"
        },
        "id": "DIVgRVTIxenm",
        "outputId": "d0861481-6350-4b26-a70e-364ea213a737"
      },
      "execution_count": 24,
      "outputs": [
        {
          "output_type": "execute_result",
          "data": {
            "text/plain": [
              "12"
            ]
          },
          "metadata": {},
          "execution_count": 24
        }
      ]
    },
    {
      "cell_type": "code",
      "source": [
        "s.pop()"
      ],
      "metadata": {
        "colab": {
          "base_uri": "https://localhost:8080/"
        },
        "id": "b4cBAskixfgL",
        "outputId": "a564ee47-1714-4cb5-c418-428a252f95c4"
      },
      "execution_count": 25,
      "outputs": [
        {
          "output_type": "execute_result",
          "data": {
            "text/plain": [
              "78"
            ]
          },
          "metadata": {},
          "execution_count": 25
        }
      ]
    },
    {
      "cell_type": "markdown",
      "source": [
        "Write a function in python that can reverse a string using stack data structure. Use Stack class from the tutorial.\n",
        "\n",
        "`reverse_string(\"We will conquere COVID-19\") should return \"91-DIVOC ereuqnoc lliw eW\"`"
      ],
      "metadata": {
        "id": "gbVVrRtiQpob"
      }
    },
    {
      "cell_type": "code",
      "source": [
        "print(reverse_string(\"We will conquere COVI-19\"))"
      ],
      "metadata": {
        "id": "MyrjxKFbQuLX",
        "outputId": "8e5a7753-c068-469b-e354-986820c8ebb6",
        "colab": {
          "base_uri": "https://localhost:8080/"
        }
      },
      "execution_count": 27,
      "outputs": [
        {
          "output_type": "stream",
          "name": "stdout",
          "text": [
            "91-IVOC ereuqnoc lliw eW\n"
          ]
        }
      ]
    },
    {
      "cell_type": "markdown",
      "source": [
        "Write a function in python that checks if paranthesis in the string are balanced or not. Possible parantheses are \"{}',\"()\" or \"[]\". Use Stack class from the tutorial."
      ],
      "metadata": {
        "id": "sKB05nRsRsDv"
      }
    },
    {
      "cell_type": "code",
      "source": [
        "if __name__ == '__main__':\n",
        "    print(is_balanced(\"({a+b})\"))\n",
        "    print(is_balanced(\"))((a+b}{\"))\n",
        "    print(is_balanced(\"((a+b))\"))\n",
        "    print(is_balanced(\"((a+g))\"))\n",
        "    print(is_balanced(\"))\"))\n",
        "    print(is_balanced(\"[a+b]*(x+2y)*{gg+kk}\"))"
      ],
      "metadata": {
        "id": "fxCUzq8URt7A",
        "outputId": "2f6c3eb0-68f3-424b-93b8-a5b7bee7b0a4",
        "colab": {
          "base_uri": "https://localhost:8080/"
        }
      },
      "execution_count": 29,
      "outputs": [
        {
          "output_type": "stream",
          "name": "stdout",
          "text": [
            "True\n",
            "False\n",
            "True\n",
            "True\n",
            "False\n",
            "True\n"
          ]
        }
      ]
    }
  ]
}