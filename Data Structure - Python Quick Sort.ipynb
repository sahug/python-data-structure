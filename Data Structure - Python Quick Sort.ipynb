{
  "nbformat": 4,
  "nbformat_minor": 0,
  "metadata": {
    "colab": {
      "name": "Data Structure - Python Quick Sort.ipynb",
      "provenance": [],
      "authorship_tag": "ABX9TyOCgSwd8x4JwUd+HuEXbroB",
      "include_colab_link": true
    },
    "kernelspec": {
      "name": "python3",
      "display_name": "Python 3"
    },
    "language_info": {
      "name": "python"
    }
  },
  "cells": [
    {
      "cell_type": "markdown",
      "metadata": {
        "id": "view-in-github",
        "colab_type": "text"
      },
      "source": [
        "<a href=\"https://colab.research.google.com/github/sahug/python-data-structure/blob/main/Data%20Structure%20-%20Python%20Quick%20Sort.ipynb\" target=\"_parent\"><img src=\"https://colab.research.google.com/assets/colab-badge.svg\" alt=\"Open In Colab\"/></a>"
      ]
    },
    {
      "cell_type": "markdown",
      "source": [
        "**Data Structure - Python Quick Sort**"
      ],
      "metadata": {
        "id": "YNd6qH8iwJz2"
      }
    },
    {
      "cell_type": "code",
      "source": [
        "def swap(a, b, arr):\n",
        "  # Smart way of swapping\n",
        "  # arr[a], arr[b] = arr[b], arr[a]\n",
        "\n",
        "  # Tradiotional way of swaping\n",
        "  if a != b:\n",
        "    temp = arr[a]\n",
        "    arr[a] = arr[b]\n",
        "    arr[b] = temp"
      ],
      "metadata": {
        "id": "XzZWOgsN84Ty"
      },
      "execution_count": 1,
      "outputs": []
    },
    {
      "cell_type": "code",
      "source": [
        "def partition(elements, start, end):\n",
        "  pivot_index = start\n",
        "  pivot = elements[pivot_index]\n",
        "\n",
        "  while start < end:\n",
        "      while start < len(elements) and elements[start] <= pivot:\n",
        "          start+=1\n",
        "\n",
        "      while elements[end] > pivot:\n",
        "          end-=1\n",
        "\n",
        "      if start < end:\n",
        "          swap(start, end, elements)\n",
        "\n",
        "  swap(pivot_index, end, elements)\n",
        "\n",
        "  return end\n"
      ],
      "metadata": {
        "id": "JRSdcTan8A3A"
      },
      "execution_count": 2,
      "outputs": []
    },
    {
      "cell_type": "code",
      "source": [
        "def quick_sort(elements, start, end):\n",
        "  if start < end:\n",
        "    pi = partition(elements, start, end) # Partition Index\n",
        "    quick_sort(elements, start, pi - 1) # Left partition\n",
        "    quick_sort(elements, pi + 1, end) # Right Partition"
      ],
      "metadata": {
        "id": "Nuq1oa6g7ks5"
      },
      "execution_count": 3,
      "outputs": []
    },
    {
      "cell_type": "code",
      "source": [
        "if __name__ == \"__main__\":\n",
        "  elements = [11, 9, 29, 7, 2, 15, 28]\n",
        "  quick_sort(elements, 0, len(elements) - 1)\n",
        "  print(elements)"
      ],
      "metadata": {
        "colab": {
          "base_uri": "https://localhost:8080/"
        },
        "id": "vnpHKWuI7qnt",
        "outputId": "882a023f-0c74-4900-950e-e37cefc5eeb2"
      },
      "execution_count": 4,
      "outputs": [
        {
          "output_type": "stream",
          "name": "stdout",
          "text": [
            "[2, 7, 9, 11, 15, 28, 29]\n"
          ]
        }
      ]
    },
    {
      "cell_type": "code",
      "source": [
        "if __name__ == \"__main__\":\n",
        "  tests = [\n",
        "          [11,9,29,7,2,15,28],\n",
        "          [3, 7, 9, 11],\n",
        "          [25, 22, 21, 10],\n",
        "          [29, 15, 28],\n",
        "          [],\n",
        "          [6]\n",
        "      ]\n",
        "\n",
        "  for elements in tests:\n",
        "      quick_sort(elements, 0, len(elements)-1)\n",
        "      print(f'sorted array: {elements}')"
      ],
      "metadata": {
        "colab": {
          "base_uri": "https://localhost:8080/"
        },
        "id": "EZdqQSLaCPpQ",
        "outputId": "de2311bb-0d3f-4dfd-9be2-89a48b467c46"
      },
      "execution_count": 5,
      "outputs": [
        {
          "output_type": "stream",
          "name": "stdout",
          "text": [
            "sorted array: [2, 7, 9, 11, 15, 28, 29]\n",
            "sorted array: [3, 7, 9, 11]\n",
            "sorted array: [10, 21, 22, 25]\n",
            "sorted array: [15, 28, 29]\n",
            "sorted array: []\n",
            "sorted array: [6]\n"
          ]
        }
      ]
    }
  ]
}