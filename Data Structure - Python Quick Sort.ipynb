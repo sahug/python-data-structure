{
  "nbformat": 4,
  "nbformat_minor": 0,
  "metadata": {
    "colab": {
      "name": "Data Structure - Python Quick Sort.ipynb",
      "provenance": [],
      "authorship_tag": "ABX9TyOnhvP5MVw1wy/BEVxVeo+e",
      "include_colab_link": true
    },
    "kernelspec": {
      "name": "python3",
      "display_name": "Python 3"
    },
    "language_info": {
      "name": "python"
    }
  },
  "cells": [
    {
      "cell_type": "markdown",
      "metadata": {
        "id": "view-in-github",
        "colab_type": "text"
      },
      "source": [
        "<a href=\"https://colab.research.google.com/github/sahug/python-data-structure/blob/main/Data%20Structure%20-%20Python%20Quick%20Sort.ipynb\" target=\"_parent\"><img src=\"https://colab.research.google.com/assets/colab-badge.svg\" alt=\"Open In Colab\"/></a>"
      ]
    },
    {
      "cell_type": "markdown",
      "source": [
        "**Data Structure - Python Quick Sort**"
      ],
      "metadata": {
        "id": "YNd6qH8iwJz2"
      }
    },
    {
      "cell_type": "code",
      "source": [
        "def swap(a, b, arr):\n",
        "  # Smart way of swapping\n",
        "  # arr[a], arr[b] = arr[b], arr[a]\n",
        "\n",
        "  # Tradiotional way of swaping\n",
        "  if a != b:\n",
        "    temp = arr[a]\n",
        "    arr[a] = arr[b]\n",
        "    arr[b] = temp"
      ],
      "metadata": {
        "id": "XzZWOgsN84Ty"
      },
      "execution_count": 8,
      "outputs": []
    },
    {
      "cell_type": "code",
      "source": [
        "def hoare_partition(elements, start, end):\n",
        "  pivot_index = start\n",
        "  pivot = elements[pivot_index]\n",
        "\n",
        "  while start < end:\n",
        "      while start < len(elements) and elements[start] <= pivot:\n",
        "          start+=1\n",
        "\n",
        "      while elements[end] > pivot:\n",
        "          end-=1\n",
        "\n",
        "      if start < end:\n",
        "          swap(start, end, elements)\n",
        "\n",
        "  swap(pivot_index, end, elements)\n",
        "\n",
        "  return end\n"
      ],
      "metadata": {
        "id": "JRSdcTan8A3A"
      },
      "execution_count": 6,
      "outputs": []
    },
    {
      "cell_type": "code",
      "source": [
        "def loumuto_partition(elements, start, end):\n",
        "    pivot = elements[end]\n",
        "    p_index = start\n",
        "\n",
        "    for i in range(start, end):\n",
        "        if elements[i] <= pivot:\n",
        "            swap(i, p_index, elements)\n",
        "            p_index += 1\n",
        "\n",
        "    swap(p_index, end, elements)\n",
        "\n",
        "    return p_index"
      ],
      "metadata": {
        "id": "o5_2gBW1rnSV"
      },
      "execution_count": 17,
      "outputs": []
    },
    {
      "cell_type": "markdown",
      "source": [
        "**Using Hoare Partition**"
      ],
      "metadata": {
        "id": "E1SjzbfXsAAN"
      }
    },
    {
      "cell_type": "code",
      "source": [
        "def quick_sort(elements, start, end):\n",
        "  if len(elements) == 1:\n",
        "    return\n",
        "\n",
        "  if start < end:\n",
        "    pi = hoare_partition(elements, start, end) # Partition Index\n",
        "    quick_sort(elements, start, pi - 1) # Left partition\n",
        "    quick_sort(elements, pi + 1, end) # Right Partition"
      ],
      "metadata": {
        "id": "Nuq1oa6g7ks5"
      },
      "execution_count": 5,
      "outputs": []
    },
    {
      "cell_type": "code",
      "source": [
        "if __name__ == \"__main__\":\n",
        "  elements = [11, 9, 29, 7, 2, 15, 28]\n",
        "  quick_sort(elements, 0, len(elements) - 1)\n",
        "  print(elements)"
      ],
      "metadata": {
        "colab": {
          "base_uri": "https://localhost:8080/"
        },
        "id": "vnpHKWuI7qnt",
        "outputId": "b10261b8-a13e-46a3-d3bc-321e23a6f6ae"
      },
      "execution_count": 9,
      "outputs": [
        {
          "output_type": "stream",
          "name": "stdout",
          "text": [
            "[2, 7, 9, 11, 15, 28, 29]\n"
          ]
        }
      ]
    },
    {
      "cell_type": "code",
      "source": [
        "if __name__ == \"__main__\":\n",
        "  tests = [\n",
        "          [11,9,29,7,2,15,28],\n",
        "          [3, 7, 9, 11],\n",
        "          [25, 22, 21, 10],\n",
        "          [29, 15, 28],\n",
        "          [],\n",
        "          [6]\n",
        "      ]\n",
        "\n",
        "  for elements in tests:\n",
        "      quick_sort(elements, 0, len(elements)-1)\n",
        "      print(f'sorted array: {elements}')"
      ],
      "metadata": {
        "colab": {
          "base_uri": "https://localhost:8080/"
        },
        "id": "EZdqQSLaCPpQ",
        "outputId": "de2311bb-0d3f-4dfd-9be2-89a48b467c46"
      },
      "execution_count": null,
      "outputs": [
        {
          "output_type": "stream",
          "name": "stdout",
          "text": [
            "sorted array: [2, 7, 9, 11, 15, 28, 29]\n",
            "sorted array: [3, 7, 9, 11]\n",
            "sorted array: [10, 21, 22, 25]\n",
            "sorted array: [15, 28, 29]\n",
            "sorted array: []\n",
            "sorted array: [6]\n"
          ]
        }
      ]
    },
    {
      "cell_type": "markdown",
      "source": [
        "**Using Loumuto Partition**"
      ],
      "metadata": {
        "id": "U785yPiMsFKC"
      }
    },
    {
      "cell_type": "code",
      "source": [
        "def quick_sort(elements, start, end):\n",
        "  if len(elements) == 1:\n",
        "    return\n",
        "\n",
        "  if start < end:\n",
        "    pi = loumuto_partition(elements, start, end) # Partition Index\n",
        "    quick_sort(elements, start, pi - 1) # Left partition\n",
        "    quick_sort(elements, pi + 1, end) # Right Partition"
      ],
      "metadata": {
        "id": "ixCtfioRsFKD"
      },
      "execution_count": 19,
      "outputs": []
    },
    {
      "cell_type": "code",
      "source": [
        "if __name__ == \"__main__\":\n",
        "  elements = [11, 9, 29, 7, 2, 15, 28]\n",
        "  quick_sort(elements, 0, len(elements) - 1) \n",
        "  print(elements)"
      ],
      "metadata": {
        "colab": {
          "base_uri": "https://localhost:8080/"
        },
        "outputId": "658290b5-8e07-4b9e-df27-c86a28bd3d87",
        "id": "1kCM4p63sFKE"
      },
      "execution_count": 20,
      "outputs": [
        {
          "output_type": "stream",
          "name": "stdout",
          "text": [
            "[2, 7, 9, 11, 15, 28, 29]\n"
          ]
        }
      ]
    },
    {
      "cell_type": "code",
      "source": [
        "if __name__ == \"__main__\":\n",
        "  tests = [\n",
        "          [11,9,29,7,2,15,28],\n",
        "          [3, 7, 9, 11],\n",
        "          [25, 22, 21, 10],\n",
        "          [29, 15, 28],\n",
        "          [],\n",
        "          [6]\n",
        "      ]\n",
        "\n",
        "  for elements in tests:\n",
        "      quick_sort(elements, 0, len(elements)-1)\n",
        "      print(f'sorted array: {elements}')"
      ],
      "metadata": {
        "colab": {
          "base_uri": "https://localhost:8080/"
        },
        "outputId": "6ab82c68-95ee-46b0-bf11-70a32df2588c",
        "id": "w7LeqZtYsFKF"
      },
      "execution_count": 21,
      "outputs": [
        {
          "output_type": "stream",
          "name": "stdout",
          "text": [
            "sorted array: [2, 7, 9, 11, 15, 28, 29]\n",
            "sorted array: [3, 7, 9, 11]\n",
            "sorted array: [10, 21, 22, 25]\n",
            "sorted array: [15, 28, 29]\n",
            "sorted array: []\n",
            "sorted array: [6]\n"
          ]
        }
      ]
    }
  ]
}