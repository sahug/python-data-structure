{
  "nbformat": 4,
  "nbformat_minor": 0,
  "metadata": {
    "colab": {
      "name": "Data Structure - Python Insertion Sort.ipynb",
      "provenance": [],
      "authorship_tag": "ABX9TyMq3DujZpyJxGADWGl0hLWa",
      "include_colab_link": true
    },
    "kernelspec": {
      "name": "python3",
      "display_name": "Python 3"
    },
    "language_info": {
      "name": "python"
    }
  },
  "cells": [
    {
      "cell_type": "markdown",
      "metadata": {
        "id": "view-in-github",
        "colab_type": "text"
      },
      "source": [
        "<a href=\"https://colab.research.google.com/github/sahug/python-data-structure/blob/main/Data%20Structure%20-%20Python%20Insertion%20Sort.ipynb\" target=\"_parent\"><img src=\"https://colab.research.google.com/assets/colab-badge.svg\" alt=\"Open In Colab\"/></a>"
      ]
    },
    {
      "cell_type": "markdown",
      "source": [
        "**Data Structure - Python Insertion Sort**"
      ],
      "metadata": {
        "id": "YNd6qH8iwJz2"
      }
    },
    {
      "cell_type": "code",
      "source": [
        "def insertion_sort(elements):\n",
        "  for i in range(1, len(elements)):\n",
        "    anchor = elements[i]\n",
        "    j = i - 1\n",
        "    while j >= 0 and anchor < elements[j]:\n",
        "      elements[j+1] = elements[j]\n",
        "      j = j - 1\n",
        "    elements[j+1] = anchor\n",
        "    pass"
      ],
      "metadata": {
        "id": "p85FPF7Mc6MC"
      },
      "execution_count": null,
      "outputs": []
    },
    {
      "cell_type": "code",
      "source": [
        "if __name__ == \"__main__\":\n",
        "  elements = [11, 9, 29, 7, 2, 15, 28]\n",
        "  insertion_sort(elements)\n",
        "  print(elements)"
      ],
      "metadata": {
        "colab": {
          "base_uri": "https://localhost:8080/"
        },
        "id": "mpg3IMfidBFr",
        "outputId": "c2d50be9-dc02-476f-d89e-06dead1602dc"
      },
      "execution_count": null,
      "outputs": [
        {
          "output_type": "stream",
          "name": "stdout",
          "text": [
            "[2, 7, 9, 11, 15, 28, 29]\n"
          ]
        }
      ]
    },
    {
      "cell_type": "code",
      "source": [
        "if __name__ == \"__main__\":\n",
        "  tests = [\n",
        "          [11,9,29,7,2,15,28],\n",
        "          [3, 7, 9, 11],\n",
        "          [25, 22, 21, 10],\n",
        "          [29, 15, 28],\n",
        "          [],\n",
        "          [6]\n",
        "      ]\n",
        "\n",
        "  for elements in tests:\n",
        "    insertion_sort(elements)\n",
        "    print(elements)"
      ],
      "metadata": {
        "colab": {
          "base_uri": "https://localhost:8080/"
        },
        "id": "xJTLvgBTepnw",
        "outputId": "13d9a009-1d96-42f2-dbc4-5c7e79beae38"
      },
      "execution_count": null,
      "outputs": [
        {
          "output_type": "stream",
          "name": "stdout",
          "text": [
            "[2, 7, 9, 11, 15, 28, 29]\n",
            "[3, 7, 9, 11]\n",
            "[10, 21, 22, 25]\n",
            "[15, 28, 29]\n",
            "[]\n",
            "[6]\n"
          ]
        }
      ]
    },
    {
      "cell_type": "markdown",
      "source": [
        "Compute the running median of a sequence of numbers. That is, given a stream of numbers, print out the median of the list so far on each new element.\n",
        "\n",
        "Recall that the median of an even-numbered list is the average of the two middle numbers in a sorted list.\n",
        "\n",
        "For example, given the sequence `[2, 1, 5, 7, 2, 0, 5]`, your algorithm should print out:\n",
        "\n",
        "```\n",
        "2\n",
        "1.5\n",
        "2\n",
        "3.5\n",
        "2\n",
        "2\n",
        "2\n",
        "\n",
        "```\n",
        "\n"
      ],
      "metadata": {
        "id": "SQyuGFl60HfW"
      }
    },
    {
      "cell_type": "code",
      "source": [
        "def place_to_insert(array, key):\n",
        "    index = 0\n",
        "    for i in array:\n",
        "        if i > key:\n",
        "            break\n",
        "        else:\n",
        "            index += 1\n",
        "    return index\n",
        "\n",
        "\n",
        "def insert_to_sorted(array, key):\n",
        "    index = place_to_insert(array, key)\n",
        "    return array[0:index]+[key]+array[index:]\n",
        "\n",
        "\n",
        "if __name__ == \"__main__\":\n",
        "    array = [2, 1, 5, 7, 2, 0, 5]\n",
        "\n",
        "    stream = []\n",
        "\n",
        "    count = 0\n",
        "    while(True):\n",
        "        i = int(input())\n",
        "        count += 1\n",
        "        stream = insert_to_sorted(stream, i)\n",
        "        if count % 2 == 1:\n",
        "            print(f\"Median of {stream} : {stream[(count)//2]}\")\n",
        "        else:\n",
        "            i1 = count//2\n",
        "            i2 = (count//2) - 1\n",
        "            print(f\"Median of {stream} : {(stream[i1] + stream[i2])/2}\")"
      ],
      "metadata": {
        "id": "8bno48Cq0km5"
      },
      "execution_count": null,
      "outputs": []
    }
  ]
}