{
  "nbformat": 4,
  "nbformat_minor": 0,
  "metadata": {
    "colab": {
      "name": "Data Structure - Stack and Queue - Cracking Coding Interview.ipynb",
      "provenance": [],
      "collapsed_sections": [],
      "authorship_tag": "ABX9TyNFIFpfcJpQySWg7KCc90zk",
      "include_colab_link": true
    },
    "kernelspec": {
      "name": "python3",
      "display_name": "Python 3"
    },
    "language_info": {
      "name": "python"
    }
  },
  "cells": [
    {
      "cell_type": "markdown",
      "metadata": {
        "id": "view-in-github",
        "colab_type": "text"
      },
      "source": [
        "<a href=\"https://colab.research.google.com/github/sahug/python-data-structure/blob/main/%20Data%20Structure%20-%20Stack%20and%20Queue%20-%20Cracking%20Coding%20Interview.ipynb\" target=\"_parent\"><img src=\"https://colab.research.google.com/assets/colab-badge.svg\" alt=\"Open In Colab\"/></a>"
      ]
    },
    {
      "cell_type": "markdown",
      "source": [
        "**Data Structure - Stack and Queue - Cracking Coding Interview**"
      ],
      "metadata": {
        "id": "2F6zDz_-sr_z"
      }
    },
    {
      "cell_type": "markdown",
      "source": [
        "**Three in One**: Describe how you could use a single array to implement three stacks.\n",
        "\n",
        "We could simulate three stacks in an array by just allocating the first third of the array to \n",
        "the first stack, the second third to the second stack, and the final third to the third stack."
      ],
      "metadata": {
        "id": "VOHWPwZisxlb"
      }
    },
    {
      "cell_type": "markdown",
      "source": [
        "TBD"
      ],
      "metadata": {
        "id": "A23bc_7_vDlV"
      }
    },
    {
      "cell_type": "markdown",
      "source": [
        "**Stack Min:** How would you design a stack which, in addition to push and pop, has a function min which returns the minimum element? Push, pop and min should ail operate in 0(1) time. "
      ],
      "metadata": {
        "id": "B2Q_V91NtrjY"
      }
    },
    {
      "cell_type": "code",
      "source": [
        "# We can create Stack using an ArrayList for this problem.\n",
        "from collections import deque\n",
        "class ArrStack:\n",
        "\n",
        "  def __init__(self):\n",
        "    self.container = []\n",
        "\n",
        "  def push(self, element):\n",
        "    self.container.append(element)\n",
        "\n",
        "  def pop(self):\n",
        "    return self.container.pop()\n",
        "\n",
        "  def min(self):\n",
        "    self.container.sort()\n",
        "    return self.container[0]\n",
        "    \n",
        "  def view(self):\n",
        "    return self.container"
      ],
      "metadata": {
        "id": "HJDl5frmvE6-"
      },
      "execution_count": null,
      "outputs": []
    },
    {
      "cell_type": "code",
      "source": [
        "arr_stack = ArrStack()\n",
        "\n",
        "# Push \n",
        "arr_stack.push(4)\n",
        "arr_stack.push(3)\n",
        "arr_stack.push(1)\n",
        "arr_stack.push(2)\n",
        "print(arr_stack.view())\n",
        "\n",
        "#Pop\n",
        "arr_stack.pop()\n",
        "print(arr_stack.view())\n",
        "\n",
        "arr_stack.push(2)\n",
        "print(arr_stack.view())\n",
        "\n",
        "#Min\n",
        "print(arr_stack.min())\n",
        "print(arr_stack.view())"
      ],
      "metadata": {
        "colab": {
          "base_uri": "https://localhost:8080/"
        },
        "id": "Kh69e2PV5x4O",
        "outputId": "be1df331-5055-4182-f269-e7b33a5356a7"
      },
      "execution_count": null,
      "outputs": [
        {
          "output_type": "stream",
          "name": "stdout",
          "text": [
            "[4, 3, 1, 2]\n",
            "[4, 3, 1]\n",
            "[4, 3, 1, 2]\n",
            "1\n",
            "[1, 2, 3, 4]\n"
          ]
        }
      ]
    },
    {
      "cell_type": "markdown",
      "source": [
        "**Stack of Plates**: Imagine a (literal) stack of plates. If the stack gets too high, it might topple. Therefore, in real life, we would likely start a new stack when the previous stack exceeds some threshold. Implement a data structure **SetOfStacks** that mimics this. **SetOfStacks** should be composed of several stacks and should create a new stack once the previous one exceeds capacity. **SetOfStacks.push()** and **SetOfStacks.pop()** should behave identically to a single stack (that is, **pop()** should return the same values as it would if there were just a single stack). "
      ],
      "metadata": {
        "id": "31FQt9NL7dXj"
      }
    },
    {
      "cell_type": "code",
      "source": [
        "from collections import deque\n",
        "\n",
        "class StackOfPlates:\n",
        "  c = deque()\n",
        "\n",
        "  def __init__(self):\n",
        "    self.container = deque()\n",
        "\n",
        "\n",
        "  def size(self):\n",
        "    return len(self.container) \n",
        "\n",
        "\n",
        "  def push(self, element):   \n",
        "    # Check Length  \n",
        "    if self.size() > 3:\n",
        "      # Add previous Stack to Stacks\n",
        "      self.c.append(self.container) \n",
        "\n",
        "      # Create New Stack     \n",
        "      self.container = deque()\n",
        "\n",
        "      # Using Recurssion\n",
        "      self.push(element)                  \n",
        "    else:\n",
        "      # Keep adding to this Stack until the size is full\n",
        "      self.container.append(element)\n",
        "\n",
        "\n",
        "  def pop(self):\n",
        "    if self.size() in range(1, 5):\n",
        "      # Will the last Stack so has to pop first.\n",
        "      # STack is added to Stacks after it has 4 elements. I has less than 4 it will be in this stack. \n",
        "      self.container.pop() \n",
        "    else:  \n",
        "      if len(self.c) > 0:      \n",
        "        s = self.c.pop() # Pops Last Stack in Stacks\n",
        "        if len(s) > 0:\n",
        "          s.pop() # Pop element from this stack\n",
        "          self.c.append(s)            \n",
        "\n",
        "  def view(self):\n",
        "    return (self.container, self.c)"
      ],
      "metadata": {
        "id": "Cc9Fl7ca9RLb"
      },
      "execution_count": null,
      "outputs": []
    },
    {
      "cell_type": "code",
      "source": [
        "stack_of_plates = StackOfPlates()"
      ],
      "metadata": {
        "id": "FEnBp8n_YxtY"
      },
      "execution_count": null,
      "outputs": []
    },
    {
      "cell_type": "code",
      "source": [
        "# Push \n",
        "stack_of_plates.push(1)\n",
        "stack_of_plates.push(2)\n",
        "stack_of_plates.push(3)\n",
        "stack_of_plates.push(1)\n",
        "stack_of_plates.push(2)\n",
        "stack_of_plates.push(3)\n",
        "stack_of_plates.push(1)\n",
        "stack_of_plates.push(2)\n",
        "stack_of_plates.push(3)\n",
        "stack_of_plates.push(1)\n",
        "stack_of_plates.push(2)\n",
        "stack_of_plates.push(3)\n",
        "\n",
        "print(stack_of_plates.view())"
      ],
      "metadata": {
        "colab": {
          "base_uri": "https://localhost:8080/"
        },
        "id": "XItQIQ4LCHXx",
        "outputId": "ce468375-d8e8-4885-9a49-9f1e534df77e"
      },
      "execution_count": null,
      "outputs": [
        {
          "output_type": "stream",
          "name": "stdout",
          "text": [
            "(deque([3, 1, 2, 3]), deque([deque([1, 2, 3, 1]), deque([2, 3, 1, 2])]))\n"
          ]
        }
      ]
    },
    {
      "cell_type": "code",
      "source": [
        "stack_of_plates.pop()\n",
        "print(stack_of_plates.view())"
      ],
      "metadata": {
        "colab": {
          "base_uri": "https://localhost:8080/"
        },
        "id": "kafktdMUABrt",
        "outputId": "d3678d61-708a-4582-85e8-2bd18dda7e3f"
      },
      "execution_count": null,
      "outputs": [
        {
          "output_type": "stream",
          "name": "stdout",
          "text": [
            "(deque([3, 1, 2]), deque([deque([1, 2, 3, 1]), deque([2, 3, 1, 2])]))\n"
          ]
        }
      ]
    },
    {
      "cell_type": "markdown",
      "source": [
        "**Queue via Stacks**: Implement a MyQueue class which implements a queue using two stacks"
      ],
      "metadata": {
        "id": "CchcvkseeOoU"
      }
    },
    {
      "cell_type": "code",
      "source": [
        "from collections import deque\n",
        "import collections\n",
        "\n",
        "# We used 2 Stacks here 1. To push in Stack way 2. To Pop in Queue way.\n",
        "\n",
        "class MyQueue:\n",
        "\n",
        "  def __init__(self):\n",
        "    self.container = deque()\n",
        "\n",
        "  def size(self):\n",
        "    return len(self.container)\n",
        "\n",
        "  def push(self, element):\n",
        "    self.container.append(element)\n",
        "  \n",
        "  def getElementIndex(self, index):\n",
        "    return self.container.index(index)\n",
        "\n",
        "  def pop(self):\n",
        "    q = deque()\n",
        "\n",
        "    # Before poping add the elements to new stack in reverse order. \n",
        "    # The Last Element in 1st Stack becomes the Last Element in new Stack\n",
        "    # print(self.container.reverse())\n",
        "\n",
        "    for i in range(self.size()-1, -1, -1):         \n",
        "      q.append(self.container[i])\n",
        "    \n",
        "    # p = q.pop()\n",
        "    print(q.pop())\n",
        "\n",
        "  def view(self):\n",
        "    return (self.container)"
      ],
      "metadata": {
        "id": "Uuw-bONofdx1"
      },
      "execution_count": null,
      "outputs": []
    },
    {
      "cell_type": "code",
      "source": [
        "queue = MyQueue()\n",
        "\n",
        "queue.push(1)\n",
        "queue.push(2)\n",
        "queue.push(5)\n",
        "queue.push(4)\n",
        "queue.push(0)\n",
        "\n",
        "queue.view()"
      ],
      "metadata": {
        "colab": {
          "base_uri": "https://localhost:8080/"
        },
        "id": "FsVXXInthRVt",
        "outputId": "7d0d4d70-3506-400e-8ef1-833011c9346c"
      },
      "execution_count": null,
      "outputs": [
        {
          "output_type": "execute_result",
          "data": {
            "text/plain": [
              "deque([1, 2, 5, 4, 0])"
            ]
          },
          "metadata": {},
          "execution_count": 8
        }
      ]
    },
    {
      "cell_type": "code",
      "source": [
        "queue.pop()"
      ],
      "metadata": {
        "colab": {
          "base_uri": "https://localhost:8080/"
        },
        "id": "bzj29DqRkTXX",
        "outputId": "8e448833-a3d5-4d21-c4df-1e1a422e659e"
      },
      "execution_count": null,
      "outputs": [
        {
          "output_type": "stream",
          "name": "stdout",
          "text": [
            "1\n"
          ]
        }
      ]
    },
    {
      "cell_type": "code",
      "source": [
        "queue.view()"
      ],
      "metadata": {
        "colab": {
          "base_uri": "https://localhost:8080/"
        },
        "id": "fL6zLVcCsCp1",
        "outputId": "044c2103-e7cc-4d18-c60a-7f8c5559a09b"
      },
      "execution_count": null,
      "outputs": [
        {
          "output_type": "execute_result",
          "data": {
            "text/plain": [
              "deque([1, 2, 5, 4, 0])"
            ]
          },
          "metadata": {},
          "execution_count": 10
        }
      ]
    },
    {
      "cell_type": "markdown",
      "source": [
        "**Sort Stack**: Write a program to sort a stack such that the smallest items are on the top. You can use an additional temporary stack, but you may not copy the elements into any other data structure (such as an array). The stack supports the following operations: push, pop, peek, and is Empty. "
      ],
      "metadata": {
        "id": "7GINQM3Rmc1U"
      }
    },
    {
      "cell_type": "code",
      "source": [
        "from collections import deque\n",
        "\n",
        "class Sort:\n",
        "\n",
        "  def __init__(self):\n",
        "    self.container = deque()\n",
        "\n",
        "  def size(self):\n",
        "    return len(self.container)\n",
        "\n",
        "  def push(self, element):\n",
        "    self.container.append(element)\n",
        "  \n",
        "  def getElementIndex(self, index):\n",
        "    return self.container.index(index)\n",
        "\n",
        "  def pop(self):\n",
        "      return self.container.pop()\n",
        "\n",
        "  def view(self):\n",
        "    return (self.container)\n",
        "\n",
        "  def top(self, stack):\n",
        "    return stack[self.size() - 1]\n",
        "\n",
        "  def sort(self):\n",
        "    s = deque()\n",
        "\n",
        "    i=0\n",
        "    \n",
        "    while(self.size() > i):\n",
        "\n",
        "      tmp = self.container[i]      \n",
        "      j = 0\n",
        "\n",
        "      if((len(s) == 0)):\n",
        "        s.append(tmp)              \n",
        "      else:\n",
        "        while(len(s) > j):\n",
        "          if (tmp > s[j]):\n",
        "            s.insert(j, tmp)           \n",
        "            break        \n",
        "          j += 1\n",
        "      i += 1\n",
        "    print(s)\n"
      ],
      "metadata": {
        "id": "WdzNJ2uS2Gn8"
      },
      "execution_count": null,
      "outputs": []
    },
    {
      "cell_type": "code",
      "source": [
        "sort = Sort()\n",
        "\n",
        "sort.push(1)\n",
        "sort.push(2)\n",
        "sort.push(5)\n",
        "sort.push(6)\n",
        "sort.push(4)\n",
        "sort.push(20)\n",
        "sort.push(10)\n",
        "sort.push(3)"
      ],
      "metadata": {
        "id": "fGfoVXuv2QD6"
      },
      "execution_count": null,
      "outputs": []
    },
    {
      "cell_type": "code",
      "source": [
        "sort.view()"
      ],
      "metadata": {
        "colab": {
          "base_uri": "https://localhost:8080/"
        },
        "id": "btWRIvmL6W68",
        "outputId": "d7a3e863-12b0-41da-e53c-db1dbcd0d174"
      },
      "execution_count": null,
      "outputs": [
        {
          "output_type": "execute_result",
          "data": {
            "text/plain": [
              "deque([1, 2, 5, 6, 4, 20, 10, 3])"
            ]
          },
          "metadata": {},
          "execution_count": 13
        }
      ]
    },
    {
      "cell_type": "code",
      "source": [
        "sort.sort()"
      ],
      "metadata": {
        "colab": {
          "base_uri": "https://localhost:8080/"
        },
        "id": "yclMILqhrZf5",
        "outputId": "f567acad-6759-41d1-8309-9595b4970eeb"
      },
      "execution_count": null,
      "outputs": [
        {
          "output_type": "stream",
          "name": "stdout",
          "text": [
            "deque([20, 10, 6, 5, 4, 3, 2, 1])\n"
          ]
        }
      ]
    },
    {
      "cell_type": "markdown",
      "source": [
        "**Animal Shelten**: An animal shelter, which holds only dogs and cats, operates on a strictly \"first in, first out\" basis. People must adopt either the \"oldest\" (based on arrival time) of all animals at the shelter, or they can select whether they would prefer a dog or a cat (and will receive the oldest animal of that type). They cannot select which specific animal they would like. Create the data structures to maintain this system and implement operations such as enqueue, dequeueAny, dequeueDog, and dequeueCat. You may use the built-in LinkedList data structure. "
      ],
      "metadata": {
        "id": "HuwfnF_9URuq"
      }
    },
    {
      "cell_type": "code",
      "source": [
        "from collections import deque\n",
        "\n",
        "class AnimalShelter():\n",
        "\n",
        "  def __init__(self):\n",
        "    self.container = deque()\n",
        "    self.cat = deque()\n",
        "    self.dog = deque()\n",
        "\n",
        "  # Add Animal to main container and type container\n",
        "  def enqueue(self, element, type):\n",
        "    if type == \"cat\":\n",
        "      self.cat.appendleft(element)\n",
        "      self.container.appendleft(element)\n",
        "    elif type == \"dog\":\n",
        "      self.dog.appendleft(element)\n",
        "      self.container.appendleft(element)\n",
        "\n",
        "  # Remove Animal from main container and type container\n",
        "  def dequeueAny(self):\n",
        "    animal = self.container.pop()\n",
        "    if animal in self.cat:\n",
        "        self.cat.pop()\n",
        "    elif animal in self.dog:\n",
        "        self.dog.pop()\n",
        "  \n",
        "  # Remove Animal from Dog and main container\n",
        "  def dequeueDog(self):\n",
        "    d = self.dog.pop()  \n",
        "    self.container.remove(d)  \n",
        "\n",
        "  # Remove Animal from Cat and main container\n",
        "  def dequeueCat(self):\n",
        "    c = self.cat.pop()\n",
        "    self.container.remove(c)  \n",
        "\n",
        "  def view(self):\n",
        "    return (self.container, self.cat, self.dog)"
      ],
      "metadata": {
        "id": "Dg3eh0lRVxjA"
      },
      "execution_count": null,
      "outputs": []
    },
    {
      "cell_type": "code",
      "source": [
        "animal_shelter = AnimalShelter()\n",
        "\n",
        "animal_shelter.enqueue(1, \"cat\")\n",
        "animal_shelter.enqueue(2, \"dog\")\n",
        "animal_shelter.enqueue(5, \"cat\")\n",
        "animal_shelter.enqueue(6, \"cat\")\n",
        "animal_shelter.enqueue(4, \"dog\")"
      ],
      "metadata": {
        "id": "s0x14xCwWVdN"
      },
      "execution_count": null,
      "outputs": []
    },
    {
      "cell_type": "code",
      "source": [
        "animal_shelter.view()"
      ],
      "metadata": {
        "colab": {
          "base_uri": "https://localhost:8080/"
        },
        "id": "frJDNaJ1Whod",
        "outputId": "99338fa1-3a99-4151-fd9d-b4ad573652d2"
      },
      "execution_count": null,
      "outputs": [
        {
          "output_type": "execute_result",
          "data": {
            "text/plain": [
              "(deque([4, 6, 5, 2, 1]), deque([6, 5, 1]), deque([4, 2]))"
            ]
          },
          "metadata": {},
          "execution_count": 17
        }
      ]
    },
    {
      "cell_type": "code",
      "source": [
        "animal_shelter.dequeueAny()\n",
        "animal_shelter.view()"
      ],
      "metadata": {
        "colab": {
          "base_uri": "https://localhost:8080/"
        },
        "id": "A3fOSrvzWvKi",
        "outputId": "3908ddd0-28f9-4f8e-a654-380278d57052"
      },
      "execution_count": null,
      "outputs": [
        {
          "output_type": "execute_result",
          "data": {
            "text/plain": [
              "(deque([4, 6, 5, 2]), deque([6, 5]), deque([4, 2]))"
            ]
          },
          "metadata": {},
          "execution_count": 18
        }
      ]
    },
    {
      "cell_type": "code",
      "source": [
        "animal_shelter.dequeueDog()\n",
        "animal_shelter.view()"
      ],
      "metadata": {
        "colab": {
          "base_uri": "https://localhost:8080/"
        },
        "id": "maGKpy5zW2lf",
        "outputId": "54440cf0-f21c-415f-c5ba-81c8a84fe244"
      },
      "execution_count": null,
      "outputs": [
        {
          "output_type": "execute_result",
          "data": {
            "text/plain": [
              "(deque([4, 6, 5]), deque([6, 5]), deque([4]))"
            ]
          },
          "metadata": {},
          "execution_count": 19
        }
      ]
    },
    {
      "cell_type": "code",
      "source": [
        "animal_shelter.dequeueCat()\n",
        "animal_shelter.view()"
      ],
      "metadata": {
        "colab": {
          "base_uri": "https://localhost:8080/"
        },
        "id": "xHy8rEEzZMx4",
        "outputId": "67032be5-31d0-4c19-d428-9d369b38fa2f"
      },
      "execution_count": null,
      "outputs": [
        {
          "output_type": "execute_result",
          "data": {
            "text/plain": [
              "(deque([4, 6]), deque([6]), deque([4]))"
            ]
          },
          "metadata": {},
          "execution_count": 20
        }
      ]
    }
  ]
}