{
  "nbformat": 4,
  "nbformat_minor": 0,
  "metadata": {
    "colab": {
      "name": "Python Basics - 20 Python Functions.ipynb",
      "provenance": [],
      "authorship_tag": "ABX9TyPvn+yBdwwGHd/k+WZmNzDG",
      "include_colab_link": true
    },
    "kernelspec": {
      "name": "python3",
      "display_name": "Python 3"
    },
    "language_info": {
      "name": "python"
    }
  },
  "cells": [
    {
      "cell_type": "markdown",
      "metadata": {
        "id": "view-in-github",
        "colab_type": "text"
      },
      "source": [
        "<a href=\"https://colab.research.google.com/github/sahug/python-data-structure/blob/main/Python%20Basics%20-%2020%20Python%20Functions.ipynb\" target=\"_parent\"><img src=\"https://colab.research.google.com/assets/colab-badge.svg\" alt=\"Open In Colab\"/></a>"
      ]
    },
    {
      "cell_type": "markdown",
      "source": [
        "**reduce()**\n",
        "\n",
        "Python's **reduce()** function iterates over each item in a list, or any other iterable data type, and returns a single value. It's one of the methods of the built-in functools class of Python."
      ],
      "metadata": {
        "id": "nU86qFh06fs8"
      }
    },
    {
      "cell_type": "code",
      "execution_count": 1,
      "metadata": {
        "colab": {
          "base_uri": "https://localhost:8080/"
        },
        "id": "731esgOt6eKv",
        "outputId": "d23b006f-654e-4a0d-f2c1-28c9da511000"
      },
      "outputs": [
        {
          "output_type": "stream",
          "name": "stdout",
          "text": [
            "16\n"
          ]
        }
      ],
      "source": [
        "from functools import reduce\n",
        "def add_num(a, b):\n",
        " return a+b\n",
        "a = [1, 2, 3, 10]\n",
        "print(reduce(add_num, a))"
      ]
    },
    {
      "cell_type": "code",
      "source": [
        "from functools import reduce\n",
        "def add_str(a,b):\n",
        " return a+' '+b\n",
        "a = ['MUO', 'is', 'a', 'media', 'website']\n",
        "print(reduce(add_str, a))"
      ],
      "metadata": {
        "colab": {
          "base_uri": "https://localhost:8080/"
        },
        "id": "gzZdH9pe6soR",
        "outputId": "d222cef3-1c5d-4e10-e082-644f0249ba2a"
      },
      "execution_count": 2,
      "outputs": [
        {
          "output_type": "stream",
          "name": "stdout",
          "text": [
            "MUO is a media website\n"
          ]
        }
      ]
    },
    {
      "cell_type": "markdown",
      "source": [
        "**split()**\n",
        "\n",
        "The **split()** function breaks a string based on set criteria. You can use it to split a string value from a web form. Or you can even use it to count the number of words in a piece of text."
      ],
      "metadata": {
        "id": "B9ZdRXLI6vBM"
      }
    },
    {
      "cell_type": "code",
      "source": [
        "words = \"column1 column2 column3\"\n",
        "words = words.split(\" \")\n",
        "print(words)"
      ],
      "metadata": {
        "id": "8ylYAJ9c60An"
      },
      "execution_count": null,
      "outputs": []
    },
    {
      "cell_type": "markdown",
      "source": [
        "**enumerate()**\n",
        "\n",
        "The **enumerate()** function returns the length of an iterable and loops through its items simultaneously. Thus, while printing each item in an iterable data type, it simultaneously outputs its index."
      ],
      "metadata": {
        "id": "UbN3IAHj61_0"
      }
    },
    {
      "cell_type": "code",
      "source": [
        "fruits = [\"grape\", \"apple\", \"mango\"]\n",
        "for i, j in enumerate(fruits):\n",
        " print(i, j)"
      ],
      "metadata": {
        "colab": {
          "base_uri": "https://localhost:8080/"
        },
        "id": "gruaAs_768y5",
        "outputId": "816252ff-7f4e-4277-aab6-88acaf497a19"
      },
      "execution_count": 3,
      "outputs": [
        {
          "output_type": "stream",
          "name": "stdout",
          "text": [
            "0 grape\n",
            "1 apple\n",
            "2 mango\n"
          ]
        }
      ]
    },
    {
      "cell_type": "code",
      "source": [
        "fruits = [\"grape\", \"apple\", \"mango\"]\n",
        "for i, j in enumerate(fruits, start=1):\n",
        " print(i, j)"
      ],
      "metadata": {
        "colab": {
          "base_uri": "https://localhost:8080/"
        },
        "id": "ofT2D5wd6-s8",
        "outputId": "ae245a71-35a1-4833-f108-1481d6109823"
      },
      "execution_count": 5,
      "outputs": [
        {
          "output_type": "stream",
          "name": "stdout",
          "text": [
            "1 grape\n",
            "2 apple\n",
            "3 mango\n"
          ]
        }
      ]
    },
    {
      "cell_type": "markdown",
      "source": [
        "**eval()**\n",
        "\n",
        "Python's **eval()** function lets you perform mathematical operations on integers or floats, even in their string forms. It's often helpful if a mathematical calculation is in a string format."
      ],
      "metadata": {
        "id": "PUqBFE9R7HDj"
      }
    },
    {
      "cell_type": "code",
      "source": [
        "g = \"(4 * 5)/4\"\n",
        "d = eval(g)\n",
        "print(d)"
      ],
      "metadata": {
        "colab": {
          "base_uri": "https://localhost:8080/"
        },
        "id": "Ub2RXW1P7Lt1",
        "outputId": "0aa22d7a-5746-4136-e3a6-658885929254"
      },
      "execution_count": 6,
      "outputs": [
        {
          "output_type": "stream",
          "name": "stdout",
          "text": [
            "5.0\n"
          ]
        }
      ]
    },
    {
      "cell_type": "markdown",
      "source": [
        "**round()**\n",
        "\n",
        "You can round up the result of a mathematical operation to a specific number of significant figures using round()."
      ],
      "metadata": {
        "id": "s2ES6Mb-7PU7"
      }
    },
    {
      "cell_type": "code",
      "source": [
        "raw_average = (4+5+7/3)\n",
        "rounded_average=round(raw_average, 2)\n",
        "print(\"The raw average is:\", raw_average)\n",
        "print(\"The rounded average is:\", rounded_average)"
      ],
      "metadata": {
        "colab": {
          "base_uri": "https://localhost:8080/"
        },
        "id": "fUnXHy2X7Om8",
        "outputId": "1d104256-836f-48b5-ceae-4322f97f644e"
      },
      "execution_count": 7,
      "outputs": [
        {
          "output_type": "stream",
          "name": "stdout",
          "text": [
            "The raw average is: 11.333333333333334\n",
            "The rounded average is: 11.33\n"
          ]
        }
      ]
    },
    {
      "cell_type": "markdown",
      "source": [
        "**max()**\n",
        "\n",
        "The **max()** function returns the highest ranked item in an iterable. Be careful not to confuse this with the most frequently occurring value, though."
      ],
      "metadata": {
        "id": "FkQJyzKj7U1X"
      }
    },
    {
      "cell_type": "code",
      "source": [
        "b = {1:\"grape\", 2:\"apple\", 3:\"applesss\", 4:\"zebra\", 5:\"mango\"}\n",
        "print(max(b.values()))"
      ],
      "metadata": {
        "colab": {
          "base_uri": "https://localhost:8080/"
        },
        "id": "x7LwUC_77aUt",
        "outputId": "fc38373a-e7b7-4409-c9a8-df4744bc79d0"
      },
      "execution_count": 8,
      "outputs": [
        {
          "output_type": "stream",
          "name": "stdout",
          "text": [
            "zebra\n"
          ]
        }
      ]
    },
    {
      "cell_type": "markdown",
      "source": [
        "**min()**\n",
        "\n",
        "The **min()** function does the opposite of what max() does:"
      ],
      "metadata": {
        "id": "nEin69lB7czj"
      }
    },
    {
      "cell_type": "code",
      "source": [
        "fruits = [\"grape\", \"apple\", \"applesss\", \"zebra\", \"mango\"]\n",
        "b = {1:\"grape\", 2:\"apple\", 3:\"applesss\", 4:\"zebra\", 5:\"mango\"}\n",
        "a = [1, 65, 7, 9]\n",
        "print(min(a))\n",
        "print(min(b.values()))"
      ],
      "metadata": {
        "colab": {
          "base_uri": "https://localhost:8080/"
        },
        "id": "Tc0Bj2bp7l7Z",
        "outputId": "a864f0e1-c35b-497b-949b-41f09bb1ec14"
      },
      "execution_count": 9,
      "outputs": [
        {
          "output_type": "stream",
          "name": "stdout",
          "text": [
            "1\n",
            "apple\n"
          ]
        }
      ]
    },
    {
      "cell_type": "markdown",
      "source": [
        "**map()**\n",
        "\n",
        "Like **reduce()**, the **map()** function lets you iterate over each item in an iterable. However, instead of producing a single result, map() operates on each item independently."
      ],
      "metadata": {
        "id": "4dWNhphl7orn"
      }
    },
    {
      "cell_type": "code",
      "source": [
        "b = [1, 3, 4, 6]\n",
        "a = [1, 65, 7, 9]\n",
        "\n",
        "# Declare a separate function to handle the addition: \n",
        "def add(a, b):\n",
        " return a+b\n",
        " \n",
        "# Pass the function and the two lists into the built-in map() function: \n",
        "a = sum(map(add, b, a))\n",
        "print(a) "
      ],
      "metadata": {
        "colab": {
          "base_uri": "https://localhost:8080/"
        },
        "id": "23Ml12Mi7uJz",
        "outputId": "567581f0-a30b-4c37-822b-e217ce5a1c9c"
      },
      "execution_count": 10,
      "outputs": [
        {
          "output_type": "stream",
          "name": "stdout",
          "text": [
            "96\n"
          ]
        }
      ]
    },
    {
      "cell_type": "markdown",
      "source": [
        "**getattr()**\n",
        "\n",
        "Python's **getattr()** returns the attribute of an object. It accepts two parameters: the class and the target attribute name"
      ],
      "metadata": {
        "id": "axx14KRt7xbL"
      }
    },
    {
      "cell_type": "code",
      "source": [
        "class ty:\n",
        " def __init__(self, number, name):\n",
        "  self.number = number\n",
        "  self.name = name\n",
        "\n",
        "a = ty(5*8, \"Idowu\")\n",
        "b = getattr(a, 'name')\n",
        "print(b)\n"
      ],
      "metadata": {
        "colab": {
          "base_uri": "https://localhost:8080/"
        },
        "id": "zzYYGEy371e4",
        "outputId": "845472ea-28e8-470e-c5d4-b6b184c78548"
      },
      "execution_count": 11,
      "outputs": [
        {
          "output_type": "stream",
          "name": "stdout",
          "text": [
            "Idowu\n"
          ]
        }
      ]
    },
    {
      "cell_type": "markdown",
      "source": [
        "**append()**\n",
        "\n",
        "Whether you're delving into web development or machine learning with Python, append() is another Python method you'll often need. It works by writing new data into a list without overwriting its original content."
      ],
      "metadata": {
        "id": "ypDhP2-N79_E"
      }
    },
    {
      "cell_type": "code",
      "source": [
        "nums = [1, 2, 3]\n",
        "appendedlist = [2, 4]\n",
        "for i in nums:\n",
        " a = i*3\n",
        " appendedlist.append(a)\n",
        "print(appendedlist)"
      ],
      "metadata": {
        "id": "S5dFlHzm8Cdb"
      },
      "execution_count": null,
      "outputs": []
    },
    {
      "cell_type": "markdown",
      "source": [
        "**range()**\n",
        "\n",
        "You might already be familiar with **range()** in Python. It's handy if you want to create a list of integers ranging between specific numbers without explicitly writing them out."
      ],
      "metadata": {
        "id": "YvlgL6zw8Ibb"
      }
    },
    {
      "cell_type": "code",
      "source": [
        "a = range(1, 6)\n",
        "b = []\n",
        "for i in a:\n",
        "  if i%2!=0:\n",
        "    b.append(i)\n",
        "print(b)"
      ],
      "metadata": {
        "colab": {
          "base_uri": "https://localhost:8080/"
        },
        "id": "vuKDZmZx8ON0",
        "outputId": "9ec9c532-d872-4aea-ffcd-d13c3298db47"
      },
      "execution_count": 13,
      "outputs": [
        {
          "output_type": "stream",
          "name": "stdout",
          "text": [
            "[1, 3, 5]\n"
          ]
        }
      ]
    },
    {
      "cell_type": "markdown",
      "source": [
        "**slice()**\n",
        "\n",
        "Although the **slice()** function and the traditional slice method give similar outputs, using **slice()** in your code can make it more readable."
      ],
      "metadata": {
        "id": "y147fAzR8TAL"
      }
    },
    {
      "cell_type": "code",
      "source": [
        "b = [1, 3, 4, 6, 7, 10]\n",
        "st = \"Python tutorial\"\n",
        "sliceportion = slice(0, 4)\n",
        "print(b[sliceportion])\n",
        "print(st[sliceportion])"
      ],
      "metadata": {
        "colab": {
          "base_uri": "https://localhost:8080/"
        },
        "id": "qk_7LvR68Yex",
        "outputId": "674ce929-2950-41c7-a7b2-cf7e842b999c"
      },
      "execution_count": 14,
      "outputs": [
        {
          "output_type": "stream",
          "name": "stdout",
          "text": [
            "[1, 3, 4, 6]\n",
            "Pyth\n"
          ]
        }
      ]
    },
    {
      "cell_type": "markdown",
      "source": [
        "**format()**\n",
        "\n",
        "The format() method lets you manipulate your string output. "
      ],
      "metadata": {
        "id": "X0onF8Vp8baG"
      }
    },
    {
      "cell_type": "code",
      "source": [
        "multiple = 5*2\n",
        "multiple2 = 7*2\n",
        "a = \"{} is the multiple of 5 and 2, but {} is for 7 and 2\"\n",
        "a = a.format(multiple, multiple2)\n",
        "print(a)"
      ],
      "metadata": {
        "id": "zLnpTgWK8ruo"
      },
      "execution_count": null,
      "outputs": []
    },
    {
      "cell_type": "markdown",
      "source": [
        "**strip()**\n",
        "\n",
        "Python's **strip()** removes leading characters from a string. It repeatedly removes the first character from the string, if it matches any of the supplied characters."
      ],
      "metadata": {
        "id": "7eDLlE2_-m-r"
      }
    },
    {
      "cell_type": "code",
      "source": [
        "st = \" Python tutorial\"\n",
        "st = st.strip(\" P\")\n",
        "print(st)"
      ],
      "metadata": {
        "colab": {
          "base_uri": "https://localhost:8080/"
        },
        "id": "sdvxegSr-rY8",
        "outputId": "8f7f4a57-cd6e-4d41-d8d8-018affa51223"
      },
      "execution_count": 15,
      "outputs": [
        {
          "output_type": "stream",
          "name": "stdout",
          "text": [
            "ython tutorial\n"
          ]
        }
      ]
    },
    {
      "cell_type": "markdown",
      "source": [
        "**abs()**\n",
        "\n",
        "Do you want to neutralize negative mathematical outputs? Then try out the **abs()** function."
      ],
      "metadata": {
        "id": "q4vnPlZu-vGQ"
      }
    },
    {
      "cell_type": "code",
      "source": [
        "neg = 4 - 9\n",
        "pos = abs(neg)\n",
        "print(pos)"
      ],
      "metadata": {
        "colab": {
          "base_uri": "https://localhost:8080/"
        },
        "id": "ZUbNC7uQ-1Q3",
        "outputId": "ad95cc5f-1dbb-4f15-c91b-3ef7aee5f23f"
      },
      "execution_count": 16,
      "outputs": [
        {
          "output_type": "stream",
          "name": "stdout",
          "text": [
            "5\n"
          ]
        }
      ]
    },
    {
      "cell_type": "markdown",
      "source": [
        "**upper()**\n",
        "\n",
        "As the name implies, the **upper()** method converts string characters into their uppercase equivalent"
      ],
      "metadata": {
        "id": "ZqyRHyBs-3FK"
      }
    },
    {
      "cell_type": "code",
      "source": [
        "y = \"Python tutorial\"\n",
        "y = y.upper()\n",
        "print(y)"
      ],
      "metadata": {
        "colab": {
          "base_uri": "https://localhost:8080/"
        },
        "id": "s6UdLINa-7Zv",
        "outputId": "8d76db0a-5f9c-440d-ee7f-d6c4ba937c83"
      },
      "execution_count": 17,
      "outputs": [
        {
          "output_type": "stream",
          "name": "stdout",
          "text": [
            "PYTHON TUTORIAL\n"
          ]
        }
      ]
    },
    {
      "cell_type": "markdown",
      "source": [
        "**lower()**\n",
        "\n",
        "You guessed right! Python's **lower()** is the opposite of **upper()**. So it converts string characters to lowercases:"
      ],
      "metadata": {
        "id": "BkZbcUN6-97O"
      }
    },
    {
      "cell_type": "code",
      "source": [
        "y = \"PYTHON TUTORIAL\"\n",
        "y = y.lower()\n",
        "print(y)"
      ],
      "metadata": {
        "colab": {
          "base_uri": "https://localhost:8080/"
        },
        "id": "inLgtbnGBSXN",
        "outputId": "edd43d8a-16df-4979-9251-175206106fa4"
      },
      "execution_count": 18,
      "outputs": [
        {
          "output_type": "stream",
          "name": "stdout",
          "text": [
            "python tutorial\n"
          ]
        }
      ]
    },
    {
      "cell_type": "markdown",
      "source": [
        "**sorted()**\n",
        "\n",
        "The **sorted()** function works by making a list from an iterable and then arranging its values in descending or ascending order:"
      ],
      "metadata": {
        "id": "5dqXcjmBBdv0"
      }
    },
    {
      "cell_type": "code",
      "source": [
        "f = {1, 4, 9, 3} # Try it on a set\n",
        "sort = {\"G\":8, \"A\":5, \"B\":9, \"F\":3} # Try it on a dictionary\n",
        "print(sorted(f, reverse=True)) # Descending\n",
        "print(sorted(sort.values())) # Ascending (default)"
      ],
      "metadata": {
        "colab": {
          "base_uri": "https://localhost:8080/"
        },
        "id": "mtq4X7S0Bc6v",
        "outputId": "3162e9fa-1744-4808-8a4e-6f221d3d0384"
      },
      "execution_count": 19,
      "outputs": [
        {
          "output_type": "stream",
          "name": "stdout",
          "text": [
            "[9, 4, 3, 1]\n",
            "[3, 5, 8, 9]\n"
          ]
        }
      ]
    },
    {
      "cell_type": "markdown",
      "source": [
        "**join()**\n",
        "\n",
        "The **join()** function lets you merge string items in a list."
      ],
      "metadata": {
        "id": "WAMLmOOmB9FT"
      }
    },
    {
      "cell_type": "code",
      "source": [
        "a = [\"Python\", \"tutorial\", \"on\", \"MUO\"]\n",
        "a = \" \".join(a)\n",
        "print(a)"
      ],
      "metadata": {
        "colab": {
          "base_uri": "https://localhost:8080/"
        },
        "id": "4epMzuGRCBYV",
        "outputId": "befe6194-08db-4dee-f475-1a78f1a87039"
      },
      "execution_count": 20,
      "outputs": [
        {
          "output_type": "stream",
          "name": "stdout",
          "text": [
            "Python tutorial on MUO\n"
          ]
        }
      ]
    },
    {
      "cell_type": "markdown",
      "source": [
        "**replace()**\n",
        "\n",
        "Python's **replace()** method lets you replace some parts of a string with another character. It's often handy in data science, especially during data cleaning."
      ],
      "metadata": {
        "id": "ybvKqQHtCG5I"
      }
    },
    {
      "cell_type": "code",
      "source": [
        "columns = [\"Cart_name\", \"First_name\", \"Last_name\"]\n",
        "for i in columns:\n",
        " i = i.replace(\"_\", \" \")\n",
        " print(i)"
      ],
      "metadata": {
        "colab": {
          "base_uri": "https://localhost:8080/"
        },
        "id": "K4afSEYDCaQi",
        "outputId": "88b686d0-1ed2-428c-9e3a-f501901118b7"
      },
      "execution_count": 21,
      "outputs": [
        {
          "output_type": "stream",
          "name": "stdout",
          "text": [
            "Cart name\n",
            "First name\n",
            "Last name\n"
          ]
        }
      ]
    }
  ]
}