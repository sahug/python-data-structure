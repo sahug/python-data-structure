{
  "cells": [
    {
      "cell_type": "markdown",
      "metadata": {
        "colab_type": "text",
        "id": "view-in-github"
      },
      "source": [
        "<a href=\"https://colab.research.google.com/github/sahug/python-data-structure/blob/main/Python%20Basics%20-%2020%20Python%20Functions.ipynb\" target=\"_parent\"><img src=\"https://colab.research.google.com/assets/colab-badge.svg\" alt=\"Open In Colab\"/></a>"
      ]
    },
    {
      "cell_type": "markdown",
      "metadata": {
        "id": "nU86qFh06fs8"
      },
      "source": [
        "**reduce()**\n",
        "\n",
        "Python's **reduce()** function iterates over each item in a list, or any other iterable data type, and returns a single value. It's one of the methods of the built-in functools class of Python."
      ]
    },
    {
      "cell_type": "code",
      "execution_count": 1,
      "metadata": {
        "colab": {
          "base_uri": "https://localhost:8080/"
        },
        "id": "731esgOt6eKv",
        "outputId": "d23b006f-654e-4a0d-f2c1-28c9da511000"
      },
      "outputs": [
        {
          "name": "stdout",
          "output_type": "stream",
          "text": [
            "16\n"
          ]
        }
      ],
      "source": [
        "from functools import reduce\n",
        "def add_num(a, b):\n",
        " return a+b\n",
        "a = [1, 2, 3, 10]\n",
        "print(reduce(add_num, a))"
      ]
    },
    {
      "cell_type": "code",
      "execution_count": 2,
      "metadata": {
        "colab": {
          "base_uri": "https://localhost:8080/"
        },
        "id": "gzZdH9pe6soR",
        "outputId": "d222cef3-1c5d-4e10-e082-644f0249ba2a"
      },
      "outputs": [
        {
          "name": "stdout",
          "output_type": "stream",
          "text": [
            "MUO is a media website\n"
          ]
        }
      ],
      "source": [
        "from functools import reduce\n",
        "def add_str(a,b):\n",
        " return a+' '+b\n",
        "a = ['MUO', 'is', 'a', 'media', 'website']\n",
        "print(reduce(add_str, a))"
      ]
    },
    {
      "cell_type": "markdown",
      "metadata": {
        "id": "B9ZdRXLI6vBM"
      },
      "source": [
        "**split()**\n",
        "\n",
        "The **split()** function breaks a string based on set criteria. You can use it to split a string value from a web form. Or you can even use it to count the number of words in a piece of text."
      ]
    },
    {
      "cell_type": "code",
      "execution_count": null,
      "metadata": {
        "id": "8ylYAJ9c60An"
      },
      "outputs": [],
      "source": [
        "words = \"column1 column2 column3\"\n",
        "words = words.split(\" \")\n",
        "print(words)"
      ]
    },
    {
      "cell_type": "markdown",
      "metadata": {
        "id": "UbN3IAHj61_0"
      },
      "source": [
        "**enumerate()**\n",
        "\n",
        "The **enumerate()** function returns the length of an iterable and loops through its items simultaneously. Thus, while printing each item in an iterable data type, it simultaneously outputs its index."
      ]
    },
    {
      "cell_type": "code",
      "execution_count": 3,
      "metadata": {
        "colab": {
          "base_uri": "https://localhost:8080/"
        },
        "id": "gruaAs_768y5",
        "outputId": "816252ff-7f4e-4277-aab6-88acaf497a19"
      },
      "outputs": [
        {
          "name": "stdout",
          "output_type": "stream",
          "text": [
            "0 grape\n",
            "1 apple\n",
            "2 mango\n"
          ]
        }
      ],
      "source": [
        "fruits = [\"grape\", \"apple\", \"mango\"]\n",
        "for i, j in enumerate(fruits):\n",
        " print(i, j)"
      ]
    },
    {
      "cell_type": "code",
      "execution_count": 5,
      "metadata": {
        "colab": {
          "base_uri": "https://localhost:8080/"
        },
        "id": "ofT2D5wd6-s8",
        "outputId": "ae245a71-35a1-4833-f108-1481d6109823"
      },
      "outputs": [
        {
          "name": "stdout",
          "output_type": "stream",
          "text": [
            "1 grape\n",
            "2 apple\n",
            "3 mango\n"
          ]
        }
      ],
      "source": [
        "fruits = [\"grape\", \"apple\", \"mango\"]\n",
        "for i, j in enumerate(fruits, start=1):\n",
        " print(i, j)"
      ]
    },
    {
      "cell_type": "markdown",
      "metadata": {
        "id": "PUqBFE9R7HDj"
      },
      "source": [
        "**eval()**\n",
        "\n",
        "Python's **eval()** function lets you perform mathematical operations on integers or floats, even in their string forms. It's often helpful if a mathematical calculation is in a string format."
      ]
    },
    {
      "cell_type": "code",
      "execution_count": 6,
      "metadata": {
        "colab": {
          "base_uri": "https://localhost:8080/"
        },
        "id": "Ub2RXW1P7Lt1",
        "outputId": "0aa22d7a-5746-4136-e3a6-658885929254"
      },
      "outputs": [
        {
          "name": "stdout",
          "output_type": "stream",
          "text": [
            "5.0\n"
          ]
        }
      ],
      "source": [
        "g = \"(4 * 5)/4\"\n",
        "d = eval(g)\n",
        "print(d)"
      ]
    },
    {
      "cell_type": "markdown",
      "metadata": {
        "id": "s2ES6Mb-7PU7"
      },
      "source": [
        "**round()**\n",
        "\n",
        "You can round up the result of a mathematical operation to a specific number of significant figures using round()."
      ]
    },
    {
      "cell_type": "code",
      "execution_count": 7,
      "metadata": {
        "colab": {
          "base_uri": "https://localhost:8080/"
        },
        "id": "fUnXHy2X7Om8",
        "outputId": "1d104256-836f-48b5-ceae-4322f97f644e"
      },
      "outputs": [
        {
          "name": "stdout",
          "output_type": "stream",
          "text": [
            "The raw average is: 11.333333333333334\n",
            "The rounded average is: 11.33\n"
          ]
        }
      ],
      "source": [
        "raw_average = (4+5+7/3)\n",
        "rounded_average=round(raw_average, 2)\n",
        "print(\"The raw average is:\", raw_average)\n",
        "print(\"The rounded average is:\", rounded_average)"
      ]
    },
    {
      "cell_type": "markdown",
      "metadata": {
        "id": "FkQJyzKj7U1X"
      },
      "source": [
        "**max()**\n",
        "\n",
        "The **max()** function returns the highest ranked item in an iterable. Be careful not to confuse this with the most frequently occurring value, though."
      ]
    },
    {
      "cell_type": "code",
      "execution_count": 8,
      "metadata": {
        "colab": {
          "base_uri": "https://localhost:8080/"
        },
        "id": "x7LwUC_77aUt",
        "outputId": "fc38373a-e7b7-4409-c9a8-df4744bc79d0"
      },
      "outputs": [
        {
          "name": "stdout",
          "output_type": "stream",
          "text": [
            "zebra\n"
          ]
        }
      ],
      "source": [
        "b = {1:\"grape\", 2:\"apple\", 3:\"applesss\", 4:\"zebra\", 5:\"mango\"}\n",
        "print(max(b.values()))"
      ]
    },
    {
      "cell_type": "markdown",
      "metadata": {
        "id": "nEin69lB7czj"
      },
      "source": [
        "**min()**\n",
        "\n",
        "The **min()** function does the opposite of what max() does:"
      ]
    },
    {
      "cell_type": "code",
      "execution_count": 9,
      "metadata": {
        "colab": {
          "base_uri": "https://localhost:8080/"
        },
        "id": "Tc0Bj2bp7l7Z",
        "outputId": "a864f0e1-c35b-497b-949b-41f09bb1ec14"
      },
      "outputs": [
        {
          "name": "stdout",
          "output_type": "stream",
          "text": [
            "1\n",
            "apple\n"
          ]
        }
      ],
      "source": [
        "fruits = [\"grape\", \"apple\", \"applesss\", \"zebra\", \"mango\"]\n",
        "b = {1:\"grape\", 2:\"apple\", 3:\"applesss\", 4:\"zebra\", 5:\"mango\"}\n",
        "a = [1, 65, 7, 9]\n",
        "print(min(a))\n",
        "print(min(b.values()))"
      ]
    },
    {
      "cell_type": "markdown",
      "metadata": {
        "id": "4dWNhphl7orn"
      },
      "source": [
        "**map()**\n",
        "\n",
        "Like **reduce()**, the **map()** function lets you iterate over each item in an iterable. However, instead of producing a single result, map() operates on each item independently."
      ]
    },
    {
      "cell_type": "code",
      "execution_count": 10,
      "metadata": {
        "colab": {
          "base_uri": "https://localhost:8080/"
        },
        "id": "23Ml12Mi7uJz",
        "outputId": "567581f0-a30b-4c37-822b-e217ce5a1c9c"
      },
      "outputs": [
        {
          "name": "stdout",
          "output_type": "stream",
          "text": [
            "96\n"
          ]
        }
      ],
      "source": [
        "b = [1, 3, 4, 6]\n",
        "a = [1, 65, 7, 9]\n",
        "\n",
        "# Declare a separate function to handle the addition: \n",
        "def add(a, b):\n",
        " return a+b\n",
        " \n",
        "# Pass the function and the two lists into the built-in map() function: \n",
        "a = sum(map(add, b, a))\n",
        "print(a) "
      ]
    },
    {
      "cell_type": "markdown",
      "metadata": {
        "id": "axx14KRt7xbL"
      },
      "source": [
        "**getattr()**\n",
        "\n",
        "Python's **getattr()** returns the attribute of an object. It accepts two parameters: the class and the target attribute name"
      ]
    },
    {
      "cell_type": "code",
      "execution_count": 11,
      "metadata": {
        "colab": {
          "base_uri": "https://localhost:8080/"
        },
        "id": "zzYYGEy371e4",
        "outputId": "845472ea-28e8-470e-c5d4-b6b184c78548"
      },
      "outputs": [
        {
          "name": "stdout",
          "output_type": "stream",
          "text": [
            "Idowu\n"
          ]
        }
      ],
      "source": [
        "class ty:\n",
        " def __init__(self, number, name):\n",
        "  self.number = number\n",
        "  self.name = name\n",
        "\n",
        "a = ty(5*8, \"Idowu\")\n",
        "b = getattr(a, 'name')\n",
        "print(b)\n"
      ]
    },
    {
      "cell_type": "markdown",
      "metadata": {
        "id": "ypDhP2-N79_E"
      },
      "source": [
        "**append()**\n",
        "\n",
        "Whether you're delving into web development or machine learning with Python, append() is another Python method you'll often need. It works by writing new data into a list without overwriting its original content."
      ]
    },
    {
      "cell_type": "code",
      "execution_count": null,
      "metadata": {
        "id": "S5dFlHzm8Cdb"
      },
      "outputs": [],
      "source": [
        "nums = [1, 2, 3]\n",
        "appendedlist = [2, 4]\n",
        "for i in nums:\n",
        " a = i*3\n",
        " appendedlist.append(a)\n",
        "print(appendedlist)"
      ]
    },
    {
      "cell_type": "markdown",
      "metadata": {
        "id": "YvlgL6zw8Ibb"
      },
      "source": [
        "**range()**\n",
        "\n",
        "You might already be familiar with **range()** in Python. It's handy if you want to create a list of integers ranging between specific numbers without explicitly writing them out."
      ]
    },
    {
      "cell_type": "code",
      "execution_count": 13,
      "metadata": {
        "colab": {
          "base_uri": "https://localhost:8080/"
        },
        "id": "vuKDZmZx8ON0",
        "outputId": "9ec9c532-d872-4aea-ffcd-d13c3298db47"
      },
      "outputs": [
        {
          "name": "stdout",
          "output_type": "stream",
          "text": [
            "[1, 3, 5]\n"
          ]
        }
      ],
      "source": [
        "a = range(1, 6)\n",
        "b = []\n",
        "for i in a:\n",
        "  if i%2!=0:\n",
        "    b.append(i)\n",
        "print(b)"
      ]
    },
    {
      "cell_type": "markdown",
      "metadata": {
        "id": "y147fAzR8TAL"
      },
      "source": [
        "**slice()**\n",
        "\n",
        "Although the **slice()** function and the traditional slice method give similar outputs, using **slice()** in your code can make it more readable."
      ]
    },
    {
      "cell_type": "code",
      "execution_count": 14,
      "metadata": {
        "colab": {
          "base_uri": "https://localhost:8080/"
        },
        "id": "qk_7LvR68Yex",
        "outputId": "674ce929-2950-41c7-a7b2-cf7e842b999c"
      },
      "outputs": [
        {
          "name": "stdout",
          "output_type": "stream",
          "text": [
            "[1, 3, 4, 6]\n",
            "Pyth\n"
          ]
        }
      ],
      "source": [
        "b = [1, 3, 4, 6, 7, 10]\n",
        "st = \"Python tutorial\"\n",
        "sliceportion = slice(0, 4)\n",
        "print(b[sliceportion])\n",
        "print(st[sliceportion])"
      ]
    },
    {
      "cell_type": "markdown",
      "metadata": {
        "id": "X0onF8Vp8baG"
      },
      "source": [
        "**format()**\n",
        "\n",
        "The format() method lets you manipulate your string output. "
      ]
    },
    {
      "cell_type": "code",
      "execution_count": null,
      "metadata": {
        "id": "zLnpTgWK8ruo"
      },
      "outputs": [],
      "source": [
        "multiple = 5*2\n",
        "multiple2 = 7*2\n",
        "a = \"{} is the multiple of 5 and 2, but {} is for 7 and 2\"\n",
        "a = a.format(multiple, multiple2)\n",
        "print(a)"
      ]
    },
    {
      "cell_type": "markdown",
      "metadata": {
        "id": "7eDLlE2_-m-r"
      },
      "source": [
        "**strip()**\n",
        "\n",
        "Python's **strip()** removes leading characters from a string. It repeatedly removes the first character from the string, if it matches any of the supplied characters."
      ]
    },
    {
      "cell_type": "code",
      "execution_count": 15,
      "metadata": {
        "colab": {
          "base_uri": "https://localhost:8080/"
        },
        "id": "sdvxegSr-rY8",
        "outputId": "8f7f4a57-cd6e-4d41-d8d8-018affa51223"
      },
      "outputs": [
        {
          "name": "stdout",
          "output_type": "stream",
          "text": [
            "ython tutorial\n"
          ]
        }
      ],
      "source": [
        "st = \" Python tutorial\"\n",
        "st = st.strip(\" P\")\n",
        "print(st)"
      ]
    },
    {
      "cell_type": "markdown",
      "metadata": {
        "id": "q4vnPlZu-vGQ"
      },
      "source": [
        "**abs()**\n",
        "\n",
        "Do you want to neutralize negative mathematical outputs? Then try out the **abs()** function."
      ]
    },
    {
      "cell_type": "code",
      "execution_count": 16,
      "metadata": {
        "colab": {
          "base_uri": "https://localhost:8080/"
        },
        "id": "ZUbNC7uQ-1Q3",
        "outputId": "ad95cc5f-1dbb-4f15-c91b-3ef7aee5f23f"
      },
      "outputs": [
        {
          "name": "stdout",
          "output_type": "stream",
          "text": [
            "5\n"
          ]
        }
      ],
      "source": [
        "neg = 4 - 9\n",
        "pos = abs(neg)\n",
        "print(pos)"
      ]
    },
    {
      "cell_type": "markdown",
      "metadata": {
        "id": "ZqyRHyBs-3FK"
      },
      "source": [
        "**upper()**\n",
        "\n",
        "As the name implies, the **upper()** method converts string characters into their uppercase equivalent"
      ]
    },
    {
      "cell_type": "code",
      "execution_count": 17,
      "metadata": {
        "colab": {
          "base_uri": "https://localhost:8080/"
        },
        "id": "s6UdLINa-7Zv",
        "outputId": "8d76db0a-5f9c-440d-ee7f-d6c4ba937c83"
      },
      "outputs": [
        {
          "name": "stdout",
          "output_type": "stream",
          "text": [
            "PYTHON TUTORIAL\n"
          ]
        }
      ],
      "source": [
        "y = \"Python tutorial\"\n",
        "y = y.upper()\n",
        "print(y)"
      ]
    },
    {
      "cell_type": "markdown",
      "metadata": {
        "id": "BkZbcUN6-97O"
      },
      "source": [
        "**lower()**\n",
        "\n",
        "You guessed right! Python's **lower()** is the opposite of **upper()**. So it converts string characters to lowercases:"
      ]
    },
    {
      "cell_type": "code",
      "execution_count": 18,
      "metadata": {
        "colab": {
          "base_uri": "https://localhost:8080/"
        },
        "id": "inLgtbnGBSXN",
        "outputId": "edd43d8a-16df-4979-9251-175206106fa4"
      },
      "outputs": [
        {
          "name": "stdout",
          "output_type": "stream",
          "text": [
            "python tutorial\n"
          ]
        }
      ],
      "source": [
        "y = \"PYTHON TUTORIAL\"\n",
        "y = y.lower()\n",
        "print(y)"
      ]
    },
    {
      "cell_type": "markdown",
      "metadata": {
        "id": "5dqXcjmBBdv0"
      },
      "source": [
        "**sorted()**\n",
        "\n",
        "The **sorted()** function works by making a list from an iterable and then arranging its values in descending or ascending order:"
      ]
    },
    {
      "cell_type": "code",
      "execution_count": 19,
      "metadata": {
        "colab": {
          "base_uri": "https://localhost:8080/"
        },
        "id": "mtq4X7S0Bc6v",
        "outputId": "3162e9fa-1744-4808-8a4e-6f221d3d0384"
      },
      "outputs": [
        {
          "name": "stdout",
          "output_type": "stream",
          "text": [
            "[9, 4, 3, 1]\n",
            "[3, 5, 8, 9]\n"
          ]
        }
      ],
      "source": [
        "f = {1, 4, 9, 3} # Try it on a set\n",
        "sort = {\"G\":8, \"A\":5, \"B\":9, \"F\":3} # Try it on a dictionary\n",
        "print(sorted(f, reverse=True)) # Descending\n",
        "print(sorted(sort.values())) # Ascending (default)"
      ]
    },
    {
      "cell_type": "markdown",
      "metadata": {
        "id": "WAMLmOOmB9FT"
      },
      "source": [
        "**join()**\n",
        "\n",
        "The **join()** function lets you merge string items in a list."
      ]
    },
    {
      "cell_type": "code",
      "execution_count": 20,
      "metadata": {
        "colab": {
          "base_uri": "https://localhost:8080/"
        },
        "id": "4epMzuGRCBYV",
        "outputId": "befe6194-08db-4dee-f475-1a78f1a87039"
      },
      "outputs": [
        {
          "name": "stdout",
          "output_type": "stream",
          "text": [
            "Python tutorial on MUO\n"
          ]
        }
      ],
      "source": [
        "a = [\"Python\", \"tutorial\", \"on\", \"MUO\"]\n",
        "a = \" \".join(a)\n",
        "print(a)"
      ]
    },
    {
      "cell_type": "markdown",
      "metadata": {
        "id": "ybvKqQHtCG5I"
      },
      "source": [
        "**replace()**\n",
        "\n",
        "Python's **replace()** method lets you replace some parts of a string with another character. It's often handy in data science, especially during data cleaning."
      ]
    },
    {
      "cell_type": "code",
      "execution_count": 21,
      "metadata": {
        "colab": {
          "base_uri": "https://localhost:8080/"
        },
        "id": "K4afSEYDCaQi",
        "outputId": "88b686d0-1ed2-428c-9e3a-f501901118b7"
      },
      "outputs": [
        {
          "name": "stdout",
          "output_type": "stream",
          "text": [
            "Cart name\n",
            "First name\n",
            "Last name\n"
          ]
        }
      ],
      "source": [
        "columns = [\"Cart_name\", \"First_name\", \"Last_name\"]\n",
        "for i in columns:\n",
        " i = i.replace(\"_\", \" \")\n",
        " print(i)"
      ]
    },
    {
      "cell_type": "markdown",
      "metadata": {},
      "source": [
        "**zip()**\n",
        "\n",
        "The **zip()** function takes iterables (can be zero or more), aggregates them in a tuple, and returns it."
      ]
    },
    {
      "cell_type": "code",
      "execution_count": 1,
      "metadata": {},
      "outputs": [
        {
          "name": "stdout",
          "output_type": "stream",
          "text": [
            "[('Java', 14), ('Python', 3), ('JavaScript', 6)]\n"
          ]
        }
      ],
      "source": [
        "languages = ['Java', 'Python', 'JavaScript']\n",
        "versions = [14, 3, 6]\n",
        "\n",
        "result = zip(languages, versions)\n",
        "print(list(result))"
      ]
    },
    {
      "cell_type": "code",
      "execution_count": 2,
      "metadata": {},
      "outputs": [
        {
          "name": "stdout",
          "output_type": "stream",
          "text": [
            "('f', 'f', 'f')\n",
            "('l', 'l', 'l')\n",
            "('o', 'o', 'i')\n",
            "('w', 'w', 'g')\n"
          ]
        }
      ],
      "source": [
        "strs = [\"flower\",\"flow\",\"flight\"]\n",
        "for x in zip(*strs):\n",
        "  print(x)"
      ]
    },
    {
      "cell_type": "markdown",
      "metadata": {},
      "source": [
        "**lambda()**\n",
        "\n",
        "A lambda function can take any number of arguments, but can only have one expression."
      ]
    },
    {
      "cell_type": "code",
      "execution_count": 4,
      "metadata": {},
      "outputs": [
        {
          "name": "stdout",
          "output_type": "stream",
          "text": [
            "15\n",
            "30\n",
            "13\n"
          ]
        }
      ],
      "source": [
        "x = lambda a : a + 10\n",
        "print(x(5))\n",
        "\n",
        "x = lambda a, b : a * b\n",
        "print(x(5, 6))\n",
        "\n",
        "x = lambda a, b, c : a + b + c\n",
        "print(x(5, 6, 2))"
      ]
    },
    {
      "cell_type": "markdown",
      "metadata": {},
      "source": [
        "**counter()**\n",
        "\n",
        "A **counter** is a container that stores elements as dictionary keys, and their counts are stored as dictionary values."
      ]
    },
    {
      "cell_type": "code",
      "execution_count": 5,
      "metadata": {},
      "outputs": [
        {
          "name": "stdout",
          "output_type": "stream",
          "text": [
            "Counter({2: 4, 3: 4, 1: 3, 4: 2, 5: 1})\n",
            "dict_items([(1, 3), (2, 4), (3, 4), (4, 2), (5, 1)])\n",
            "dict_keys([1, 2, 3, 4, 5])\n",
            "dict_values([3, 4, 4, 2, 1])\n"
          ]
        }
      ],
      "source": [
        "from collections import Counter\n",
        "\n",
        "myList = [1,1,2,3,4,5,3,2,3,4,2,1,2,3]\n",
        "print(Counter(myList))\n",
        "print(Counter(myList).items())\n",
        "print(Counter(myList).keys())\n",
        "print(Counter(myList).values())"
      ]
    }
  ],
  "metadata": {
    "colab": {
      "authorship_tag": "ABX9TyPvn+yBdwwGHd/k+WZmNzDG",
      "include_colab_link": true,
      "name": "Python Basics - 20 Python Functions.ipynb",
      "provenance": []
    },
    "kernelspec": {
      "display_name": "Python 3.10.5 64-bit",
      "language": "python",
      "name": "python3"
    },
    "language_info": {
      "codemirror_mode": {
        "name": "ipython",
        "version": 3
      },
      "file_extension": ".py",
      "mimetype": "text/x-python",
      "name": "python",
      "nbconvert_exporter": "python",
      "pygments_lexer": "ipython3",
      "version": "3.10.5"
    },
    "vscode": {
      "interpreter": {
        "hash": "0d7fd96aeadd740978789f2880dd43822d8681a39e327029c33ff72656207c4b"
      }
    }
  },
  "nbformat": 4,
  "nbformat_minor": 0
}
