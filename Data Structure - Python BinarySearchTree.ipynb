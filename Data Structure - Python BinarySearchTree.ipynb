{
  "nbformat": 4,
  "nbformat_minor": 0,
  "metadata": {
    "colab": {
      "name": "Data Science Basics - Python BinarySearchTree.ipynb",
      "provenance": [],
      "authorship_tag": "ABX9TyMyxroX0EnVRXsq3iXgh17G",
      "include_colab_link": true
    },
    "kernelspec": {
      "name": "python3",
      "display_name": "Python 3"
    },
    "language_info": {
      "name": "python"
    }
  },
  "cells": [
    {
      "cell_type": "markdown",
      "metadata": {
        "id": "view-in-github",
        "colab_type": "text"
      },
      "source": [
        "<a href=\"https://colab.research.google.com/github/sahug/python-data-structure/blob/main/Data%20Structure%20-%20Python%20BinarySearchTree.ipynb\" target=\"_parent\"><img src=\"https://colab.research.google.com/assets/colab-badge.svg\" alt=\"Open In Colab\"/></a>"
      ]
    },
    {
      "cell_type": "markdown",
      "source": [
        "**Data Science Basics - Python BinarySearchTree**"
      ],
      "metadata": {
        "id": "YNd6qH8iwJz2"
      }
    },
    {
      "cell_type": "code",
      "source": [
        "class BinarySearchTreeNode:\n",
        "\n",
        "  def __init__(self, data):\n",
        "    self.data = data\n",
        "    self.left = None\n",
        "    self.right = None\n",
        "\n",
        "  def add_child(self, data):\n",
        "    # Check for Duplicate    \n",
        "    if data == self.data:\n",
        "      return\n",
        "    \n",
        "    # Add to Left, if less than value of current node\n",
        "    if data < self.data:\n",
        "      if self.left:\n",
        "        self.left.add_child(data) # If there is a Left Node just add to it\n",
        "      else:\n",
        "        self.left = BinarySearchTreeNode(data) # If there is no Left node we will create it. Recursive Method.\n",
        "    # Add to Right, if greater than value of current node\n",
        "    else:\n",
        "      if self.right:\n",
        "        self.right.add_child(data) # If there is a Right Node just add to it\n",
        "      else:\n",
        "        self.right = BinarySearchTreeNode(data) # If there is no Right node we will create it. Recursive Method.\n",
        "\n",
        "  def in_order_traversal(self):\n",
        "    elements = []\n",
        "\n",
        "    # Visit Left Tree\n",
        "    if self.left:\n",
        "      elements += self.left.in_order_traversal()\n",
        "\n",
        "    # Visit Base Node\n",
        "    elements.append(self.data)\n",
        "\n",
        "    # Visit Right Tree\n",
        "    if self.right:\n",
        "      elements += self.right.in_order_traversal()\n",
        "\n",
        "    return elements\n",
        "\n",
        "  #traverse all Left, all Right and then Root\n",
        "  def post_order_traversal(self):\n",
        "    elements = []\n",
        "    if self.left:\n",
        "        elements += self.left.post_order_traversal()\n",
        "    if self.right:\n",
        "        elements += self.right.post_order_traversal()\n",
        "\n",
        "    elements.append(self.data)\n",
        "\n",
        "    return elements\n",
        "\n",
        "  #traverse all Root, all Left and then all Right\n",
        "  def pre_order_traversal(self):\n",
        "    elements = [self.data]\n",
        "    if self.left:\n",
        "        elements += self.left.pre_order_traversal()\n",
        "    if self.right:\n",
        "        elements += self.right.pre_order_traversal()\n",
        "\n",
        "    return elements\n",
        "\n",
        "  \n",
        "  def search(self, val):\n",
        "    if self.data == val:\n",
        "      return True\n",
        "\n",
        "    if val < self.data:\n",
        "      if self.left:\n",
        "        return self.left.search(val)\n",
        "      else:\n",
        "        return False\n",
        "\n",
        "    if val > self.data:\n",
        "      if self.right:\n",
        "        return self.right.search(val)\n",
        "      else:\n",
        "        return False\n",
        "\n",
        "  # Traverse all the way to Right to find Max\n",
        "  def find_max(self):\n",
        "    if self.right is None:\n",
        "      return self.data\n",
        "    return self.right.find_max()\n",
        "\n",
        "\n",
        "  # Traverse all the way to Left to find Min\n",
        "  def find_min(self):\n",
        "    if self.left is None:\n",
        "      return self.data\n",
        "    return self.left.find_min()\n",
        "\n",
        "  \n",
        "  def calculate_sum(self): \n",
        "    return sum(self.in_order_traversal())\n",
        "\n",
        "  def delete(self, val):\n",
        "    if val < self.data:\n",
        "      if self.left:\n",
        "        self.left = self.left.delete(val)\n",
        "    elif val > self.data:\n",
        "        self.right = self.right.delete(val)\n",
        "    else:\n",
        "      if self.left is None and self.right is None:\n",
        "        return None\n",
        "      if self.left is None:\n",
        "        return self.left\n",
        "      if self.right is None:\n",
        "        return self.right\n",
        "\n",
        "      min_val = self.right.find_min()\n",
        "      self.data = min_val\n",
        "      self.right = self.right.delete(min_val)\n",
        "\n",
        "    return self\n",
        "    "
      ],
      "metadata": {
        "id": "L1YZE-05xKhZ"
      },
      "execution_count": 8,
      "outputs": []
    },
    {
      "cell_type": "code",
      "source": [
        "def build_tree(elements):\n",
        "  root = BinarySearchTreeNode(elements[0])\n",
        "\n",
        "  for i in range(1, len(elements)):\n",
        "    root.add_child(elements[i])\n",
        "\n",
        "  return root"
      ],
      "metadata": {
        "id": "fc8ViVbt2dFf"
      },
      "execution_count": 9,
      "outputs": []
    },
    {
      "cell_type": "markdown",
      "source": [
        "**Numeric Data**"
      ],
      "metadata": {
        "id": "BC71OjP-6oyM"
      }
    },
    {
      "cell_type": "code",
      "source": [
        "if __name__ == \"__main__\":\n",
        "  numbers = [17, 4, 1, 20, 9, 23, 18, 34]\n",
        "  numbers_tree = build_tree(numbers)\n",
        "  print(numbers_tree.in_order_traversal())\n",
        "  print(numbers_tree.calculate_sum())\n",
        "  print(numbers_tree.pre_order_traversal())\n",
        "  print(numbers_tree.post_order_traversal())\n",
        "  print(numbers_tree.search(20))\n",
        "  print(numbers_tree.search(200))\n",
        "\n",
        "  # Delete\n",
        "  numbers_tree.delete(20)\n",
        "  print(numbers_tree.in_order_traversal())"
      ],
      "metadata": {
        "colab": {
          "base_uri": "https://localhost:8080/"
        },
        "id": "jeBf_Ggc2KW8",
        "outputId": "f74689af-1bd8-44be-a986-db9dcaa79f76"
      },
      "execution_count": 10,
      "outputs": [
        {
          "output_type": "stream",
          "name": "stdout",
          "text": [
            "[1, 4, 9, 17, 18, 20, 23, 34]\n",
            "126\n",
            "[17, 4, 1, 9, 20, 18, 23, 34]\n",
            "[1, 9, 4, 18, 34, 23, 20, 17]\n",
            "True\n",
            "False\n",
            "[1, 4, 9, 17, 18, 23]\n"
          ]
        }
      ]
    },
    {
      "cell_type": "markdown",
      "source": [
        "**Alphabetical Data**"
      ],
      "metadata": {
        "id": "p6TbeDo_6tsC"
      }
    },
    {
      "cell_type": "code",
      "source": [
        "if __name__ == '__main__':\n",
        "    countries = [\"India\",\"Pakistan\",\"Germany\", \"USA\",\"China\",\"India\",\"UK\",\"USA\"]\n",
        "    country_tree = build_tree(countries)\n",
        "    print(country_tree.in_order_traversal())\n",
        "    print(country_tree.search(\"UK\"))\n",
        "    print(country_tree.search(\"Sweden\"))"
      ],
      "metadata": {
        "colab": {
          "base_uri": "https://localhost:8080/"
        },
        "id": "FcbxAOaO6fWc",
        "outputId": "312fa6e5-aba7-4017-cdda-f7094f0c96ef"
      },
      "execution_count": null,
      "outputs": [
        {
          "output_type": "stream",
          "name": "stdout",
          "text": [
            "['China', 'Germany', 'India', 'Pakistan', 'UK', 'USA']\n",
            "True\n",
            "False\n"
          ]
        }
      ]
    }
  ]
}