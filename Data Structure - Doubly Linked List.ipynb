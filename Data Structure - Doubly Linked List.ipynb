{
  "nbformat": 4,
  "nbformat_minor": 0,
  "metadata": {
    "colab": {
      "name": "Data Science Basics - Linked List.ipynb",
      "provenance": [],
      "collapsed_sections": [],
      "authorship_tag": "ABX9TyMOfPYoWDg72iDp610UuOul",
      "include_colab_link": true
    },
    "kernelspec": {
      "name": "python3",
      "display_name": "Python 3"
    },
    "language_info": {
      "name": "python"
    }
  },
  "cells": [
    {
      "cell_type": "markdown",
      "metadata": {
        "id": "view-in-github",
        "colab_type": "text"
      },
      "source": [
        "<a href=\"https://colab.research.google.com/github/sahug/python-data-structure/blob/main/Data%20Structure%20-%20Doubly%20Linked%20List.ipynb\" target=\"_parent\"><img src=\"https://colab.research.google.com/assets/colab-badge.svg\" alt=\"Open In Colab\"/></a>"
      ]
    },
    {
      "cell_type": "markdown",
      "source": [
        "**Data Science Basics - Doubly Linked List**"
      ],
      "metadata": {
        "id": "2g3ziHh2BxcZ"
      }
    },
    {
      "cell_type": "markdown",
      "source": [
        "**Node Class** - Represents Each Individual Element in a Linked List"
      ],
      "metadata": {
        "id": "mH0SjTaCB5wn"
      }
    },
    {
      "cell_type": "code",
      "execution_count": 59,
      "metadata": {
        "id": "s7mfoUinBtO8"
      },
      "outputs": [],
      "source": [
        "class Node:\n",
        "  def __init__(self, data=None, next=None, prev=None):\n",
        "    self.data = data\n",
        "    self.next = next\n",
        "    self.prev = prev"
      ]
    },
    {
      "cell_type": "markdown",
      "source": [
        "**Linked List** - Has **Head** variable, a pointer to the head of the Linked List"
      ],
      "metadata": {
        "id": "xh-pil-OCKUF"
      }
    },
    {
      "cell_type": "code",
      "source": [
        "class DoublyLinkedList:\n",
        "\n",
        "  def __init__(self):\n",
        "    # head - Start element of the LinkedList\n",
        "    self.head = None\n",
        "\n",
        "\n",
        "  def print_forward(self):\n",
        "    if self.head is None:\n",
        "        print(\"Linked list is empty\")\n",
        "        return\n",
        "\n",
        "    itr = self.head\n",
        "    l_l_str = ''\n",
        "    while itr:\n",
        "        l_l_str += str(itr.data) + ' --> '\n",
        "        itr = itr.next\n",
        "    print(l_l_str)\n",
        "\n",
        "\n",
        "  def print_backward(self):\n",
        "    if self.head is None:\n",
        "        print(\"Linked list is empty\")\n",
        "        return\n",
        "\n",
        "    last_node = self.get_last_node()\n",
        "    itr = last_node\n",
        "    l_l_str = ''\n",
        "    while itr:\n",
        "        l_l_str += itr.data + '-->'\n",
        "        itr = itr.prev\n",
        "    print(\"Link list in reverse: \", l_l_str)\n",
        "\n",
        "\n",
        "  def get_last_node(self):\n",
        "      itr = self.head\n",
        "      while itr.next:\n",
        "          itr = itr.next\n",
        "      return itr\n",
        "\n",
        "\n",
        "  # Method to insert at the begning of the LinkedList\n",
        "  def insert_at_begening(self, data):\n",
        "    # Call Node to represent this element    \n",
        "    # data - Element we are adding\n",
        "    # next - Next element will be the current head. \n",
        "    # The current head before adding the new element is the first element. After adding the new element this head will become the next element.\n",
        "    if self.head == None:\n",
        "      node = Node(data, self.head, None)\n",
        "      self.head = node\n",
        "    else:\n",
        "      node = Node(data, self.head, None)\n",
        "      self.head.prev = node\n",
        "      self.head = node\n",
        "\n",
        "\n",
        "  def insert_at_end(self, data):\n",
        "    #If list is empty, this element becomes the first element and hence the current Head.\n",
        "    if self.head is None:\n",
        "      self.head = Node(data, None, None)\n",
        "      return\n",
        "\n",
        "    #Start iterating from Head.\n",
        "    itr = self.head\n",
        "\n",
        "    # Keep iterating util we reah the end\n",
        "    while itr.next:\n",
        "      itr = itr.next\n",
        "\n",
        "    # Add the new element\n",
        "    itr.next = Node(data, None, itr)\n",
        "\n",
        "  \n",
        "  # Insert a new Linked List\n",
        "  def insert_values(self, data_list):\n",
        "    self.head = None\n",
        "    # Adding all new element to the end one by one\n",
        "    for data in data_list:\n",
        "      self.insert_at_end(data) \n",
        "\n",
        "\n",
        "  # Print Length of Linked List\n",
        "  def get_length(self):\n",
        "    count = 0\n",
        "    itr = self.head\n",
        "    while itr:\n",
        "      count += 1\n",
        "      itr = itr.next\n",
        "    return count\n",
        "\n",
        "\n",
        "  # Remove Element At Index\n",
        "  def remove_at(self, index):\n",
        "    if index < 0 or index > self.get_length():    \n",
        "      raise Exception(\"invalid Index\")\n",
        "\n",
        "    if index == 0:\n",
        "      self.head = self.head.next\n",
        "      self.head.prev = None\n",
        "      return\n",
        "\n",
        "    count = 0\n",
        "    itr = self.head\n",
        "    \n",
        "    # To remove an element at particular index.\n",
        "    # First we have to find the given index element's previous element\n",
        "    # Point this element's previous element to the element's next element\n",
        "    # When the element is removed for the link it is deleted.\n",
        "    while itr:\n",
        "      if count == index: # find the given index element's previous element\n",
        "        itr.prev.next = itr.next # Point this element's previous element to the element's next element\n",
        "        if itr.next:\n",
        "          itr.next.prev = itr.prev\n",
        "        break       \n",
        "      \n",
        "      itr = itr.next\n",
        "      count += 1\n",
        "\n",
        "\n",
        "  # Insert Element At Index\n",
        "  def insert_at(self, index, data):\n",
        "    if index < 0 or index > self.get_length():    \n",
        "      raise Exception(\"invalid Index\")\n",
        "\n",
        "    if index == 0:\n",
        "      self.insert_at_begening(data)      \n",
        "      return\n",
        "\n",
        "    count = 0\n",
        "    itr = self.head\n",
        "\n",
        "    # To insert an element at particular index.\n",
        "    # First we have to find the element at previous index\n",
        "    # Create the new element here\n",
        "    # Point the previous element to this new element\n",
        "    # The new element will automatically poin to next element\n",
        "    \n",
        "    while itr:\n",
        "      if count == index - 1: # find the element at previous index\n",
        "        node = Node(data, itr.next, itr) # Create New Element\n",
        "        if node.next:\n",
        "          node.next.prev = node\n",
        "        itr.next = node # Point the previous element to this new element\n",
        "        break       \n",
        "      \n",
        "      itr = itr.next\n",
        "      count += 1\n",
        "\n",
        "\n",
        "  # Insert After Value\n",
        "  def insert_after_value(self, data_after, data_to_insert):  \n",
        "    itr = self.head  \n",
        "    while itr:\n",
        "      if itr.data == data_after:\n",
        "        itr = self.head \n",
        "        node = Node(data_to_insert, itr.next, itr)\n",
        "        itr.next = node\n",
        "        break\n",
        "      itr = itr.next\n",
        "      \n",
        "\n",
        "  # Remove by value\n",
        "  def remove_by_value(self, data):\n",
        "    itr = self.head\n",
        "    index = 0\n",
        "    while itr:\n",
        "      index += 1\n",
        "      if itr.data == data:\n",
        "        self.remove_at(index - 1)\n",
        "        break\n",
        "      itr = itr.next\n",
        "\n",
        "\n",
        "  # Print Linked List\n",
        "  def print(self):    \n",
        "    # If LL is empty \n",
        "    if self.head is None:\n",
        "      print(\"Linked List is empty\")\n",
        "      return\n",
        "\n",
        "    # If not empty we will iterate thru the list\n",
        "    itr = self.head # First Element in LL\n",
        "\n",
        "    l_l_str = \"\"\n",
        "\n",
        "    while itr:\n",
        "      l_l_str += str(itr.data) + \"--->\"\n",
        "      itr = itr.next\n",
        "\n",
        "    print(l_l_str)\n"
      ],
      "metadata": {
        "id": "2Hit1eZ3CXoH"
      },
      "execution_count": 60,
      "outputs": []
    },
    {
      "cell_type": "code",
      "source": [
        "if __name__ == '__main__':\n",
        "  ll = DoublyLinkedList()\n",
        "  ll.insert_values([\"banana\",\"mango\",\"grapes\",\"orange\"])\n",
        "  ll.print_forward()\n",
        "  ll.print_backward()\n",
        "  ll.insert_at_end(\"figs\")\n",
        "  ll.print_forward()\n",
        "  ll.insert_at(0,\"jackfruit\")\n",
        "  ll.print_forward()\n",
        "  ll.insert_at(6,\"dates\")\n",
        "  ll.print_forward()\n",
        "  ll.insert_at(2,\"kiwi\")\n",
        "  ll.print_forward()"
      ],
      "metadata": {
        "colab": {
          "base_uri": "https://localhost:8080/"
        },
        "id": "FksfDR_4EArG",
        "outputId": "fac57f3b-ed6b-43d4-da10-265e5de4079e"
      },
      "execution_count": 61,
      "outputs": [
        {
          "output_type": "stream",
          "name": "stdout",
          "text": [
            "banana --> mango --> grapes --> orange --> \n",
            "Link list in reverse:  orange-->grapes-->mango-->banana-->\n",
            "banana --> mango --> grapes --> orange --> figs --> \n",
            "jackfruit --> banana --> mango --> grapes --> orange --> figs --> \n",
            "jackfruit --> banana --> mango --> grapes --> orange --> figs --> dates --> \n",
            "jackfruit --> banana --> kiwi --> mango --> grapes --> orange --> figs --> dates --> \n"
          ]
        }
      ]
    }
  ]
}