{
  "nbformat": 4,
  "nbformat_minor": 0,
  "metadata": {
    "colab": {
      "name": "Data Structure - Python Binary Search.ipynb",
      "provenance": [],
      "authorship_tag": "ABX9TyOHxn3trgO/pIojDXvEjKsD",
      "include_colab_link": true
    },
    "kernelspec": {
      "name": "python3",
      "display_name": "Python 3"
    },
    "language_info": {
      "name": "python"
    }
  },
  "cells": [
    {
      "cell_type": "markdown",
      "metadata": {
        "id": "view-in-github",
        "colab_type": "text"
      },
      "source": [
        "<a href=\"https://colab.research.google.com/github/sahug/ds-basics/blob/main/Data%20Structure%20-%20Python%20Binary%20Search.ipynb\" target=\"_parent\"><img src=\"https://colab.research.google.com/assets/colab-badge.svg\" alt=\"Open In Colab\"/></a>"
      ]
    },
    {
      "cell_type": "markdown",
      "source": [
        "**Data Structure - Python Binary Search**"
      ],
      "metadata": {
        "id": "YNd6qH8iwJz2"
      }
    },
    {
      "cell_type": "markdown",
      "source": [
        "Create a Decorator for measuring"
      ],
      "metadata": {
        "id": "3b9701O3hnUN"
      }
    },
    {
      "cell_type": "code",
      "source": [
        "import time\n",
        "def time_it(func):\n",
        "  def wrapper(*args, **kwargs):\n",
        "    start = time.time()\n",
        "    result = func(*args,**kwargs)\n",
        "    end = time.time()\n",
        "    print(func.__name__ +\" took \" + str((end-start)*1000) + \" mil sec\")\n",
        "    return result\n",
        "  return wrapper"
      ],
      "metadata": {
        "id": "XNlt3PQGeqtx"
      },
      "execution_count": 39,
      "outputs": []
    },
    {
      "cell_type": "markdown",
      "source": [
        "Linear Search"
      ],
      "metadata": {
        "id": "GNHdmrceh3WR"
      }
    },
    {
      "cell_type": "code",
      "source": [
        "@time_it\n",
        "def linear_search(number_list, number_to_find):\n",
        "  for index, element in enumerate(number_list):\n",
        "    if element == number_to_find:\n",
        "      return index\n",
        "  return -1"
      ],
      "metadata": {
        "id": "t9sYvdAJYlH_"
      },
      "execution_count": 35,
      "outputs": []
    },
    {
      "cell_type": "markdown",
      "source": [
        "Binary Search"
      ],
      "metadata": {
        "id": "STKcuYumh6Bm"
      }
    },
    {
      "cell_type": "code",
      "source": [
        "@time_it\n",
        "def binary_search(numbers_list, number_to_find):\n",
        "  left_index = 0\n",
        "  right_index = len(numbers_list) - 1\n",
        "  mid_index = 0\n",
        "\n",
        "  while left_index <= right_index:\n",
        "    mid_index = (left_index + right_index) // 2\n",
        "    mid_number = numbers_list[mid_index]\n",
        "\n",
        "    if mid_number == number_to_find:\n",
        "        return mid_index\n",
        "\n",
        "    if mid_number < number_to_find:\n",
        "        left_index = mid_index + 1\n",
        "    else:\n",
        "        right_index = mid_index - 1\n",
        "\n",
        "  return -1"
      ],
      "metadata": {
        "id": "kFsrNr8LYrOQ"
      },
      "execution_count": 36,
      "outputs": []
    },
    {
      "cell_type": "markdown",
      "source": [
        "Binary Search Recursive"
      ],
      "metadata": {
        "id": "8GmJjb6Kh_rb"
      }
    },
    {
      "cell_type": "code",
      "source": [
        "@time_it\n",
        "def binary_search_recursive(numbers_list, number_to_find, left_index, right_index):\n",
        "  if right_index < left_index:\n",
        "    return -1\n",
        "\n",
        "  mid_index = (left_index + right_index) // 2\n",
        "  if mid_index >= len(numbers_list) or mid_index < 0:\n",
        "    return -1\n",
        "\n",
        "  mid_number = numbers_list[mid_index]\n",
        "\n",
        "  if mid_number == number_to_find:\n",
        "    return mid_index\n",
        "\n",
        "  if mid_number < number_to_find:\n",
        "    left_index = mid_index + 1\n",
        "  else:\n",
        "    right_index = mid_index - 1\n",
        "\n",
        "  return binary_search_recursive(numbers_list, number_to_find, left_index, right_index)\n"
      ],
      "metadata": {
        "id": "Ws4AJmLpeTba"
      },
      "execution_count": 37,
      "outputs": []
    },
    {
      "cell_type": "code",
      "source": [
        "if __name__ == \"__main__\":\n",
        "  numbers_list = [12, 15, 17, 19, 21, 24, 45, 67]\n",
        "\n",
        "  print(linear_search(numbers_list, 45), \"\\n\")\n",
        "  print(linear_search(numbers_list, 1234), \"\\n\")\n",
        "\n",
        "  print(binary_search(numbers_list, 24), \"\\n\")\n",
        "  print(binary_search(numbers_list, 1234), \"\\n\")\n",
        "\n",
        "  print(binary_search_recursive(numbers_list, 24, 0, len(numbers_list)), \"\\n\")\n",
        "  print(binary_search_recursive(numbers_list, 1234, 0, len(numbers_list)), \"\\n\")"
      ],
      "metadata": {
        "id": "rhrlNgGUYvDS",
        "colab": {
          "base_uri": "https://localhost:8080/"
        },
        "outputId": "28e47f21-d161-4737-fb00-c5ac1f68bd0d"
      },
      "execution_count": 41,
      "outputs": [
        {
          "output_type": "stream",
          "name": "stdout",
          "text": [
            "linear_search took 0.0040531158447265625 mil sec\n",
            "6 \n",
            "\n",
            "linear_search took 0.0057220458984375 mil sec\n",
            "-1 \n",
            "\n",
            "binary_search took 0.003337860107421875 mil sec\n",
            "5 \n",
            "\n",
            "binary_search took 0.0030994415283203125 mil sec\n",
            "-1 \n",
            "\n",
            "binary_search_recursive took 0.0011920928955078125 mil sec\n",
            "binary_search_recursive took 0.03457069396972656 mil sec\n",
            "binary_search_recursive took 0.06771087646484375 mil sec\n",
            "5 \n",
            "\n",
            "binary_search_recursive took 0.00095367431640625 mil sec\n",
            "binary_search_recursive took 0.03361701965332031 mil sec\n",
            "binary_search_recursive took 0.06365776062011719 mil sec\n",
            "binary_search_recursive took 0.09465217590332031 mil sec\n",
            "-1 \n",
            "\n"
          ]
        }
      ]
    }
  ]
}