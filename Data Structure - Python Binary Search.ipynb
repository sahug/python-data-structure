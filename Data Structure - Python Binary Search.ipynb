{
  "nbformat": 4,
  "nbformat_minor": 0,
  "metadata": {
    "colab": {
      "name": "Data Structure - Python Binary Search.ipynb",
      "provenance": [],
      "authorship_tag": "ABX9TyPgJhTDalU4LmJ+ibSOUFGb",
      "include_colab_link": true
    },
    "kernelspec": {
      "name": "python3",
      "display_name": "Python 3"
    },
    "language_info": {
      "name": "python"
    }
  },
  "cells": [
    {
      "cell_type": "markdown",
      "metadata": {
        "id": "view-in-github",
        "colab_type": "text"
      },
      "source": [
        "<a href=\"https://colab.research.google.com/github/sahug/python-data-structure/blob/main/Data%20Structure%20-%20Python%20Binary%20Search.ipynb\" target=\"_parent\"><img src=\"https://colab.research.google.com/assets/colab-badge.svg\" alt=\"Open In Colab\"/></a>"
      ]
    },
    {
      "cell_type": "markdown",
      "source": [
        "**Data Structure - Python Binary Search**"
      ],
      "metadata": {
        "id": "YNd6qH8iwJz2"
      }
    },
    {
      "cell_type": "markdown",
      "source": [
        "**Create a Decorator for measuring**"
      ],
      "metadata": {
        "id": "3b9701O3hnUN"
      }
    },
    {
      "cell_type": "code",
      "source": [
        "import time\n",
        "def time_it(func):\n",
        "  def wrapper(*args, **kwargs):\n",
        "    start = time.time()\n",
        "    result = func(*args,**kwargs)\n",
        "    end = time.time()\n",
        "    print(func.__name__ +\" took \" + str((end-start)*1000) + \" mil sec\")\n",
        "    return result\n",
        "  return wrapper"
      ],
      "metadata": {
        "id": "XNlt3PQGeqtx"
      },
      "execution_count": 1,
      "outputs": []
    },
    {
      "cell_type": "markdown",
      "source": [
        "**Linear Search**"
      ],
      "metadata": {
        "id": "GNHdmrceh3WR"
      }
    },
    {
      "cell_type": "code",
      "source": [
        "@time_it\n",
        "def linear_search(number_list, number_to_find):\n",
        "  for index, element in enumerate(number_list):\n",
        "    if element == number_to_find:\n",
        "      return index\n",
        "  return -1"
      ],
      "metadata": {
        "id": "t9sYvdAJYlH_"
      },
      "execution_count": 2,
      "outputs": []
    },
    {
      "cell_type": "markdown",
      "source": [
        "**Binary Search**"
      ],
      "metadata": {
        "id": "STKcuYumh6Bm"
      }
    },
    {
      "cell_type": "code",
      "source": [
        "@time_it\n",
        "def binary_search(numbers_list, number_to_find):\n",
        "  left_index = 0\n",
        "  right_index = len(numbers_list) - 1\n",
        "  mid_index = 0\n",
        "\n",
        "  while left_index <= right_index:\n",
        "    mid_index = (left_index + right_index) // 2\n",
        "    mid_number = numbers_list[mid_index]\n",
        "\n",
        "    if mid_number == number_to_find:\n",
        "        return mid_index\n",
        "\n",
        "    if mid_number < number_to_find:\n",
        "        left_index = mid_index + 1\n",
        "    else:\n",
        "        right_index = mid_index - 1\n",
        "\n",
        "  return -1"
      ],
      "metadata": {
        "id": "kFsrNr8LYrOQ"
      },
      "execution_count": 3,
      "outputs": []
    },
    {
      "cell_type": "markdown",
      "source": [
        "**Find All Occurances**"
      ],
      "metadata": {
        "id": "a6XVTWxTmYOJ"
      }
    },
    {
      "cell_type": "code",
      "source": [
        "@time_it\n",
        "def find_all_occurances(numbers, number_to_find):\n",
        "    index = binary_search(numbers, number_to_find)\n",
        "    indices = [index]\n",
        "    # find indices on left hand side\n",
        "    i = index-1\n",
        "    while i >=0:\n",
        "        if numbers[i] == number_to_find:\n",
        "            indices.append(i)\n",
        "        else:\n",
        "            break\n",
        "        i = i - 1\n",
        "\n",
        "    # find indices on right hand side\n",
        "    i = index + 1\n",
        "    while i<len(numbers):\n",
        "        if numbers[i] == number_to_find:\n",
        "            indices.append(i)\n",
        "        else:\n",
        "            break\n",
        "        i = i + 1\n",
        "\n",
        "    return sorted(indices)"
      ],
      "metadata": {
        "id": "dN34h_17mM0E"
      },
      "execution_count": 9,
      "outputs": []
    },
    {
      "cell_type": "markdown",
      "source": [
        "**Binary Search Recursive**"
      ],
      "metadata": {
        "id": "8GmJjb6Kh_rb"
      }
    },
    {
      "cell_type": "code",
      "source": [
        "@time_it\n",
        "def binary_search_recursive(numbers_list, number_to_find, left_index, right_index):\n",
        "  if right_index < left_index:\n",
        "    return -1\n",
        "\n",
        "  mid_index = (left_index + right_index) // 2\n",
        "  if mid_index >= len(numbers_list) or mid_index < 0:\n",
        "    return -1\n",
        "\n",
        "  mid_number = numbers_list[mid_index]\n",
        "\n",
        "  if mid_number == number_to_find:\n",
        "    return mid_index\n",
        "\n",
        "  if mid_number < number_to_find:\n",
        "    left_index = mid_index + 1\n",
        "  else:\n",
        "    right_index = mid_index - 1\n",
        "\n",
        "  return binary_search_recursive(numbers_list, number_to_find, left_index, right_index)\n"
      ],
      "metadata": {
        "id": "Ws4AJmLpeTba"
      },
      "execution_count": 4,
      "outputs": []
    },
    {
      "cell_type": "code",
      "source": [
        "if __name__ == \"__main__\":\n",
        "  numbers_list = [12, 15, 17, 19, 21, 24, 45, 67]\n",
        "\n",
        "  print(linear_search(numbers_list, 45), \"\\n\")\n",
        "  print(linear_search(numbers_list, 1234), \"\\n\")\n",
        "\n",
        "  print(binary_search(numbers_list, 24), \"\\n\")\n",
        "  print(binary_search(numbers_list, 1234), \"\\n\")\n",
        "\n",
        "  print(binary_search_recursive(numbers_list, 24, 0, len(numbers_list)), \"\\n\")\n",
        "  print(binary_search_recursive(numbers_list, 1234, 0, len(numbers_list)), \"\\n\")"
      ],
      "metadata": {
        "id": "rhrlNgGUYvDS",
        "colab": {
          "base_uri": "https://localhost:8080/"
        },
        "outputId": "cde54923-6e20-44cd-f004-bb80164faa5a"
      },
      "execution_count": 5,
      "outputs": [
        {
          "output_type": "stream",
          "name": "stdout",
          "text": [
            "linear_search took 0.004291534423828125 mil sec\n",
            "6 \n",
            "\n",
            "linear_search took 0.0050067901611328125 mil sec\n",
            "-1 \n",
            "\n",
            "binary_search took 0.003337860107421875 mil sec\n",
            "5 \n",
            "\n",
            "binary_search took 0.005245208740234375 mil sec\n",
            "-1 \n",
            "\n",
            "binary_search_recursive took 0.0011920928955078125 mil sec\n",
            "binary_search_recursive took 0.05602836608886719 mil sec\n",
            "binary_search_recursive took 0.08487701416015625 mil sec\n",
            "5 \n",
            "\n",
            "binary_search_recursive took 0.0016689300537109375 mil sec\n",
            "binary_search_recursive took 0.025510787963867188 mil sec\n",
            "binary_search_recursive took 0.04792213439941406 mil sec\n",
            "binary_search_recursive took 0.07128715515136719 mil sec\n",
            "-1 \n",
            "\n"
          ]
        }
      ]
    },
    {
      "cell_type": "code",
      "source": [
        "if __name__ == \"__main__\":\n",
        "  numbers_list = [1, 4, 6, 9, 10, 5, 7]\n",
        "  print(binary_search(numbers_list, 5), \"\\n\")\n",
        "  #Since the list is not sorted it is returning -1. For Bibary search the list should be a sorted list."
      ],
      "metadata": {
        "id": "oSKWOL0clK2-",
        "outputId": "0f00dbbf-f450-4824-8738-1b79d181ea8e",
        "colab": {
          "base_uri": "https://localhost:8080/"
        }
      },
      "execution_count": 8,
      "outputs": [
        {
          "output_type": "stream",
          "name": "stdout",
          "text": [
            "binary_search took 0.0057220458984375 mil sec\n",
            "-1 \n",
            "\n"
          ]
        }
      ]
    },
    {
      "cell_type": "code",
      "source": [
        "if __name__ == '__main__':\n",
        "    numbers = [1,4,6,9,11,15,15,15,17,21,34,34,56]\n",
        "    number_to_find = 15\n",
        "    indices = find_all_occurances(numbers, number_to_find)\n",
        "    print(f\"Indices of occurances of {number_to_find} are {indices}\")"
      ],
      "metadata": {
        "id": "E1di5blCmQmA",
        "outputId": "412144af-7a3f-48e3-b1d1-ee0af7c20bc9",
        "colab": {
          "base_uri": "https://localhost:8080/"
        }
      },
      "execution_count": 10,
      "outputs": [
        {
          "output_type": "stream",
          "name": "stdout",
          "text": [
            "binary_search took 0.00286102294921875 mil sec\n",
            "find_all_occurances took 0.22602081298828125 mil sec\n",
            "Indices of occurances of 15 are [5, 6, 7]\n"
          ]
        }
      ]
    }
  ]
}