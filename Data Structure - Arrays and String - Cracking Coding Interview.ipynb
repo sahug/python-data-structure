{
  "nbformat": 4,
  "nbformat_minor": 0,
  "metadata": {
    "colab": {
      "name": "Data Structure - Arrays and String - Cracking Coding Interview.ipynb",
      "provenance": [],
      "authorship_tag": "ABX9TyNIYZHVaKrMVICfgmguVepN",
      "include_colab_link": true
    },
    "kernelspec": {
      "name": "python3",
      "display_name": "Python 3"
    },
    "language_info": {
      "name": "python"
    }
  },
  "cells": [
    {
      "cell_type": "markdown",
      "metadata": {
        "id": "view-in-github",
        "colab_type": "text"
      },
      "source": [
        "<a href=\"https://colab.research.google.com/github/sahug/python-data-structure/blob/main/Data%20Structure%20-%20Arrays%20and%20String%20-%20Cracking%20Coding%20Interview.ipynb\" target=\"_parent\"><img src=\"https://colab.research.google.com/assets/colab-badge.svg\" alt=\"Open In Colab\"/></a>"
      ]
    },
    {
      "cell_type": "markdown",
      "source": [
        "**Data Structure - Arrays and String - Cracking Coding Interview**"
      ],
      "metadata": {
        "id": "PkAiiNkxH50x"
      }
    },
    {
      "cell_type": "markdown",
      "source": [
        "**Arrays and String**"
      ],
      "metadata": {
        "id": "yMg0sQ7RfIkn"
      }
    },
    {
      "cell_type": "markdown",
      "source": [
        "**Is Unique:** Implement an algorithm to determine if a string has all unique characters. What if you cannot use additional data structures? \n",
        "\n",
        "`Hints: #44, #117, #132 `"
      ],
      "metadata": {
        "id": "OiDYz4fzIQEu"
      }
    },
    {
      "cell_type": "code",
      "execution_count": 6,
      "metadata": {
        "colab": {
          "base_uri": "https://localhost:8080/"
        },
        "id": "EWLqwsArHvh1",
        "outputId": "3ca197f8-84e0-4372-feda-fecf4b60ca70"
      },
      "outputs": [
        {
          "output_type": "stream",
          "name": "stdout",
          "text": [
            "False\n",
            "False\n",
            "True\n",
            "True\n",
            "False\n",
            "False\n"
          ]
        }
      ],
      "source": [
        "def isUnique(string: str):  \n",
        "  size = len(string)\n",
        "  for i in range(size):\n",
        "      if string[i] in string[i+1:]:\n",
        "        return False\n",
        "  return True\n",
        "\n",
        "print(isUnique(\"44\"))\n",
        "print(isUnique(\"117\"))\n",
        "print(isUnique(\"132\"))\n",
        "print(isUnique(\"abc\"))\n",
        "print(isUnique(\"aba\"))\n",
        "print(isUnique(\"1234567890 aabba\"))"
      ]
    },
    {
      "cell_type": "markdown",
      "source": [
        "**Check Permutation:** Given two strings, write a method to decide if one is a permutation of the other. A Permutation of a string is another string that contains same characters, only the order of characters can be different. For example, “abcd” and “dabc” are Permutation of each other.\n",
        "\n",
        "`Hints: ft , #84, #122, #131`"
      ],
      "metadata": {
        "id": "IhS2tXX-KVvb"
      }
    },
    {
      "cell_type": "code",
      "source": [
        "def isPermutation(s1: str, s2: str):\n",
        "\n",
        "  if len(s1) != len(s2):\n",
        "    return False\n",
        "\n",
        "  s1 = list(s1)  \n",
        "  s2 = list(s2)  \n",
        "\n",
        "  s1.sort()\n",
        "  s2.sort()\n",
        "\n",
        "  if(all(x in s1 for x in s2)):  \n",
        "    return True \n",
        "  else:\n",
        "    return False\n",
        "\n",
        "print(isPermutation(\"abcd\", \"dcba\"))\n",
        "print(isPermutation(\"321\", \"123\"))\n",
        "print(isPermutation(\"abcd\", \"dca\"))\n",
        "print(isPermutation(\"31\", \"123\"))\n"
      ],
      "metadata": {
        "colab": {
          "base_uri": "https://localhost:8080/"
        },
        "id": "Trz5ml97LMb1",
        "outputId": "c96a7f75-fa29-45ef-d676-9b4afce809b3"
      },
      "execution_count": 11,
      "outputs": [
        {
          "output_type": "stream",
          "name": "stdout",
          "text": [
            "True\n",
            "True\n",
            "False\n",
            "False\n"
          ]
        }
      ]
    },
    {
      "cell_type": "markdown",
      "source": [
        "**URLify:** Write a method to replace all spaces in a string with '%20'. You may assume that the string \n",
        "has sufficient space at the end to hold the additional characters, and that you are given the \"true\" \n",
        "length of the string. (Note: If implementing in Java, please use a character array so that you can \n",
        "perform this operation in place.) \n",
        "\n",
        "**EXAMPLE**\n",
        "```\n",
        "Input: \"Mr 3ohn Smit h 13 \n",
        "Output: \"Mr%203ohn%20Smith\"\n",
        "```"
      ],
      "metadata": {
        "id": "OFQAVgG3OZoN"
      }
    },
    {
      "cell_type": "code",
      "source": [
        "def URLify(string):\n",
        "  string = \" \".join(string.split())\n",
        "  return string.strip().replace(\" \", \"%20\")\n",
        "\n",
        "print(URLify(\"Mr 3ohn Smit h 13 \"))\n",
        "print(URLify(\"Mr 3ohn Smit h        13                    \"))"
      ],
      "metadata": {
        "colab": {
          "base_uri": "https://localhost:8080/"
        },
        "id": "dALGND92OnUN",
        "outputId": "532dfb41-b6ec-4f90-c0cf-3056e69cd200"
      },
      "execution_count": 21,
      "outputs": [
        {
          "output_type": "stream",
          "name": "stdout",
          "text": [
            "Mr%203ohn%20Smit%20h%2013\n",
            "Mr%203ohn%20Smit%20h%2013\n"
          ]
        }
      ]
    },
    {
      "cell_type": "markdown",
      "source": [
        "**One Away:** There are three types of edits that can be performed on strings: insert a character, remove a character, or replace a character. Given two strings, write a function to check if they are one edit (or zero edits) away. \n",
        "\n",
        "**EXAMPLE** \n",
        "```\n",
        "pale , pie - > False \n",
        "pales , pale - > True \n",
        "pale , bale - > True \n",
        "pale , bake - > False\n",
        "```"
      ],
      "metadata": {
        "id": "1-5Y1dtuQWha"
      }
    },
    {
      "cell_type": "code",
      "source": [
        "def oneAway(s1, s2):\n",
        "\n",
        "  if abs(len(s1) - len(s2)) > 1:\n",
        "    return False\n",
        "\n",
        "  count = 0\n",
        "\n",
        "  for i in s1:\n",
        "    if i not in s2:\n",
        "      count += 1\n",
        "\n",
        "  if (count) > 1:\n",
        "    return False\n",
        "  else:\n",
        "    return True\n",
        "\n",
        "print(oneAway(\"pale\" , \"pie\"))\n",
        "print(oneAway(\"pales\" , \"pale\"))\n",
        "print(oneAway(\"pale\" , \"bale\"))\n",
        "print(oneAway(\"pale\" , \"bake\"))"
      ],
      "metadata": {
        "colab": {
          "base_uri": "https://localhost:8080/"
        },
        "id": "-ltPhtB3Q0S7",
        "outputId": "09ab2245-ee22-4773-c22c-270833ff0825"
      },
      "execution_count": 36,
      "outputs": [
        {
          "output_type": "stream",
          "name": "stdout",
          "text": [
            "False\n",
            "True\n",
            "True\n",
            "False\n"
          ]
        }
      ]
    },
    {
      "cell_type": "markdown",
      "source": [
        "**String Compression:** Implement a method to perform basic string compression using the counts of repeated characters. For example, the string aabcccccaaa would become **a2blc5a3**, If the \"compressed\" string would not become smaller than the original string, your method should return the original string. You can assume the string has only uppercase and lowercase letters (a - z). "
      ],
      "metadata": {
        "id": "hBao-0MVe0h4"
      }
    },
    {
      "cell_type": "code",
      "source": [
        "def stringCompression(string: str):\n",
        "\n",
        "  size = len(string)\n",
        "  count = 1\n",
        "  temp = string[0]\n",
        "  new_val = \"\"\n",
        "\n",
        "  for i in range(1, size):   \n",
        "\n",
        "    if i == size-1:\n",
        "        new_val = new_val + temp + str(count+1)        \n",
        "    if temp == string[i]:\n",
        "      count = count + 1            \n",
        "    else:                  \n",
        "      new_val = new_val + temp + str(count)             \n",
        "      count = 1         \n",
        "    temp = string[i]\n",
        "  \n",
        "  return new_val\n",
        "\n",
        "    \n",
        "print(stringCompression(\"aabcccccaaa\"))\n",
        "print(stringCompression(\"aabcccdccadaa\"))"
      ],
      "metadata": {
        "colab": {
          "base_uri": "https://localhost:8080/"
        },
        "id": "b-VyaZ4-fBsW",
        "outputId": "65f0b403-44c1-47da-c299-9d3aa751858a"
      },
      "execution_count": 198,
      "outputs": [
        {
          "output_type": "stream",
          "name": "stdout",
          "text": [
            "a2b1c5a3\n",
            "a2b1c3d1c2a1d1a2\n"
          ]
        }
      ]
    },
    {
      "cell_type": "markdown",
      "source": [
        "**Rotate Matrix**: Given an image represented by an NxN matrix, where each pixel in the image is 4 bytes, write a method to rotate the image by 90 degrees. Can you do this in place? \n",
        "\n",
        "![image.png](data:image/png;base64,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)"
      ],
      "metadata": {
        "id": "GheajOPsHTxu"
      }
    },
    {
      "cell_type": "code",
      "source": [
        "def rotateMatrix(matrix):\n",
        "  row = len(matrix)\n",
        "  col = len(matrix[1])\n",
        "\n",
        "  print(\"Original Matrix\")\n",
        "  print(\"\\n\") \n",
        "  for r in range(row):    \n",
        "    for c in range(col):    \n",
        "      print(matrix[r][c], end=\" \")  \n",
        "    print(\"\\n\")  \n",
        "\n",
        "  row_arr = []\n",
        "  for r in range(row):   \n",
        "    col_arr = [] \n",
        "    for c in range(col):  \n",
        "       # After Rotating 90 degree \n",
        "       # matrix[3][0] => new_mat[0][0]\n",
        "       # matrix[2][0] => new_mat[0][1]\n",
        "       # matrix[1][0] => new_mat[0][2]\n",
        "       # matrix[0][0] => new_mat[0][3]\n",
        "      col_arr.append(matrix[col-c-1][r])\n",
        "    row_arr.append(col_arr)\n",
        "\n",
        "  print(\"\\n\") \n",
        "  print(\"Rotated Matrix\") \n",
        "  print(\"\\n\") \n",
        "  for r in range(row):    \n",
        "    for c in range(col):    \n",
        "      print(row_arr[r][c], end=\" \")  \n",
        "    print(\"\\n\") \n",
        "\n",
        "a = [\n",
        "    [1, 2, 3, 4], \n",
        "    [5, 6, 7, 8],\n",
        "    [9, 10, 11, 12],\n",
        "    [13, 14, 15, 16]     \n",
        "     ]\n",
        "\n",
        "rotateMatrix(a)    "
      ],
      "metadata": {
        "colab": {
          "base_uri": "https://localhost:8080/"
        },
        "id": "qP24WDlPHuoD",
        "outputId": "97e73329-f9ce-427f-fecf-907159211f2d"
      },
      "execution_count": 73,
      "outputs": [
        {
          "output_type": "stream",
          "name": "stdout",
          "text": [
            "Original Matrix\n",
            "\n",
            "\n",
            "1 2 3 4 \n",
            "\n",
            "5 6 7 8 \n",
            "\n",
            "9 10 11 12 \n",
            "\n",
            "13 14 15 16 \n",
            "\n",
            "\n",
            "\n",
            "Rotated Matrix\n",
            "\n",
            "\n",
            "13 9 5 1 \n",
            "\n",
            "14 10 6 2 \n",
            "\n",
            "15 11 7 3 \n",
            "\n",
            "16 12 8 4 \n",
            "\n"
          ]
        }
      ]
    },
    {
      "cell_type": "markdown",
      "source": [
        "**Zero Matrix:** Write an algorithm such that if an element in an MxN matrix is 0, its entire row and column are set to 0."
      ],
      "metadata": {
        "id": "eKCZmCCod3k2"
      }
    },
    {
      "cell_type": "code",
      "source": [
        "def zeroMatrix(matrix):\n",
        "  row = len(matrix)\n",
        "  col = len(matrix[1])\n",
        "\n",
        "  print(\"Original Matrix\")\n",
        "  print(\"\\n\") \n",
        "  for r in range(row):    \n",
        "    for c in range(col):    \n",
        "      print(matrix[r][c], end=\" \")  \n",
        "    print(\"\\n\") \n",
        "\n",
        "  c = 0\n",
        "  r = 0\n",
        "\n",
        "  # Find Row and Column for value 0\n",
        "  for r in range(len(matrix)):    \n",
        "    if 0 in matrix[r]:       \n",
        "      for i in matrix[r]:\n",
        "        if i == 0:\n",
        "          r = r \n",
        "          break                        \n",
        "        else:\n",
        "          c += 1\n",
        "\n",
        "  # Set Entire Row to 0\n",
        "  matrix[r] = [0]*col #[0, 0, 0, 0] based on column size\n",
        "\n",
        "  # Set all column to 0\n",
        "  for j in matrix:\n",
        "    j[c] = 0\n",
        "\n",
        "  print(\"\\n\") \n",
        "  print(\"New Matrix\") \n",
        "  print(\"\\n\") \n",
        "  for r in range(row):    \n",
        "    for c in range(col):    \n",
        "      print(matrix[r][c], end=\" \")  \n",
        "    print(\"\\n\") \n",
        "\n",
        "a = [\n",
        "    [1, 2, 3, 4], \n",
        "    [5, 6, 1, 8],\n",
        "    [9, 10, 11, 12],\n",
        "    [13, 14, 0, 16],\n",
        "    [10, 18, 19, 20]     \n",
        "    ]\n",
        "\n",
        "zeroMatrix(a)    "
      ],
      "metadata": {
        "colab": {
          "base_uri": "https://localhost:8080/"
        },
        "id": "-Uq3G2gFjC3o",
        "outputId": "32c1f6ff-7b22-4bb8-f30c-d19e06db52b4"
      },
      "execution_count": 153,
      "outputs": [
        {
          "output_type": "stream",
          "name": "stdout",
          "text": [
            "Original Matrix\n",
            "\n",
            "\n",
            "1 2 3 4 \n",
            "\n",
            "5 6 1 8 \n",
            "\n",
            "9 10 11 12 \n",
            "\n",
            "13 14 0 16 \n",
            "\n",
            "10 18 19 20 \n",
            "\n",
            "\n",
            "\n",
            "New Matrix\n",
            "\n",
            "\n",
            "1 2 0 4 \n",
            "\n",
            "5 6 0 8 \n",
            "\n",
            "9 10 0 12 \n",
            "\n",
            "13 14 0 16 \n",
            "\n",
            "0 0 0 0 \n",
            "\n"
          ]
        }
      ]
    },
    {
      "cell_type": "markdown",
      "source": [
        "**String Rotation**; Assume you have a method isSubstrin g which checks if one word is a substring of another. Given two strings, si and s2, write code to check if s2 is a rotation of si using only one call to isSubstring [e.g., \"waterbottle \" is a rotation bottlewater\")."
      ],
      "metadata": {
        "id": "4jusYl2BFdnD"
      }
    },
    {
      "cell_type": "code",
      "source": [
        "def stringRotation(s1, s2):\n",
        "  # waterbottle in waterbottlewaterbottle\n",
        "  if s1 in s2+s2:\n",
        "    return True\n",
        "  else:\n",
        "    return False\n",
        "    \n",
        "print(stringRotation(\"waterbottle\", \"bottlewater\"))\n",
        "print(stringRotation(\"toothfair\", \"fairtooth\"))\n",
        "print(stringRotation(\"teethfair\", \"fairtooth\"))"
      ],
      "metadata": {
        "colab": {
          "base_uri": "https://localhost:8080/"
        },
        "id": "5NkajX53Fc8L",
        "outputId": "32ffc3f1-f506-452e-9bc2-58d5e5b95e13"
      },
      "execution_count": 181,
      "outputs": [
        {
          "output_type": "stream",
          "name": "stdout",
          "text": [
            "True\n",
            "True\n",
            "False\n"
          ]
        }
      ]
    }
  ]
}