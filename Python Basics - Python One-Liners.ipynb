{
  "nbformat": 4,
  "nbformat_minor": 0,
  "metadata": {
    "colab": {
      "name": "Python Basics - Python One-Liners.ipynb",
      "provenance": [],
      "authorship_tag": "ABX9TyMNHBqpUKZ7v7tqsO88CJ8O",
      "include_colab_link": true
    },
    "kernelspec": {
      "name": "python3",
      "display_name": "Python 3"
    },
    "language_info": {
      "name": "python"
    }
  },
  "cells": [
    {
      "cell_type": "markdown",
      "metadata": {
        "id": "view-in-github",
        "colab_type": "text"
      },
      "source": [
        "<a href=\"https://colab.research.google.com/github/sahug/python-data-structure/blob/main/Python%20Basics%20-%20Python%20One-Liners.ipynb\" target=\"_parent\"><img src=\"https://colab.research.google.com/assets/colab-badge.svg\" alt=\"Open In Colab\"/></a>"
      ]
    },
    {
      "cell_type": "markdown",
      "source": [
        "**One Line If Else**"
      ],
      "metadata": {
        "id": "tUjIsbD6wcCa"
      }
    },
    {
      "cell_type": "code",
      "source": [
        "var = 21 if 3<2 else 42\n",
        "print(var)"
      ],
      "metadata": {
        "colab": {
          "base_uri": "https://localhost:8080/"
        },
        "id": "dqmGWA7Bwe-x",
        "outputId": "a2687595-0d97-491c-e66e-35649f701c13"
      },
      "execution_count": 1,
      "outputs": [
        {
          "output_type": "stream",
          "name": "stdout",
          "text": [
            "42\n"
          ]
        }
      ]
    },
    {
      "cell_type": "markdown",
      "source": [
        "**One Line Elif**"
      ],
      "metadata": {
        "id": "yPBMJn4Owrqy"
      }
    },
    {
      "cell_type": "code",
      "source": [
        "x = 42\n",
        "print(\"no\") if x > 42 else print(\"yes\") if x == 42 else print(\"maybe\")"
      ],
      "metadata": {
        "colab": {
          "base_uri": "https://localhost:8080/"
        },
        "id": "AqEjqY2Swssg",
        "outputId": "306cb9e7-e98e-4d00-e9d2-e6e42ba5096e"
      },
      "execution_count": 3,
      "outputs": [
        {
          "output_type": "stream",
          "name": "stdout",
          "text": [
            "yes\n"
          ]
        }
      ]
    },
    {
      "cell_type": "markdown",
      "source": [
        "**If Without Else**"
      ],
      "metadata": {
        "id": "chouCUyvxEPj"
      }
    },
    {
      "cell_type": "code",
      "source": [
        "##############################\n",
        "# Method 1: Single-Line Def\n",
        "##############################\n",
        "def f1(x): return str(x * 3) + '!'\n",
        "print(f1(1))\n",
        "print(f1('python'))\n",
        "\n",
        "##############################\n",
        "# Method 2: Lambda Function\n",
        "##############################\n",
        "f2 = lambda x: str(x * 3) + '!'\n",
        "print(f2(1))\n",
        "print(f2('python'))\n",
        "\n",
        "##############################\n",
        "# Method 3: exec()\n",
        "##############################\n",
        "f3 = \"def f(x):\\n    return str(x * 3) + '!'\"\n",
        "exec(f3 + '\\nprint(f(1))')\n",
        "exec(f3 + \"\\nprint(f('python'))\")"
      ],
      "metadata": {
        "id": "d7w9LsG0xFS-"
      },
      "execution_count": null,
      "outputs": []
    },
    {
      "cell_type": "markdown",
      "source": [
        "**One Line For Loop If**"
      ],
      "metadata": {
        "id": "KJqGwm5Wx0Bk"
      }
    },
    {
      "cell_type": "code",
      "source": [
        "print([i**2 for i in range(10) if i%2==0])"
      ],
      "metadata": {
        "colab": {
          "base_uri": "https://localhost:8080/"
        },
        "id": "5sul_e0Hx5O_",
        "outputId": "ce1aaadd-1738-49c3-8cd7-ab98348eb99a"
      },
      "execution_count": 4,
      "outputs": [
        {
          "output_type": "stream",
          "name": "stdout",
          "text": [
            "[0, 4, 16, 36, 64]\n"
          ]
        }
      ]
    },
    {
      "cell_type": "markdown",
      "source": [
        "**One Line For Loop Lambda**"
      ],
      "metadata": {
        "id": "FfWazDgrx_Lx"
      }
    },
    {
      "cell_type": "code",
      "source": [
        "a = [1, 2, 3, 4]\n",
        "b = [x+1 for x in a]\n",
        "print(b)"
      ],
      "metadata": {
        "colab": {
          "base_uri": "https://localhost:8080/"
        },
        "id": "FQXkpI_CyK_C",
        "outputId": "955bab0d-d251-4e56-cfba-5717276da361"
      },
      "execution_count": 6,
      "outputs": [
        {
          "output_type": "stream",
          "name": "stdout",
          "text": [
            "[2, 3, 4, 5]\n"
          ]
        }
      ]
    },
    {
      "cell_type": "markdown",
      "source": [
        "**One Line While Loop**"
      ],
      "metadata": {
        "id": "tMJkRh-VyXHc"
      }
    },
    {
      "cell_type": "code",
      "source": [
        "# Method 1: Single-Statement Body\n",
        "while True:\n",
        "    print('hi')\n",
        "    break\n",
        "\n",
        "# Method 2: Multiple-Statements Body\n",
        "c = 0\n",
        "while c < 10: print(c); c = c + 1\n",
        "\n",
        "\n",
        "# Method 3: Nested Statements Body\n",
        "while True: print('yes') if True else print('no')"
      ],
      "metadata": {
        "id": "6IYe-gweybHE"
      },
      "execution_count": null,
      "outputs": []
    },
    {
      "cell_type": "markdown",
      "source": [
        "**One Line Quicksort**"
      ],
      "metadata": {
        "id": "tfPLyVjny05D"
      }
    },
    {
      "cell_type": "code",
      "source": [
        "l = [4, 2, 1, 42, 3]\n",
        "q = lambda l: q([x for x in l[1:] if x <= l[0]]) + [l[0]] + q([x for x in l if x > l[0]]) if l else []\n",
        "## The Result\n",
        "print(q(l))"
      ],
      "metadata": {
        "colab": {
          "base_uri": "https://localhost:8080/"
        },
        "id": "-Xz3zFdEy2SO",
        "outputId": "815c9eac-aef7-4739-f675-ecd5156800ee"
      },
      "execution_count": 10,
      "outputs": [
        {
          "output_type": "stream",
          "name": "stdout",
          "text": [
            "[1, 2, 3, 4, 42]\n"
          ]
        }
      ]
    },
    {
      "cell_type": "markdown",
      "source": [
        "**One Line Recursion**"
      ],
      "metadata": {
        "id": "2oyX79G5z2yl"
      }
    },
    {
      "cell_type": "code",
      "source": [
        "# Method 1: Recursive Fibonacci\n",
        "def fib(n): return 1 if n in {0, 1} else fib(n-1) + fib(n-2)\n",
        "print(fib(10))\n",
        "# 89\n",
        "\n",
        "\n",
        "# Method 2: Recursive Factorial\n",
        "def fac(x): return 1 if x<=1 else x * fac(x-1)\n",
        "print(fac(10))\n",
        "# 3628800\n",
        "\n",
        "\n",
        "# Method 3: Recursive Factorial with Lambda\n",
        "fac = lambda n: 1 if n<=1 else n * fac(n-1)\n",
        "print(fac(10))\n",
        "# 3628800\n",
        "\n",
        "\n",
        "# Method 4: Recursive Quicksort\n",
        "unsorted = [33, 2, 3, 45, 6, 54, 33]\n",
        "q = lambda l: q([x for x in l[1:] if x <= l[0]]) + [l[0]] + q([x for x in l if x > l[0]]) if l else []\n",
        "print(q(unsorted))\n",
        "# [2, 3, 6, 33, 33, 45, 54]"
      ],
      "metadata": {
        "colab": {
          "base_uri": "https://localhost:8080/"
        },
        "id": "vNly28g1z31z",
        "outputId": "0d148397-cfa0-4b5b-f36f-e3cae3e8be2b"
      },
      "execution_count": 11,
      "outputs": [
        {
          "output_type": "stream",
          "name": "stdout",
          "text": [
            "89\n",
            "3628800\n",
            "3628800\n",
            "[2, 3, 6, 33, 33, 45, 54]\n"
          ]
        }
      ]
    },
    {
      "cell_type": "markdown",
      "source": [
        "**One Line Two For Loops (Double)**"
      ],
      "metadata": {
        "id": "mToGAjJJz-QA"
      }
    },
    {
      "cell_type": "code",
      "source": [
        "iter1 = [1, 2, 3, 4]\n",
        "iter2 = ['a', 'b', 'c']\n",
        "\n",
        "# Method 1: Nested List Comprehension\n",
        "[print(x, y) for x in iter1 for y in iter2]\n",
        "\n",
        "# Method 3: For Loop with List Comprehension\n",
        "for x in iter1: [print(x, y) for y in iter2]"
      ],
      "metadata": {
        "colab": {
          "base_uri": "https://localhost:8080/"
        },
        "id": "YHo_wuwVz_Oe",
        "outputId": "08b4d0a5-5371-45f4-9d04-69cc385bb1ea"
      },
      "execution_count": 12,
      "outputs": [
        {
          "output_type": "stream",
          "name": "stdout",
          "text": [
            "1 a\n",
            "1 b\n",
            "1 c\n",
            "2 a\n",
            "2 b\n",
            "2 c\n",
            "3 a\n",
            "3 b\n",
            "3 c\n",
            "4 a\n",
            "4 b\n",
            "4 c\n",
            "1 a\n",
            "1 b\n",
            "1 c\n",
            "2 a\n",
            "2 b\n",
            "2 c\n",
            "3 a\n",
            "3 b\n",
            "3 c\n",
            "4 a\n",
            "4 b\n",
            "4 c\n"
          ]
        }
      ]
    },
    {
      "cell_type": "markdown",
      "source": [
        "**One Line Two Commands**"
      ],
      "metadata": {
        "id": "uu3hzVeb0McA"
      }
    },
    {
      "cell_type": "code",
      "source": [
        "a = 1; b = 2; c = a + b; print(c)"
      ],
      "metadata": {
        "colab": {
          "base_uri": "https://localhost:8080/"
        },
        "id": "kYIAEWJg0O_z",
        "outputId": "db450b98-503f-46c4-973d-779a712ff511"
      },
      "execution_count": 13,
      "outputs": [
        {
          "output_type": "stream",
          "name": "stdout",
          "text": [
            "3\n"
          ]
        }
      ]
    },
    {
      "cell_type": "markdown",
      "source": [
        "**One Line Array Filter**"
      ],
      "metadata": {
        "id": "3-ZpzsjQ0hCA"
      }
    },
    {
      "cell_type": "code",
      "source": [
        "lst = [8, 2, 6, 4, 3, 1]\n",
        "\n",
        "# Filter all elements <8\n",
        "small = [x for x in lst if x<8]\n",
        "print(small)\n",
        "\n",
        "# Filter all even elements\n",
        "even = [x for x in lst if x%2==0]\n",
        "print(even)\n",
        "\n",
        "# Filter all odd elements\n",
        "odd = [x for x in lst if x%2]\n",
        "print(odd)"
      ],
      "metadata": {
        "colab": {
          "base_uri": "https://localhost:8080/"
        },
        "id": "e67KyJGi0izd",
        "outputId": "7a5e33b3-de3b-46e0-f11c-44e2648bb258"
      },
      "execution_count": 15,
      "outputs": [
        {
          "output_type": "stream",
          "name": "stdout",
          "text": [
            "[2, 6, 4, 3, 1]\n",
            "[8, 2, 6, 4]\n",
            "[3, 1]\n"
          ]
        }
      ]
    },
    {
      "cell_type": "markdown",
      "source": [
        "**One Line Append**"
      ],
      "metadata": {
        "id": "ymeiCQRu0rGL"
      }
    },
    {
      "cell_type": "code",
      "source": [
        "words = ['hi', 'hello', 'Python', 'a', 'the']\n",
        "stop_words = {'a', 'the'}\n",
        "filtered_words = []\n",
        "\n",
        "filtered_words = [word for word in words if word not in stop_words]\n",
        "print(filtered_words)"
      ],
      "metadata": {
        "colab": {
          "base_uri": "https://localhost:8080/"
        },
        "id": "9nWEIzJX0r_2",
        "outputId": "483e0d18-c0c7-40f6-f311-e7c331e185db"
      },
      "execution_count": 17,
      "outputs": [
        {
          "output_type": "stream",
          "name": "stdout",
          "text": [
            "['hi', 'hello', 'Python']\n"
          ]
        }
      ]
    },
    {
      "cell_type": "markdown",
      "source": [
        "**One Line Conditional Assignment**"
      ],
      "metadata": {
        "id": "LcCoQrV007Xj"
      }
    },
    {
      "cell_type": "code",
      "source": [
        "x = 2\n",
        "boo = True\n",
        "\n",
        "# Method 1: Ternary Operator\n",
        "x = 42 if boo else x\n",
        "print(x)\n",
        "\n",
        "# Method 2: Single-Line If Statement\n",
        "if boo: x = 42\n",
        "print(x)\n",
        "\n",
        "# Method 3: Tuple Syntax Hack\n",
        "x = (x, 42)[boo]\n",
        "print(x)"
      ],
      "metadata": {
        "colab": {
          "base_uri": "https://localhost:8080/"
        },
        "id": "T3i4ZvaF08Hk",
        "outputId": "2af43763-8d3f-4643-e067-1f76d24be123"
      },
      "execution_count": 18,
      "outputs": [
        {
          "output_type": "stream",
          "name": "stdout",
          "text": [
            "42\n",
            "42\n",
            "42\n"
          ]
        }
      ]
    },
    {
      "cell_type": "markdown",
      "source": [
        "**One Line Swap**"
      ],
      "metadata": {
        "id": "ddLFgjE91CyR"
      }
    },
    {
      "cell_type": "code",
      "source": [
        "a = 21\n",
        "b = 42\n",
        "\n",
        "# Swap One-Liner\n",
        "a, b = b, a\n",
        "\n",
        "# Print the result to the shell\n",
        "print(a, b)\n",
        "\n",
        "# 42 21"
      ],
      "metadata": {
        "colab": {
          "base_uri": "https://localhost:8080/"
        },
        "id": "4c_FLeYs1Dyg",
        "outputId": "a59210a1-9b55-49d6-fe95-8b1b50735e73"
      },
      "execution_count": 19,
      "outputs": [
        {
          "output_type": "stream",
          "name": "stdout",
          "text": [
            "42 21\n"
          ]
        }
      ]
    },
    {
      "cell_type": "markdown",
      "source": [
        "**One Line Sum**"
      ],
      "metadata": {
        "id": "XB6rhDn31J8j"
      }
    },
    {
      "cell_type": "code",
      "source": [
        "a = [1, 2, 3]\n",
        "\n",
        "print(sum(a))"
      ],
      "metadata": {
        "colab": {
          "base_uri": "https://localhost:8080/"
        },
        "id": "woBxgREx1K5q",
        "outputId": "8222a061-e5a0-4133-c792-1fdb6f6d1c46"
      },
      "execution_count": 20,
      "outputs": [
        {
          "output_type": "stream",
          "name": "stdout",
          "text": [
            "6\n"
          ]
        }
      ]
    },
    {
      "cell_type": "markdown",
      "source": [
        "**One Line Sort**"
      ],
      "metadata": {
        "id": "ekO5sWLH1PFk"
      }
    },
    {
      "cell_type": "code",
      "source": [
        "a = [4, 2, 1, 3]\n",
        "\n",
        "# Method 1: sorted()\n",
        "print(sorted(a))\n",
        "\n",
        "# Method 2: list.sort() + ternary\n",
        "print(a if a.sort() else a)\n",
        "\n",
        "# Method 3: semicolon\n",
        "a.sort(); print(a)"
      ],
      "metadata": {
        "colab": {
          "base_uri": "https://localhost:8080/"
        },
        "id": "-X65H-Rf1P1m",
        "outputId": "6de1d55c-212c-43af-f2cf-ae5e0bb572fe"
      },
      "execution_count": 21,
      "outputs": [
        {
          "output_type": "stream",
          "name": "stdout",
          "text": [
            "[1, 2, 3, 4]\n",
            "[1, 2, 3, 4]\n",
            "[1, 2, 3, 4]\n"
          ]
        }
      ]
    },
    {
      "cell_type": "markdown",
      "source": [
        "**One Line Semicolon**"
      ],
      "metadata": {
        "id": "FphrZdHq1YS-"
      }
    },
    {
      "cell_type": "code",
      "source": [
        "x = 'hi'; y = 'young'; z = 'friend'; print(x, y, z);"
      ],
      "metadata": {
        "colab": {
          "base_uri": "https://localhost:8080/"
        },
        "id": "QmqCYH_A1ZXL",
        "outputId": "9b10033d-b85a-4150-b672-52b0c8727cd6"
      },
      "execution_count": 22,
      "outputs": [
        {
          "output_type": "stream",
          "name": "stdout",
          "text": [
            "hi young friend\n"
          ]
        }
      ]
    },
    {
      "cell_type": "markdown",
      "source": [
        "**One Line Function Definition**"
      ],
      "metadata": {
        "id": "o-jdrOgU1cgM"
      }
    },
    {
      "cell_type": "code",
      "source": [
        "# Original code:\n",
        "def say_hi(*friends):\n",
        "    for friend in friends:\n",
        "        print('hi', friend)\n",
        "friends = ['Alice', 'Bob', 'Ann']\n",
        "say_hi(*friends)\n",
        "\n",
        "# Method 1: Lambda Function\n",
        "hi = lambda lst: [print('hi', x) for x in lst]\n",
        "hi(friends)\n",
        "\n",
        "# Method 2: Function Definition\n",
        "def hi(lst): [print('hi', x) for x in lst]\n",
        "hi(friends)"
      ],
      "metadata": {
        "colab": {
          "base_uri": "https://localhost:8080/"
        },
        "id": "wMRUQwG91dN_",
        "outputId": "94faad0d-32c2-408f-b20e-16cffce25da4"
      },
      "execution_count": 23,
      "outputs": [
        {
          "output_type": "stream",
          "name": "stdout",
          "text": [
            "hi Alice\n",
            "hi Bob\n",
            "hi Ann\n",
            "hi Alice\n",
            "hi Bob\n",
            "hi Ann\n",
            "hi Alice\n",
            "hi Bob\n",
            "hi Ann\n"
          ]
        }
      ]
    },
    {
      "cell_type": "markdown",
      "source": [
        "**One Line Dictionary**"
      ],
      "metadata": {
        "id": "tjB-_4f11shY"
      }
    },
    {
      "cell_type": "code",
      "source": [
        "# Given a list:\n",
        "a = ['Alice', 'Liz', 'Bob']\n",
        "\n",
        "# One-Line Statement Creating a Dict:\n",
        "d = dict(enumerate(a))\n",
        "print(d)"
      ],
      "metadata": {
        "colab": {
          "base_uri": "https://localhost:8080/"
        },
        "id": "2AAhk-iy1tUc",
        "outputId": "3b4591e4-8f17-4ce6-8e80-0ecf67b1f04c"
      },
      "execution_count": 24,
      "outputs": [
        {
          "output_type": "stream",
          "name": "stdout",
          "text": [
            "{0: 'Alice', 1: 'Liz', 2: 'Bob'}\n"
          ]
        }
      ]
    },
    {
      "cell_type": "markdown",
      "source": [
        "**One Line For Loop Append**"
      ],
      "metadata": {
        "id": "U_S8XTK81xiZ"
      }
    },
    {
      "cell_type": "code",
      "source": [
        "# Method 3\n",
        "friends = ['Ann', 'Alice']\n",
        "new_friends = ['Bob', 'Liz']\n",
        "\n",
        "# One-Liner:\n",
        "friends.extend(new_friends)\n",
        "\n",
        "# Results\n",
        "print(friends)\n",
        "# ['Ann', 'Alice', 'Bob', 'Liz']"
      ],
      "metadata": {
        "colab": {
          "base_uri": "https://localhost:8080/"
        },
        "id": "kV1dg6bQ1yex",
        "outputId": "66a79f1d-84b6-4fdf-8f60-2030e07ae4cb"
      },
      "execution_count": 25,
      "outputs": [
        {
          "output_type": "stream",
          "name": "stdout",
          "text": [
            "['Ann', 'Alice', 'Bob', 'Liz']\n"
          ]
        }
      ]
    },
    {
      "cell_type": "markdown",
      "source": [
        "**Multiple Variables in One Line**"
      ],
      "metadata": {
        "id": "UVPAg5nh18aX"
      }
    },
    {
      "cell_type": "code",
      "source": [
        "# MULTIPLE ASSIGNMENT\n",
        "a, b = 1, 2\n",
        "print(a)\n",
        "print(b) \n",
        "\n",
        "\n",
        "# MULTIPLE SAME VALUE \n",
        "a = b = 1\n",
        "print(a) \n",
        "print(b)"
      ],
      "metadata": {
        "colab": {
          "base_uri": "https://localhost:8080/"
        },
        "id": "HMKV5EhJ19GG",
        "outputId": "3696184f-41bf-4b7f-b767-75e0ac26d287"
      },
      "execution_count": 27,
      "outputs": [
        {
          "output_type": "stream",
          "name": "stdout",
          "text": [
            "1\n",
            "2\n",
            "1\n",
            "1\n"
          ]
        }
      ]
    },
    {
      "cell_type": "markdown",
      "source": [
        "**One Line Map**"
      ],
      "metadata": {
        "id": "imfZznq72W-A"
      }
    },
    {
      "cell_type": "code",
      "source": [
        "print(list(map(lambda x: x + 1, [1, 2, 3])))\n",
        "# [2, 3, 4]"
      ],
      "metadata": {
        "colab": {
          "base_uri": "https://localhost:8080/"
        },
        "id": "oki4VzrF2XwY",
        "outputId": "c1758145-65ae-4456-f367-a0cba216ab73"
      },
      "execution_count": 28,
      "outputs": [
        {
          "output_type": "stream",
          "name": "stdout",
          "text": [
            "[2, 3, 4]\n"
          ]
        }
      ]
    }
  ]
}