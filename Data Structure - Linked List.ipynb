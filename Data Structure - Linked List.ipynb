{
  "nbformat": 4,
  "nbformat_minor": 0,
  "metadata": {
    "colab": {
      "name": "Data Science Basics - Linked List.ipynb",
      "provenance": [],
      "collapsed_sections": [],
      "authorship_tag": "ABX9TyOv+ExP8nTNNHFTLlc6L+j0",
      "include_colab_link": true
    },
    "kernelspec": {
      "name": "python3",
      "display_name": "Python 3"
    },
    "language_info": {
      "name": "python"
    }
  },
  "cells": [
    {
      "cell_type": "markdown",
      "metadata": {
        "id": "view-in-github",
        "colab_type": "text"
      },
      "source": [
        "<a href=\"https://colab.research.google.com/github/sahug/python-data-structure/blob/main/Data%20Structure%20-%20Linked%20List.ipynb\" target=\"_parent\"><img src=\"https://colab.research.google.com/assets/colab-badge.svg\" alt=\"Open In Colab\"/></a>"
      ]
    },
    {
      "cell_type": "markdown",
      "source": [
        "**Data Science Basics - Linked List**"
      ],
      "metadata": {
        "id": "2g3ziHh2BxcZ"
      }
    },
    {
      "cell_type": "markdown",
      "source": [
        "**Node Class** - Represents Each Individual Element in a Linked List"
      ],
      "metadata": {
        "id": "mH0SjTaCB5wn"
      }
    },
    {
      "cell_type": "markdown",
      "source": [
        "**Important Notes:**\n",
        "\n",
        "- **Node()** - Create New Elements\n",
        "- **self.head** - Gives the head of the Linked List\n",
        "- **self.head.next** - Gives the next element from the head of the Linked List.\n",
        "- **self.head.next.next**  - Gives next to next element from the head and so on.\n",
        "- **self.head.data** - Gives the value of the head of the Linked List.\n"
      ],
      "metadata": {
        "id": "c7SetBpWgAVO"
      }
    },
    {
      "cell_type": "code",
      "execution_count": 1,
      "metadata": {
        "id": "s7mfoUinBtO8"
      },
      "outputs": [],
      "source": [
        "# Has an element and the pointer to next element\n",
        "# Data can contain integer, alphabets or complex objects\n",
        "class Node:\n",
        "  def __init__(self, data=None, next=None):\n",
        "    self.data = data\n",
        "    self.next = next"
      ]
    },
    {
      "cell_type": "code",
      "source": [
        "node = Node(1, None)\n",
        "print(node)\n",
        "print(node.data)\n",
        "print(node.next)"
      ],
      "metadata": {
        "id": "RP5G7TNnZqkm",
        "outputId": "93013f68-e4a3-42bf-9b30-d3f467f40cdd",
        "colab": {
          "base_uri": "https://localhost:8080/"
        }
      },
      "execution_count": 12,
      "outputs": [
        {
          "output_type": "stream",
          "name": "stdout",
          "text": [
            "<__main__.Node object at 0x7fa89b3b7b10>\n",
            "1\n",
            "None\n"
          ]
        }
      ]
    },
    {
      "cell_type": "markdown",
      "source": [
        "**Linked List** - Has **Head** variable, a pointer to the head of the Linked List"
      ],
      "metadata": {
        "id": "xh-pil-OCKUF"
      }
    },
    {
      "cell_type": "code",
      "source": [
        "class LinkedList:\n",
        "\n",
        "  def __init__(self):\n",
        "    # Points to the head of the linked list    \n",
        "    self.head = None\n",
        "\n",
        "  # Method to insert at the begning of the LinkedList\n",
        "  def insert_at_begening(self, data):\n",
        "    # Assume there is already elements and we are adding in front of the first element\n",
        "    # Call Node to represent this element    \n",
        "    # data - Element we are adding\n",
        "    # next - Next element will be the current head, existing 1st element a.k.a. current head. \n",
        "    # The current head before adding the new element is the first element. After adding the new element this head will become the next element.\n",
        "    node = Node(data=data, next=self.head) \n",
        "\n",
        "    # The new element becomes the new head. \n",
        "    self.head = node\n",
        "\n",
        "\n",
        "  def insert_at_end(self, data):\n",
        "    #If list is empty, this element becomes the first element and hence the current Head.\n",
        "    if self.head is None:\n",
        "      self.head = Node(data, None)\n",
        "      return\n",
        "\n",
        "    #Start iterating from Head.\n",
        "    itr = self.head\n",
        "\n",
        "    # Keep iterating util we reah the end\n",
        "    while itr.next:\n",
        "      itr = itr.next\n",
        "\n",
        "    # Add the new element\n",
        "    itr.next = Node(data, None)\n",
        "\n",
        "  \n",
        "  # Insert a new Linked List\n",
        "  def insert_values(self, data_list):\n",
        "    self.head = None\n",
        "    # Adding all new element to the end one by one\n",
        "    for data in data_list:\n",
        "      self.insert_at_end(data) \n",
        "\n",
        "\n",
        "  # Print Length of Linked List\n",
        "  def get_length(self):\n",
        "    count = 0\n",
        "    itr = self.head\n",
        "    while itr:\n",
        "      count += 1\n",
        "      itr = itr.next\n",
        "    return count\n",
        "\n",
        "\n",
        "  # Remove Element At Index\n",
        "  def remove_at(self, index):\n",
        "    if index < 0 or index > self.get_length():    \n",
        "      raise Exception(\"invalid Index\")\n",
        "\n",
        "    if index == 0:\n",
        "      self.head = self.head.next\n",
        "      return\n",
        "\n",
        "    count = 0\n",
        "    itr = self.head\n",
        "    \n",
        "    # To remove an element at particular index.\n",
        "    # First we have to find the given index element's previous element\n",
        "    # Point this element's previous element to the element's next element\n",
        "    # When the element is removed for the link it is deleted.\n",
        "    while itr:\n",
        "      if count == index -1: # find the given index element's previous element\n",
        "        itr.next = itr.next.next # Point this element's previous element to the element's next element\n",
        "        break       \n",
        "      \n",
        "      itr = itr.next\n",
        "      count += 1\n",
        "\n",
        "\n",
        "  # Insert Element At Index\n",
        "  def insert_at(self, index, data):\n",
        "    if index < 0 or index > self.get_length():    \n",
        "      raise Exception(\"invalid Index\")\n",
        "\n",
        "    if index == 0:\n",
        "      self.insert_at_begening(data)      \n",
        "      return\n",
        "\n",
        "    count = 0\n",
        "    itr = self.head\n",
        "\n",
        "    # To insert an element at particular index.\n",
        "    # First we have to find the element at previous index\n",
        "    # Create the new element here\n",
        "    # Point the previous element to this new element\n",
        "    # The new element will automatically poin to next element\n",
        "    \n",
        "    while itr:\n",
        "      if count == index - 1: # find the element at previous index\n",
        "        node = Node(data, itr.next) # Create New Element\n",
        "        itr.next = node # Point the previous element to this new element\n",
        "        break       \n",
        "      \n",
        "      itr = itr.next\n",
        "      count += 1\n",
        "\n",
        "  # Insert After Value\n",
        "  def insert_after_value(self, data_after, data_to_insert):  \n",
        "    itr = self.head  \n",
        "    while itr:\n",
        "      if itr.data == data_after:\n",
        "        itr = self.head \n",
        "        node = Node(data_to_insert, itr.next)\n",
        "        itr.next = node\n",
        "        break\n",
        "      itr = itr.next\n",
        "      \n",
        "\n",
        "  # Remove by value\n",
        "  def remove_by_value(self, data):\n",
        "    itr = self.head\n",
        "    index = 0\n",
        "    while itr:\n",
        "      index += 1\n",
        "      if itr.data == data:\n",
        "        self.remove_at(index-1)\n",
        "        break\n",
        "      itr = itr.next\n",
        "\n",
        "  # Print Linked List\n",
        "  def print(self):    \n",
        "    \n",
        "    # If LL is empty \n",
        "    if self.head is None:\n",
        "      print(\"Linked List is empty\")\n",
        "      return\n",
        "\n",
        "    # If not empty we will iterate thru the list\n",
        "    itr = self.head # First Element in LL\n",
        "\n",
        "    l_l_str = \"\"\n",
        "\n",
        "    while itr:\n",
        "      l_l_str += str(itr.data) + \"--->\"\n",
        "      itr = itr.next\n",
        "\n",
        "    print(l_l_str)\n"
      ],
      "metadata": {
        "id": "2Hit1eZ3CXoH"
      },
      "execution_count": null,
      "outputs": []
    },
    {
      "cell_type": "code",
      "source": [
        "if __name__ == \"__main__\":\n",
        "  l_l = LinkedList()"
      ],
      "metadata": {
        "id": "FksfDR_4EArG"
      },
      "execution_count": null,
      "outputs": []
    },
    {
      "cell_type": "code",
      "source": [
        "# Insert at begening\n",
        "l_l.insert_at_begening(5)\n",
        "l_l.insert_at_begening(89)\n",
        "l_l.print()"
      ],
      "metadata": {
        "id": "3-41CDp5-sbF"
      },
      "execution_count": null,
      "outputs": []
    },
    {
      "cell_type": "code",
      "source": [
        "# Insert at begening\n",
        "l_l.insert_at_end(79)\n",
        "l_l.print()"
      ],
      "metadata": {
        "id": "WMRNlM7559Hb",
        "outputId": "55acc103-1db3-4c2d-94e9-5e046932782f",
        "colab": {
          "base_uri": "https://localhost:8080/"
        }
      },
      "execution_count": null,
      "outputs": [
        {
          "output_type": "stream",
          "name": "stdout",
          "text": [
            "89--->5--->79--->\n"
          ]
        }
      ]
    },
    {
      "cell_type": "code",
      "source": [
        "  # Insert a new Linked List\n",
        "l_l.insert_values([\"banana\", \"mango\", \"grapes\", \"orange\"])\n",
        "l_l.print()"
      ],
      "metadata": {
        "id": "qRYcVkUfKQU4",
        "outputId": "c423bb2b-7b34-4aa8-db65-ba30a9190f21",
        "colab": {
          "base_uri": "https://localhost:8080/"
        }
      },
      "execution_count": null,
      "outputs": [
        {
          "output_type": "stream",
          "name": "stdout",
          "text": [
            "banana--->mango--->grapes--->orange--->\n"
          ]
        }
      ]
    },
    {
      "cell_type": "code",
      "source": [
        "# Length of Linked List\n",
        "print(\"Length : \", l_l.get_length())"
      ],
      "metadata": {
        "id": "V-5sfgQT6BQZ",
        "outputId": "8e52368b-2d71-4290-df20-1b3da33836aa",
        "colab": {
          "base_uri": "https://localhost:8080/"
        }
      },
      "execution_count": null,
      "outputs": [
        {
          "output_type": "stream",
          "name": "stdout",
          "text": [
            "Length :  4\n"
          ]
        }
      ]
    },
    {
      "cell_type": "code",
      "source": [
        "# Remove Element\n",
        "l_l.remove_at(2)\n",
        "l_l.print()"
      ],
      "metadata": {
        "id": "8jxAUUvR6CqV",
        "outputId": "3de7ef17-9f98-4bb1-c998-9f532cc8a139",
        "colab": {
          "base_uri": "https://localhost:8080/"
        }
      },
      "execution_count": null,
      "outputs": [
        {
          "output_type": "stream",
          "name": "stdout",
          "text": [
            "banana--->mango--->orange--->\n"
          ]
        }
      ]
    },
    {
      "cell_type": "code",
      "source": [
        "# Insert Element\n",
        "l_l.insert_at(0, \"figs\")\n",
        "l_l.insert_at(2, \"apple\")\n",
        "l_l.print()"
      ],
      "metadata": {
        "id": "LLezPF7V6EJW",
        "outputId": "26ff4664-3f49-4196-fcb1-878362d3c777",
        "colab": {
          "base_uri": "https://localhost:8080/"
        }
      },
      "execution_count": null,
      "outputs": [
        {
          "output_type": "stream",
          "name": "stdout",
          "text": [
            "figs--->banana--->apple--->mango--->orange--->\n"
          ]
        }
      ]
    },
    {
      "cell_type": "code",
      "source": [
        "# Insert after an element\n",
        "l_l.insert_after_value(\"banana\", \"papaya\")\n",
        "l_l.print()"
      ],
      "metadata": {
        "id": "eqtKcxZp6Fi9",
        "outputId": "9ae4401c-5a23-4f54-d85f-c86f96b4f215",
        "colab": {
          "base_uri": "https://localhost:8080/"
        }
      },
      "execution_count": null,
      "outputs": [
        {
          "output_type": "stream",
          "name": "stdout",
          "text": [
            "banana--->papaya--->mango--->grapes--->orange--->\n"
          ]
        }
      ]
    },
    {
      "cell_type": "code",
      "source": [
        "#Remove element By Value\n",
        "l_l.remove_by_value(\"papaya\")\n",
        "l_l.print()"
      ],
      "metadata": {
        "id": "b0ngK6E769ps",
        "outputId": "724479b3-800e-4e18-8d88-6e773e114ff4",
        "colab": {
          "base_uri": "https://localhost:8080/"
        }
      },
      "execution_count": null,
      "outputs": [
        {
          "output_type": "stream",
          "name": "stdout",
          "text": [
            "banana--->mango--->orange--->\n"
          ]
        }
      ]
    }
  ]
}