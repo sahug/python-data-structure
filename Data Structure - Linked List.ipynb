{
  "nbformat": 4,
  "nbformat_minor": 0,
  "metadata": {
    "colab": {
      "name": "Data Science Basics - Linked List.ipynb",
      "provenance": [],
      "collapsed_sections": [],
      "authorship_tag": "ABX9TyO6C+QlXQwKtoR0GCSdn24J",
      "include_colab_link": true
    },
    "kernelspec": {
      "name": "python3",
      "display_name": "Python 3"
    },
    "language_info": {
      "name": "python"
    }
  },
  "cells": [
    {
      "cell_type": "markdown",
      "metadata": {
        "id": "view-in-github",
        "colab_type": "text"
      },
      "source": [
        "<a href=\"https://colab.research.google.com/github/sahug/ds-basics/blob/main/Data%20Science%20Basics%20-%20Linked%20List\" target=\"_parent\"><img src=\"https://colab.research.google.com/assets/colab-badge.svg\" alt=\"Open In Colab\"/></a>"
      ]
    },
    {
      "cell_type": "markdown",
      "source": [
        "**Data Science Basics - Linked List**"
      ],
      "metadata": {
        "id": "2g3ziHh2BxcZ"
      }
    },
    {
      "cell_type": "markdown",
      "source": [
        "**Node Class** - Represents Each Individual Element in a Linked List"
      ],
      "metadata": {
        "id": "mH0SjTaCB5wn"
      }
    },
    {
      "cell_type": "code",
      "execution_count": 24,
      "metadata": {
        "id": "s7mfoUinBtO8"
      },
      "outputs": [],
      "source": [
        "class Node:\n",
        "  def __init__(self, data=None, next=None):\n",
        "    self.data = data\n",
        "    self.next = next"
      ]
    },
    {
      "cell_type": "markdown",
      "source": [
        "**Linked List** - Has **Head** variable, a pointer to the head of the Linked List"
      ],
      "metadata": {
        "id": "xh-pil-OCKUF"
      }
    },
    {
      "cell_type": "code",
      "source": [
        "class LinkedList:\n",
        "\n",
        "  def __init__(self):\n",
        "    self.head = None\n",
        "\n",
        "  # Method to insert at the begning of the LL\n",
        "  def insert_at_begening(self, data):\n",
        "    # Call Node to represent this element\n",
        "    # data - Element we are adding\n",
        "    # next - Next element will be the current head. The current head before adding the new element is the first element. After adding the new element this head will become the next element.\n",
        "    node = Node(data=data, next=self.head) \n",
        "\n",
        "    # The new element become the new head. \n",
        "    self.head = node\n",
        "\n",
        "\n",
        "  def insert_at_end(self, data):\n",
        "    #If list is empty, This element becomes the first element and hence the current Head.\n",
        "    if self.head is None:\n",
        "      self.head = Node(data, None)\n",
        "      return\n",
        "\n",
        "    #Start iterating from Head.\n",
        "    itr = self.head\n",
        "\n",
        "    # Keep iterating util we reah the end\n",
        "    while itr.next:\n",
        "      itr = itr.next\n",
        "\n",
        "    # Add the new element\n",
        "    itr.next = Node(data, None)\n",
        "\n",
        "  \n",
        "  # Insert a new Linked List\n",
        "  def insert_values(self, data_list):\n",
        "    self.head = None\n",
        "    for data in data_list:\n",
        "      self.insert_at_end(data)\n",
        "\n",
        "\n",
        "  # Print Length of Linked List\n",
        "  def get_length(self):\n",
        "    count = 0\n",
        "    itr = self.head\n",
        "    while itr:\n",
        "      count += 1\n",
        "      itr = itr.next\n",
        "    return count\n",
        "\n",
        "\n",
        "  # Remove Element At Index\n",
        "  def remove_at(self, index):\n",
        "    if index < 0 or index > self.get_length():    \n",
        "      raise Exception(\"invalid Index\")\n",
        "\n",
        "    if index == 0:\n",
        "      self.head = self.head.next\n",
        "      return\n",
        "\n",
        "    count = 0\n",
        "    itr = self.head\n",
        "    \n",
        "    # To remove an element at particular index.\n",
        "    # First we have to find the given index element's previous element\n",
        "    # Point this element's previous element to the element's next element\n",
        "    # When the element is removed for the link it is deleted.\n",
        "    while itr:\n",
        "      if count == index -1: # find the given index element's previous element\n",
        "        itr.next = itr.next.next # Point this element's previous element to the element's next element\n",
        "        break       \n",
        "      \n",
        "      itr = itr.next\n",
        "      count += 1\n",
        "\n",
        "\n",
        "  # Insert Element At Index\n",
        "  def insert_at(self, index, data):\n",
        "    if index < 0 or index > self.get_length():    \n",
        "      raise Exception(\"invalid Index\")\n",
        "\n",
        "    if index == 0:\n",
        "      self.insert_at_begening(data)      \n",
        "      return\n",
        "\n",
        "    count = 0\n",
        "    itr = self.head\n",
        "\n",
        "    # To insert an element at particular index.\n",
        "    # First we have to find the element at previous index\n",
        "    # Create the new element here\n",
        "    # Point the previous element to this new element\n",
        "    # The new element will automatically poin to next element\n",
        "    \n",
        "    while itr:\n",
        "      if count == index - 1: # find the element at previous index\n",
        "        node = Node(data, itr.next) # Create New Element\n",
        "        itr.next = node # Point the previous element to this new element\n",
        "        break       \n",
        "      \n",
        "      itr = itr.next\n",
        "      count += 1\n",
        "\n",
        "  # Print Linked List\n",
        "  def print(self):    \n",
        "    # If LL is empty \n",
        "    if self.head is None:\n",
        "      print(\"Linked List is empty\")\n",
        "      return\n",
        "\n",
        "    # If not empty we will iterate thru the list\n",
        "    itr = self.head # First Element in LL\n",
        "\n",
        "    l_l_str = \"\"\n",
        "\n",
        "    while itr:\n",
        "      l_l_str += str(itr.data) + \"--->\"\n",
        "      itr = itr.next\n",
        "\n",
        "    print(l_l_str)\n"
      ],
      "metadata": {
        "id": "2Hit1eZ3CXoH"
      },
      "execution_count": 25,
      "outputs": []
    },
    {
      "cell_type": "code",
      "source": [
        "if __name__ == \"__main__\":\n",
        "  l_l = LinkedList()\n",
        "  \n",
        "  # Insert at begening\n",
        "  l_l.insert_at_begening(5)\n",
        "  l_l.insert_at_begening(89)\n",
        "  l_l.print()\n",
        "\n",
        "  # Insert at begening\n",
        "  l_l.insert_at_end(79)\n",
        "  l_l.print()\n",
        "\n",
        "  # Insert a new Linked List\n",
        "  l_l.insert_values([\"banana\", \"mango\", \"grapes\", \"orange\"])\n",
        "  l_l.print()\n",
        "\n",
        "  # Length of Linked List\n",
        "  print(\"Length : \", l_l.get_length())\n",
        "\n",
        "  # Remove Element\n",
        "  l_l.remove_at(2)\n",
        "  l_l.print()\n",
        "\n",
        "  # Insert Element\n",
        "  l_l.insert_at(0, \"figs\")\n",
        "  l_l.insert_at(2, \"apple\")\n",
        "  l_l.print()\n",
        "\n"
      ],
      "metadata": {
        "colab": {
          "base_uri": "https://localhost:8080/"
        },
        "id": "FksfDR_4EArG",
        "outputId": "4043b984-6fe8-4b34-b230-667cb369fc93"
      },
      "execution_count": 26,
      "outputs": [
        {
          "output_type": "stream",
          "name": "stdout",
          "text": [
            "89--->5--->\n",
            "89--->5--->79--->\n",
            "banana--->mango--->grapes--->orange--->\n",
            "Length :  4\n",
            "banana--->mango--->orange--->\n",
            "figs--->banana--->apple--->mango--->orange--->\n"
          ]
        }
      ]
    },
    {
      "cell_type": "code",
      "source": [
        ""
      ],
      "metadata": {
        "id": "qRYcVkUfKQU4"
      },
      "execution_count": 26,
      "outputs": []
    }
  ]
}