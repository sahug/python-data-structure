{
  "nbformat": 4,
  "nbformat_minor": 0,
  "metadata": {
    "colab": {
      "name": "Data Science Basics - Linked List.ipynb",
      "provenance": [],
      "collapsed_sections": [],
      "authorship_tag": "ABX9TyPB4z7o95zAU1upBtQFk9lz",
      "include_colab_link": true
    },
    "kernelspec": {
      "name": "python3",
      "display_name": "Python 3"
    },
    "language_info": {
      "name": "python"
    }
  },
  "cells": [
    {
      "cell_type": "markdown",
      "metadata": {
        "id": "view-in-github",
        "colab_type": "text"
      },
      "source": [
        "<a href=\"https://colab.research.google.com/github/sahug/python-data-structure/blob/main/Data%20Structure%20-%20Linked%20List.ipynb\" target=\"_parent\"><img src=\"https://colab.research.google.com/assets/colab-badge.svg\" alt=\"Open In Colab\"/></a>"
      ]
    },
    {
      "cell_type": "markdown",
      "source": [
        "**Data Science Basics - Linked List**"
      ],
      "metadata": {
        "id": "2g3ziHh2BxcZ"
      }
    },
    {
      "cell_type": "markdown",
      "source": [
        "**Node Class** - Represents Each Individual Element in a Linked List"
      ],
      "metadata": {
        "id": "mH0SjTaCB5wn"
      }
    },
    {
      "cell_type": "markdown",
      "source": [
        "**Important Notes:**\n",
        "\n",
        "- **Node()** - Create New Elements\n",
        "- **self.head** - Gives the head of the Linked List\n",
        "- **self.head.next** - Gives the next element from the head of the Linked List.\n",
        "- **self.head.next.next**  - Gives next to next element from the head and so on.\n",
        "- **self.head.data** - Gives the value of the head of the Linked List.\n"
      ],
      "metadata": {
        "id": "c7SetBpWgAVO"
      }
    },
    {
      "cell_type": "code",
      "execution_count": 1,
      "metadata": {
        "id": "s7mfoUinBtO8"
      },
      "outputs": [],
      "source": [
        "# Has an element and the pointer to next element\n",
        "# Data can contain integer, alphabets or complex objects\n",
        "class Node:\n",
        "  def __init__(self, data=None, next=None):\n",
        "    self.data = data\n",
        "    self.next = next"
      ]
    },
    {
      "cell_type": "code",
      "source": [
        "node = Node(1, None)\n",
        "print(node)\n",
        "print(node.data)\n",
        "print(node.next)"
      ],
      "metadata": {
        "id": "RP5G7TNnZqkm",
        "outputId": "ace7ee7f-7ff3-44c4-ac18-c89203f60fa6",
        "colab": {
          "base_uri": "https://localhost:8080/"
        }
      },
      "execution_count": 2,
      "outputs": [
        {
          "output_type": "stream",
          "name": "stdout",
          "text": [
            "<__main__.Node object at 0x7f362d196b10>\n",
            "1\n",
            "None\n"
          ]
        }
      ]
    },
    {
      "cell_type": "markdown",
      "source": [
        "**Linked List** - Has **Head** variable, a pointer to the head of the Linked List"
      ],
      "metadata": {
        "id": "xh-pil-OCKUF"
      }
    },
    {
      "cell_type": "code",
      "source": [
        "class LinkedList:\n",
        "\n",
        "  def __init__(self):\n",
        "    # Points to the head of the linked list    \n",
        "    self.head = None\n",
        "\n",
        "  # Method to insert at the begning of the LinkedList\n",
        "  def insert_at_begening(self, data):\n",
        "    # Assume there is already elements and we are adding in front of the first element\n",
        "    # Call Node to represent this element    \n",
        "    # data - Element we are adding\n",
        "    # next - Next element will be the current head, existing 1st element a.k.a. current head. \n",
        "    # The current head before adding the new element is the first element. After adding the new element this head will become the next element.\n",
        "    node = Node(data=data, next=self.head) \n",
        "\n",
        "    # The new element becomes the new head. \n",
        "    self.head = node\n",
        "\n",
        "\n",
        "  def insert_at_end(self, data):\n",
        "    #If list is empty, this element becomes the first element and hence the current Head.\n",
        "    if self.head is None:\n",
        "      self.head = Node(data, None)\n",
        "      return\n",
        "\n",
        "    #Start iterating from Head.\n",
        "    itr = self.head\n",
        "\n",
        "    # Keep iterating util we reah the end\n",
        "    while itr.next:\n",
        "      itr = itr.next\n",
        "\n",
        "    # Add the new element\n",
        "    itr.next = Node(data, None)\n",
        "\n",
        "  \n",
        "  # Insert a new Linked List\n",
        "  def insert_values(self, data_list):\n",
        "    self.head = None\n",
        "    # Adding all new element to the end one by one\n",
        "    for data in data_list:\n",
        "      self.insert_at_end(data) \n",
        "\n",
        "\n",
        "  # Print Length of Linked List\n",
        "  def get_length(self):\n",
        "    count = 0\n",
        "    itr = self.head\n",
        "    while itr:\n",
        "      count += 1\n",
        "      itr = itr.next\n",
        "    return count\n",
        "\n",
        "\n",
        "  # Remove Element At Index\n",
        "  def remove_at(self, index):\n",
        "    if index < 0 or index > self.get_length():    \n",
        "      raise Exception(\"invalid Index\")\n",
        "\n",
        "    if index == 0:\n",
        "      self.head = self.head.next\n",
        "      return\n",
        "\n",
        "    count = 0\n",
        "    itr = self.head\n",
        "    \n",
        "    # To remove an element at particular index.\n",
        "    # First we have to find the given index element's previous element\n",
        "    # Point this element's previous element to the element's next element\n",
        "    # When the element is removed for the link it is deleted.\n",
        "    while itr:\n",
        "      if count == index -1: # find the given index element's previous element\n",
        "        itr.next = itr.next.next # Point this element's previous element to the element's next element\n",
        "        break       \n",
        "      \n",
        "      itr = itr.next\n",
        "      count += 1\n",
        "\n",
        "\n",
        "  # Insert Element At Index\n",
        "  def insert_at(self, index, data):\n",
        "    if index < 0 or index > self.get_length():    \n",
        "      raise Exception(\"invalid Index\")\n",
        "\n",
        "    if index == 0:\n",
        "      self.insert_at_begening(data)      \n",
        "      return\n",
        "\n",
        "    count = 0\n",
        "    itr = self.head\n",
        "\n",
        "    # To insert an element at particular index.\n",
        "    # First we have to find the element at previous index\n",
        "    # Create the new element here\n",
        "    # Point the previous element to this new element\n",
        "    # The new element will automatically poin to next element\n",
        "    \n",
        "    while itr:\n",
        "      if count == index - 1: # find the element at previous index\n",
        "        node = Node(data, itr.next) # Create New Element\n",
        "        itr.next = node # Point the previous element to this new element\n",
        "        break       \n",
        "      \n",
        "      itr = itr.next\n",
        "      count += 1\n",
        "\n",
        "\n",
        "  # Insert After Value\n",
        "  def insert_after_value(self, data_after, data_to_insert):  \n",
        "    itr = self.head  \n",
        "    while itr:\n",
        "      if itr.data == data_after:\n",
        "        itr = self.head \n",
        "        node = Node(data_to_insert, itr.next)\n",
        "        itr.next = node\n",
        "        break\n",
        "      itr = itr.next\n",
        "      \n",
        "\n",
        "  # Remove by value\n",
        "  def remove_by_value(self, data):\n",
        "    itr = self.head\n",
        "    index = 0\n",
        "    while itr:\n",
        "      index += 1\n",
        "      if itr.data == data:\n",
        "        self.remove_at(index-1)\n",
        "        break\n",
        "      itr = itr.next\n",
        "\n",
        "  # Get Element By Index\n",
        "  def get_element_at(self, index):\n",
        "    itr = self.head\n",
        "    counter = 0\n",
        "\n",
        "    while itr:\n",
        "      counter += 1\n",
        "      if counter == index:\n",
        "        return itr.data\n",
        "      itr = itr.next\n",
        "\n",
        "\n",
        "  # Get Elements from LL in a Range as a new LL\n",
        "  def get_element_inclusive_in_range(self, start, end):    \n",
        "    il = LinkedList()\n",
        "\n",
        "    itr = self.head\n",
        "    counter = 0\n",
        "\n",
        "    while itr:\n",
        "      counter += 1      \n",
        "      if counter >= start and counter < end: \n",
        "        # Add data, Adds Head as well so repeats 1 element twice.\n",
        "        il.insert_at_end(itr.data) \n",
        "      itr = itr.next\n",
        "\n",
        "    # Delete the first element to remove duplicate\n",
        "    il.remove_at(1)\n",
        "    return il\n",
        "\n",
        "\n",
        "  #Remove Duplicates in a Linked List\n",
        "  def remove_duplicate(self):\n",
        "\n",
        "    size = self.get_length()\n",
        "\n",
        "    index = 1\n",
        "\n",
        "    while index <= size:                                    \n",
        "      match_count = 0\n",
        "      match = self.get_element_at(index)\n",
        "      itr = self.head\n",
        "      while itr:            \n",
        "        if match == itr.data:\n",
        "          match_count += 1\n",
        "          if match_count >= 2:\n",
        "            self.remove_at(index - 1)\n",
        "        itr = itr.next       \n",
        "      index += 1\n",
        "\n",
        "\n",
        "  # Print Linked List\n",
        "  def print(self):    \n",
        "    \n",
        "    # If LL is empty \n",
        "    if self.head is None:\n",
        "      print(\"Linked List is empty\")\n",
        "      return\n",
        "\n",
        "    # If not empty we will iterate thru the list\n",
        "    itr = self.head # First Element in LL\n",
        "\n",
        "    l_l_str = \"\"\n",
        "\n",
        "    while itr:\n",
        "      l_l_str += str(itr.data) + \"--->\"\n",
        "      itr = itr.next\n",
        "\n",
        "    print(l_l_str)\n",
        "\n",
        "\n",
        "  # Delete the middle Node\n",
        "  def delete_middle_element(self):\n",
        "\n",
        "    size = self.get_length()\n",
        "\n",
        "    middle = size //2\n",
        "\n",
        "    if (middle % 2 != 0):\n",
        "      self.remove_at(middle)\n",
        "\n",
        "\n",
        "  # Partition List By\n",
        "  def list_partition_by(self, data):\n",
        "    \n",
        "    lp = LinkedList()\n",
        "\n",
        "    # Insert the data for reference. We will remove it later.\n",
        "    lp.insert_at_begening(data)\n",
        "\n",
        "    itr =  self.head\n",
        "\n",
        "    while itr:\n",
        "      if itr.data <= data:        \n",
        "        lp.insert_at_begening(itr.data)\n",
        "      else:\n",
        "        lp.insert_at_end(itr.data)\n",
        "      itr = itr.next\n",
        "    return lp\n",
        "\n",
        "\n",
        "  # Split List\n",
        "  def split_list(self):    \n",
        "    l1 = LinkedList()\n",
        "    l2 = LinkedList()\n",
        "\n",
        "    size = self.get_length()\n",
        "\n",
        "    middle = size // 2\n",
        "\n",
        "    itr =  self.head\n",
        "    count = 0\n",
        "\n",
        "    while itr:\n",
        "      count += 1\n",
        "      if count <= middle:        \n",
        "        l1.insert_at_end(itr.data)\n",
        "      else:\n",
        "        l2.insert_at_end(itr.data)\n",
        "      itr = itr.next\n",
        "    return l1, l2    \n",
        "\n",
        "\n",
        "  # Sum List Nodes\n",
        "  def sum_list(self):\n",
        "    \n",
        "    l1, l2 = self.split_list()\n",
        "    i1, i2 = \"\", \"\"\n",
        "\n",
        "    l3 = LinkedList()    \n",
        "\n",
        "    for i in range(l1.get_length(), 0, -1):\n",
        "      i1 = i1 + str(l1.get_element_at(i))\n",
        "\n",
        "    for i in range(l2.get_length(), 0, -1):\n",
        "      i2 = i2 + str(l2.get_element_at(i))\n",
        "\n",
        "    sum = int(i1) + int(i2)\n",
        "\n",
        "    while sum>=1:\n",
        "      l3.insert_at_end(sum % 10)\n",
        "      sum = sum // 10\n",
        "\n",
        "    return l3    \n",
        "\n",
        "\n",
        "  # Palindrome\n",
        "  def is_palindrome(self):\n",
        "\n",
        "    l1 = LinkedList()\n",
        "\n",
        "    itr = self.head\n",
        "    size = self.get_length()\n",
        "\n",
        "    for i in range(self.get_length(), 0, -1):\n",
        "      l1.insert_at_end(self.get_element_at(i))\n",
        "\n",
        "    if self.get_length() == l1.get_length():\n",
        "      for i in range(1, self.get_length()):\n",
        "        if self.get_element_at(i) != l1.get_element_at(i):\n",
        "          return False\n",
        "      \n",
        "    return True\n",
        "\n",
        "\n",
        "  # Is Intersection\n",
        "  def is_intersection(self, l1):\n",
        "  \n",
        "    boolean = False\n",
        "\n",
        "    big_list = l1.get_length() if l1.get_length() >= self.get_length() else self.get_length()\n",
        "    \n",
        "    for i in range(1, big_list):\n",
        "      if l1.get_element_at(i) == self.get_element_at(i):\n",
        "        boolean = True    \n",
        "\n",
        "    return boolean"
      ],
      "metadata": {
        "id": "2Hit1eZ3CXoH"
      },
      "execution_count": 3,
      "outputs": []
    },
    {
      "cell_type": "markdown",
      "source": [
        "**Insert at begening**"
      ],
      "metadata": {
        "id": "843rr8_YgSS1"
      }
    },
    {
      "cell_type": "code",
      "source": [
        "if __name__ == \"__main__\":\n",
        "  l_l = LinkedList()\n",
        "  l_l.insert_at_begening(5)\n",
        "  l_l.insert_at_begening(89)\n",
        "  l_l.print()"
      ],
      "metadata": {
        "id": "FksfDR_4EArG",
        "outputId": "3e920561-05a9-439b-d38e-5f6b09807821",
        "colab": {
          "base_uri": "https://localhost:8080/"
        }
      },
      "execution_count": 4,
      "outputs": [
        {
          "output_type": "stream",
          "name": "stdout",
          "text": [
            "89--->5--->\n"
          ]
        }
      ]
    },
    {
      "cell_type": "markdown",
      "source": [
        "**Insert a new Linked List**"
      ],
      "metadata": {
        "id": "dtSDMBLUgZfW"
      }
    },
    {
      "cell_type": "code",
      "source": [
        "if __name__ == \"__main__\":\n",
        "  l_l = LinkedList()\n",
        "  l_l.insert_at_begening(5)\n",
        "  l_l.insert_at_begening(89)\n",
        "  \n",
        "  l_l.insert_values([\"banana\", \"mango\", \"grapes\", \"orange\"])\n",
        "  l_l.print()"
      ],
      "metadata": {
        "id": "qRYcVkUfKQU4",
        "outputId": "713d7c2e-9688-4277-89c6-edc55d5e981b",
        "colab": {
          "base_uri": "https://localhost:8080/"
        }
      },
      "execution_count": 5,
      "outputs": [
        {
          "output_type": "stream",
          "name": "stdout",
          "text": [
            "banana--->mango--->grapes--->orange--->\n"
          ]
        }
      ]
    },
    {
      "cell_type": "markdown",
      "source": [
        "**Length of Linked List**"
      ],
      "metadata": {
        "id": "dmQJtbfzgfZs"
      }
    },
    {
      "cell_type": "code",
      "source": [
        "# Length of Linked List\n",
        "if __name__ == \"__main__\":\n",
        "  l_l = LinkedList()\n",
        "  l_l.insert_at_begening(5)\n",
        "  l_l.insert_at_begening(89)\n",
        "  l_l.print()\n",
        "  \n",
        "  l_l.insert_values([\"banana\", \"mango\", \"grapes\", \"orange\"])\n",
        "  print(\"Length : \", l_l.get_length())"
      ],
      "metadata": {
        "id": "V-5sfgQT6BQZ",
        "outputId": "c8e87bfb-0832-489e-cd71-c7d35047e154",
        "colab": {
          "base_uri": "https://localhost:8080/"
        }
      },
      "execution_count": 6,
      "outputs": [
        {
          "output_type": "stream",
          "name": "stdout",
          "text": [
            "89--->5--->\n",
            "Length :  4\n"
          ]
        }
      ]
    },
    {
      "cell_type": "markdown",
      "source": [
        "**Remove Element**"
      ],
      "metadata": {
        "id": "xtP2VpRngleZ"
      }
    },
    {
      "cell_type": "code",
      "source": [
        "if __name__ == \"__main__\":\n",
        "  l_l = LinkedList()\n",
        "  l_l.insert_at_begening(5)\n",
        "  l_l.insert_at_begening(89)\n",
        "  l_l.insert_values([\"banana\", \"mango\", \"grapes\", \"orange\"])\n",
        "  l_l.print()\n",
        "  \n",
        "  l_l.remove_at(2)\n",
        "  l_l.print()"
      ],
      "metadata": {
        "id": "8jxAUUvR6CqV",
        "outputId": "22e4c756-97dd-4a3e-9af3-76ffd3b2a5bb",
        "colab": {
          "base_uri": "https://localhost:8080/"
        }
      },
      "execution_count": 7,
      "outputs": [
        {
          "output_type": "stream",
          "name": "stdout",
          "text": [
            "banana--->mango--->grapes--->orange--->\n",
            "banana--->mango--->orange--->\n"
          ]
        }
      ]
    },
    {
      "cell_type": "markdown",
      "source": [
        "**Insert Element At**"
      ],
      "metadata": {
        "id": "8HIYjY6YgyBR"
      }
    },
    {
      "cell_type": "code",
      "source": [
        "if __name__ == \"__main__\":\n",
        "  l_l = LinkedList()\n",
        "  l_l.insert_at_begening(5)\n",
        "  l_l.insert_at_begening(89)\n",
        "  l_l.insert_values([\"banana\", \"mango\", \"grapes\", \"orange\"])\n",
        "  l_l.print()\n",
        "  \n",
        "  l_l.insert_at(0, \"figs\")\n",
        "  l_l.insert_at(2, \"apple\")\n",
        "  l_l.print()"
      ],
      "metadata": {
        "id": "LLezPF7V6EJW",
        "outputId": "03ad24ad-602a-41ca-b5cf-07d66d30b35e",
        "colab": {
          "base_uri": "https://localhost:8080/"
        }
      },
      "execution_count": 8,
      "outputs": [
        {
          "output_type": "stream",
          "name": "stdout",
          "text": [
            "banana--->mango--->grapes--->orange--->\n",
            "figs--->banana--->apple--->mango--->grapes--->orange--->\n"
          ]
        }
      ]
    },
    {
      "cell_type": "markdown",
      "source": [
        "**Insert after an element**"
      ],
      "metadata": {
        "id": "J9lB1rBOg6OH"
      }
    },
    {
      "cell_type": "code",
      "source": [
        "if __name__ == \"__main__\":\n",
        "  l_l = LinkedList()\n",
        "  l_l.insert_at_begening(5)\n",
        "  l_l.insert_at_begening(89)\n",
        "  l_l.insert_values([\"banana\", \"mango\", \"grapes\", \"orange\"])\n",
        "  l_l.print()\n",
        "  \n",
        "  l_l.insert_after_value(\"banana\", \"papaya\")\n",
        "  l_l.print()"
      ],
      "metadata": {
        "id": "eqtKcxZp6Fi9",
        "outputId": "9b8d955c-1067-462a-ab02-12bec22ed105",
        "colab": {
          "base_uri": "https://localhost:8080/"
        }
      },
      "execution_count": 9,
      "outputs": [
        {
          "output_type": "stream",
          "name": "stdout",
          "text": [
            "banana--->mango--->grapes--->orange--->\n",
            "banana--->papaya--->mango--->grapes--->orange--->\n"
          ]
        }
      ]
    },
    {
      "cell_type": "markdown",
      "source": [
        "**Remove element By Value**"
      ],
      "metadata": {
        "id": "NklMuDAkhBGM"
      }
    },
    {
      "cell_type": "code",
      "source": [
        "if __name__ == \"__main__\":\n",
        "  l_l = LinkedList()\n",
        "  l_l.insert_at_begening(5)\n",
        "  l_l.insert_at_begening(89)\n",
        "  l_l.insert_values([\"banana\", \"mango\", \"grapes\", \"orange\"])\n",
        "  l_l.print()\n",
        "  \n",
        "  l_l.remove_by_value(\"papaya\")\n",
        "  l_l.print()"
      ],
      "metadata": {
        "id": "b0ngK6E769ps",
        "outputId": "c045e2cd-0865-421f-93a7-671cf6ed46f8",
        "colab": {
          "base_uri": "https://localhost:8080/"
        }
      },
      "execution_count": 10,
      "outputs": [
        {
          "output_type": "stream",
          "name": "stdout",
          "text": [
            "banana--->mango--->grapes--->orange--->\n",
            "banana--->mango--->grapes--->orange--->\n"
          ]
        }
      ]
    },
    {
      "cell_type": "markdown",
      "source": [
        "**Get Element At I**"
      ],
      "metadata": {
        "id": "zY6mMxDBhF1S"
      }
    },
    {
      "cell_type": "code",
      "source": [
        "if __name__ == \"__main__\":\n",
        "  l_l = LinkedList()\n",
        "  l_l.insert_at_begening(5)\n",
        "  l_l.insert_at_begening(89)\n",
        "  l_l.insert_values([\"banana\", \"mango\", \"grapes\", \"orange\"])\n",
        "  l_l.print()\n",
        "  \n",
        "  print(l_l.get_element_at(0))\n",
        "  print(l_l.get_element_at(1))\n",
        "  print(l_l.get_element_at(2))"
      ],
      "metadata": {
        "id": "JEoHXoIR362h",
        "outputId": "9a845e15-14c0-437d-920b-5b93b2e9a98f",
        "colab": {
          "base_uri": "https://localhost:8080/"
        }
      },
      "execution_count": 11,
      "outputs": [
        {
          "output_type": "stream",
          "name": "stdout",
          "text": [
            "banana--->mango--->grapes--->orange--->\n",
            "None\n",
            "banana\n",
            "mango\n"
          ]
        }
      ]
    },
    {
      "cell_type": "markdown",
      "source": [
        "**Get Elements in Range**"
      ],
      "metadata": {
        "id": "grhgoPLThl3z"
      }
    },
    {
      "cell_type": "code",
      "source": [
        "if __name__ == \"__main__\":\n",
        "  l_l = LinkedList()\n",
        "  l_l.insert_at_begening(5)\n",
        "  l_l.insert_at_begening(89)\n",
        "  l_l.insert_values([\"banana\", \"mango\", \"grapes\", \"orange\"])\n",
        "  l_l.print()\n",
        "\n",
        "  l_l.get_element_inclusive_in_range(2, 4).print()"
      ],
      "metadata": {
        "id": "ddoK8zAN4IDj",
        "outputId": "84f87db2-b1f4-4a4a-b1bc-1c6357779f24",
        "colab": {
          "base_uri": "https://localhost:8080/"
        }
      },
      "execution_count": 12,
      "outputs": [
        {
          "output_type": "stream",
          "name": "stdout",
          "text": [
            "banana--->mango--->grapes--->orange--->\n",
            "mango--->\n"
          ]
        }
      ]
    },
    {
      "cell_type": "markdown",
      "source": [
        "**Remove Duplicates**"
      ],
      "metadata": {
        "id": "7JAOm04xhar8"
      }
    },
    {
      "cell_type": "code",
      "source": [
        "if __name__ == \"__main__\":\n",
        "  ll = LinkedList()\n",
        "  ll.insert_at_begening(1)\n",
        "  ll.insert_at_begening(2)\n",
        "  ll.insert_at_begening(4)\n",
        "  ll.insert_at_begening(2)\n",
        "  ll.insert_at_begening(4)\n",
        "  ll.insert_at_begening(3)\n",
        "  l_l.print()\n",
        "  \n",
        "  ll.remove_duplicate()\n",
        "  ll.print()"
      ],
      "metadata": {
        "id": "8RHCyMOz5COX",
        "outputId": "c98c48f8-1768-4193-b099-e77872bf23e5",
        "colab": {
          "base_uri": "https://localhost:8080/"
        }
      },
      "execution_count": 13,
      "outputs": [
        {
          "output_type": "stream",
          "name": "stdout",
          "text": [
            "banana--->mango--->grapes--->orange--->\n",
            "3--->2--->4--->1--->\n"
          ]
        }
      ]
    },
    {
      "cell_type": "markdown",
      "source": [
        "**Delete Middle Node**"
      ],
      "metadata": {
        "id": "77p3YveKh_yU"
      }
    },
    {
      "cell_type": "code",
      "source": [
        "if __name__ == \"__main__\":\n",
        "  ll = LinkedList()\n",
        "  ll.insert_at_begening(1)\n",
        "  ll.insert_at_begening(2)\n",
        "  ll.insert_at_begening(3)\n",
        "  ll.insert_at_begening(4)\n",
        "  ll.insert_at_begening(5)\n",
        "  ll.insert_at_begening(6)\n",
        "  ll.insert_at_begening(7)\n",
        "  ll.print()\n",
        "\n",
        "  ll.delete_middle_element()\n",
        "  ll.print()"
      ],
      "metadata": {
        "colab": {
          "base_uri": "https://localhost:8080/"
        },
        "id": "tADaGPPSS2t-",
        "outputId": "c1f5c779-b088-4373-8fa0-047474183643"
      },
      "execution_count": 14,
      "outputs": [
        {
          "output_type": "stream",
          "name": "stdout",
          "text": [
            "7--->6--->5--->4--->3--->2--->1--->\n",
            "7--->6--->5--->3--->2--->1--->\n"
          ]
        }
      ]
    },
    {
      "cell_type": "markdown",
      "source": [
        "**Partition**"
      ],
      "metadata": {
        "id": "pd6y7tRZiNTk"
      }
    },
    {
      "cell_type": "code",
      "source": [
        "if __name__ == \"__main__\":\n",
        "  ll = LinkedList()\n",
        "  ll.insert_at_begening(5)\n",
        "  ll.insert_at_begening(6)\n",
        "  ll.insert_at_begening(7)\n",
        "  ll.insert_at_begening(1)\n",
        "  ll.insert_at_begening(2)\n",
        "  ll.insert_at_begening(3)\n",
        "  ll.insert_at_begening(4)  \n",
        "  ll.print()\n",
        "\n",
        "  ll.list_partition_by(5)\n",
        "  ll.print()"
      ],
      "metadata": {
        "colab": {
          "base_uri": "https://localhost:8080/"
        },
        "id": "ZjYLLIfUAyKD",
        "outputId": "6f1ddfaa-6358-4c87-d08e-ee41134e994b"
      },
      "execution_count": 15,
      "outputs": [
        {
          "output_type": "stream",
          "name": "stdout",
          "text": [
            "4--->3--->2--->1--->7--->6--->5--->\n",
            "4--->3--->2--->1--->7--->6--->5--->\n"
          ]
        }
      ]
    },
    {
      "cell_type": "markdown",
      "source": [
        "**Split Linked List**"
      ],
      "metadata": {
        "id": "6aOQCHs4iVpW"
      }
    },
    {
      "cell_type": "code",
      "source": [
        "if __name__ == \"__main__\":\n",
        "  ll = LinkedList()\n",
        "  ll.insert_values([7, 1, 6, 5, 9, 2])\n",
        "  ll.print()\n",
        "\n",
        "  (ll.split_list())[0].print()\n",
        "  (ll.split_list())[1].print()"
      ],
      "metadata": {
        "id": "kU3vEy5YiYMM",
        "outputId": "a8d6e3c8-4344-4b8f-815b-5224bd612fc3",
        "colab": {
          "base_uri": "https://localhost:8080/"
        }
      },
      "execution_count": 16,
      "outputs": [
        {
          "output_type": "stream",
          "name": "stdout",
          "text": [
            "7--->1--->6--->5--->9--->2--->\n",
            "7--->1--->6--->\n",
            "5--->9--->2--->\n"
          ]
        }
      ]
    },
    {
      "cell_type": "markdown",
      "source": [
        "**Sum Lists**"
      ],
      "metadata": {
        "id": "FKtD9HJoihpS"
      }
    },
    {
      "cell_type": "code",
      "source": [
        "if __name__ == \"__main__\":\n",
        "  ll = LinkedList()\n",
        "  ll.insert_values([7, 1, 6, 5, 9, 2])\n",
        "  # 617 + 295 = 912, Reverse is 219\n",
        "  ll.sum_list().print()\n",
        "\n",
        "  ll = LinkedList()\n",
        "  # 4321 + 8765 = 13086, Reverse is 68031\n",
        "  ll.insert_values([1, 2, 3, 4, 5, 6, 7, 8])\n",
        "  ll.sum_list().print()"
      ],
      "metadata": {
        "id": "TIFQIqj-ikIL",
        "outputId": "7f97e5b3-1157-49b9-b228-625e5a3d086f",
        "colab": {
          "base_uri": "https://localhost:8080/"
        }
      },
      "execution_count": 17,
      "outputs": [
        {
          "output_type": "stream",
          "name": "stdout",
          "text": [
            "2--->1--->9--->\n",
            "6--->8--->0--->3--->1--->\n"
          ]
        }
      ]
    },
    {
      "cell_type": "markdown",
      "source": [
        "**Palindrome**"
      ],
      "metadata": {
        "id": "pqz2TrtMi1gv"
      }
    },
    {
      "cell_type": "code",
      "source": [
        "if __name__ == \"__main__\":\n",
        "  ll = LinkedList()\n",
        "\n",
        "  ll.insert_values([1, 2, 3, 2, 1])  \n",
        "  print(ll.is_palindrome())\n",
        "\n",
        "  ll.insert_values([1, 2, 3, 2, 1, 4])  \n",
        "  print(ll.is_palindrome())"
      ],
      "metadata": {
        "id": "jb0IjKm-i2Lc",
        "outputId": "1a31963f-39f0-4e2a-c607-5dab3f6a9dfb",
        "colab": {
          "base_uri": "https://localhost:8080/"
        }
      },
      "execution_count": 18,
      "outputs": [
        {
          "output_type": "stream",
          "name": "stdout",
          "text": [
            "True\n",
            "False\n"
          ]
        }
      ]
    },
    {
      "cell_type": "markdown",
      "source": [
        "**Intersection**"
      ],
      "metadata": {
        "id": "RK7Zvw0-i83e"
      }
    },
    {
      "cell_type": "code",
      "source": [
        "if __name__ == \"__main__\":  \n",
        "  l1 = LinkedList()\n",
        "  l2 = LinkedList()\n",
        "\n",
        "  #4th Position has same index and same value\n",
        "  l1.insert_values([1, 2, 3, 9, 8, 7])  \n",
        "  l2.insert_values([11, 22, 13, 9, 18, 17])  \n",
        "  print(l2.is_intersection(l1))\n",
        "\n",
        "  #4th Position has same index and but different value\n",
        "  l1.insert_values([1, 2, 3, 9, 8, 7])  \n",
        "  l2.insert_values([11, 22, 13, 19, 18, 17])  \n",
        "  print(l2.is_intersection(l1))"
      ],
      "metadata": {
        "id": "kUjXibPHi9pq",
        "outputId": "effe1c6a-3bf8-40c6-dd64-8e6524935e42",
        "colab": {
          "base_uri": "https://localhost:8080/"
        }
      },
      "execution_count": 19,
      "outputs": [
        {
          "output_type": "stream",
          "name": "stdout",
          "text": [
            "True\n",
            "False\n"
          ]
        }
      ]
    },
    {
      "cell_type": "markdown",
      "source": [
        "**Loop Detection:** Given a circular linked list, implement an algorithm that returns the node at the beginning of the loop. \n",
        "\n",
        "**DEFINITION** \n",
        "Circular linked list: A (corrupt) linked list in which a node's next pointer points to an earlier node, so as to make a loop in the linked list. \n",
        "\n",
        "![image.png](data:image/png;base64,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)\n",
        "\n",
        "**EXAMPLE** \n",
        "```\n",
        "Input: A -> B -> C -> D -> E -> C [points to the same C as earlier]\n",
        "\n",
        "Input: A -> B -> C -> D \n",
        "                 |   -> \n",
        "                 <----E \n",
        "```\n",
        "\n",
        "`Output: C `\n",
        "\n",
        "**Looped Linked List**\n",
        "\n",
        "`llist.head.next.next.next.next = llist.head`"
      ],
      "metadata": {
        "id": "vo4C0vvA26nh"
      }
    },
    {
      "cell_type": "code",
      "source": [
        "class Node:\n",
        " \n",
        "    # Constructor to initialize\n",
        "    # the node object\n",
        "    def __init__(self, data):\n",
        "        self.data = data\n",
        "        self.next = None\n",
        " \n",
        " \n",
        "class LinkedList:\n",
        " \n",
        "    # Function to initialize head\n",
        "    def __init__(self):\n",
        "        self.head = None\n",
        " \n",
        "    # Function to insert a new\n",
        "    # node at the beginning\n",
        "    def push(self, new_data):\n",
        "        new_node = Node(new_data)\n",
        "        new_node.next = self.head\n",
        "        self.head = new_node\n",
        " \n",
        "    # Utility function to print it\n",
        "    # the linked LinkedList\n",
        "    def printList(self):\n",
        "        temp = self.head\n",
        "        while(temp):\n",
        "            print(temp.data, end=\" \")\n",
        "            temp = temp.next\n",
        " \n",
        "    def detectLoop(self):\n",
        "        s = set()\n",
        "        temp = self.head\n",
        "        while (temp):\n",
        " \n",
        "            # If we have already has\n",
        "            # this node in hashmap it\n",
        "            # means their is a cycle\n",
        "            # (Because you we encountering\n",
        "            # the node second time).\n",
        "            if (temp in s):\n",
        "                return True\n",
        " \n",
        "            # If we are seeing the node for\n",
        "            # the first time, insert it in hash\n",
        "            s.add(temp)\n",
        " \n",
        "            temp = temp.next\n",
        " \n",
        "        return False\n",
        " \n",
        " \n",
        "# Driver program for testing\n",
        "llist = LinkedList()\n",
        "llist.push(20)\n",
        "llist.push(4)\n",
        "llist.push(15)\n",
        "llist.push(10)\n",
        " \n",
        "# Create a loop for testing\n",
        "llist.head.next.next.next.next = llist.head\n",
        "\n",
        "if(llist.detectLoop()):\n",
        "    print(\"Loop found\")\n",
        "else:\n",
        "    print(\"No Loop \")"
      ],
      "metadata": {
        "colab": {
          "base_uri": "https://localhost:8080/"
        },
        "id": "ky-WpSDL5eQX",
        "outputId": "c1265b21-c15d-41a7-d03d-63684e731f3c"
      },
      "execution_count": 20,
      "outputs": [
        {
          "output_type": "stream",
          "name": "stdout",
          "text": [
            "Loop found\n"
          ]
        }
      ]
    }
  ]
}