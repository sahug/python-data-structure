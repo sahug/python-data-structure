{
  "nbformat": 4,
  "nbformat_minor": 0,
  "metadata": {
    "colab": {
      "name": "Data Science Basics - Linked List.ipynb",
      "provenance": [],
      "collapsed_sections": [],
      "authorship_tag": "ABX9TyP7S82baBDre4S/m3Anz8W5",
      "include_colab_link": true
    },
    "kernelspec": {
      "name": "python3",
      "display_name": "Python 3"
    },
    "language_info": {
      "name": "python"
    }
  },
  "cells": [
    {
      "cell_type": "markdown",
      "metadata": {
        "id": "view-in-github",
        "colab_type": "text"
      },
      "source": [
        "<a href=\"https://colab.research.google.com/github/sahug/python-data-structure/blob/main/Data%20Structure%20-%20Linked%20List.ipynb\" target=\"_parent\"><img src=\"https://colab.research.google.com/assets/colab-badge.svg\" alt=\"Open In Colab\"/></a>"
      ]
    },
    {
      "cell_type": "markdown",
      "source": [
        "**Data Science Basics - Linked List**"
      ],
      "metadata": {
        "id": "2g3ziHh2BxcZ"
      }
    },
    {
      "cell_type": "markdown",
      "source": [
        "**Node Class** - Represents Each Individual Element in a Linked List"
      ],
      "metadata": {
        "id": "mH0SjTaCB5wn"
      }
    },
    {
      "cell_type": "markdown",
      "source": [
        "**Important Notes:**\n",
        "\n",
        "- **Node()** - Create New Elements\n",
        "- **self.head** - Gives the head of the Linked List\n",
        "- **self.head.next** - Gives the next element from the head of the Linked List.\n",
        "- **self.head.next.next**  - Gives next to next element from the head and so on.\n",
        "- **self.head.data** - Gives the value of the head of the Linked List.\n"
      ],
      "metadata": {
        "id": "c7SetBpWgAVO"
      }
    },
    {
      "cell_type": "code",
      "execution_count": 107,
      "metadata": {
        "id": "s7mfoUinBtO8"
      },
      "outputs": [],
      "source": [
        "# Has an element and the pointer to next element\n",
        "# Data can contain integer, alphabets or complex objects\n",
        "class Node:\n",
        "  def __init__(self, data=None, next=None):\n",
        "    self.data = data\n",
        "    self.next = next"
      ]
    },
    {
      "cell_type": "code",
      "source": [
        "node = Node(1, None)\n",
        "print(node)\n",
        "print(node.data)\n",
        "print(node.next)"
      ],
      "metadata": {
        "id": "RP5G7TNnZqkm",
        "outputId": "bfc3d11b-92e5-46ba-c28b-cfae0465de34",
        "colab": {
          "base_uri": "https://localhost:8080/"
        }
      },
      "execution_count": 108,
      "outputs": [
        {
          "output_type": "stream",
          "name": "stdout",
          "text": [
            "<__main__.Node object at 0x7f57a62044d0>\n",
            "1\n",
            "None\n"
          ]
        }
      ]
    },
    {
      "cell_type": "markdown",
      "source": [
        "**Linked List** - Has **Head** variable, a pointer to the head of the Linked List"
      ],
      "metadata": {
        "id": "xh-pil-OCKUF"
      }
    },
    {
      "cell_type": "code",
      "source": [
        "class LinkedList:\n",
        "\n",
        "  def __init__(self):\n",
        "    # Points to the head of the linked list    \n",
        "    self.head = None\n",
        "\n",
        "  # Method to insert at the begning of the LinkedList\n",
        "  def insert_at_begening(self, data):\n",
        "    # Assume there is already elements and we are adding in front of the first element\n",
        "    # Call Node to represent this element    \n",
        "    # data - Element we are adding\n",
        "    # next - Next element will be the current head, existing 1st element a.k.a. current head. \n",
        "    # The current head before adding the new element is the first element. After adding the new element this head will become the next element.\n",
        "    node = Node(data=data, next=self.head) \n",
        "\n",
        "    # The new element becomes the new head. \n",
        "    self.head = node\n",
        "\n",
        "\n",
        "  def insert_at_end(self, data):\n",
        "    #If list is empty, this element becomes the first element and hence the current Head.\n",
        "    if self.head is None:\n",
        "      self.head = Node(data, None)\n",
        "      return\n",
        "\n",
        "    #Start iterating from Head.\n",
        "    itr = self.head\n",
        "\n",
        "    # Keep iterating util we reah the end\n",
        "    while itr.next:\n",
        "      itr = itr.next\n",
        "\n",
        "    # Add the new element\n",
        "    itr.next = Node(data, None)\n",
        "\n",
        "  \n",
        "  # Insert a new Linked List\n",
        "  def insert_values(self, data_list):\n",
        "    self.head = None\n",
        "    # Adding all new element to the end one by one\n",
        "    for data in data_list:\n",
        "      self.insert_at_end(data) \n",
        "\n",
        "\n",
        "  # Print Length of Linked List\n",
        "  def get_length(self):\n",
        "    count = 0\n",
        "    itr = self.head\n",
        "    while itr:\n",
        "      count += 1\n",
        "      itr = itr.next\n",
        "    return count\n",
        "\n",
        "\n",
        "  # Remove Element At Index\n",
        "  def remove_at(self, index):\n",
        "    if index < 0 or index > self.get_length():    \n",
        "      raise Exception(\"invalid Index\")\n",
        "\n",
        "    if index == 0:\n",
        "      self.head = self.head.next\n",
        "      return\n",
        "\n",
        "    count = 0\n",
        "    itr = self.head\n",
        "    \n",
        "    # To remove an element at particular index.\n",
        "    # First we have to find the given index element's previous element\n",
        "    # Point this element's previous element to the element's next element\n",
        "    # When the element is removed for the link it is deleted.\n",
        "    while itr:\n",
        "      if count == index -1: # find the given index element's previous element\n",
        "        itr.next = itr.next.next # Point this element's previous element to the element's next element\n",
        "        break       \n",
        "      \n",
        "      itr = itr.next\n",
        "      count += 1\n",
        "\n",
        "\n",
        "  # Insert Element At Index\n",
        "  def insert_at(self, index, data):\n",
        "    if index < 0 or index > self.get_length():    \n",
        "      raise Exception(\"invalid Index\")\n",
        "\n",
        "    if index == 0:\n",
        "      self.insert_at_begening(data)      \n",
        "      return\n",
        "\n",
        "    count = 0\n",
        "    itr = self.head\n",
        "\n",
        "    # To insert an element at particular index.\n",
        "    # First we have to find the element at previous index\n",
        "    # Create the new element here\n",
        "    # Point the previous element to this new element\n",
        "    # The new element will automatically poin to next element\n",
        "    \n",
        "    while itr:\n",
        "      if count == index - 1: # find the element at previous index\n",
        "        node = Node(data, itr.next) # Create New Element\n",
        "        itr.next = node # Point the previous element to this new element\n",
        "        break       \n",
        "      \n",
        "      itr = itr.next\n",
        "      count += 1\n",
        "\n",
        "\n",
        "  # Insert After Value\n",
        "  def insert_after_value(self, data_after, data_to_insert):  \n",
        "    itr = self.head  \n",
        "    while itr:\n",
        "      if itr.data == data_after:\n",
        "        itr = self.head \n",
        "        node = Node(data_to_insert, itr.next)\n",
        "        itr.next = node\n",
        "        break\n",
        "      itr = itr.next\n",
        "      \n",
        "\n",
        "  # Remove by value\n",
        "  def remove_by_value(self, data):\n",
        "    itr = self.head\n",
        "    index = 0\n",
        "    while itr:\n",
        "      index += 1\n",
        "      if itr.data == data:\n",
        "        self.remove_at(index-1)\n",
        "        break\n",
        "      itr = itr.next\n",
        "\n",
        "  # Get Element By Index\n",
        "  def get_element_at(self, index):\n",
        "    itr = self.head\n",
        "    counter = 0\n",
        "\n",
        "    while itr:\n",
        "      counter += 1\n",
        "      if counter == index:\n",
        "        return itr.data\n",
        "      itr = itr.next\n",
        "\n",
        "\n",
        "  # Get Elements from LL in a Range as a new LL\n",
        "  def get_element_inclusive_in_range(self, start, end):    \n",
        "    ll = LinkedList()\n",
        "\n",
        "    itr = self.head\n",
        "    counter = 0\n",
        "\n",
        "    while itr:\n",
        "      counter += 1\n",
        "      if counter >= start and counter <= end:        \n",
        "          ll.insert_at_end(itr.data)\n",
        "      itr = itr.next\n",
        "    return ll\n",
        "\n",
        "\n",
        "  #Remove Duplicates in a Linked List\n",
        "  def remove_duplicate(self):\n",
        "\n",
        "    size = self.get_length()\n",
        "\n",
        "    index = 1\n",
        "\n",
        "    while index <= size:                                    \n",
        "      match_count = 0\n",
        "      match = self.get_element_at(index)\n",
        "      # print(match)\n",
        "      itr = self.head\n",
        "      while itr:          \n",
        "        if match == itr.data:\n",
        "          match_count += 1\n",
        "          if match_count >= 2:\n",
        "            self.remove_at(index - 1)\n",
        "        itr = itr.next       \n",
        "      index += 1  \n",
        "\n",
        "\n",
        "  # Print Linked List\n",
        "  def print(self):    \n",
        "    \n",
        "    # If LL is empty \n",
        "    if self.head is None:\n",
        "      print(\"Linked List is empty\")\n",
        "      return\n",
        "\n",
        "    # If not empty we will iterate thru the list\n",
        "    itr = self.head # First Element in LL\n",
        "\n",
        "    l_l_str = \"\"\n",
        "\n",
        "    while itr:\n",
        "      l_l_str += str(itr.data) + \"--->\"\n",
        "      itr = itr.next\n",
        "\n",
        "    print(l_l_str)\n"
      ],
      "metadata": {
        "id": "2Hit1eZ3CXoH"
      },
      "execution_count": 109,
      "outputs": []
    },
    {
      "cell_type": "code",
      "source": [
        "if __name__ == \"__main__\":\n",
        "  l_l = LinkedList()"
      ],
      "metadata": {
        "id": "FksfDR_4EArG"
      },
      "execution_count": 110,
      "outputs": []
    },
    {
      "cell_type": "code",
      "source": [
        "# Insert at begening\n",
        "l_l.insert_at_begening(5)\n",
        "l_l.insert_at_begening(89)\n",
        "l_l.print()"
      ],
      "metadata": {
        "id": "3-41CDp5-sbF",
        "outputId": "14735985-8a65-4df6-ac6f-69818d463d15",
        "colab": {
          "base_uri": "https://localhost:8080/"
        }
      },
      "execution_count": 111,
      "outputs": [
        {
          "output_type": "stream",
          "name": "stdout",
          "text": [
            "89--->5--->\n"
          ]
        }
      ]
    },
    {
      "cell_type": "code",
      "source": [
        "# Insert at begening\n",
        "l_l.insert_at_end(79)\n",
        "l_l.print()"
      ],
      "metadata": {
        "id": "WMRNlM7559Hb",
        "outputId": "a59aac28-c229-4daf-ec02-72148f77646d",
        "colab": {
          "base_uri": "https://localhost:8080/"
        }
      },
      "execution_count": 112,
      "outputs": [
        {
          "output_type": "stream",
          "name": "stdout",
          "text": [
            "89--->5--->79--->\n"
          ]
        }
      ]
    },
    {
      "cell_type": "code",
      "source": [
        "  # Insert a new Linked List\n",
        "l_l.insert_values([\"banana\", \"mango\", \"grapes\", \"orange\"])\n",
        "l_l.print()"
      ],
      "metadata": {
        "id": "qRYcVkUfKQU4",
        "outputId": "8dc87db5-3a30-4688-f395-85e002f83483",
        "colab": {
          "base_uri": "https://localhost:8080/"
        }
      },
      "execution_count": 113,
      "outputs": [
        {
          "output_type": "stream",
          "name": "stdout",
          "text": [
            "banana--->mango--->grapes--->orange--->\n"
          ]
        }
      ]
    },
    {
      "cell_type": "code",
      "source": [
        "# Length of Linked List\n",
        "print(\"Length : \", l_l.get_length())"
      ],
      "metadata": {
        "id": "V-5sfgQT6BQZ",
        "outputId": "da096a7f-6eca-494a-816d-a94f529de69a",
        "colab": {
          "base_uri": "https://localhost:8080/"
        }
      },
      "execution_count": 114,
      "outputs": [
        {
          "output_type": "stream",
          "name": "stdout",
          "text": [
            "Length :  4\n"
          ]
        }
      ]
    },
    {
      "cell_type": "code",
      "source": [
        "# Remove Element\n",
        "l_l.remove_at(2)\n",
        "l_l.print()"
      ],
      "metadata": {
        "id": "8jxAUUvR6CqV",
        "outputId": "74c7da1e-f130-4ab4-8365-c3390e3ab42c",
        "colab": {
          "base_uri": "https://localhost:8080/"
        }
      },
      "execution_count": 115,
      "outputs": [
        {
          "output_type": "stream",
          "name": "stdout",
          "text": [
            "banana--->mango--->orange--->\n"
          ]
        }
      ]
    },
    {
      "cell_type": "code",
      "source": [
        "# Insert Element\n",
        "l_l.insert_at(0, \"figs\")\n",
        "l_l.insert_at(2, \"apple\")\n",
        "l_l.print()"
      ],
      "metadata": {
        "id": "LLezPF7V6EJW",
        "outputId": "203aca57-40f5-4a7e-af9d-ffac3005cdde",
        "colab": {
          "base_uri": "https://localhost:8080/"
        }
      },
      "execution_count": 116,
      "outputs": [
        {
          "output_type": "stream",
          "name": "stdout",
          "text": [
            "figs--->banana--->apple--->mango--->orange--->\n"
          ]
        }
      ]
    },
    {
      "cell_type": "code",
      "source": [
        "# Insert after an element\n",
        "l_l.insert_after_value(\"banana\", \"papaya\")\n",
        "l_l.print()"
      ],
      "metadata": {
        "id": "eqtKcxZp6Fi9",
        "outputId": "6444e445-15bd-4856-8480-9c12ea9ee81f",
        "colab": {
          "base_uri": "https://localhost:8080/"
        }
      },
      "execution_count": 117,
      "outputs": [
        {
          "output_type": "stream",
          "name": "stdout",
          "text": [
            "figs--->papaya--->banana--->apple--->mango--->orange--->\n"
          ]
        }
      ]
    },
    {
      "cell_type": "code",
      "source": [
        "#Remove element By Value\n",
        "l_l.remove_by_value(\"papaya\")\n",
        "l_l.print()"
      ],
      "metadata": {
        "id": "b0ngK6E769ps",
        "outputId": "f31bb56d-7314-4e18-93be-e7389e526934",
        "colab": {
          "base_uri": "https://localhost:8080/"
        }
      },
      "execution_count": 118,
      "outputs": [
        {
          "output_type": "stream",
          "name": "stdout",
          "text": [
            "figs--->banana--->apple--->mango--->orange--->\n"
          ]
        }
      ]
    },
    {
      "cell_type": "code",
      "source": [
        "#Get Element At I\n",
        "print(l_l.get_element_at(0))\n",
        "print(l_l.get_element_at(1))\n",
        "print(l_l.get_element_at(2))"
      ],
      "metadata": {
        "id": "JEoHXoIR362h",
        "outputId": "d38ad477-f217-4d93-e576-5175fec5a2ee",
        "colab": {
          "base_uri": "https://localhost:8080/"
        }
      },
      "execution_count": 119,
      "outputs": [
        {
          "output_type": "stream",
          "name": "stdout",
          "text": [
            "None\n",
            "figs\n",
            "banana\n"
          ]
        }
      ]
    },
    {
      "cell_type": "code",
      "source": [
        "#Get Element In Range\n",
        "l_l.get_element_inclusive_in_range(2, 5).print()"
      ],
      "metadata": {
        "id": "ddoK8zAN4IDj",
        "outputId": "b9e3bdb4-dbc2-4ed8-c546-e3f5038d1a93",
        "colab": {
          "base_uri": "https://localhost:8080/"
        }
      },
      "execution_count": 120,
      "outputs": [
        {
          "output_type": "stream",
          "name": "stdout",
          "text": [
            "banana--->apple--->mango--->orange--->\n"
          ]
        }
      ]
    },
    {
      "cell_type": "code",
      "source": [
        "if __name__ == \"__main__\":\n",
        "  ll = LinkedList()\n",
        "  ll.insert_at_begening(1)\n",
        "  ll.insert_at_begening(2)\n",
        "  ll.insert_at_begening(4)\n",
        "  ll.insert_at_begening(2)\n",
        "  ll.insert_at_begening(4)\n",
        "  ll.insert_at_begening(3)\n",
        "  ll.print()"
      ],
      "metadata": {
        "id": "8RHCyMOz5COX",
        "outputId": "ce38bccd-5b60-44a1-ff43-900ac3a8b762",
        "colab": {
          "base_uri": "https://localhost:8080/"
        }
      },
      "execution_count": 121,
      "outputs": [
        {
          "output_type": "stream",
          "name": "stdout",
          "text": [
            "3--->4--->2--->4--->2--->1--->\n"
          ]
        }
      ]
    },
    {
      "cell_type": "code",
      "source": [
        "#Remove Duplicates\n",
        "ll.remove_duplicate()\n",
        "ll.print()"
      ],
      "metadata": {
        "id": "1cnLlrj-5IYB",
        "outputId": "6e5ee9f7-7bc8-44b2-f956-3ad9fa34c120",
        "colab": {
          "base_uri": "https://localhost:8080/"
        }
      },
      "execution_count": 122,
      "outputs": [
        {
          "output_type": "stream",
          "name": "stdout",
          "text": [
            "3--->2--->4--->1--->\n"
          ]
        }
      ]
    }
  ]
}