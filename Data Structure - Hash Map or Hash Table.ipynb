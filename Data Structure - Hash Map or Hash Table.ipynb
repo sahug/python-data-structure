{
  "nbformat": 4,
  "nbformat_minor": 0,
  "metadata": {
    "colab": {
      "name": "Data Science Basics - Hash Map or Hash Table.ipynb",
      "provenance": [],
      "collapsed_sections": [],
      "authorship_tag": "ABX9TyNydGr1BuGpS2ccbtV/7W7I",
      "include_colab_link": true
    },
    "kernelspec": {
      "name": "python3",
      "display_name": "Python 3"
    },
    "language_info": {
      "name": "python"
    }
  },
  "cells": [
    {
      "cell_type": "markdown",
      "metadata": {
        "id": "view-in-github",
        "colab_type": "text"
      },
      "source": [
        "<a href=\"https://colab.research.google.com/github/sahug/ds-basics/blob/main/Data%20Science%20Basics%20-%20Hash%20Map%20or%20Hash%20Table.ipynb\" target=\"_parent\"><img src=\"https://colab.research.google.com/assets/colab-badge.svg\" alt=\"Open In Colab\"/></a>"
      ]
    },
    {
      "cell_type": "markdown",
      "source": [
        "**Data Science Basics - Hash Map or Hash Table**"
      ],
      "metadata": {
        "id": "r2hKNRr0XYBj"
      }
    },
    {
      "cell_type": "code",
      "execution_count": 26,
      "metadata": {
        "id": "YtGFLTclXPNj"
      },
      "outputs": [],
      "source": [
        "# Get Hash Value from ASCII Table\n",
        "def get_hash(key):\n",
        "  h = 0\n",
        "  for char in key:\n",
        "    h += ord(char) # ord() - Returns ASCII Table Value\n",
        "  return h % 100"
      ]
    },
    {
      "cell_type": "code",
      "source": [
        "ord(\"a\")"
      ],
      "metadata": {
        "colab": {
          "base_uri": "https://localhost:8080/"
        },
        "id": "G70aEKH_Xtcc",
        "outputId": "3f4114c3-33ec-4860-fccd-5fa96d546f12"
      },
      "execution_count": 27,
      "outputs": [
        {
          "output_type": "execute_result",
          "data": {
            "text/plain": [
              "97"
            ]
          },
          "metadata": {},
          "execution_count": 27
        }
      ]
    },
    {
      "cell_type": "code",
      "source": [
        "get_hash(\"march 6\")"
      ],
      "metadata": {
        "colab": {
          "base_uri": "https://localhost:8080/"
        },
        "id": "CzeQ7cfrX4SI",
        "outputId": "ad387947-3f40-4378-8e75-4b1275d8aaec"
      },
      "execution_count": 28,
      "outputs": [
        {
          "output_type": "execute_result",
          "data": {
            "text/plain": [
              "9"
            ]
          },
          "metadata": {},
          "execution_count": 28
        }
      ]
    },
    {
      "cell_type": "markdown",
      "source": [
        "**Without Collision**"
      ],
      "metadata": {
        "id": "bS1UoYTojRfY"
      }
    },
    {
      "cell_type": "code",
      "source": [
        "class HashTable:  \n",
        "    def __init__(self):\n",
        "        self.MAX = 10\n",
        "        self.arr = [None for i in range(self.MAX)]\n",
        "        \n",
        "    def get_hash(self, key):\n",
        "        hash = 0\n",
        "        for char in key:\n",
        "            hash += ord(char)\n",
        "        return hash % self.MAX\n",
        "    \n",
        "    def __getitem__(self, index):\n",
        "        h = self.get_hash(index)\n",
        "        return self.arr[h]\n",
        "    \n",
        "    def __setitem__(self, key, val):\n",
        "        h = self.get_hash(key)\n",
        "        self.arr[h] = val    "
      ],
      "metadata": {
        "id": "1GAT4lIRYD9b"
      },
      "execution_count": 44,
      "outputs": []
    },
    {
      "cell_type": "code",
      "source": [
        "t = HashTable()\n",
        "\n",
        "print(t.get_hash(\"march 6\"))\n",
        "print(t.get_hash(\"march 17\"))"
      ],
      "metadata": {
        "colab": {
          "base_uri": "https://localhost:8080/"
        },
        "id": "G7xBC7u2jeNf",
        "outputId": "7513e1f2-db34-42a9-b057-c5bf53b21fe3"
      },
      "execution_count": 46,
      "outputs": [
        {
          "output_type": "stream",
          "name": "stdout",
          "text": [
            "9\n",
            "9\n"
          ]
        }
      ]
    },
    {
      "cell_type": "code",
      "source": [
        "t[\"march 6\"] = 120\n",
        "t[\"march 8\"] = 67\n",
        "t[\"march 9\"] = 4\n",
        "t[\"march 17\"] = 459\n",
        "\n",
        "t[\"march 6\"]"
      ],
      "metadata": {
        "colab": {
          "base_uri": "https://localhost:8080/"
        },
        "id": "V021hrebg5sc",
        "outputId": "0bd3a871-bdd6-4d70-da78-d9182360f976"
      },
      "execution_count": 45,
      "outputs": [
        {
          "output_type": "execute_result",
          "data": {
            "text/plain": [
              "459"
            ]
          },
          "metadata": {},
          "execution_count": 45
        }
      ]
    },
    {
      "cell_type": "markdown",
      "source": [
        "**Hash Table Collision Handling Using Chaining**"
      ],
      "metadata": {
        "id": "B91yCSsSjonK"
      }
    },
    {
      "cell_type": "code",
      "source": [
        "class HashTable:  \n",
        "    def __init__(self):\n",
        "        self.MAX = 10\n",
        "        self.arr = [[] for i in range(self.MAX)]\n",
        "        \n",
        "    def get_hash(self, key):\n",
        "        hash = 0\n",
        "        for char in key:\n",
        "            hash += ord(char)\n",
        "        return hash % self.MAX\n",
        "    \n",
        "    def __getitem__(self, key):\n",
        "        arr_index = self.get_hash(key)\n",
        "        for kv in self.arr[arr_index]:\n",
        "            if kv[0] == key:\n",
        "                return kv[1]\n",
        "            \n",
        "    def __setitem__(self, key, val):\n",
        "        h = self.get_hash(key)\n",
        "        found = False\n",
        "        for idx, element in enumerate(self.arr[h]):\n",
        "            if len(element)==2 and element[0] == key:\n",
        "                self.arr[h][idx] = (key,val)\n",
        "                found = True\n",
        "        if not found:\n",
        "            self.arr[h].append((key,val))\n",
        "        \n",
        "    def __delitem__(self, key):\n",
        "        arr_index = self.get_hash(key)\n",
        "        for index, kv in enumerate(self.arr[arr_index]):\n",
        "            if kv[0] == key:\n",
        "                print(\"del\",index)\n",
        "                del self.arr[arr_index][index]\n",
        "        "
      ],
      "metadata": {
        "id": "5eAuoMGljshf"
      },
      "execution_count": 47,
      "outputs": []
    },
    {
      "cell_type": "code",
      "source": [
        "t = HashTable()\n",
        "t[\"march 6\"] = 310\n",
        "t[\"march 7\"] = 420\n",
        "t[\"march 8\"] = 67\n",
        "t[\"march 17\"] = 63457"
      ],
      "metadata": {
        "id": "CUYX0qWHjvaA"
      },
      "execution_count": 48,
      "outputs": []
    },
    {
      "cell_type": "code",
      "source": [
        "t[\"march 6\"]"
      ],
      "metadata": {
        "colab": {
          "base_uri": "https://localhost:8080/"
        },
        "id": "ZYohPdMbjw7G",
        "outputId": "d86214c7-eda8-412d-df73-5cd6e150da6a"
      },
      "execution_count": 49,
      "outputs": [
        {
          "output_type": "execute_result",
          "data": {
            "text/plain": [
              "310"
            ]
          },
          "metadata": {},
          "execution_count": 49
        }
      ]
    },
    {
      "cell_type": "code",
      "source": [
        "t[\"march 17\"]"
      ],
      "metadata": {
        "colab": {
          "base_uri": "https://localhost:8080/"
        },
        "id": "ziA3V1w5jyGs",
        "outputId": "95912634-33fe-4b64-a278-20f793bcf70a"
      },
      "execution_count": 50,
      "outputs": [
        {
          "output_type": "execute_result",
          "data": {
            "text/plain": [
              "63457"
            ]
          },
          "metadata": {},
          "execution_count": 50
        }
      ]
    },
    {
      "cell_type": "code",
      "source": [
        "t.arr"
      ],
      "metadata": {
        "colab": {
          "base_uri": "https://localhost:8080/"
        },
        "id": "yHoi3rpxjz5S",
        "outputId": "bdaa4534-e548-4543-88fa-93a7b4d71768"
      },
      "execution_count": 51,
      "outputs": [
        {
          "output_type": "execute_result",
          "data": {
            "text/plain": [
              "[[('march 7', 420)],\n",
              " [('march 8', 67)],\n",
              " [],\n",
              " [],\n",
              " [],\n",
              " [],\n",
              " [],\n",
              " [],\n",
              " [],\n",
              " [('march 6', 310), ('march 17', 63457)]]"
            ]
          },
          "metadata": {},
          "execution_count": 51
        }
      ]
    },
    {
      "cell_type": "code",
      "source": [
        "t[\"march 6\"] = 11"
      ],
      "metadata": {
        "id": "MTJq01KUj11o"
      },
      "execution_count": 52,
      "outputs": []
    },
    {
      "cell_type": "code",
      "source": [
        "t.arr"
      ],
      "metadata": {
        "colab": {
          "base_uri": "https://localhost:8080/"
        },
        "id": "Gch9Jvctj4hI",
        "outputId": "7d17a99a-c44c-41e2-fff9-e248ca81970e"
      },
      "execution_count": 53,
      "outputs": [
        {
          "output_type": "execute_result",
          "data": {
            "text/plain": [
              "[[('march 7', 420)],\n",
              " [('march 8', 67)],\n",
              " [],\n",
              " [],\n",
              " [],\n",
              " [],\n",
              " [],\n",
              " [],\n",
              " [],\n",
              " [('march 6', 11), ('march 17', 63457)]]"
            ]
          },
          "metadata": {},
          "execution_count": 53
        }
      ]
    },
    {
      "cell_type": "code",
      "source": [
        "t[\"march 6\"]"
      ],
      "metadata": {
        "colab": {
          "base_uri": "https://localhost:8080/"
        },
        "id": "VKTXCOrzj6DQ",
        "outputId": "3c46915f-0f0e-456b-beca-b791660e831f"
      },
      "execution_count": 54,
      "outputs": [
        {
          "output_type": "execute_result",
          "data": {
            "text/plain": [
              "11"
            ]
          },
          "metadata": {},
          "execution_count": 54
        }
      ]
    },
    {
      "cell_type": "code",
      "source": [
        "del t[\"march 6\"]"
      ],
      "metadata": {
        "colab": {
          "base_uri": "https://localhost:8080/"
        },
        "id": "2kcjuknlj7hV",
        "outputId": "cd869a67-3a94-43ef-bcd6-43425c219be6"
      },
      "execution_count": 55,
      "outputs": [
        {
          "output_type": "stream",
          "name": "stdout",
          "text": [
            "del 0\n"
          ]
        }
      ]
    },
    {
      "cell_type": "code",
      "source": [
        "t[\"march 6\"]"
      ],
      "metadata": {
        "id": "wmPQXtqAj9rn"
      },
      "execution_count": 56,
      "outputs": []
    }
  ]
}