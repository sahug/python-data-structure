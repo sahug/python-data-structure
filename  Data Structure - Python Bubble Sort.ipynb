{
  "nbformat": 4,
  "nbformat_minor": 0,
  "metadata": {
    "colab": {
      "name": "Data Structure - Python Bubble Sort.ipynb",
      "provenance": [],
      "authorship_tag": "ABX9TyOD82hHo0QgxegCo0JJ86jO",
      "include_colab_link": true
    },
    "kernelspec": {
      "name": "python3",
      "display_name": "Python 3"
    },
    "language_info": {
      "name": "python"
    }
  },
  "cells": [
    {
      "cell_type": "markdown",
      "metadata": {
        "id": "view-in-github",
        "colab_type": "text"
      },
      "source": [
        "<a href=\"https://colab.research.google.com/github/sahug/python-data-structure/blob/main/%20Data%20Structure%20-%20Python%20Bubble%20Sort.ipynb\" target=\"_parent\"><img src=\"https://colab.research.google.com/assets/colab-badge.svg\" alt=\"Open In Colab\"/></a>"
      ]
    },
    {
      "cell_type": "markdown",
      "source": [
        "**Data Structure - Python Bubble Sort**"
      ],
      "metadata": {
        "id": "YNd6qH8iwJz2"
      }
    },
    {
      "cell_type": "code",
      "source": [
        "def bubble_sort(elements):\n",
        "  size = len(elements)\n",
        "\n",
        "  for i in range(size-1):\n",
        "    swapped = False\n",
        "    for j in range(size-1):\n",
        "      if elements[j] > elements[j + 1]:\n",
        "        tmp = elements[j]\n",
        "        elements[j] = elements[j+1]\n",
        "        elements[j+1] = tmp\n",
        "        swapped = True\n",
        "    \n",
        "    if not swapped:\n",
        "      break "
      ],
      "metadata": {
        "id": "8wADc5CooWlJ"
      },
      "execution_count": 2,
      "outputs": []
    },
    {
      "cell_type": "code",
      "source": [
        "def bubble_sort_by_key(elements, key):\n",
        "  size = len(elements)\n",
        "\n",
        "  for i in range(size-1):\n",
        "    swapped = False\n",
        "    for j in range(size-1):\n",
        "      if (elements[j])[key] > (elements[j + 1])[key]:\n",
        "        tmp = (elements[j])[key]\n",
        "        (elements[j])[key] = (elements[j+1])[key]\n",
        "        (elements[j+1])[key] = tmp\n",
        "        swapped = True\n",
        "    \n",
        "    if not swapped:\n",
        "      break "
      ],
      "metadata": {
        "id": "_dvqcZZ9oiKI"
      },
      "execution_count": 6,
      "outputs": []
    },
    {
      "cell_type": "code",
      "source": [
        "if __name__ == \"__main__\":\n",
        "  elements = [5, 9, 2, 1, 67, 34, 88, 34]\n",
        "  bubble_sort(elements)\n",
        "  print(elements)\n",
        "\n",
        "  elements = [1,2,3,4,2]\n",
        "  bubble_sort(elements)\n",
        "  print(elements)\n",
        "\n",
        "  elements = [\"mona\", \"dhaval\", \"aamir\", \"tina\", \"chang\"]\n",
        "  bubble_sort(elements)\n",
        "  print(elements)"
      ],
      "metadata": {
        "colab": {
          "base_uri": "https://localhost:8080/"
        },
        "id": "YbjAxrWdorCg",
        "outputId": "6a8f9def-45bf-49d8-8e5f-9eefa44b9c78"
      },
      "execution_count": 4,
      "outputs": [
        {
          "output_type": "stream",
          "name": "stdout",
          "text": [
            "[1, 2, 5, 9, 34, 34, 67, 88]\n",
            "[1, 2, 2, 3, 4]\n",
            "['aamir', 'chang', 'dhaval', 'mona', 'tina']\n"
          ]
        }
      ]
    },
    {
      "cell_type": "code",
      "source": [
        "if __name__ == \"__main__\":\n",
        "  elements = [\n",
        "        { 'name': 'mona',   'transaction_amount': 1000, 'device': 'iphone-10'},\n",
        "        { 'name': 'dhaval', 'transaction_amount': 400,  'device': 'google pixel'},\n",
        "        { 'name': 'kathy',  'transaction_amount': 200,  'device': 'vivo'},\n",
        "        { 'name': 'aamir',  'transaction_amount': 800,  'device': 'iphone-8'},\n",
        "  ]\n",
        "\n",
        "  bubble_sort_by_key(elements, \"name\")\n",
        "  print(elements)\n",
        "\n",
        "  bubble_sort_by_key(elements, \"transaction_amount\")\n",
        "  print(elements)\n",
        "\n",
        "  bubble_sort_by_key(elements, \"device\")\n",
        "  print(elements)"
      ],
      "metadata": {
        "id": "YG2DGAu7o8Wj",
        "outputId": "e87e89fc-c4ba-4d7c-fd55-64152d4b5876",
        "colab": {
          "base_uri": "https://localhost:8080/"
        }
      },
      "execution_count": 7,
      "outputs": [
        {
          "output_type": "stream",
          "name": "stdout",
          "text": [
            "[{'name': 'aamir', 'transaction_amount': 1000, 'device': 'iphone-10'}, {'name': 'dhaval', 'transaction_amount': 400, 'device': 'google pixel'}, {'name': 'kathy', 'transaction_amount': 200, 'device': 'vivo'}, {'name': 'mona', 'transaction_amount': 800, 'device': 'iphone-8'}]\n",
            "[{'name': 'aamir', 'transaction_amount': 200, 'device': 'iphone-10'}, {'name': 'dhaval', 'transaction_amount': 400, 'device': 'google pixel'}, {'name': 'kathy', 'transaction_amount': 800, 'device': 'vivo'}, {'name': 'mona', 'transaction_amount': 1000, 'device': 'iphone-8'}]\n",
            "[{'name': 'aamir', 'transaction_amount': 200, 'device': 'google pixel'}, {'name': 'dhaval', 'transaction_amount': 400, 'device': 'iphone-10'}, {'name': 'kathy', 'transaction_amount': 800, 'device': 'iphone-8'}, {'name': 'mona', 'transaction_amount': 1000, 'device': 'vivo'}]\n"
          ]
        }
      ]
    }
  ]
}