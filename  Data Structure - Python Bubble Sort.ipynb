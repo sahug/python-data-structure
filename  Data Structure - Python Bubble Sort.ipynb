{
  "nbformat": 4,
  "nbformat_minor": 0,
  "metadata": {
    "colab": {
      "name": "Data Structure - Python Bubble Sort.ipynb",
      "provenance": [],
      "authorship_tag": "ABX9TyPKZEMzQz4NAhODwzEGt+IQ",
      "include_colab_link": true
    },
    "kernelspec": {
      "name": "python3",
      "display_name": "Python 3"
    },
    "language_info": {
      "name": "python"
    }
  },
  "cells": [
    {
      "cell_type": "markdown",
      "metadata": {
        "id": "view-in-github",
        "colab_type": "text"
      },
      "source": [
        "<a href=\"https://colab.research.google.com/github/sahug/python-data-structure/blob/main/%20Data%20Structure%20-%20Python%20Bubble%20Sort.ipynb\" target=\"_parent\"><img src=\"https://colab.research.google.com/assets/colab-badge.svg\" alt=\"Open In Colab\"/></a>"
      ]
    },
    {
      "cell_type": "markdown",
      "source": [
        "**Data Structure - Python Bubble Sort**"
      ],
      "metadata": {
        "id": "YNd6qH8iwJz2"
      }
    },
    {
      "cell_type": "code",
      "source": [
        "def bubble_sort(elements):\n",
        "  size = len(elements)\n",
        "\n",
        "  for i in range(size-1):\n",
        "    swapped = False\n",
        "    for j in range(size-1):\n",
        "      if elements[j] > elements[j + 1]:\n",
        "        tmp = elements[j]\n",
        "        elements[j] = elements[j+1]\n",
        "        elements[j+1] = tmp\n",
        "        swapped = True\n",
        "    \n",
        "    if not swapped:\n",
        "      break "
      ],
      "metadata": {
        "id": "8wADc5CooWlJ"
      },
      "execution_count": 51,
      "outputs": []
    },
    {
      "cell_type": "code",
      "source": [
        "if __name__ == \"__main__\":\n",
        "  elements = [5, 9, 2, 1, 67, 34, 88, 34]\n",
        "  bubble_sort(elements)\n",
        "  print(elements)\n",
        "\n",
        "  elements = [1,2,3,4,2]\n",
        "  bubble_sort(elements)\n",
        "  print(elements)\n",
        "\n",
        "  elements = [\"mona\", \"dhaval\", \"aamir\", \"tina\", \"chang\"]\n",
        "  bubble_sort(elements)\n",
        "  print(elements)"
      ],
      "metadata": {
        "colab": {
          "base_uri": "https://localhost:8080/"
        },
        "id": "YbjAxrWdorCg",
        "outputId": "922d99b1-2e04-4f89-e973-fd44aab4c975"
      },
      "execution_count": 54,
      "outputs": [
        {
          "output_type": "stream",
          "name": "stdout",
          "text": [
            "[1, 2, 5, 9, 34, 34, 67, 88]\n",
            "[1, 2, 2, 3, 4]\n",
            "['aamir', 'chang', 'dhaval', 'mona', 'tina']\n"
          ]
        }
      ]
    }
  ]
}