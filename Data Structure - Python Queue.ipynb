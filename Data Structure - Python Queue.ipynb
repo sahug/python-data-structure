{
  "nbformat": 4,
  "nbformat_minor": 0,
  "metadata": {
    "colab": {
      "name": "Data Science Basics - Python Queue.ipynb",
      "provenance": [],
      "authorship_tag": "ABX9TyOBpFzeIFx1fOb8kRkLcTDs",
      "include_colab_link": true
    },
    "kernelspec": {
      "name": "python3",
      "display_name": "Python 3"
    },
    "language_info": {
      "name": "python"
    }
  },
  "cells": [
    {
      "cell_type": "markdown",
      "metadata": {
        "id": "view-in-github",
        "colab_type": "text"
      },
      "source": [
        "<a href=\"https://colab.research.google.com/github/sahug/ds-basics/blob/main/Data%20Science%20Basics%20-%20Python%20Queue.ipynb\" target=\"_parent\"><img src=\"https://colab.research.google.com/assets/colab-badge.svg\" alt=\"Open In Colab\"/></a>"
      ]
    },
    {
      "cell_type": "markdown",
      "source": [
        "**Data Science Basics - Python Queue**"
      ],
      "metadata": {
        "id": "YNd6qH8iwJz2"
      }
    },
    {
      "cell_type": "markdown",
      "source": [
        "**Using a List**"
      ],
      "metadata": {
        "id": "y-zS6_M8wPpF"
      }
    },
    {
      "cell_type": "code",
      "execution_count": 28,
      "metadata": {
        "id": "lNXlE4VuwAEN"
      },
      "outputs": [],
      "source": [
        "wmt_stock_price_queue = []"
      ]
    },
    {
      "cell_type": "code",
      "source": [
        "wmt_stock_price_queue.insert(0,131.10)\n",
        "wmt_stock_price_queue.insert(0,132.12)\n",
        "wmt_stock_price_queue.insert(0,135)"
      ],
      "metadata": {
        "id": "JoAQdO8lwT0J"
      },
      "execution_count": null,
      "outputs": []
    },
    {
      "cell_type": "code",
      "source": [
        "wmt_stock_price_queue"
      ],
      "metadata": {
        "colab": {
          "base_uri": "https://localhost:8080/"
        },
        "id": "vfARms9DwV3d",
        "outputId": "56f0f4c0-dca9-40b2-cd1b-6d4766a2421b"
      },
      "execution_count": 30,
      "outputs": [
        {
          "output_type": "execute_result",
          "data": {
            "text/plain": [
              "[135, 132.12, 131.1]"
            ]
          },
          "metadata": {},
          "execution_count": 30
        }
      ]
    },
    {
      "cell_type": "code",
      "source": [
        "wmt_stock_price_queue.pop()"
      ],
      "metadata": {
        "colab": {
          "base_uri": "https://localhost:8080/"
        },
        "id": "rabWJS2qwWnB",
        "outputId": "84b0b4e1-65d6-4019-c978-d90f77c54e12"
      },
      "execution_count": 31,
      "outputs": [
        {
          "output_type": "execute_result",
          "data": {
            "text/plain": [
              "131.1"
            ]
          },
          "metadata": {},
          "execution_count": 31
        }
      ]
    },
    {
      "cell_type": "code",
      "source": [
        "wmt_stock_price_queue"
      ],
      "metadata": {
        "colab": {
          "base_uri": "https://localhost:8080/"
        },
        "id": "rdpZSw98wXYW",
        "outputId": "5bb777a4-f741-483e-b767-faef0fb2e963"
      },
      "execution_count": 32,
      "outputs": [
        {
          "output_type": "execute_result",
          "data": {
            "text/plain": [
              "[135, 132.12]"
            ]
          },
          "metadata": {},
          "execution_count": 32
        }
      ]
    },
    {
      "cell_type": "code",
      "source": [
        "wmt_stock_price_queue.pop()"
      ],
      "metadata": {
        "colab": {
          "base_uri": "https://localhost:8080/"
        },
        "id": "WgrytXE4xEiA",
        "outputId": "5be28e14-313e-4c04-dad3-6c19521e0453"
      },
      "execution_count": 33,
      "outputs": [
        {
          "output_type": "execute_result",
          "data": {
            "text/plain": [
              "132.12"
            ]
          },
          "metadata": {},
          "execution_count": 33
        }
      ]
    },
    {
      "cell_type": "code",
      "source": [
        "wmt_stock_price_queue.pop()"
      ],
      "metadata": {
        "colab": {
          "base_uri": "https://localhost:8080/"
        },
        "id": "dN8aXkxHRrIB",
        "outputId": "031efa76-be85-41dd-e67a-ac3f979b945d"
      },
      "execution_count": 34,
      "outputs": [
        {
          "output_type": "execute_result",
          "data": {
            "text/plain": [
              "135"
            ]
          },
          "metadata": {},
          "execution_count": 34
        }
      ]
    },
    {
      "cell_type": "markdown",
      "source": [
        "**Using collections.deque as a Queue**"
      ],
      "metadata": {
        "id": "-htq_PpjwsMQ"
      }
    },
    {
      "cell_type": "code",
      "source": [
        "from collections import deque\n",
        "q = deque()"
      ],
      "metadata": {
        "id": "yuV6WFpKSEer"
      },
      "execution_count": 35,
      "outputs": []
    },
    {
      "cell_type": "code",
      "source": [
        "q.appendleft(5)\n",
        "q.appendleft(8)\n",
        "q.appendleft(10)\n",
        "q"
      ],
      "metadata": {
        "colab": {
          "base_uri": "https://localhost:8080/"
        },
        "id": "HbsHBteOSGf4",
        "outputId": "95f773d8-2df0-49d5-c78e-937abacb0926"
      },
      "execution_count": 36,
      "outputs": [
        {
          "output_type": "execute_result",
          "data": {
            "text/plain": [
              "deque([10, 8, 5])"
            ]
          },
          "metadata": {},
          "execution_count": 36
        }
      ]
    },
    {
      "cell_type": "code",
      "source": [
        "q.pop()"
      ],
      "metadata": {
        "colab": {
          "base_uri": "https://localhost:8080/"
        },
        "id": "ajs58yKXSH_f",
        "outputId": "914a7b25-048e-406b-99cd-bd19da22cd4f"
      },
      "execution_count": 37,
      "outputs": [
        {
          "output_type": "execute_result",
          "data": {
            "text/plain": [
              "5"
            ]
          },
          "metadata": {},
          "execution_count": 37
        }
      ]
    },
    {
      "cell_type": "code",
      "source": [
        "q"
      ],
      "metadata": {
        "colab": {
          "base_uri": "https://localhost:8080/"
        },
        "id": "EEoaQB4bSI-W",
        "outputId": "30ef5b93-84bc-4c16-ccbf-e2ee2bebbe8a"
      },
      "execution_count": 38,
      "outputs": [
        {
          "output_type": "execute_result",
          "data": {
            "text/plain": [
              "deque([10, 8])"
            ]
          },
          "metadata": {},
          "execution_count": 38
        }
      ]
    },
    {
      "cell_type": "code",
      "source": [
        "q.pop()"
      ],
      "metadata": {
        "colab": {
          "base_uri": "https://localhost:8080/"
        },
        "id": "joBnSzu-SLKO",
        "outputId": "9a1fc9cd-c3ce-4fdd-a5cd-5f19edd14cf3"
      },
      "execution_count": 39,
      "outputs": [
        {
          "output_type": "execute_result",
          "data": {
            "text/plain": [
              "8"
            ]
          },
          "metadata": {},
          "execution_count": 39
        }
      ]
    },
    {
      "cell_type": "code",
      "source": [
        "q.pop()"
      ],
      "metadata": {
        "colab": {
          "base_uri": "https://localhost:8080/"
        },
        "id": "yjJG-YIkSMQF",
        "outputId": "a5f66f30-ea2d-459c-9e4b-c866c893d224"
      },
      "execution_count": 40,
      "outputs": [
        {
          "output_type": "execute_result",
          "data": {
            "text/plain": [
              "10"
            ]
          },
          "metadata": {},
          "execution_count": 40
        }
      ]
    },
    {
      "cell_type": "markdown",
      "source": [
        "**Implement queue class using collections.deque**"
      ],
      "metadata": {
        "id": "8IT6g9RVSQlQ"
      }
    },
    {
      "cell_type": "code",
      "source": [
        "from collections import deque\n",
        "\n",
        "class Queue:\n",
        "    \n",
        "    def __init__(self):\n",
        "        self.buffer = deque()\n",
        "    \n",
        "    def enqueue(self, val):\n",
        "        self.buffer.appendleft(val)\n",
        "        \n",
        "    def dequeue(self):\n",
        "        return self.buffer.pop()\n",
        "    \n",
        "    def is_empty(self):\n",
        "        return len(self.buffer)==0\n",
        "    \n",
        "    def size(self):\n",
        "        return len(self.buffer)"
      ],
      "metadata": {
        "id": "ZEvreVPjST9L"
      },
      "execution_count": 43,
      "outputs": []
    },
    {
      "cell_type": "code",
      "source": [
        "pq = Queue()\n",
        "\n",
        "pq.enqueue({\n",
        "    'company': 'Wall Mart',\n",
        "    'timestamp': '15 apr, 11.01 AM',\n",
        "    'price': 131.10\n",
        "})\n",
        "pq.enqueue({\n",
        "    'company': 'Wall Mart',\n",
        "    'timestamp': '15 apr, 11.02 AM',\n",
        "    'price': 132\n",
        "})\n",
        "pq.enqueue({\n",
        "    'company': 'Wall Mart',\n",
        "    'timestamp': '15 apr, 11.03 AM',\n",
        "    'price': 135\n",
        "})"
      ],
      "metadata": {
        "id": "F-hWeQVYSNIr"
      },
      "execution_count": 42,
      "outputs": []
    },
    {
      "cell_type": "code",
      "source": [
        "pq.size()"
      ],
      "metadata": {
        "colab": {
          "base_uri": "https://localhost:8080/"
        },
        "id": "-AWXWQAhSYo7",
        "outputId": "7905290b-e2ef-4c45-e2e0-5148181f4efd"
      },
      "execution_count": 44,
      "outputs": [
        {
          "output_type": "execute_result",
          "data": {
            "text/plain": [
              "3"
            ]
          },
          "metadata": {},
          "execution_count": 44
        }
      ]
    },
    {
      "cell_type": "code",
      "source": [
        "pq.dequeue()"
      ],
      "metadata": {
        "colab": {
          "base_uri": "https://localhost:8080/"
        },
        "id": "Gaj_Q6y4SaeG",
        "outputId": "af960526-ab09-4e4c-d3e2-776396386ea0"
      },
      "execution_count": 45,
      "outputs": [
        {
          "output_type": "execute_result",
          "data": {
            "text/plain": [
              "{'company': 'Wall Mart', 'price': 131.1, 'timestamp': '15 apr, 11.01 AM'}"
            ]
          },
          "metadata": {},
          "execution_count": 45
        }
      ]
    },
    {
      "cell_type": "code",
      "source": [
        "pq.dequeue()"
      ],
      "metadata": {
        "colab": {
          "base_uri": "https://localhost:8080/"
        },
        "id": "ejSzCc4rSbiO",
        "outputId": "4bc36c70-1da1-46de-ab02-7f904ea7ea5d"
      },
      "execution_count": 46,
      "outputs": [
        {
          "output_type": "execute_result",
          "data": {
            "text/plain": [
              "{'company': 'Wall Mart', 'price': 132, 'timestamp': '15 apr, 11.02 AM'}"
            ]
          },
          "metadata": {},
          "execution_count": 46
        }
      ]
    }
  ]
}