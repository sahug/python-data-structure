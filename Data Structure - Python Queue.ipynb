{
  "nbformat": 4,
  "nbformat_minor": 0,
  "metadata": {
    "colab": {
      "name": "Data Science Basics - Python Queue.ipynb",
      "provenance": [],
      "authorship_tag": "ABX9TyNb8ae+rkdIghcV6TEhEfaY",
      "include_colab_link": true
    },
    "kernelspec": {
      "name": "python3",
      "display_name": "Python 3"
    },
    "language_info": {
      "name": "python"
    }
  },
  "cells": [
    {
      "cell_type": "markdown",
      "metadata": {
        "id": "view-in-github",
        "colab_type": "text"
      },
      "source": [
        "<a href=\"https://colab.research.google.com/github/sahug/python-data-structure/blob/main/Data%20Structure%20-%20Python%20Queue.ipynb\" target=\"_parent\"><img src=\"https://colab.research.google.com/assets/colab-badge.svg\" alt=\"Open In Colab\"/></a>"
      ]
    },
    {
      "cell_type": "markdown",
      "source": [
        "**Data Science Basics - Python Queue**"
      ],
      "metadata": {
        "id": "YNd6qH8iwJz2"
      }
    },
    {
      "cell_type": "markdown",
      "source": [
        "**Using a List**"
      ],
      "metadata": {
        "id": "y-zS6_M8wPpF"
      }
    },
    {
      "cell_type": "code",
      "execution_count": 1,
      "metadata": {
        "id": "lNXlE4VuwAEN"
      },
      "outputs": [],
      "source": [
        "wmt_stock_price_queue = []"
      ]
    },
    {
      "cell_type": "code",
      "source": [
        "wmt_stock_price_queue.insert(0,131.10)\n",
        "wmt_stock_price_queue.insert(0,132.12)\n",
        "wmt_stock_price_queue.insert(0,135)"
      ],
      "metadata": {
        "id": "JoAQdO8lwT0J"
      },
      "execution_count": 2,
      "outputs": []
    },
    {
      "cell_type": "code",
      "source": [
        "wmt_stock_price_queue"
      ],
      "metadata": {
        "colab": {
          "base_uri": "https://localhost:8080/"
        },
        "id": "vfARms9DwV3d",
        "outputId": "5de78c43-efdc-420c-ac22-8617fb57873b"
      },
      "execution_count": 3,
      "outputs": [
        {
          "output_type": "execute_result",
          "data": {
            "text/plain": [
              "[135, 132.12, 131.1]"
            ]
          },
          "metadata": {},
          "execution_count": 3
        }
      ]
    },
    {
      "cell_type": "code",
      "source": [
        "wmt_stock_price_queue.pop()"
      ],
      "metadata": {
        "colab": {
          "base_uri": "https://localhost:8080/"
        },
        "id": "rabWJS2qwWnB",
        "outputId": "a6f32e15-cf44-43c9-c115-334b3a8ccf5a"
      },
      "execution_count": 4,
      "outputs": [
        {
          "output_type": "execute_result",
          "data": {
            "text/plain": [
              "131.1"
            ]
          },
          "metadata": {},
          "execution_count": 4
        }
      ]
    },
    {
      "cell_type": "code",
      "source": [
        "wmt_stock_price_queue"
      ],
      "metadata": {
        "colab": {
          "base_uri": "https://localhost:8080/"
        },
        "id": "rdpZSw98wXYW",
        "outputId": "ef71efc2-a1a6-4170-a331-b6f7023ca211"
      },
      "execution_count": 5,
      "outputs": [
        {
          "output_type": "execute_result",
          "data": {
            "text/plain": [
              "[135, 132.12]"
            ]
          },
          "metadata": {},
          "execution_count": 5
        }
      ]
    },
    {
      "cell_type": "code",
      "source": [
        "wmt_stock_price_queue.pop()"
      ],
      "metadata": {
        "colab": {
          "base_uri": "https://localhost:8080/"
        },
        "id": "WgrytXE4xEiA",
        "outputId": "c96cbe15-24e2-42aa-a55a-6a50d64f88d3"
      },
      "execution_count": 6,
      "outputs": [
        {
          "output_type": "execute_result",
          "data": {
            "text/plain": [
              "132.12"
            ]
          },
          "metadata": {},
          "execution_count": 6
        }
      ]
    },
    {
      "cell_type": "code",
      "source": [
        "wmt_stock_price_queue.pop()"
      ],
      "metadata": {
        "colab": {
          "base_uri": "https://localhost:8080/"
        },
        "id": "dN8aXkxHRrIB",
        "outputId": "e89253fc-9bbb-48a8-bff0-762eb3fee40a"
      },
      "execution_count": 7,
      "outputs": [
        {
          "output_type": "execute_result",
          "data": {
            "text/plain": [
              "135"
            ]
          },
          "metadata": {},
          "execution_count": 7
        }
      ]
    },
    {
      "cell_type": "markdown",
      "source": [
        "**Using collections.deque as a Queue**"
      ],
      "metadata": {
        "id": "-htq_PpjwsMQ"
      }
    },
    {
      "cell_type": "code",
      "source": [
        "from collections import deque\n",
        "q = deque()"
      ],
      "metadata": {
        "id": "yuV6WFpKSEer"
      },
      "execution_count": 8,
      "outputs": []
    },
    {
      "cell_type": "code",
      "source": [
        "q.appendleft(5)\n",
        "q.appendleft(8)\n",
        "q.appendleft(10)\n",
        "q"
      ],
      "metadata": {
        "colab": {
          "base_uri": "https://localhost:8080/"
        },
        "id": "HbsHBteOSGf4",
        "outputId": "6e69e368-92ad-4ba3-f383-b6f22fcfd52a"
      },
      "execution_count": 9,
      "outputs": [
        {
          "output_type": "execute_result",
          "data": {
            "text/plain": [
              "deque([10, 8, 5])"
            ]
          },
          "metadata": {},
          "execution_count": 9
        }
      ]
    },
    {
      "cell_type": "code",
      "source": [
        "q.pop()"
      ],
      "metadata": {
        "colab": {
          "base_uri": "https://localhost:8080/"
        },
        "id": "ajs58yKXSH_f",
        "outputId": "e7368b5a-030a-497b-fa57-5c62618f3ea5"
      },
      "execution_count": 10,
      "outputs": [
        {
          "output_type": "execute_result",
          "data": {
            "text/plain": [
              "5"
            ]
          },
          "metadata": {},
          "execution_count": 10
        }
      ]
    },
    {
      "cell_type": "code",
      "source": [
        "q"
      ],
      "metadata": {
        "colab": {
          "base_uri": "https://localhost:8080/"
        },
        "id": "EEoaQB4bSI-W",
        "outputId": "3e769e44-6fd9-4acf-80e6-03cf46014921"
      },
      "execution_count": 11,
      "outputs": [
        {
          "output_type": "execute_result",
          "data": {
            "text/plain": [
              "deque([10, 8])"
            ]
          },
          "metadata": {},
          "execution_count": 11
        }
      ]
    },
    {
      "cell_type": "code",
      "source": [
        "q.pop()"
      ],
      "metadata": {
        "colab": {
          "base_uri": "https://localhost:8080/"
        },
        "id": "joBnSzu-SLKO",
        "outputId": "afb5f779-1cac-49cd-abc1-ba14f952efc6"
      },
      "execution_count": 12,
      "outputs": [
        {
          "output_type": "execute_result",
          "data": {
            "text/plain": [
              "8"
            ]
          },
          "metadata": {},
          "execution_count": 12
        }
      ]
    },
    {
      "cell_type": "code",
      "source": [
        "q.pop()"
      ],
      "metadata": {
        "colab": {
          "base_uri": "https://localhost:8080/"
        },
        "id": "yjJG-YIkSMQF",
        "outputId": "af16f28c-66b2-476c-e12d-2c3e531a0a23"
      },
      "execution_count": 13,
      "outputs": [
        {
          "output_type": "execute_result",
          "data": {
            "text/plain": [
              "10"
            ]
          },
          "metadata": {},
          "execution_count": 13
        }
      ]
    },
    {
      "cell_type": "markdown",
      "source": [
        "**Implement queue class using collections.deque**"
      ],
      "metadata": {
        "id": "8IT6g9RVSQlQ"
      }
    },
    {
      "cell_type": "code",
      "source": [
        "from collections import deque\n",
        "\n",
        "class Queue:\n",
        "    \n",
        "    def __init__(self):\n",
        "        self.buffer = deque()\n",
        "    \n",
        "    def enqueue(self, val):\n",
        "        self.buffer.appendleft(val)\n",
        "        \n",
        "    def dequeue(self):\n",
        "        return self.buffer.pop()\n",
        "    \n",
        "    def is_empty(self):\n",
        "        return len(self.buffer)==0\n",
        "    \n",
        "    def size(self):\n",
        "        return len(self.buffer)"
      ],
      "metadata": {
        "id": "ZEvreVPjST9L"
      },
      "execution_count": 14,
      "outputs": []
    },
    {
      "cell_type": "code",
      "source": [
        "pq = Queue()\n",
        "\n",
        "pq.enqueue({\n",
        "    'company': 'Wall Mart',\n",
        "    'timestamp': '15 apr, 11.01 AM',\n",
        "    'price': 131.10\n",
        "})\n",
        "pq.enqueue({\n",
        "    'company': 'Wall Mart',\n",
        "    'timestamp': '15 apr, 11.02 AM',\n",
        "    'price': 132\n",
        "})\n",
        "pq.enqueue({\n",
        "    'company': 'Wall Mart',\n",
        "    'timestamp': '15 apr, 11.03 AM',\n",
        "    'price': 135\n",
        "})"
      ],
      "metadata": {
        "id": "F-hWeQVYSNIr"
      },
      "execution_count": 15,
      "outputs": []
    },
    {
      "cell_type": "code",
      "source": [
        "pq.size()"
      ],
      "metadata": {
        "colab": {
          "base_uri": "https://localhost:8080/"
        },
        "id": "-AWXWQAhSYo7",
        "outputId": "b7e9cf62-2978-422e-f71e-3faac3726dcf"
      },
      "execution_count": 16,
      "outputs": [
        {
          "output_type": "execute_result",
          "data": {
            "text/plain": [
              "3"
            ]
          },
          "metadata": {},
          "execution_count": 16
        }
      ]
    },
    {
      "cell_type": "code",
      "source": [
        "pq.dequeue()"
      ],
      "metadata": {
        "colab": {
          "base_uri": "https://localhost:8080/"
        },
        "id": "Gaj_Q6y4SaeG",
        "outputId": "2a84f2e0-2b4c-4a60-a658-84d0714454f5"
      },
      "execution_count": 17,
      "outputs": [
        {
          "output_type": "execute_result",
          "data": {
            "text/plain": [
              "{'company': 'Wall Mart', 'price': 131.1, 'timestamp': '15 apr, 11.01 AM'}"
            ]
          },
          "metadata": {},
          "execution_count": 17
        }
      ]
    },
    {
      "cell_type": "code",
      "source": [
        "pq.dequeue()"
      ],
      "metadata": {
        "colab": {
          "base_uri": "https://localhost:8080/"
        },
        "id": "ejSzCc4rSbiO",
        "outputId": "268bf03f-30b1-449e-a515-24b20acc5450"
      },
      "execution_count": 18,
      "outputs": [
        {
          "output_type": "execute_result",
          "data": {
            "text/plain": [
              "{'company': 'Wall Mart', 'price': 132, 'timestamp': '15 apr, 11.02 AM'}"
            ]
          },
          "metadata": {},
          "execution_count": 18
        }
      ]
    },
    {
      "cell_type": "markdown",
      "source": [
        "Design a food ordering system where your python program will run two threads,\n",
        "\n",
        "- **Place Order**: This thread will be placing an order and inserting that into a queue. This thread places new order every 0.5 second. (hint: use time.sleep(0.5) function)\n",
        "- **Serve Order**: This thread will server the order. All you need to do is pop the order out of the queue and print it. This thread serves an order every 2 seconds. Also start this thread 1 second after place order thread is started.\n",
        "Use this video to get yourself familiar with multithreading in python\n",
        "\n",
        "Pass following list as an argument to place order thread,\n",
        "\n",
        "`orders = ['pizza','samosa','pasta','biryani','burger']`\n",
        "\n",
        "This problem is a producer, consumer problem where place_order thread is producing orders whereas **server_order** thread is consuming the food orders. Use Queue class implemented in a video tutorial."
      ],
      "metadata": {
        "id": "sgnWpl0CUhzT"
      }
    },
    {
      "cell_type": "code",
      "source": [
        "import threading\n",
        "import time\n",
        "\n",
        "from collections import deque\n",
        "\n",
        "class Queue:\n",
        "    def __init__(self):\n",
        "        self.buffer = deque()\n",
        "\n",
        "    def enqueue(self, val):\n",
        "        self.buffer.appendleft(val)\n",
        "\n",
        "    def dequeue(self):\n",
        "        if len(self.buffer)==0:\n",
        "            print(\"Queue is empty\")\n",
        "            return\n",
        "\n",
        "        return self.buffer.pop()\n",
        "\n",
        "    def is_empty(self):\n",
        "        return len(self.buffer) == 0\n",
        "\n",
        "    def size(self):\n",
        "        return len(self.buffer)"
      ],
      "metadata": {
        "id": "GcUFc4FKU31O"
      },
      "execution_count": 19,
      "outputs": []
    },
    {
      "cell_type": "code",
      "source": [
        "food_order_queue = Queue()"
      ],
      "metadata": {
        "id": "orvU5imIU8yf"
      },
      "execution_count": 20,
      "outputs": []
    },
    {
      "cell_type": "code",
      "source": [
        "def place_orders(orders):\n",
        "    for order in orders:\n",
        "        print(\"Placing order for:\",order)\n",
        "        food_order_queue.enqueue(order)\n",
        "        time.sleep(0.5)"
      ],
      "metadata": {
        "id": "t_yycepdU-PI"
      },
      "execution_count": 21,
      "outputs": []
    },
    {
      "cell_type": "code",
      "source": [
        "def serve_orders():\n",
        "    time.sleep(1)\n",
        "    while True:\n",
        "        order = food_order_queue.dequeue()\n",
        "        print(\"Now serving: \",order)\n",
        "        time.sleep(2)"
      ],
      "metadata": {
        "id": "F7Iq6TmnU_sO"
      },
      "execution_count": 22,
      "outputs": []
    },
    {
      "cell_type": "code",
      "source": [
        "if __name__ == '__main__':\n",
        "    orders = ['pizza','samosa','pasta','biryani','burger']\n",
        "    t1 = threading.Thread(target=place_orders, args=(orders,))\n",
        "    t2 = threading.Thread(target=serve_orders)\n",
        "\n",
        "    t1.start()\n",
        "    t2.start()"
      ],
      "metadata": {
        "id": "AXmrTQWbU6YK",
        "outputId": "b9c75b26-17b7-4e95-df53-46ce9b70f155",
        "colab": {
          "base_uri": "https://localhost:8080/"
        }
      },
      "execution_count": 23,
      "outputs": [
        {
          "output_type": "stream",
          "name": "stdout",
          "text": [
            "Placing order for: pizza\n"
          ]
        }
      ]
    },
    {
      "cell_type": "markdown",
      "source": [
        "Write a program to print binary numbers from 1 to 10 using Queue. Use Queue class implemented in main tutorial. Binary sequence should look like,\n",
        "\n",
        "    1\n",
        "    10\n",
        "    11\n",
        "    100\n",
        "    101\n",
        "    110\n",
        "    111\n",
        "    1000\n",
        "    1001\n",
        "    1010\n",
        "\n",
        "**Hint**: Notice a pattern above. After 1 second and third number is 1+0 and 1+1. 4th and 5th number are second number (i.e. 10) + 0 and second number (i.e. 10) + 1.\n",
        "\n",
        "You also need to add front() function in queue class that can return the front element in the queue."
      ],
      "metadata": {
        "id": "BpPAkd03VcoX"
      }
    },
    {
      "cell_type": "code",
      "source": [
        "from collections import deque\n",
        "\n",
        "class Queue:\n",
        "    def __init__(self):\n",
        "        self.buffer = deque()\n",
        "\n",
        "    def enqueue(self, val):\n",
        "        self.buffer.appendleft(val)\n",
        "\n",
        "    def dequeue(self):\n",
        "        if len(self.buffer)==0:\n",
        "            print(\"Queue is empty\")\n",
        "            return\n",
        "\n",
        "        return self.buffer.pop()\n",
        "\n",
        "    def is_empty(self):\n",
        "        return len(self.buffer) == 0\n",
        "\n",
        "    def size(self):\n",
        "        return len(self.buffer)\n",
        "\n",
        "    def front(self):\n",
        "        return self.buffer[-1]"
      ],
      "metadata": {
        "id": "DSzSU8rXVh4R"
      },
      "execution_count": 24,
      "outputs": []
    },
    {
      "cell_type": "code",
      "source": [
        "def produce_binary_numbers(n):\n",
        "    numbers_queue = Queue()\n",
        "    numbers_queue.enqueue(\"1\")\n",
        "\n",
        "    for i in range(n):\n",
        "        front = numbers_queue.front()\n",
        "        print(\"   \", front)\n",
        "        numbers_queue.enqueue(front + \"0\")\n",
        "        numbers_queue.enqueue(front + \"1\")\n",
        "\n",
        "        numbers_queue.dequeue()"
      ],
      "metadata": {
        "id": "tgdUEK4yVpdC"
      },
      "execution_count": 25,
      "outputs": []
    },
    {
      "cell_type": "code",
      "source": [
        "if __name__ == '__main__':\n",
        "    produce_binary_numbers(10)"
      ],
      "metadata": {
        "id": "51K81PfjVsnu",
        "outputId": "9500810e-90dc-4cba-f759-7d6670469ddf",
        "colab": {
          "base_uri": "https://localhost:8080/"
        }
      },
      "execution_count": 26,
      "outputs": [
        {
          "output_type": "stream",
          "name": "stdout",
          "text": [
            "    1\n",
            "    10\n",
            "    11\n",
            "    100\n",
            "    101\n",
            "    110\n",
            "    111\n",
            "    1000\n",
            "    1001\n",
            "    1010\n"
          ]
        }
      ]
    }
  ]
}