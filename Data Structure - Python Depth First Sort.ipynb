{
  "nbformat": 4,
  "nbformat_minor": 0,
  "metadata": {
    "colab": {
      "name": "Data Structure - Python Depth First Sort.ipynb",
      "provenance": [],
      "authorship_tag": "ABX9TyORRDDi4U1sKjgC6XMA+u5w",
      "include_colab_link": true
    },
    "kernelspec": {
      "name": "python3",
      "display_name": "Python 3"
    },
    "language_info": {
      "name": "python"
    }
  },
  "cells": [
    {
      "cell_type": "markdown",
      "metadata": {
        "id": "view-in-github",
        "colab_type": "text"
      },
      "source": [
        "<a href=\"https://colab.research.google.com/github/sahug/python-data-structure/blob/main/Data%20Structure%20-%20Python%20Depth%20First%20Sort.ipynb\" target=\"_parent\"><img src=\"https://colab.research.google.com/assets/colab-badge.svg\" alt=\"Open In Colab\"/></a>"
      ]
    },
    {
      "cell_type": "markdown",
      "source": [
        "**Data Structure - Python Depth First Sort**"
      ],
      "metadata": {
        "id": "QahP8tUZBmES"
      }
    },
    {
      "cell_type": "code",
      "execution_count": 4,
      "metadata": {
        "id": "-dojR3cUBgBc"
      },
      "outputs": [],
      "source": [
        "# function for depth first search\n",
        "def depth_first(data, start, visited=set()):\n",
        "\n",
        "    # if not visited print it\n",
        "    if start not in visited:\n",
        "        print(start, end=\" \")\n",
        "\n",
        "    visited.add(start)\n",
        "\n",
        "    for i in data[start] - visited:\n",
        "\n",
        "        # if not visited gi in depth of it\n",
        "        depth_first(data, i, visited)\n",
        "    return"
      ]
    },
    {
      "cell_type": "code",
      "source": [
        "# sample data in dictionary form\n",
        "data = {\n",
        "        'A': {'B'},\n",
        "        'B': {'A', 'C', 'D'},\n",
        "        'C': {'B', 'E'},\n",
        "        'D': {'B', 'E'},\n",
        "        'E': {'C', 'D', 'F'},\n",
        "        'F': {'E'}\n",
        "        }\n",
        "\n",
        "\n",
        "if __name__ == '__main__':\n",
        "    depth_first(data, 'A')"
      ],
      "metadata": {
        "colab": {
          "base_uri": "https://localhost:8080/"
        },
        "id": "lfa-xXOcBykV",
        "outputId": "05432d3b-509b-4897-f0ed-f0958d191cb2"
      },
      "execution_count": 5,
      "outputs": [
        {
          "output_type": "stream",
          "name": "stdout",
          "text": [
            "A B D E F C "
          ]
        }
      ]
    },
    {
      "cell_type": "markdown",
      "source": [
        "Given a graph containing managers and their employees as a dictionary of sets, print all employees reporting to a given manager.\n",
        "\n",
        "```\n",
        "data = {\n",
        "        \"karan\": {\"darshan\",\"nikhil\"},\n",
        "        \"darshan\": {\"khantil\", \"tanuj\"},\n",
        "        \"tanuj\": {\"nikhil\"},\n",
        "        \"krinish\": {\"hetul\"},\n",
        "        \"khantil\" : set(),\n",
        "        \"nikhil\" : set()\n",
        " }\n",
        "```        \n",
        "    \n",
        "**Example:** Darshan and Nikhil are reporting to Karan. Khantil and Tanuj are reporting to Darshan.\n",
        "\n",
        "`Q. Find all employees who are reporting to Karan.`"
      ],
      "metadata": {
        "id": "lWbDTUABCAHk"
      }
    },
    {
      "cell_type": "code",
      "source": [
        "# function for depth first search\n",
        "def find_employees(data, start, employee, visited=set()):\n",
        "    # if not visited print it\n",
        "    if start not in visited:\n",
        "        print(start, end=\" \")\n",
        "        if start == employee:\n",
        "            print(\":\", end=\" \")\n",
        "    visited.add(start)\n",
        "\n",
        "    for i in data[start] - visited:\n",
        "        # if not visited go in depth of it\n",
        "        find_employees(data, i, visited)\n",
        "    return"
      ],
      "metadata": {
        "id": "TLmyD1xJCJ7B"
      },
      "execution_count": 6,
      "outputs": []
    },
    {
      "cell_type": "code",
      "source": [
        "# sample data in dictionary form\n",
        "data = {\n",
        "    \"karan\": {\"darshan\", \"nikhil\"},\n",
        "    \"darshan\": {\"khantil\", \"tanuj\"},\n",
        "    \"tanuj\": {\"nikhil\"},\n",
        "    \"krinish\": {\"hetul\"},\n",
        "    \"khantil\": set(),\n",
        "    \"nikhil\": set()\n",
        "}\n",
        "\n",
        "if __name__ == '__main__':\n",
        "    find_employees(data, \"karan\", \"karan\")"
      ],
      "metadata": {
        "colab": {
          "base_uri": "https://localhost:8080/"
        },
        "id": "lMXskp-dCN2f",
        "outputId": "aebdd77f-6dfd-491b-b563-3d6073f65e47"
      },
      "execution_count": 7,
      "outputs": [
        {
          "output_type": "stream",
          "name": "stdout",
          "text": [
            "karan : nikhil darshan tanuj khantil "
          ]
        }
      ]
    }
  ]
}